{
 "cells": [
  {
   "cell_type": "code",
   "execution_count": 1,
   "metadata": {},
   "outputs": [],
   "source": [
    "import numpy as np\n",
    "import pandas as pd\n",
    "import matplotlib.pyplot as plt\n",
    "import seaborn as sns\n",
    "import scipy.stats as stats\n",
    "import statsmodels.api as sm\n",
    "from sklearn import metrics \n",
    "from sklearn.linear_model import LinearRegression\n",
    "from sklearn.linear_model import RidgeCV, LassoCV, Ridge, Lasso\n",
    "pd.set_option('display.float_format', '{:.2f}'.format)\n",
    "import warnings\n",
    "warnings.filterwarnings(\"ignore\")\n",
    "from sklearn.model_selection import train_test_split\n",
    "from sklearn.metrics import mean_squared_error\n",
    "from math import sqrt\n",
    "from sklearn.ensemble import RandomForestRegressor\n"
   ]
  },
  {
   "cell_type": "code",
   "execution_count": 2,
   "metadata": {},
   "outputs": [],
   "source": [
    "d=df = pd.read_excel(\"reg.xlsx\")"
   ]
  },
  {
   "cell_type": "code",
   "execution_count": 3,
   "metadata": {},
   "outputs": [
    {
     "data": {
      "text/html": [
       "<div>\n",
       "<style scoped>\n",
       "    .dataframe tbody tr th:only-of-type {\n",
       "        vertical-align: middle;\n",
       "    }\n",
       "\n",
       "    .dataframe tbody tr th {\n",
       "        vertical-align: top;\n",
       "    }\n",
       "\n",
       "    .dataframe thead th {\n",
       "        text-align: right;\n",
       "    }\n",
       "</style>\n",
       "<table border=\"1\" class=\"dataframe\">\n",
       "  <thead>\n",
       "    <tr style=\"text-align: right;\">\n",
       "      <th></th>\n",
       "      <th>id</th>\n",
       "      <th>date</th>\n",
       "      <th>price</th>\n",
       "      <th>bedrooms</th>\n",
       "      <th>bathrooms</th>\n",
       "      <th>sqft_living</th>\n",
       "      <th>sqft_lot</th>\n",
       "      <th>floors</th>\n",
       "      <th>waterfront</th>\n",
       "      <th>view</th>\n",
       "      <th>...</th>\n",
       "      <th>grade</th>\n",
       "      <th>sqft_above</th>\n",
       "      <th>sqft_basement</th>\n",
       "      <th>yr_built</th>\n",
       "      <th>yr_renovated</th>\n",
       "      <th>zipcode</th>\n",
       "      <th>lat</th>\n",
       "      <th>long</th>\n",
       "      <th>sqft_living15</th>\n",
       "      <th>sqft_lot15</th>\n",
       "    </tr>\n",
       "  </thead>\n",
       "  <tbody>\n",
       "    <tr>\n",
       "      <th>0</th>\n",
       "      <td>2068000270</td>\n",
       "      <td>20140805T000000</td>\n",
       "      <td>1400000</td>\n",
       "      <td>5</td>\n",
       "      <td>3.00</td>\n",
       "      <td>3850</td>\n",
       "      <td>14990</td>\n",
       "      <td>1.00</td>\n",
       "      <td>0</td>\n",
       "      <td>0</td>\n",
       "      <td>...</td>\n",
       "      <td>9</td>\n",
       "      <td>2290</td>\n",
       "      <td>1560</td>\n",
       "      <td>1964</td>\n",
       "      <td>0</td>\n",
       "      <td>98004</td>\n",
       "      <td>47.64</td>\n",
       "      <td>-122.22</td>\n",
       "      <td>3010</td>\n",
       "      <td>15001</td>\n",
       "    </tr>\n",
       "    <tr>\n",
       "      <th>1</th>\n",
       "      <td>7732500700</td>\n",
       "      <td>20141126T000000</td>\n",
       "      <td>832500</td>\n",
       "      <td>4</td>\n",
       "      <td>2.50</td>\n",
       "      <td>3450</td>\n",
       "      <td>35100</td>\n",
       "      <td>2.00</td>\n",
       "      <td>0</td>\n",
       "      <td>0</td>\n",
       "      <td>...</td>\n",
       "      <td>10</td>\n",
       "      <td>3450</td>\n",
       "      <td>0</td>\n",
       "      <td>1987</td>\n",
       "      <td>0</td>\n",
       "      <td>98052</td>\n",
       "      <td>47.73</td>\n",
       "      <td>-122.11</td>\n",
       "      <td>3110</td>\n",
       "      <td>35894</td>\n",
       "    </tr>\n",
       "    <tr>\n",
       "      <th>2</th>\n",
       "      <td>7851990240</td>\n",
       "      <td>20140717T000000</td>\n",
       "      <td>771150</td>\n",
       "      <td>4</td>\n",
       "      <td>3.50</td>\n",
       "      <td>3950</td>\n",
       "      <td>12320</td>\n",
       "      <td>2.00</td>\n",
       "      <td>0</td>\n",
       "      <td>0</td>\n",
       "      <td>...</td>\n",
       "      <td>10</td>\n",
       "      <td>3950</td>\n",
       "      <td>0</td>\n",
       "      <td>2001</td>\n",
       "      <td>0</td>\n",
       "      <td>98065</td>\n",
       "      <td>47.54</td>\n",
       "      <td>-121.87</td>\n",
       "      <td>3920</td>\n",
       "      <td>11086</td>\n",
       "    </tr>\n",
       "    <tr>\n",
       "      <th>3</th>\n",
       "      <td>3423049269</td>\n",
       "      <td>20140513T000000</td>\n",
       "      <td>225000</td>\n",
       "      <td>4</td>\n",
       "      <td>1.50</td>\n",
       "      <td>1950</td>\n",
       "      <td>12559</td>\n",
       "      <td>1.50</td>\n",
       "      <td>0</td>\n",
       "      <td>0</td>\n",
       "      <td>...</td>\n",
       "      <td>6</td>\n",
       "      <td>1950</td>\n",
       "      <td>0</td>\n",
       "      <td>1939</td>\n",
       "      <td>0</td>\n",
       "      <td>98188</td>\n",
       "      <td>47.44</td>\n",
       "      <td>-122.28</td>\n",
       "      <td>1950</td>\n",
       "      <td>9178</td>\n",
       "    </tr>\n",
       "    <tr>\n",
       "      <th>4</th>\n",
       "      <td>7852150200</td>\n",
       "      <td>20140923T000000</td>\n",
       "      <td>389950</td>\n",
       "      <td>3</td>\n",
       "      <td>2.50</td>\n",
       "      <td>1700</td>\n",
       "      <td>6396</td>\n",
       "      <td>2.00</td>\n",
       "      <td>0</td>\n",
       "      <td>0</td>\n",
       "      <td>...</td>\n",
       "      <td>7</td>\n",
       "      <td>1700</td>\n",
       "      <td>0</td>\n",
       "      <td>2003</td>\n",
       "      <td>0</td>\n",
       "      <td>98065</td>\n",
       "      <td>47.53</td>\n",
       "      <td>-121.87</td>\n",
       "      <td>1700</td>\n",
       "      <td>4444</td>\n",
       "    </tr>\n",
       "    <tr>\n",
       "      <th>...</th>\n",
       "      <td>...</td>\n",
       "      <td>...</td>\n",
       "      <td>...</td>\n",
       "      <td>...</td>\n",
       "      <td>...</td>\n",
       "      <td>...</td>\n",
       "      <td>...</td>\n",
       "      <td>...</td>\n",
       "      <td>...</td>\n",
       "      <td>...</td>\n",
       "      <td>...</td>\n",
       "      <td>...</td>\n",
       "      <td>...</td>\n",
       "      <td>...</td>\n",
       "      <td>...</td>\n",
       "      <td>...</td>\n",
       "      <td>...</td>\n",
       "      <td>...</td>\n",
       "      <td>...</td>\n",
       "      <td>...</td>\n",
       "      <td>...</td>\n",
       "    </tr>\n",
       "    <tr>\n",
       "      <th>1996</th>\n",
       "      <td>774100355</td>\n",
       "      <td>20141103T000000</td>\n",
       "      <td>370000</td>\n",
       "      <td>2</td>\n",
       "      <td>2.00</td>\n",
       "      <td>2100</td>\n",
       "      <td>58488</td>\n",
       "      <td>2.00</td>\n",
       "      <td>0</td>\n",
       "      <td>0</td>\n",
       "      <td>...</td>\n",
       "      <td>9</td>\n",
       "      <td>2100</td>\n",
       "      <td>0</td>\n",
       "      <td>2005</td>\n",
       "      <td>0</td>\n",
       "      <td>98014</td>\n",
       "      <td>47.72</td>\n",
       "      <td>-121.40</td>\n",
       "      <td>1440</td>\n",
       "      <td>59346</td>\n",
       "    </tr>\n",
       "    <tr>\n",
       "      <th>1997</th>\n",
       "      <td>2781280150</td>\n",
       "      <td>20140801T000000</td>\n",
       "      <td>190000</td>\n",
       "      <td>2</td>\n",
       "      <td>2.50</td>\n",
       "      <td>1100</td>\n",
       "      <td>1737</td>\n",
       "      <td>2.00</td>\n",
       "      <td>0</td>\n",
       "      <td>0</td>\n",
       "      <td>...</td>\n",
       "      <td>8</td>\n",
       "      <td>1100</td>\n",
       "      <td>0</td>\n",
       "      <td>2006</td>\n",
       "      <td>0</td>\n",
       "      <td>98055</td>\n",
       "      <td>47.45</td>\n",
       "      <td>-122.19</td>\n",
       "      <td>1610</td>\n",
       "      <td>2563</td>\n",
       "    </tr>\n",
       "    <tr>\n",
       "      <th>1998</th>\n",
       "      <td>7338000150</td>\n",
       "      <td>20150129T000000</td>\n",
       "      <td>160000</td>\n",
       "      <td>2</td>\n",
       "      <td>1.00</td>\n",
       "      <td>1070</td>\n",
       "      <td>4200</td>\n",
       "      <td>1.00</td>\n",
       "      <td>0</td>\n",
       "      <td>0</td>\n",
       "      <td>...</td>\n",
       "      <td>6</td>\n",
       "      <td>1070</td>\n",
       "      <td>0</td>\n",
       "      <td>1983</td>\n",
       "      <td>0</td>\n",
       "      <td>98002</td>\n",
       "      <td>47.33</td>\n",
       "      <td>-122.22</td>\n",
       "      <td>1150</td>\n",
       "      <td>4200</td>\n",
       "    </tr>\n",
       "    <tr>\n",
       "      <th>1999</th>\n",
       "      <td>6977000040</td>\n",
       "      <td>20140823T000000</td>\n",
       "      <td>625000</td>\n",
       "      <td>4</td>\n",
       "      <td>3.00</td>\n",
       "      <td>2190</td>\n",
       "      <td>12825</td>\n",
       "      <td>1.00</td>\n",
       "      <td>0</td>\n",
       "      <td>0</td>\n",
       "      <td>...</td>\n",
       "      <td>9</td>\n",
       "      <td>1520</td>\n",
       "      <td>670</td>\n",
       "      <td>1989</td>\n",
       "      <td>0</td>\n",
       "      <td>98034</td>\n",
       "      <td>47.71</td>\n",
       "      <td>-122.23</td>\n",
       "      <td>3050</td>\n",
       "      <td>4673</td>\n",
       "    </tr>\n",
       "    <tr>\n",
       "      <th>2000</th>\n",
       "      <td>9558050230</td>\n",
       "      <td>20150507T000000</td>\n",
       "      <td>590000</td>\n",
       "      <td>4</td>\n",
       "      <td>3.50</td>\n",
       "      <td>3450</td>\n",
       "      <td>6873</td>\n",
       "      <td>2.00</td>\n",
       "      <td>0</td>\n",
       "      <td>0</td>\n",
       "      <td>...</td>\n",
       "      <td>10</td>\n",
       "      <td>2750</td>\n",
       "      <td>700</td>\n",
       "      <td>2004</td>\n",
       "      <td>0</td>\n",
       "      <td>98058</td>\n",
       "      <td>47.46</td>\n",
       "      <td>-122.12</td>\n",
       "      <td>3450</td>\n",
       "      <td>6873</td>\n",
       "    </tr>\n",
       "  </tbody>\n",
       "</table>\n",
       "<p>2001 rows × 21 columns</p>\n",
       "</div>"
      ],
      "text/plain": [
       "              id             date    price  bedrooms  bathrooms  sqft_living  \\\n",
       "0     2068000270  20140805T000000  1400000         5       3.00         3850   \n",
       "1     7732500700  20141126T000000   832500         4       2.50         3450   \n",
       "2     7851990240  20140717T000000   771150         4       3.50         3950   \n",
       "3     3423049269  20140513T000000   225000         4       1.50         1950   \n",
       "4     7852150200  20140923T000000   389950         3       2.50         1700   \n",
       "...          ...              ...      ...       ...        ...          ...   \n",
       "1996   774100355  20141103T000000   370000         2       2.00         2100   \n",
       "1997  2781280150  20140801T000000   190000         2       2.50         1100   \n",
       "1998  7338000150  20150129T000000   160000         2       1.00         1070   \n",
       "1999  6977000040  20140823T000000   625000         4       3.00         2190   \n",
       "2000  9558050230  20150507T000000   590000         4       3.50         3450   \n",
       "\n",
       "      sqft_lot  floors  waterfront  view  ...  grade  sqft_above  \\\n",
       "0        14990    1.00           0     0  ...      9        2290   \n",
       "1        35100    2.00           0     0  ...     10        3450   \n",
       "2        12320    2.00           0     0  ...     10        3950   \n",
       "3        12559    1.50           0     0  ...      6        1950   \n",
       "4         6396    2.00           0     0  ...      7        1700   \n",
       "...        ...     ...         ...   ...  ...    ...         ...   \n",
       "1996     58488    2.00           0     0  ...      9        2100   \n",
       "1997      1737    2.00           0     0  ...      8        1100   \n",
       "1998      4200    1.00           0     0  ...      6        1070   \n",
       "1999     12825    1.00           0     0  ...      9        1520   \n",
       "2000      6873    2.00           0     0  ...     10        2750   \n",
       "\n",
       "      sqft_basement  yr_built  yr_renovated  zipcode   lat    long  \\\n",
       "0              1560      1964             0    98004 47.64 -122.22   \n",
       "1                 0      1987             0    98052 47.73 -122.11   \n",
       "2                 0      2001             0    98065 47.54 -121.87   \n",
       "3                 0      1939             0    98188 47.44 -122.28   \n",
       "4                 0      2003             0    98065 47.53 -121.87   \n",
       "...             ...       ...           ...      ...   ...     ...   \n",
       "1996              0      2005             0    98014 47.72 -121.40   \n",
       "1997              0      2006             0    98055 47.45 -122.19   \n",
       "1998              0      1983             0    98002 47.33 -122.22   \n",
       "1999            670      1989             0    98034 47.71 -122.23   \n",
       "2000            700      2004             0    98058 47.46 -122.12   \n",
       "\n",
       "      sqft_living15  sqft_lot15  \n",
       "0              3010       15001  \n",
       "1              3110       35894  \n",
       "2              3920       11086  \n",
       "3              1950        9178  \n",
       "4              1700        4444  \n",
       "...             ...         ...  \n",
       "1996           1440       59346  \n",
       "1997           1610        2563  \n",
       "1998           1150        4200  \n",
       "1999           3050        4673  \n",
       "2000           3450        6873  \n",
       "\n",
       "[2001 rows x 21 columns]"
      ]
     },
     "execution_count": 3,
     "metadata": {},
     "output_type": "execute_result"
    }
   ],
   "source": [
    "d"
   ]
  },
  {
   "cell_type": "code",
   "execution_count": 4,
   "metadata": {},
   "outputs": [
    {
     "name": "stdout",
     "output_type": "stream",
     "text": [
      "<class 'pandas.core.frame.DataFrame'>\n",
      "RangeIndex: 2001 entries, 0 to 2000\n",
      "Data columns (total 21 columns):\n",
      " #   Column         Non-Null Count  Dtype  \n",
      "---  ------         --------------  -----  \n",
      " 0   id             2001 non-null   int64  \n",
      " 1   date           2001 non-null   object \n",
      " 2   price          2001 non-null   int64  \n",
      " 3   bedrooms       2001 non-null   int64  \n",
      " 4   bathrooms      2001 non-null   float64\n",
      " 5   sqft_living    2001 non-null   int64  \n",
      " 6   sqft_lot       2001 non-null   int64  \n",
      " 7   floors         2001 non-null   float64\n",
      " 8   waterfront     2001 non-null   int64  \n",
      " 9   view           2001 non-null   int64  \n",
      " 10  condition      2001 non-null   int64  \n",
      " 11  grade          2001 non-null   int64  \n",
      " 12  sqft_above     2001 non-null   int64  \n",
      " 13  sqft_basement  2001 non-null   int64  \n",
      " 14  yr_built       2001 non-null   int64  \n",
      " 15  yr_renovated   2001 non-null   int64  \n",
      " 16  zipcode        2001 non-null   int64  \n",
      " 17  lat            2001 non-null   float64\n",
      " 18  long           2001 non-null   float64\n",
      " 19  sqft_living15  2001 non-null   int64  \n",
      " 20  sqft_lot15     2001 non-null   int64  \n",
      "dtypes: float64(4), int64(16), object(1)\n",
      "memory usage: 328.4+ KB\n"
     ]
    }
   ],
   "source": [
    "d.info()"
   ]
  },
  {
   "cell_type": "code",
   "execution_count": 5,
   "metadata": {},
   "outputs": [
    {
     "data": {
      "text/plain": [
       "id               0\n",
       "date             0\n",
       "price            0\n",
       "bedrooms         0\n",
       "bathrooms        0\n",
       "sqft_living      0\n",
       "sqft_lot         0\n",
       "floors           0\n",
       "waterfront       0\n",
       "view             0\n",
       "condition        0\n",
       "grade            0\n",
       "sqft_above       0\n",
       "sqft_basement    0\n",
       "yr_built         0\n",
       "yr_renovated     0\n",
       "zipcode          0\n",
       "lat              0\n",
       "long             0\n",
       "sqft_living15    0\n",
       "sqft_lot15       0\n",
       "dtype: int64"
      ]
     },
     "execution_count": 5,
     "metadata": {},
     "output_type": "execute_result"
    }
   ],
   "source": [
    "d.isnull().sum()"
   ]
  },
  {
   "cell_type": "code",
   "execution_count": null,
   "metadata": {},
   "outputs": [],
   "source": []
  },
  {
   "cell_type": "code",
   "execution_count": null,
   "metadata": {},
   "outputs": [],
   "source": []
  },
  {
   "cell_type": "code",
   "execution_count": null,
   "metadata": {},
   "outputs": [],
   "source": []
  },
  {
   "cell_type": "code",
   "execution_count": 6,
   "metadata": {},
   "outputs": [
    {
     "name": "stdout",
     "output_type": "stream",
     "text": [
      "<class 'pandas.core.frame.DataFrame'>\n",
      "RangeIndex: 2001 entries, 0 to 2000\n",
      "Data columns (total 21 columns):\n",
      " #   Column         Non-Null Count  Dtype  \n",
      "---  ------         --------------  -----  \n",
      " 0   id             2001 non-null   int64  \n",
      " 1   date           2001 non-null   object \n",
      " 2   price          2001 non-null   int64  \n",
      " 3   bedrooms       2001 non-null   int64  \n",
      " 4   bathrooms      2001 non-null   float64\n",
      " 5   sqft_living    2001 non-null   int64  \n",
      " 6   sqft_lot       2001 non-null   int64  \n",
      " 7   floors         2001 non-null   float64\n",
      " 8   waterfront     2001 non-null   int64  \n",
      " 9   view           2001 non-null   int64  \n",
      " 10  condition      2001 non-null   int64  \n",
      " 11  grade          2001 non-null   int64  \n",
      " 12  sqft_above     2001 non-null   int64  \n",
      " 13  sqft_basement  2001 non-null   int64  \n",
      " 14  yr_built       2001 non-null   int64  \n",
      " 15  yr_renovated   2001 non-null   int64  \n",
      " 16  zipcode        2001 non-null   int64  \n",
      " 17  lat            2001 non-null   float64\n",
      " 18  long           2001 non-null   float64\n",
      " 19  sqft_living15  2001 non-null   int64  \n",
      " 20  sqft_lot15     2001 non-null   int64  \n",
      "dtypes: float64(4), int64(16), object(1)\n",
      "memory usage: 328.4+ KB\n"
     ]
    }
   ],
   "source": [
    "d.info()"
   ]
  },
  {
   "cell_type": "code",
   "execution_count": null,
   "metadata": {},
   "outputs": [],
   "source": []
  },
  {
   "cell_type": "code",
   "execution_count": 7,
   "metadata": {},
   "outputs": [
    {
     "data": {
      "text/plain": [
       "count      2001.00\n",
       "mean     529599.75\n",
       "std      343700.08\n",
       "min       86500.00\n",
       "25%      317000.00\n",
       "50%      450000.00\n",
       "75%      629500.00\n",
       "max     4208000.00\n",
       "Name: price, dtype: float64"
      ]
     },
     "execution_count": 7,
     "metadata": {},
     "output_type": "execute_result"
    }
   ],
   "source": [
    "d['price'].describe()"
   ]
  },
  {
   "cell_type": "code",
   "execution_count": 8,
   "metadata": {},
   "outputs": [
    {
     "data": {
      "text/plain": [
       "<AxesSubplot:xlabel='price', ylabel='Density'>"
      ]
     },
     "execution_count": 8,
     "metadata": {},
     "output_type": "execute_result"
    },
    {
     "data": {
      "image/png": "[encoded data removed]",
      "text/plain": [
       "<Figure size 432x288 with 1 Axes>"
      ]
     },
     "metadata": {
      "needs_background": "light"
     },
     "output_type": "display_data"
    }
   ],
   "source": [
    "sns.distplot(d['price'])"
   ]
  },
  {
   "cell_type": "code",
   "execution_count": 9,
   "metadata": {},
   "outputs": [],
   "source": [
    "d['price']=np.log(d['price'])"
   ]
  },
  {
   "cell_type": "code",
   "execution_count": 10,
   "metadata": {},
   "outputs": [
    {
     "data": {
      "text/plain": [
       "<AxesSubplot:xlabel='price', ylabel='Density'>"
      ]
     },
     "execution_count": 10,
     "metadata": {},
     "output_type": "execute_result"
    },
    {
     "data": {
      "image/png": "[encoded data removed]",
      "text/plain": [
       "<Figure size 432x288 with 1 Axes>"
      ]
     },
     "metadata": {
      "needs_background": "light"
     },
     "output_type": "display_data"
    }
   ],
   "source": [
    "sns.distplot(d['price'])"
   ]
  },
  {
   "cell_type": "code",
   "execution_count": 11,
   "metadata": {},
   "outputs": [
    {
     "data": {
      "text/plain": [
       "<AxesSubplot:xlabel='bedrooms', ylabel='count'>"
      ]
     },
     "execution_count": 11,
     "metadata": {},
     "output_type": "execute_result"
    },
    {
     "data": {
      "image/png": "[encoded data removed]",
      "text/plain": [
       "<Figure size 432x288 with 1 Axes>"
      ]
     },
     "metadata": {
      "needs_background": "light"
     },
     "output_type": "display_data"
    }
   ],
   "source": [
    "sns.countplot(d['bedrooms'])"
   ]
  },
  {
   "cell_type": "code",
   "execution_count": 12,
   "metadata": {},
   "outputs": [
    {
     "data": {
      "text/plain": [
       "waterfront\n",
       "0   25938.93\n",
       "1     139.02\n",
       "Name: price, dtype: float64"
      ]
     },
     "execution_count": 12,
     "metadata": {},
     "output_type": "execute_result"
    }
   ],
   "source": [
    "d.groupby('waterfront')['price'].sum()"
   ]
  },
  {
   "cell_type": "code",
   "execution_count": 13,
   "metadata": {},
   "outputs": [
    {
     "data": {
      "text/plain": [
       "view\n",
       "0   23376.65\n",
       "1     310.22\n",
       "2    1171.85\n",
       "3     704.28\n",
       "4     514.95\n",
       "Name: price, dtype: float64"
      ]
     },
     "execution_count": 13,
     "metadata": {},
     "output_type": "execute_result"
    }
   ],
   "source": [
    "d.groupby('view')['price'].sum()"
   ]
  },
  {
   "cell_type": "code",
   "execution_count": 14,
   "metadata": {},
   "outputs": [
    {
     "data": {
      "text/plain": [
       "condition\n",
       "3   15907.52\n",
       "4    7512.34\n",
       "5    2330.18\n",
       "2     266.19\n",
       "1      61.72\n",
       "Name: price, dtype: float64"
      ]
     },
     "execution_count": 14,
     "metadata": {},
     "output_type": "execute_result"
    }
   ],
   "source": [
    "d.groupby('condition')['price'].sum().sort_values(ascending=False)"
   ]
  },
  {
   "cell_type": "code",
   "execution_count": 15,
   "metadata": {},
   "outputs": [
    {
     "data": {
      "text/plain": [
       "<AxesSubplot:xlabel='waterfront', ylabel='price'>"
      ]
     },
     "execution_count": 15,
     "metadata": {},
     "output_type": "execute_result"
    },
    {
     "data": {
      "image/png": "[encoded data removed]",
      "text/plain": [
       "<Figure size 432x288 with 1 Axes>"
      ]
     },
     "metadata": {
      "needs_background": "light"
     },
     "output_type": "display_data"
    }
   ],
   "source": [
    "sns.barplot(x='waterfront',y='price',data=d)"
   ]
  },
  {
   "cell_type": "code",
   "execution_count": 16,
   "metadata": {},
   "outputs": [
    {
     "data": {
      "text/plain": [
       "<AxesSubplot:xlabel='view', ylabel='price'>"
      ]
     },
     "execution_count": 16,
     "metadata": {},
     "output_type": "execute_result"
    },
    {
     "data": {
      "image/png": "[encoded data removed]",
      "text/plain": [
       "<Figure size 432x288 with 1 Axes>"
      ]
     },
     "metadata": {
      "needs_background": "light"
     },
     "output_type": "display_data"
    }
   ],
   "source": [
    "sns.barplot(x='view',y='price',data=d)"
   ]
  },
  {
   "cell_type": "code",
   "execution_count": 17,
   "metadata": {},
   "outputs": [
    {
     "data": {
      "text/plain": [
       "<AxesSubplot:xlabel='waterfront', ylabel='count'>"
      ]
     },
     "execution_count": 17,
     "metadata": {},
     "output_type": "execute_result"
    },
    {
     "data": {
      "image/png": "[encoded data removed]",
      "text/plain": [
       "<Figure size 432x288 with 1 Axes>"
      ]
     },
     "metadata": {
      "needs_background": "light"
     },
     "output_type": "display_data"
    }
   ],
   "source": [
    "sns.countplot(d['waterfront'])"
   ]
  },
  {
   "cell_type": "code",
   "execution_count": 18,
   "metadata": {},
   "outputs": [
    {
     "data": {
      "text/plain": [
       "<AxesSubplot:xlabel='view', ylabel='count'>"
      ]
     },
     "execution_count": 18,
     "metadata": {},
     "output_type": "execute_result"
    },
    {
     "data": {
      "image/png": "[encoded data removed]",
      "text/plain": [
       "<Figure size 432x288 with 1 Axes>"
      ]
     },
     "metadata": {
      "needs_background": "light"
     },
     "output_type": "display_data"
    }
   ],
   "source": [
    "sns.countplot(d['view'])"
   ]
  },
  {
   "cell_type": "code",
   "execution_count": 19,
   "metadata": {},
   "outputs": [
    {
     "data": {
      "text/plain": [
       "<AxesSubplot:xlabel='condition', ylabel='count'>"
      ]
     },
     "execution_count": 19,
     "metadata": {},
     "output_type": "execute_result"
    },
    {
     "data": {
      "image/png": "[encoded data removed]",
      "text/plain": [
       "<Figure size 432x288 with 1 Axes>"
      ]
     },
     "metadata": {
      "needs_background": "light"
     },
     "output_type": "display_data"
    }
   ],
   "source": [
    "sns.countplot(d['condition'])"
   ]
  },
  {
   "cell_type": "code",
   "execution_count": 20,
   "metadata": {},
   "outputs": [],
   "source": [
    "x = d.drop(['price','date'], 1)\n",
    "y= d['price']\n",
    "x_train,x_test,y_train,y_test=train_test_split(x,y,test_size=0.3,random_state=1)"
   ]
  },
  {
   "cell_type": "code",
   "execution_count": 21,
   "metadata": {},
   "outputs": [
    {
     "name": "stdout",
     "output_type": "stream",
     "text": [
      "Coefficients: [-2.93095376e-12 -6.28021221e-03  8.05830958e-02  9.21482618e-05\n",
      "  8.85847416e-07  8.50165371e-02  3.02087271e-01  7.00829024e-02\n",
      "  7.54234384e-02  1.58044064e-01  3.81667132e-05  5.39815485e-05\n",
      " -3.69750539e-03  5.59907233e-05 -6.72064357e-04  1.45664050e+00\n",
      " -1.69390527e-01  1.08602927e-04 -1.34369828e-08]\n",
      "Intercept: -5.983057635197177\n",
      "R^2 score: 0.7655975251804507\n",
      "R^2 score: 0.7281435190879517\n"
     ]
    }
   ],
   "source": [
    "lin_reg = LinearRegression()\n",
    "lin_reg.fit(x_train, y_train)\n",
    "\n",
    "print(f'Coefficients: {lin_reg.coef_}')\n",
    "print(f'Intercept: {lin_reg.intercept_}')\n",
    "print(f'R^2 score: {lin_reg.score(x_train, y_train)}')\n",
    "print(f'R^2 score: {lin_reg.score(x_test, y_test)}')"
   ]
  },
  {
   "cell_type": "code",
   "execution_count": 22,
   "metadata": {},
   "outputs": [
    {
     "data": {
      "text/plain": [
       "array([14.49670863, 13.13306045, 13.07596657, 13.32107575, 12.8747961 ,\n",
       "       12.86111242, 13.70926266, 12.22306579, 14.4634218 , 12.40139557,\n",
       "       12.6200787 , 13.90777852, 12.73541458, 13.3649076 , 12.44706244,\n",
       "       12.526465  , 12.87118741, 12.49435261, 12.91214375, 13.70832495,\n",
       "       12.97629481, 12.52681298, 12.50195836, 13.0875229 , 12.88975498,\n",
       "       13.13287286, 13.50026776, 12.90909597, 13.57010105, 12.89857233,\n",
       "       12.39380639, 12.43233966, 12.69790134, 12.89988128, 12.69236358,\n",
       "       12.63670967, 13.28675857, 12.35887884, 13.87258144, 13.37407659,\n",
       "       12.10977334, 13.3719044 , 12.07993127, 13.56041733, 12.60404198,\n",
       "       13.47649886, 13.37046812, 12.89596268, 12.96544066, 13.07585735,\n",
       "       12.92246295, 12.9457885 , 12.70353015, 12.43388186, 12.13893062,\n",
       "       12.49802147, 14.0508424 , 13.04726707, 12.24988004, 12.88096126,\n",
       "       13.46492533, 12.65203308, 13.83556975, 13.53528905, 13.29261184,\n",
       "       13.81395519, 12.32654702, 12.92875502, 12.21291157, 12.29008837,\n",
       "       12.86979541, 13.8660241 , 13.51490393, 12.55567761, 12.68711231,\n",
       "       12.53439137, 12.26673945, 12.89958369, 13.20069186, 12.56943219,\n",
       "       13.02693708, 13.14968875, 12.25132365, 13.09211994, 13.01403511,\n",
       "       13.16513289, 13.58838834, 12.86081375, 12.58272026, 12.37392908,\n",
       "       12.99008502, 12.75116357, 12.79534165, 13.04836298, 13.33906462,\n",
       "       13.01526   , 13.18830391, 13.62903125, 13.13533445, 13.01441042,\n",
       "       13.27416737, 13.56072398, 12.38991351, 12.79562205, 12.98583674,\n",
       "       13.55649569, 12.69405939, 12.67225378, 13.35688379, 12.3077451 ,\n",
       "       13.35731595, 13.08531837, 13.00423711, 13.31970288, 12.46970773,\n",
       "       13.25086289, 13.29263969, 13.58805424, 13.15709043, 12.39146885,\n",
       "       13.11597847, 13.30495556, 13.55343458, 13.11438588, 13.27555421,\n",
       "       13.61761275, 13.06928792, 12.82964044, 12.89618286, 13.00686633,\n",
       "       12.89690162, 12.82164892, 13.488366  , 13.36842524, 13.33023704,\n",
       "       13.07992737, 14.99356746, 13.25380796, 13.0680611 , 12.95393835,\n",
       "       12.83760098, 13.69876363, 12.90286999, 13.98104897, 13.05307048,\n",
       "       12.55486039, 12.50960934, 13.13477545, 14.00683148, 12.45875674,\n",
       "       13.97653438, 12.90309864, 13.7871875 , 12.82751751, 14.70103746,\n",
       "       12.75819377, 13.47274619, 14.15526922, 12.96020199, 12.64826382,\n",
       "       12.66269915, 13.52345606, 12.54667024, 12.69240997, 13.92288267,\n",
       "       12.98591769, 12.29305364, 13.31945459, 12.57006386, 13.21048826,\n",
       "       12.55383304, 13.63583914, 13.00953315, 12.93894395, 13.05645362,\n",
       "       13.61973022, 13.90526596, 12.5567921 , 12.84533377, 13.28246233,\n",
       "       13.52211697, 12.58993193, 13.82832316, 13.30876589, 12.42927078,\n",
       "       13.74342348, 12.52345067, 13.26179815, 12.81382913, 13.7586361 ,\n",
       "       12.59586339, 12.75909749, 13.09982746, 13.34558714, 12.60955523,\n",
       "       13.23553536, 12.82931723, 13.3732531 , 12.59760678, 14.43644221,\n",
       "       12.74143855, 13.12983142, 14.18153924, 12.7553833 , 13.56609503,\n",
       "       12.25332074, 14.01657409, 12.95525163, 12.83529007, 13.22922514,\n",
       "       13.53742196, 12.78042237, 13.18820656, 12.56618175, 12.91904746,\n",
       "       12.69490172, 13.24082245, 12.19012848, 13.23600466, 13.24122738,\n",
       "       12.69233718, 12.52552606, 12.98951464, 13.47372471, 13.03906179,\n",
       "       12.08250106, 12.59417495, 12.34528667, 12.40911794, 13.03420685,\n",
       "       13.01791429, 12.97762421, 13.18653298, 12.96612373, 13.06264593,\n",
       "       12.79535581, 13.28615661, 12.90898668, 12.57292163, 12.82692061,\n",
       "       12.85876958, 12.91518366, 13.33777497, 12.23341959, 12.13730115,\n",
       "       12.84825046, 13.07479974, 13.68358839, 12.99326708, 12.58598698,\n",
       "       12.84220519, 12.32745154, 12.87363296, 13.2238758 , 13.05554446,\n",
       "       13.86340089, 12.80508327, 12.45434615, 13.10295387, 12.26974134,\n",
       "       12.82244413, 13.6754391 , 12.58242806, 12.8788019 , 13.67670467,\n",
       "       12.87941253, 12.68923801, 12.56749633, 12.53834075, 13.28462783,\n",
       "       13.090738  , 12.73196572, 13.40890837, 12.77974561, 13.07776911,\n",
       "       14.37926995, 12.92054628, 14.04958227, 12.82094341, 14.41099424,\n",
       "       13.46146242, 12.84810488, 12.90014178, 13.77055273, 12.5927762 ,\n",
       "       13.00627322, 13.04174873, 13.25199215, 12.76831513, 12.81301864,\n",
       "       13.35000622, 13.08930483, 13.771778  , 12.82080899, 12.5675923 ,\n",
       "       12.80047846, 13.11437638, 12.98027175, 13.81164335, 13.04599049,\n",
       "       12.66311608, 12.7328793 , 12.7719403 , 13.28719217, 13.50383279,\n",
       "       13.25928187, 12.27575205, 12.35563023, 12.90856508, 13.83944347,\n",
       "       16.70687856, 12.99125755, 12.67668414, 13.26973116, 12.79614762,\n",
       "       12.45997971, 13.9181739 , 12.17576148, 13.25108665, 12.41618794,\n",
       "       13.11984416, 12.82766092, 13.42665323, 13.3960628 , 12.87876128,\n",
       "       13.39477381, 13.39551879, 12.55885733, 12.64388234, 12.89084969,\n",
       "       13.12252774, 12.9419904 , 13.04661443, 12.84561864, 12.95448639,\n",
       "       13.44807182, 12.9247398 , 12.81467189, 13.03889642, 13.01707872,\n",
       "       12.35106805, 12.92288926, 13.12524218, 13.20968017, 12.84348776,\n",
       "       13.00864458, 13.42769489, 13.62587893, 12.44001954, 13.23394846,\n",
       "       13.44703739, 12.53469068, 12.90308588, 13.28339609, 12.74820271,\n",
       "       13.1000581 , 13.57949148, 12.72261406, 12.81199769, 12.92755125,\n",
       "       12.94419923, 13.1633171 , 14.23652322, 12.5073848 , 13.19172486,\n",
       "       13.77058792, 13.0724234 , 12.66270207, 12.36785667, 13.72217338,\n",
       "       12.98928814, 13.00440466, 12.97393219, 12.9592082 , 12.72836952,\n",
       "       12.91081907, 12.52114822, 13.07870812, 13.58212677, 13.32439851,\n",
       "       13.06760064, 13.47918508, 12.94285518, 12.72525434, 13.27368135,\n",
       "       12.69406914, 13.2692997 , 12.28060488, 12.63044768, 13.58731269,\n",
       "       12.50141411, 12.96538823, 13.99986461, 13.05616391, 13.34517973,\n",
       "       13.52959353, 13.15971939, 12.79471964, 12.84424527, 12.43389746,\n",
       "       12.59545933, 12.17214042, 13.32431437, 12.36842282, 13.87036283,\n",
       "       12.81382576, 12.98115092, 12.39743619, 14.04375794, 13.32926429,\n",
       "       12.30032214, 12.59834453, 12.9683081 , 12.42352322, 12.97175051,\n",
       "       12.27491257, 13.9529973 , 12.5814258 , 12.99016495, 12.48864961,\n",
       "       13.05646247, 13.59950343, 13.98112016, 12.91051309, 12.37674337,\n",
       "       15.1939179 , 12.66621923, 13.34207707, 12.60693709, 12.90407822,\n",
       "       13.23959691, 12.93060931, 13.40649718, 13.17717663, 13.12950439,\n",
       "       12.64280118, 13.48532959, 13.16027311, 12.9919938 , 13.21899115,\n",
       "       12.43447402, 13.70176279, 12.61770827, 12.23268816, 14.03477216,\n",
       "       14.08294401, 13.23439028, 12.36241481, 12.44571881, 14.3839171 ,\n",
       "       13.94239347, 13.34429171, 12.77215739, 13.35093141, 12.97689352,\n",
       "       13.66476404, 13.09152083, 13.09512864, 13.00104212, 13.09831713,\n",
       "       12.88374872, 12.72530047, 12.37121969, 12.94299543, 12.8025682 ,\n",
       "       12.57557285, 13.22635702, 13.69401742, 14.06614986, 13.59645764,\n",
       "       13.11605739, 12.62918717, 12.69603319, 12.3736942 , 13.90487312,\n",
       "       13.31164706, 13.11271053, 14.09463088, 12.95690848, 13.16902559,\n",
       "       12.32161526, 12.23218025, 12.94217669, 13.71388783, 12.62586111,\n",
       "       13.76208143, 13.00326144, 13.7356889 , 13.4907722 , 13.95525729,\n",
       "       13.10478594, 13.10125172, 13.16305881, 13.06330838, 12.76479019,\n",
       "       13.07376317, 13.21420263, 13.08111757, 13.10608191, 12.38693326,\n",
       "       12.83044956, 13.09762133, 13.30648282, 12.97729347, 14.48352347,\n",
       "       13.26836332, 13.02541176, 13.2814538 , 12.11604918, 13.31479701,\n",
       "       13.72513056, 13.23717821, 12.40329361, 12.52133638, 13.22656114,\n",
       "       13.28114355, 13.33674606, 12.34854337, 12.8657811 , 12.9692259 ,\n",
       "       12.52641137, 14.01116772, 12.62893622, 12.97742616, 13.63586914,\n",
       "       13.20472686, 12.97396859, 13.17039444, 13.06377903, 13.78584936,\n",
       "       12.98100678, 12.86539052, 12.79954678, 12.62060835, 13.01371688,\n",
       "       12.77558993, 12.48232617, 13.86143359, 13.11424714, 12.52114822,\n",
       "       12.46726613, 12.96191078, 12.77552359, 13.46843703, 13.64642096,\n",
       "       12.02672705, 13.59421562, 12.7043671 , 12.44920274, 12.45976782,\n",
       "       12.49785738, 12.83463888, 12.36157759, 13.31430622, 12.90462762,\n",
       "       12.45176794, 14.37653125, 13.05907773, 12.99073927, 13.17144726,\n",
       "       13.1327338 , 13.02858485, 12.94852486, 12.73411782, 13.06452758,\n",
       "       13.90467245, 14.37308591, 12.67499191, 13.10274744, 13.25597871,\n",
       "       13.89181399, 12.42361377, 12.98273165, 13.4211886 , 12.76051467,\n",
       "       12.9347965 , 13.38014787, 13.23371987, 12.494963  , 13.11911694,\n",
       "       13.03815747, 13.6180522 , 12.84876475, 12.64399805, 12.88001753,\n",
       "       13.25857719, 13.93217829, 12.65235728, 12.80425686, 12.43000299,\n",
       "       12.7379342 , 13.36069655, 12.50927865, 13.04268372, 12.87203061,\n",
       "       12.16268423, 12.75078141, 12.88798917, 13.32130796, 12.99846339,\n",
       "       12.6036443 ])"
      ]
     },
     "execution_count": 22,
     "metadata": {},
     "output_type": "execute_result"
    }
   ],
   "source": [
    "y_pred= lin_reg.predict(x_test)\n",
    "y_pred"
   ]
  },
  {
   "cell_type": "code",
   "execution_count": 23,
   "metadata": {},
   "outputs": [
    {
     "data": {
      "text/html": [
       "<table class=\"simpletable\">\n",
       "<caption>OLS Regression Results</caption>\n",
       "<tr>\n",
       "  <th>Dep. Variable:</th>          <td>price</td>      <th>  R-squared:         </th> <td>   0.755</td>\n",
       "</tr>\n",
       "<tr>\n",
       "  <th>Model:</th>                   <td>OLS</td>       <th>  Adj. R-squared:    </th> <td>   0.753</td>\n",
       "</tr>\n",
       "<tr>\n",
       "  <th>Method:</th>             <td>Least Squares</td>  <th>  F-statistic:       </th> <td>   340.1</td>\n",
       "</tr>\n",
       "<tr>\n",
       "  <th>Date:</th>             <td>Mon, 06 Sep 2021</td> <th>  Prob (F-statistic):</th>  <td>  0.00</td> \n",
       "</tr>\n",
       "<tr>\n",
       "  <th>Time:</th>                 <td>21:26:36</td>     <th>  Log-Likelihood:    </th> <td> -135.17</td>\n",
       "</tr>\n",
       "<tr>\n",
       "  <th>No. Observations:</th>      <td>  2001</td>      <th>  AIC:               </th> <td>   308.3</td>\n",
       "</tr>\n",
       "<tr>\n",
       "  <th>Df Residuals:</th>          <td>  1982</td>      <th>  BIC:               </th> <td>   414.8</td>\n",
       "</tr>\n",
       "<tr>\n",
       "  <th>Df Model:</th>              <td>    18</td>      <th>                     </th>     <td> </td>   \n",
       "</tr>\n",
       "<tr>\n",
       "  <th>Covariance Type:</th>      <td>nonrobust</td>    <th>                     </th>     <td> </td>   \n",
       "</tr>\n",
       "</table>\n",
       "<table class=\"simpletable\">\n",
       "<tr>\n",
       "        <td></td>           <th>coef</th>     <th>std err</th>      <th>t</th>      <th>P>|t|</th>  <th>[0.025</th>    <th>0.975]</th>  \n",
       "</tr>\n",
       "<tr>\n",
       "  <th>const</th>         <td>  -10.3458</td> <td>   12.566</td> <td>   -0.823</td> <td> 0.410</td> <td>  -34.989</td> <td>   14.297</td>\n",
       "</tr>\n",
       "<tr>\n",
       "  <th>id</th>            <td>-1.597e-12</td> <td> 2.06e-12</td> <td>   -0.775</td> <td> 0.438</td> <td>-5.63e-12</td> <td> 2.44e-12</td>\n",
       "</tr>\n",
       "<tr>\n",
       "  <th>bedrooms</th>      <td>   -0.0030</td> <td>    0.008</td> <td>   -0.358</td> <td> 0.721</td> <td>   -0.019</td> <td>    0.013</td>\n",
       "</tr>\n",
       "<tr>\n",
       "  <th>bathrooms</th>     <td>    0.0855</td> <td>    0.014</td> <td>    5.992</td> <td> 0.000</td> <td>    0.058</td> <td>    0.113</td>\n",
       "</tr>\n",
       "<tr>\n",
       "  <th>sqft_living</th>   <td> 7.052e-05</td> <td> 9.66e-06</td> <td>    7.297</td> <td> 0.000</td> <td> 5.16e-05</td> <td> 8.95e-05</td>\n",
       "</tr>\n",
       "<tr>\n",
       "  <th>sqft_lot</th>      <td> 7.508e-07</td> <td> 2.23e-07</td> <td>    3.366</td> <td> 0.001</td> <td> 3.13e-07</td> <td> 1.19e-06</td>\n",
       "</tr>\n",
       "<tr>\n",
       "  <th>floors</th>        <td>    0.0664</td> <td>    0.017</td> <td>    3.998</td> <td> 0.000</td> <td>    0.034</td> <td>    0.099</td>\n",
       "</tr>\n",
       "<tr>\n",
       "  <th>waterfront</th>    <td>    0.3379</td> <td>    0.087</td> <td>    3.890</td> <td> 0.000</td> <td>    0.168</td> <td>    0.508</td>\n",
       "</tr>\n",
       "<tr>\n",
       "  <th>view</th>          <td>    0.0662</td> <td>    0.008</td> <td>    8.026</td> <td> 0.000</td> <td>    0.050</td> <td>    0.082</td>\n",
       "</tr>\n",
       "<tr>\n",
       "  <th>condition</th>     <td>    0.0721</td> <td>    0.009</td> <td>    7.635</td> <td> 0.000</td> <td>    0.054</td> <td>    0.091</td>\n",
       "</tr>\n",
       "<tr>\n",
       "  <th>grade</th>         <td>    0.1642</td> <td>    0.009</td> <td>   17.559</td> <td> 0.000</td> <td>    0.146</td> <td>    0.183</td>\n",
       "</tr>\n",
       "<tr>\n",
       "  <th>sqft_above</th>    <td> 2.779e-05</td> <td> 1.02e-05</td> <td>    2.729</td> <td> 0.006</td> <td> 7.82e-06</td> <td> 4.78e-05</td>\n",
       "</tr>\n",
       "<tr>\n",
       "  <th>sqft_basement</th> <td> 4.272e-05</td> <td> 1.12e-05</td> <td>    3.817</td> <td> 0.000</td> <td> 2.08e-05</td> <td> 6.47e-05</td>\n",
       "</tr>\n",
       "<tr>\n",
       "  <th>yr_built</th>      <td>   -0.0036</td> <td>    0.000</td> <td>  -10.790</td> <td> 0.000</td> <td>   -0.004</td> <td>   -0.003</td>\n",
       "</tr>\n",
       "<tr>\n",
       "  <th>yr_renovated</th>  <td> 6.068e-05</td> <td> 1.54e-05</td> <td>    3.930</td> <td> 0.000</td> <td> 3.04e-05</td> <td>  9.1e-05</td>\n",
       "</tr>\n",
       "<tr>\n",
       "  <th>zipcode</th>       <td>   -0.0006</td> <td>    0.000</td> <td>   -4.123</td> <td> 0.000</td> <td>   -0.001</td> <td>   -0.000</td>\n",
       "</tr>\n",
       "<tr>\n",
       "  <th>lat</th>           <td>    1.4122</td> <td>    0.047</td> <td>   30.157</td> <td> 0.000</td> <td>    1.320</td> <td>    1.504</td>\n",
       "</tr>\n",
       "<tr>\n",
       "  <th>long</th>          <td>   -0.1452</td> <td>    0.056</td> <td>   -2.578</td> <td> 0.010</td> <td>   -0.256</td> <td>   -0.035</td>\n",
       "</tr>\n",
       "<tr>\n",
       "  <th>sqft_living15</th> <td>    0.0001</td> <td> 1.45e-05</td> <td>    8.456</td> <td> 0.000</td> <td> 9.43e-05</td> <td>    0.000</td>\n",
       "</tr>\n",
       "<tr>\n",
       "  <th>sqft_lot15</th>    <td>-1.147e-07</td> <td>    3e-07</td> <td>   -0.382</td> <td> 0.702</td> <td>-7.03e-07</td> <td> 4.74e-07</td>\n",
       "</tr>\n",
       "</table>\n",
       "<table class=\"simpletable\">\n",
       "<tr>\n",
       "  <th>Omnibus:</th>       <td>100.844</td> <th>  Durbin-Watson:     </th> <td>   2.039</td>\n",
       "</tr>\n",
       "<tr>\n",
       "  <th>Prob(Omnibus):</th> <td> 0.000</td>  <th>  Jarque-Bera (JB):  </th> <td> 300.331</td>\n",
       "</tr>\n",
       "<tr>\n",
       "  <th>Skew:</th>          <td>-0.195</td>  <th>  Prob(JB):          </th> <td>6.08e-66</td>\n",
       "</tr>\n",
       "<tr>\n",
       "  <th>Kurtosis:</th>      <td> 4.857</td>  <th>  Cond. No.          </th> <td>1.76e+22</td>\n",
       "</tr>\n",
       "</table><br/><br/>Notes:<br/>[1] Standard Errors assume that the covariance matrix of the errors is correctly specified.<br/>[2] The smallest eigenvalue is 1.9e-22. This might indicate that there are<br/>strong multicollinearity problems or that the design matrix is singular."
      ],
      "text/plain": [
       "<class 'statsmodels.iolib.summary.Summary'>\n",
       "\"\"\"\n",
       "                            OLS Regression Results                            \n",
       "==============================================================================\n",
       "Dep. Variable:                  price   R-squared:                       0.755\n",
       "Model:                            OLS   Adj. R-squared:                  0.753\n",
       "Method:                 Least Squares   F-statistic:                     340.1\n",
       "Date:                Mon, 06 Sep 2021   Prob (F-statistic):               0.00\n",
       "Time:                        21:26:36   Log-Likelihood:                -135.17\n",
       "No. Observations:                2001   AIC:                             308.3\n",
       "Df Residuals:                    1982   BIC:                             414.8\n",
       "Df Model:                          18                                         \n",
       "Covariance Type:            nonrobust                                         \n",
       "=================================================================================\n",
       "                    coef    std err          t      P>|t|      [0.025      0.975]\n",
       "---------------------------------------------------------------------------------\n",
       "const           -10.3458     12.566     -0.823      0.410     -34.989      14.297\n",
       "id            -1.597e-12   2.06e-12     -0.775      0.438   -5.63e-12    2.44e-12\n",
       "bedrooms         -0.0030      0.008     -0.358      0.721      -0.019       0.013\n",
       "bathrooms         0.0855      0.014      5.992      0.000       0.058       0.113\n",
       "sqft_living    7.052e-05   9.66e-06      7.297      0.000    5.16e-05    8.95e-05\n",
       "sqft_lot       7.508e-07   2.23e-07      3.366      0.001    3.13e-07    1.19e-06\n",
       "floors            0.0664      0.017      3.998      0.000       0.034       0.099\n",
       "waterfront        0.3379      0.087      3.890      0.000       0.168       0.508\n",
       "view              0.0662      0.008      8.026      0.000       0.050       0.082\n",
       "condition         0.0721      0.009      7.635      0.000       0.054       0.091\n",
       "grade             0.1642      0.009     17.559      0.000       0.146       0.183\n",
       "sqft_above     2.779e-05   1.02e-05      2.729      0.006    7.82e-06    4.78e-05\n",
       "sqft_basement  4.272e-05   1.12e-05      3.817      0.000    2.08e-05    6.47e-05\n",
       "yr_built         -0.0036      0.000    -10.790      0.000      -0.004      -0.003\n",
       "yr_renovated   6.068e-05   1.54e-05      3.930      0.000    3.04e-05     9.1e-05\n",
       "zipcode          -0.0006      0.000     -4.123      0.000      -0.001      -0.000\n",
       "lat               1.4122      0.047     30.157      0.000       1.320       1.504\n",
       "long             -0.1452      0.056     -2.578      0.010      -0.256      -0.035\n",
       "sqft_living15     0.0001   1.45e-05      8.456      0.000    9.43e-05       0.000\n",
       "sqft_lot15    -1.147e-07      3e-07     -0.382      0.702   -7.03e-07    4.74e-07\n",
       "==============================================================================\n",
       "Omnibus:                      100.844   Durbin-Watson:                   2.039\n",
       "Prob(Omnibus):                  0.000   Jarque-Bera (JB):              300.331\n",
       "Skew:                          -0.195   Prob(JB):                     6.08e-66\n",
       "Kurtosis:                       4.857   Cond. No.                     1.76e+22\n",
       "==============================================================================\n",
       "\n",
       "Notes:\n",
       "[1] Standard Errors assume that the covariance matrix of the errors is correctly specified.\n",
       "[2] The smallest eigenvalue is 1.9e-22. This might indicate that there are\n",
       "strong multicollinearity problems or that the design matrix is singular.\n",
       "\"\"\""
      ]
     },
     "execution_count": 23,
     "metadata": {},
     "output_type": "execute_result"
    }
   ],
   "source": [
    "x = sm.add_constant(x)\n",
    "model = sm.OLS(y, x).fit()\n",
    "model.summary()"
   ]
  },
  {
   "cell_type": "code",
   "execution_count": 24,
   "metadata": {},
   "outputs": [
    {
     "data": {
      "text/plain": [
       "price            1.00\n",
       "grade            0.69\n",
       "sqft_living      0.68\n",
       "sqft_living15    0.63\n",
       "sqft_above       0.58\n",
       "bathrooms        0.54\n",
       "lat              0.43\n",
       "view             0.35\n",
       "bedrooms         0.35\n",
       "sqft_basement    0.32\n",
       "floors           0.31\n",
       "waterfront       0.12\n",
       "yr_renovated     0.11\n",
       "sqft_lot         0.09\n",
       "condition        0.08\n",
       "sqft_lot15       0.08\n",
       "yr_built         0.07\n",
       "long             0.06\n",
       "id              -0.02\n",
       "zipcode         -0.04\n",
       "Name: price, dtype: float64"
      ]
     },
     "execution_count": 24,
     "metadata": {},
     "output_type": "execute_result"
    }
   ],
   "source": [
    "d.corr()['price'].sort_values(ascending=False)"
   ]
  },
  {
   "cell_type": "code",
   "execution_count": 25,
   "metadata": {},
   "outputs": [
    {
     "data": {
      "text/plain": [
       "Lasso()"
      ]
     },
     "execution_count": 25,
     "metadata": {},
     "output_type": "execute_result"
    }
   ],
   "source": [
    "lin_reg1 = Lasso()\n",
    "lin_reg1.fit(x_train, y_train)"
   ]
  },
  {
   "cell_type": "code",
   "execution_count": 26,
   "metadata": {},
   "outputs": [
    {
     "name": "stdout",
     "output_type": "stream",
     "text": [
      "Coefficients: [-4.17973383e-12 -0.00000000e+00  0.00000000e+00  2.98915445e-04\n",
      "  7.36711894e-07  0.00000000e+00  0.00000000e+00  0.00000000e+00\n",
      "  0.00000000e+00  0.00000000e+00  9.96239212e-06  0.00000000e+00\n",
      " -2.18877626e-03  7.14390274e-05  5.04359082e-04  0.00000000e+00\n",
      " -0.00000000e+00  2.39590353e-04 -1.15412563e-06]\n",
      "Intercept: -33.19864994686334\n",
      "R^2 score: 0.5290972666865792\n",
      "R^2 score: 0.5515589295548243\n"
     ]
    }
   ],
   "source": [
    "print(f'Coefficients: {lin_reg1.coef_}')\n",
    "print(f'Intercept: {lin_reg1.intercept_}')\n",
    "print(f'R^2 score: {lin_reg1.score(x_train, y_train)}')\n",
    "print(f'R^2 score: {lin_reg1.score(x_test, y_test)}')"
   ]
  },
  {
   "cell_type": "code",
   "execution_count": 27,
   "metadata": {},
   "outputs": [
    {
     "name": "stdout",
     "output_type": "stream",
     "text": [
      "Coefficients: [-3.08877801e-12 -7.42641270e-03  8.21920451e-02  9.15965353e-05\n",
      "  8.67718319e-07  8.56141339e-02  2.66928111e-01  7.01912323e-02\n",
      "  7.42896326e-02  1.60162629e-01  3.66557798e-05  5.49406879e-05\n",
      " -3.81098963e-03  5.51719206e-05 -6.21184369e-04  1.38834920e+00\n",
      " -1.53485972e-01  1.10083554e-04 -5.46711129e-08]\n",
      "Intercept: -5.568192911743957\n",
      "R^2 score: 0.7653078205344901\n",
      "R^2 score: 0.7288971906439544\n"
     ]
    }
   ],
   "source": [
    "lin_reg2 = Ridge()\n",
    "lin_reg2.fit(x_train, y_train)\n",
    "print(f'Coefficients: {lin_reg2.coef_}')\n",
    "print(f'Intercept: {lin_reg2.intercept_}')\n",
    "print(f'R^2 score: {lin_reg2.score(x_train, y_train)}')\n",
    "print(f'R^2 score: {lin_reg2.score(x_test, y_test)}')"
   ]
  },
  {
   "cell_type": "code",
   "execution_count": 28,
   "metadata": {},
   "outputs": [
    {
     "data": {
      "text/plain": [
       "RandomForestRegressor(random_state=0)"
      ]
     },
     "execution_count": 28,
     "metadata": {},
     "output_type": "execute_result"
    }
   ],
   "source": [
    "  \n",
    " # create regressor object\n",
    "regressor = RandomForestRegressor(n_estimators = 100, random_state = 0)\n",
    "  \n",
    "# fit the regressor with x and y data\n",
    "regressor.fit(x_train, y_train) \n"
   ]
  },
  {
   "cell_type": "code",
   "execution_count": 29,
   "metadata": {},
   "outputs": [
    {
     "name": "stdout",
     "output_type": "stream",
     "text": [
      "R^2 score: 0.9733189034161438\n",
      "R^2 score: 0.8518488375280776\n"
     ]
    }
   ],
   "source": [
    "print(f'R^2 score: {regressor.score(x_train, y_train)}')\n",
    "print(f'R^2 score: {regressor.score(x_test, y_test)}')\n"
   ]
  },
  {
   "cell_type": "code",
   "execution_count": 30,
   "metadata": {},
   "outputs": [],
   "source": [
    "y_pred2=regressor.predict(x_test)"
   ]
  },
  {
   "cell_type": "code",
   "execution_count": 31,
   "metadata": {},
   "outputs": [
    {
     "data": {
      "text/plain": [
       "<AxesSubplot:xlabel='price', ylabel='long'>"
      ]
     },
     "execution_count": 31,
     "metadata": {},
     "output_type": "execute_result"
    },
    {
     "data": {
      "image/png": "[encoded data removed]",
      "text/plain": [
       "<Figure size 432x288 with 1 Axes>"
      ]
     },
     "metadata": {
      "needs_background": "light"
     },
     "output_type": "display_data"
    }
   ],
   "source": [
    "sns.scatterplot(x='price',y='long',data=d)"
   ]
  },
  {
   "cell_type": "code",
   "execution_count": 32,
   "metadata": {},
   "outputs": [],
   "source": [
    "d1=d.drop('date',axis=1)"
   ]
  },
  {
   "cell_type": "code",
   "execution_count": 33,
   "metadata": {},
   "outputs": [],
   "source": [
    "z = np.abs(stats.zscore(d1))"
   ]
  },
  {
   "cell_type": "code",
   "execution_count": 34,
   "metadata": {},
   "outputs": [],
   "source": [
    "data_clean = d1[(z<3).all(axis=1)]\n"
   ]
  },
  {
   "cell_type": "code",
   "execution_count": 35,
   "metadata": {},
   "outputs": [
    {
     "data": {
      "text/plain": [
       "<AxesSubplot:xlabel='price', ylabel='long'>"
      ]
     },
     "execution_count": 35,
     "metadata": {},
     "output_type": "execute_result"
    },
    {
     "data": {
      "image/png": "[encoded data removed]",
      "text/plain": [
       "<Figure size 432x288 with 1 Axes>"
      ]
     },
     "metadata": {
      "needs_background": "light"
     },
     "output_type": "display_data"
    }
   ],
   "source": [
    "sns.scatterplot(x='price',y='long',data=data_clean)"
   ]
  },
  {
   "cell_type": "code",
   "execution_count": null,
   "metadata": {},
   "outputs": [],
   "source": []
  },
  {
   "cell_type": "code",
   "execution_count": 36,
   "metadata": {},
   "outputs": [],
   "source": [
    "x1 = data_clean.drop(['price'], 1)\n",
    "y1= data_clean['price']\n",
    "x_train1,x_test1,y_train1,y_test1=train_test_split(x1,y1,test_size=0.3,random_state=1)"
   ]
  },
  {
   "cell_type": "code",
   "execution_count": 37,
   "metadata": {},
   "outputs": [
    {
     "name": "stdout",
     "output_type": "stream",
     "text": [
      "Coefficients: [-1.13299206e-12  2.84127230e-04  7.71628445e-02  8.90852532e-05\n",
      "  6.46111698e-07  9.76944156e-02 -1.15879528e-15  9.82272405e-02\n",
      "  6.32512575e-02  1.52212444e-01  2.92204768e-05  5.98647767e-05\n",
      " -4.07578908e-03  2.22044605e-16 -6.82532006e-04  1.48847485e+00\n",
      " -5.47504545e-02  1.22149605e-04 -2.16942985e-06]\n",
      "Intercept: 8.347217186863276\n",
      "R^2 score: 0.7217404557242327\n",
      "R^2 score: 0.7150703902647477\n"
     ]
    }
   ],
   "source": [
    "lin_reg = LinearRegression()\n",
    "lin_reg.fit(x_train1, y_train1)\n",
    "\n",
    "print(f'Coefficients: {lin_reg.coef_}')\n",
    "print(f'Intercept: {lin_reg.intercept_}')\n",
    "print(f'R^2 score: {lin_reg.score(x_train1, y_train1)}')\n",
    "print(f'R^2 score: {lin_reg.score(x_test1, y_test1)}')\n"
   ]
  },
  {
   "cell_type": "code",
   "execution_count": 38,
   "metadata": {},
   "outputs": [
    {
     "data": {
      "text/html": [
       "<table class=\"simpletable\">\n",
       "<caption>OLS Regression Results</caption>\n",
       "<tr>\n",
       "  <th>Dep. Variable:</th>          <td>price</td>      <th>  R-squared:         </th> <td>   0.722</td>\n",
       "</tr>\n",
       "<tr>\n",
       "  <th>Model:</th>                   <td>OLS</td>       <th>  Adj. R-squared:    </th> <td>   0.719</td>\n",
       "</tr>\n",
       "<tr>\n",
       "  <th>Method:</th>             <td>Least Squares</td>  <th>  F-statistic:       </th> <td>   273.2</td>\n",
       "</tr>\n",
       "<tr>\n",
       "  <th>Date:</th>             <td>Mon, 06 Sep 2021</td> <th>  Prob (F-statistic):</th>  <td>  0.00</td> \n",
       "</tr>\n",
       "<tr>\n",
       "  <th>Time:</th>                 <td>21:26:41</td>     <th>  Log-Likelihood:    </th> <td> -28.000</td>\n",
       "</tr>\n",
       "<tr>\n",
       "  <th>No. Observations:</th>      <td>  1704</td>      <th>  AIC:               </th> <td>   90.00</td>\n",
       "</tr>\n",
       "<tr>\n",
       "  <th>Df Residuals:</th>          <td>  1687</td>      <th>  BIC:               </th> <td>   182.5</td>\n",
       "</tr>\n",
       "<tr>\n",
       "  <th>Df Model:</th>              <td>    16</td>      <th>                     </th>     <td> </td>   \n",
       "</tr>\n",
       "<tr>\n",
       "  <th>Covariance Type:</th>      <td>nonrobust</td>    <th>                     </th>     <td> </td>   \n",
       "</tr>\n",
       "</table>\n",
       "<table class=\"simpletable\">\n",
       "<tr>\n",
       "        <td></td>           <th>coef</th>     <th>std err</th>      <th>t</th>      <th>P>|t|</th>  <th>[0.025</th>    <th>0.975]</th>  \n",
       "</tr>\n",
       "<tr>\n",
       "  <th>const</th>         <td>    2.5346</td> <td>   13.122</td> <td>    0.193</td> <td> 0.847</td> <td>  -23.203</td> <td>   28.272</td>\n",
       "</tr>\n",
       "<tr>\n",
       "  <th>id</th>            <td>-1.914e-12</td> <td> 2.12e-12</td> <td>   -0.904</td> <td> 0.366</td> <td>-6.07e-12</td> <td> 2.24e-12</td>\n",
       "</tr>\n",
       "<tr>\n",
       "  <th>bedrooms</th>      <td>   -0.0071</td> <td>    0.009</td> <td>   -0.781</td> <td> 0.435</td> <td>   -0.025</td> <td>    0.011</td>\n",
       "</tr>\n",
       "<tr>\n",
       "  <th>bathrooms</th>     <td>    0.0881</td> <td>    0.016</td> <td>    5.665</td> <td> 0.000</td> <td>    0.058</td> <td>    0.119</td>\n",
       "</tr>\n",
       "<tr>\n",
       "  <th>sqft_living</th>   <td> 9.034e-05</td> <td> 1.21e-05</td> <td>    7.477</td> <td> 0.000</td> <td> 6.66e-05</td> <td>    0.000</td>\n",
       "</tr>\n",
       "<tr>\n",
       "  <th>sqft_lot</th>      <td> 6.632e-07</td> <td> 7.07e-07</td> <td>    0.938</td> <td> 0.349</td> <td>-7.24e-07</td> <td> 2.05e-06</td>\n",
       "</tr>\n",
       "<tr>\n",
       "  <th>floors</th>        <td>    0.0811</td> <td>    0.020</td> <td>    4.117</td> <td> 0.000</td> <td>    0.042</td> <td>    0.120</td>\n",
       "</tr>\n",
       "<tr>\n",
       "  <th>waterfront</th>    <td>-2.598e-11</td> <td> 1.35e-10</td> <td>   -0.193</td> <td> 0.847</td> <td> -2.9e-10</td> <td> 2.38e-10</td>\n",
       "</tr>\n",
       "<tr>\n",
       "  <th>view</th>          <td>    0.0809</td> <td>    0.016</td> <td>    5.103</td> <td> 0.000</td> <td>    0.050</td> <td>    0.112</td>\n",
       "</tr>\n",
       "<tr>\n",
       "  <th>condition</th>     <td>    0.0637</td> <td>    0.010</td> <td>    6.445</td> <td> 0.000</td> <td>    0.044</td> <td>    0.083</td>\n",
       "</tr>\n",
       "<tr>\n",
       "  <th>grade</th>         <td>    0.1497</td> <td>    0.010</td> <td>   14.546</td> <td> 0.000</td> <td>    0.129</td> <td>    0.170</td>\n",
       "</tr>\n",
       "<tr>\n",
       "  <th>sqft_above</th>    <td> 3.761e-05</td> <td> 1.26e-05</td> <td>    2.981</td> <td> 0.003</td> <td> 1.29e-05</td> <td> 6.24e-05</td>\n",
       "</tr>\n",
       "<tr>\n",
       "  <th>sqft_basement</th> <td> 5.274e-05</td> <td> 1.29e-05</td> <td>    4.078</td> <td> 0.000</td> <td> 2.74e-05</td> <td> 7.81e-05</td>\n",
       "</tr>\n",
       "<tr>\n",
       "  <th>yr_built</th>      <td>   -0.0040</td> <td>    0.000</td> <td>  -11.587</td> <td> 0.000</td> <td>   -0.005</td> <td>   -0.003</td>\n",
       "</tr>\n",
       "<tr>\n",
       "  <th>yr_renovated</th>  <td>-4.857e-15</td> <td> 2.24e-14</td> <td>   -0.217</td> <td> 0.828</td> <td>-4.88e-14</td> <td> 3.91e-14</td>\n",
       "</tr>\n",
       "<tr>\n",
       "  <th>zipcode</th>       <td>   -0.0005</td> <td>    0.000</td> <td>   -3.616</td> <td> 0.000</td> <td>   -0.001</td> <td>   -0.000</td>\n",
       "</tr>\n",
       "<tr>\n",
       "  <th>lat</th>           <td>    1.4700</td> <td>    0.048</td> <td>   30.705</td> <td> 0.000</td> <td>    1.376</td> <td>    1.564</td>\n",
       "</tr>\n",
       "<tr>\n",
       "  <th>long</th>          <td>    0.0159</td> <td>    0.067</td> <td>    0.236</td> <td> 0.813</td> <td>   -0.116</td> <td>    0.148</td>\n",
       "</tr>\n",
       "<tr>\n",
       "  <th>sqft_living15</th> <td>    0.0001</td> <td> 1.76e-05</td> <td>    6.681</td> <td> 0.000</td> <td> 8.31e-05</td> <td>    0.000</td>\n",
       "</tr>\n",
       "<tr>\n",
       "  <th>sqft_lot15</th>    <td>-2.227e-06</td> <td> 8.29e-07</td> <td>   -2.685</td> <td> 0.007</td> <td>-3.85e-06</td> <td>   -6e-07</td>\n",
       "</tr>\n",
       "</table>\n",
       "<table class=\"simpletable\">\n",
       "<tr>\n",
       "  <th>Omnibus:</th>       <td>24.835</td> <th>  Durbin-Watson:     </th> <td>   2.062</td>\n",
       "</tr>\n",
       "<tr>\n",
       "  <th>Prob(Omnibus):</th> <td> 0.000</td> <th>  Jarque-Bera (JB):  </th> <td>  42.625</td>\n",
       "</tr>\n",
       "<tr>\n",
       "  <th>Skew:</th>          <td>-0.067</td> <th>  Prob(JB):          </th> <td>5.55e-10</td>\n",
       "</tr>\n",
       "<tr>\n",
       "  <th>Kurtosis:</th>      <td> 3.763</td> <th>  Cond. No.          </th> <td>1.57e+27</td>\n",
       "</tr>\n",
       "</table><br/><br/>Notes:<br/>[1] Standard Errors assume that the covariance matrix of the errors is correctly specified.<br/>[2] The smallest eigenvalue is 2.12e-32. This might indicate that there are<br/>strong multicollinearity problems or that the design matrix is singular."
      ],
      "text/plain": [
       "<class 'statsmodels.iolib.summary.Summary'>\n",
       "\"\"\"\n",
       "                            OLS Regression Results                            \n",
       "==============================================================================\n",
       "Dep. Variable:                  price   R-squared:                       0.722\n",
       "Model:                            OLS   Adj. R-squared:                  0.719\n",
       "Method:                 Least Squares   F-statistic:                     273.2\n",
       "Date:                Mon, 06 Sep 2021   Prob (F-statistic):               0.00\n",
       "Time:                        21:26:41   Log-Likelihood:                -28.000\n",
       "No. Observations:                1704   AIC:                             90.00\n",
       "Df Residuals:                    1687   BIC:                             182.5\n",
       "Df Model:                          16                                         \n",
       "Covariance Type:            nonrobust                                         \n",
       "=================================================================================\n",
       "                    coef    std err          t      P>|t|      [0.025      0.975]\n",
       "---------------------------------------------------------------------------------\n",
       "const             2.5346     13.122      0.193      0.847     -23.203      28.272\n",
       "id            -1.914e-12   2.12e-12     -0.904      0.366   -6.07e-12    2.24e-12\n",
       "bedrooms         -0.0071      0.009     -0.781      0.435      -0.025       0.011\n",
       "bathrooms         0.0881      0.016      5.665      0.000       0.058       0.119\n",
       "sqft_living    9.034e-05   1.21e-05      7.477      0.000    6.66e-05       0.000\n",
       "sqft_lot       6.632e-07   7.07e-07      0.938      0.349   -7.24e-07    2.05e-06\n",
       "floors            0.0811      0.020      4.117      0.000       0.042       0.120\n",
       "waterfront    -2.598e-11   1.35e-10     -0.193      0.847    -2.9e-10    2.38e-10\n",
       "view              0.0809      0.016      5.103      0.000       0.050       0.112\n",
       "condition         0.0637      0.010      6.445      0.000       0.044       0.083\n",
       "grade             0.1497      0.010     14.546      0.000       0.129       0.170\n",
       "sqft_above     3.761e-05   1.26e-05      2.981      0.003    1.29e-05    6.24e-05\n",
       "sqft_basement  5.274e-05   1.29e-05      4.078      0.000    2.74e-05    7.81e-05\n",
       "yr_built         -0.0040      0.000    -11.587      0.000      -0.005      -0.003\n",
       "yr_renovated  -4.857e-15   2.24e-14     -0.217      0.828   -4.88e-14    3.91e-14\n",
       "zipcode          -0.0005      0.000     -3.616      0.000      -0.001      -0.000\n",
       "lat               1.4700      0.048     30.705      0.000       1.376       1.564\n",
       "long              0.0159      0.067      0.236      0.813      -0.116       0.148\n",
       "sqft_living15     0.0001   1.76e-05      6.681      0.000    8.31e-05       0.000\n",
       "sqft_lot15    -2.227e-06   8.29e-07     -2.685      0.007   -3.85e-06      -6e-07\n",
       "==============================================================================\n",
       "Omnibus:                       24.835   Durbin-Watson:                   2.062\n",
       "Prob(Omnibus):                  0.000   Jarque-Bera (JB):               42.625\n",
       "Skew:                          -0.067   Prob(JB):                     5.55e-10\n",
       "Kurtosis:                       3.763   Cond. No.                     1.57e+27\n",
       "==============================================================================\n",
       "\n",
       "Notes:\n",
       "[1] Standard Errors assume that the covariance matrix of the errors is correctly specified.\n",
       "[2] The smallest eigenvalue is 2.12e-32. This might indicate that there are\n",
       "strong multicollinearity problems or that the design matrix is singular.\n",
       "\"\"\""
      ]
     },
     "execution_count": 38,
     "metadata": {},
     "output_type": "execute_result"
    }
   ],
   "source": [
    "X = sm.add_constant(x1)\n",
    "model = sm.OLS(y1, X).fit()\n",
    "model.summary()"
   ]
  },
  {
   "cell_type": "code",
   "execution_count": 39,
   "metadata": {},
   "outputs": [
    {
     "data": {
      "text/plain": [
       "RandomForestRegressor(random_state=0)"
      ]
     },
     "execution_count": 39,
     "metadata": {},
     "output_type": "execute_result"
    }
   ],
   "source": [
    "  \n",
    " # create regressor object\n",
    "regressor = RandomForestRegressor(n_estimators = 100, random_state = 0)\n",
    "  \n",
    "# fit the regressor with x and y data\n",
    "regressor.fit(x_train1, y_train1) \n"
   ]
  },
  {
   "cell_type": "code",
   "execution_count": 40,
   "metadata": {},
   "outputs": [
    {
     "name": "stdout",
     "output_type": "stream",
     "text": [
      "R^2 score: 0.975017594470029\n",
      "R^2 score: 0.8268143770478584\n"
     ]
    }
   ],
   "source": [
    "print(f'R^2 score: {regressor.score(x_train1, y_train1)}')\n",
    "print(f'R^2 score: {regressor.score(x_test1, y_test1)}')\n"
   ]
  },
  {
   "cell_type": "code",
   "execution_count": 41,
   "metadata": {},
   "outputs": [
    {
     "data": {
      "text/plain": [
       "array([13.59104738, 12.68611418, 12.73468417, 13.26486509, 13.62840035,\n",
       "       13.14912703, 13.32425398, 12.50213435, 13.11805332, 12.69834465,\n",
       "       12.67841486, 12.94634654, 13.03125139, 13.383272  , 13.09358984,\n",
       "       12.88728788, 12.90694043, 13.41232207, 12.4106151 , 12.3740368 ,\n",
       "       13.33336417, 12.61807564, 13.05355161, 12.87029934, 12.72380875,\n",
       "       12.5528526 , 12.38516576, 13.65178979, 12.88642625, 12.6886977 ,\n",
       "       12.80056107, 12.37597965, 12.99358702, 12.75041144, 13.18389762,\n",
       "       12.72235143, 13.29746684, 13.36470645, 13.16067413, 13.98588038,\n",
       "       12.90553696, 13.2876773 , 13.29887715, 12.89476122, 11.93186766,\n",
       "       13.59759513, 12.46705433, 12.71044444, 13.18071816, 12.54967679,\n",
       "       12.94468171, 11.99295265, 12.6229187 , 12.57820856, 12.46090755,\n",
       "       12.88141424, 13.56239695, 12.85334229, 13.35539821, 13.27309047,\n",
       "       12.84794821, 12.46557206, 13.0740972 , 12.46072229, 13.31252203,\n",
       "       12.95221759, 13.53636502, 12.72680966, 12.43550471, 12.94466644,\n",
       "       12.82924378, 11.79451459, 12.44534833, 12.98913086, 12.53205741,\n",
       "       12.6623253 , 12.81878875, 12.71635165, 13.57972608, 12.7281156 ,\n",
       "       12.71108086, 13.35647907, 12.52358107, 13.28853846, 13.22429608,\n",
       "       12.9052222 , 12.51362427, 12.35072314, 13.7177113 , 13.01361015,\n",
       "       12.29112581, 12.58285699, 13.20124378, 13.27626107, 12.97713872,\n",
       "       12.21352027, 12.89596045, 12.50008197, 13.56449645, 12.76120359,\n",
       "       13.56676716, 12.66453338, 12.84065436, 13.26490742, 12.09329091,\n",
       "       13.22192481, 12.80211943, 12.15995761, 13.2281488 , 12.45971825,\n",
       "       12.7011844 , 12.8420202 , 13.38346336, 13.10406509, 12.61713713,\n",
       "       11.93186766, 12.26513972, 12.27179071, 12.62079041, 13.43041547,\n",
       "       12.12546014, 12.30559245, 13.87313603, 12.34668821, 12.3603406 ,\n",
       "       13.01531492, 13.09809134, 12.95678829, 13.29966925, 13.06794474,\n",
       "       12.25666538, 13.00707167, 13.05501068, 12.37624764, 12.69366305,\n",
       "       13.20468073, 12.97659087, 13.118824  , 13.34930715, 13.36546523,\n",
       "       13.15106668, 13.26435067, 13.08927688, 12.66223437, 13.63964583,\n",
       "       12.69607567, 12.83066574, 12.61047095, 12.67353883, 12.89690276,\n",
       "       12.40487584, 12.66326503, 12.95758865, 13.66469732, 13.77647381,\n",
       "       13.83100074, 13.4662361 , 13.04937872, 12.58510949, 13.21091607,\n",
       "       13.01110392, 12.06010279, 13.30144793, 12.29339136, 12.23736156,\n",
       "       12.43156624, 13.23432245, 12.73715909, 13.44296926, 13.02264543,\n",
       "       12.68071907, 12.30892525, 12.93016119, 13.22971188, 13.14088979,\n",
       "       13.09837485, 13.15608622, 12.67184943, 12.64075467, 13.26688645,\n",
       "       12.99611765, 12.64807347, 13.32859611, 14.00788982, 13.06735296,\n",
       "       13.45987239, 13.29151884, 13.33169857, 13.39211351, 13.36477633,\n",
       "       13.31471506, 12.17652965, 13.12450628, 12.8024156 , 12.63803445,\n",
       "       13.5224952 , 13.17353557, 12.74914644, 12.65288174, 13.52506378,\n",
       "       12.62232127, 12.61215351, 12.78395144, 12.74163229, 12.43077508,\n",
       "       13.14140867, 12.45066382, 12.34972738, 12.95219994, 13.41142109,\n",
       "       13.38267736, 12.90515059, 12.63905323, 13.30179187, 13.92640578,\n",
       "       12.82181642, 13.15094424, 12.97283674, 13.35254499, 13.39986565,\n",
       "       13.31585134, 13.14573452, 12.45107296, 13.31886502, 13.06968621,\n",
       "       13.17591833, 13.2454706 , 12.6694341 , 13.59225998, 13.67266569,\n",
       "       12.35401714, 12.42945555, 12.33618073, 12.37536205, 13.18590884,\n",
       "       12.9961479 , 13.60883534, 12.56131299, 13.24423059, 13.19736112,\n",
       "       12.57943192, 13.26609537, 12.31026465, 12.37633651, 13.21061301,\n",
       "       13.07283264, 12.5685114 , 13.10227856, 12.43384343, 12.88649832,\n",
       "       13.34747595, 12.82646764, 12.60968159, 13.692898  , 12.98592413,\n",
       "       12.57152063, 12.26545694, 13.15307743, 12.4775662 , 13.28119984,\n",
       "       13.29313935, 12.83857165, 13.57276387, 13.15646555, 13.38340901,\n",
       "       13.34333621, 12.28725974, 13.64628915, 12.73836672, 12.40773888,\n",
       "       12.95349713, 12.62699851, 13.5398021 , 12.8320831 , 13.04169071,\n",
       "       13.0368163 , 12.27332914, 12.82940394, 12.83486151, 13.62721902,\n",
       "       13.11673844, 12.76189897, 12.91013848, 13.03694319, 13.46449841,\n",
       "       13.95845393, 13.15937178, 12.5588829 , 13.14585194, 12.31310128,\n",
       "       13.04658617, 12.27057253, 12.69717762, 13.23418042, 13.57985291,\n",
       "       13.17969706, 13.85764585, 12.67802457, 13.30635825, 13.07884006,\n",
       "       12.46886969, 13.3320662 , 12.30667353, 13.553041  , 12.67297846,\n",
       "       13.67266569, 12.8604614 , 12.52813701, 13.44225111, 12.72132723,\n",
       "       12.80019235, 12.87657969, 13.31038978, 12.98084985, 12.42916887,\n",
       "       12.4729083 , 12.70739334, 13.13753734, 12.67692572, 13.07400618,\n",
       "       12.97871761, 13.25756332, 13.73251501, 12.35761704, 12.7273584 ,\n",
       "       13.11758634, 12.95846311, 12.75200419, 13.08523977, 12.65469389,\n",
       "       13.63892099, 13.32434356, 12.77305736, 12.48129301, 13.30002035,\n",
       "       12.77802609, 12.82722767, 13.36660042, 13.3047089 , 13.03407922,\n",
       "       13.032707  , 12.73326399, 13.06585969, 13.36708723, 12.69303835,\n",
       "       13.73704253, 12.69458889, 12.91142189, 13.28720449, 12.90664462,\n",
       "       12.87959204, 12.95677492, 12.89612416, 12.87696886, 13.04310508,\n",
       "       13.56729896, 13.52295359, 13.82407746, 13.29843997, 12.39596223,\n",
       "       12.48192869, 13.11565561, 13.07785035, 12.50714506, 13.38125517,\n",
       "       13.46570875, 13.3329937 , 12.97940868, 12.89778199, 13.27966013,\n",
       "       12.35072314, 13.6028782 , 14.0212812 , 12.56396204, 12.74480073,\n",
       "       12.43899176, 12.37348051, 12.28902936, 12.33284798, 13.11227375,\n",
       "       12.66075951, 12.72068831, 13.41643978, 13.10696334, 12.8345702 ,\n",
       "       13.16760157, 13.24697193, 12.81997078, 13.34018806, 13.5007105 ,\n",
       "       12.86044282, 13.02685669, 13.27863358, 13.56897147, 12.0640363 ,\n",
       "       12.3915721 , 12.91694791, 12.86721907, 12.9853528 , 12.62511405,\n",
       "       13.57732486, 12.9006228 , 12.52413885, 12.91578614, 12.87784088,\n",
       "       13.19181064, 12.68457145, 12.61579583, 12.7008031 , 13.1812171 ,\n",
       "       13.21605705, 13.1252162 , 13.40066155, 12.1627898 , 13.59162006,\n",
       "       12.78226946, 13.21799886, 12.28585702, 12.94827835, 12.71003486,\n",
       "       13.14174052, 12.55060622, 12.68915072, 12.1862103 , 13.07101427,\n",
       "       13.18944982, 12.62870646, 13.39866654, 13.12558547, 13.54316472,\n",
       "       12.74246029, 13.34322087, 12.8464313 , 13.94321654, 13.13486802,\n",
       "       12.06822493, 13.42912547, 13.0049435 , 12.35922992, 13.46746731,\n",
       "       12.63132252, 13.00649222, 13.06887285, 13.36994475, 12.52923334,\n",
       "       12.95532128, 12.3387166 , 12.74356053, 12.69174404, 13.00649836,\n",
       "       12.73003483, 12.89743352, 13.24463099, 13.14595773, 13.06533537,\n",
       "       13.23025357, 12.30573799, 12.83946916, 12.68000687, 13.00972518,\n",
       "       12.36786212, 13.70517096, 12.54065878, 12.98785561, 12.90982267,\n",
       "       13.51330815, 12.83412095, 13.16783773, 12.6189881 , 13.28790047,\n",
       "       13.02868598, 12.65934418, 12.96554396, 11.98887263, 12.71823389,\n",
       "       12.53035608, 12.42770253, 13.72221903, 12.94339559, 13.10670067,\n",
       "       13.25671295, 13.24060212, 12.54008711, 12.20495352, 13.34648038,\n",
       "       13.09716516, 12.93102462, 13.28684395, 13.25519284, 13.29486684,\n",
       "       12.95124335, 12.68442917, 13.24198484, 12.65154638, 12.56360451,\n",
       "       13.43497092, 12.88462118, 13.2548409 , 12.97697588, 12.77976273,\n",
       "       12.56078912, 13.10191564, 13.30096914, 12.62991218, 13.10100228,\n",
       "       13.29330671, 13.12149163, 12.26386848, 12.77155842, 12.93342251,\n",
       "       12.44375598, 13.52873428])"
      ]
     },
     "execution_count": 41,
     "metadata": {},
     "output_type": "execute_result"
    }
   ],
   "source": [
    "y_pred1=regressor.predict(x_test1)\n",
    "y_pred1"
   ]
  },
  {
   "cell_type": "code",
   "execution_count": 42,
   "metadata": {},
   "outputs": [
    {
     "data": {
      "text/plain": [
       "0.28677136470988307"
      ]
     },
     "execution_count": 42,
     "metadata": {},
     "output_type": "execute_result"
    }
   ],
   "source": [
    "sqrt(mean_squared_error(y_test, y_pred))"
   ]
  },
  {
   "cell_type": "code",
   "execution_count": 43,
   "metadata": {},
   "outputs": [
    {
     "data": {
      "text/plain": [
       "0.18307918047356547"
      ]
     },
     "execution_count": 43,
     "metadata": {},
     "output_type": "execute_result"
    }
   ],
   "source": [
    "sqrt(mean_squared_error(y_test1, y_pred1))"
   ]
  },
  {
   "cell_type": "code",
   "execution_count": 44,
   "metadata": {},
   "outputs": [
    {
     "data": {
      "text/plain": [
       "0.2116988356768064"
      ]
     },
     "execution_count": 44,
     "metadata": {},
     "output_type": "execute_result"
    }
   ],
   "source": [
    "sqrt(mean_squared_error(y_test, y_pred2))"
   ]
  },
  {
   "cell_type": "code",
   "execution_count": 47,
   "metadata": {},
   "outputs": [],
   "source": [
    "# Lower RMSE acheived is 0.18307"
   ]
  },
  {
   "cell_type": "code",
   "execution_count": null,
   "metadata": {},
   "outputs": [],
   "source": []
  },
  {
   "cell_type": "code",
   "execution_count": null,
   "metadata": {},
   "outputs": [],
   "source": []
  },
  {
   "cell_type": "code",
   "execution_count": null,
   "metadata": {},
   "outputs": [],
   "source": []
  }
 ],
 "metadata": {
  "kernelspec": {
   "display_name": "Python 3",
   "language": "python",
   "name": "python3"
  },
  "language_info": {
   "codemirror_mode": {
    "name": "ipython",
    "version": 3
   },
   "file_extension": ".py",
   "mimetype": "text/x-python",
   "name": "python",
   "nbconvert_exporter": "python",
   "pygments_lexer": "ipython3",
   "version": "3.8.5"
  }
 },
 "nbformat": 4,
 "nbformat_minor": 4
}
