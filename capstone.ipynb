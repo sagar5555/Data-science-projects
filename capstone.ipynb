{
 "cells": [
  {
   "cell_type": "code",
   "execution_count": 45,
   "metadata": {},
   "outputs": [],
   "source": [
    "import pandas as pd\n",
    "import numpy as np\n",
    "import matplotlib\n",
    "import matplotlib.pyplot as plt\n",
    "import seaborn as sns\n",
    "import statsmodels.api as sm\n",
    "import scipy.stats as st\n",
    "from sklearn import preprocessing \n",
    "import statsmodels.api as sm\n",
    "%matplotlib inline\n",
    "from sklearn.model_selection import train_test_split\n",
    "from sklearn.linear_model import LinearRegression,LogisticRegression\n",
    "from sklearn.feature_selection import RFE\n",
    "from sklearn.linear_model import RidgeCV, LassoCV, Ridge, Lasso\n",
    "from sklearn.model_selection import train_test_split\n",
    "from sklearn.metrics import accuracy_score as acc\n",
    "from sklearn.ensemble import RandomForestClassifier\n",
    "from sklearn.metrics import roc_auc_score, roc_curve, confusion_matrix\n",
    "from sklearn.model_selection import cross_val_score,KFold\n",
    "from sklearn.tree import DecisionTreeClassifier\n",
    "from sklearn.ensemble import RandomForestClassifier\n",
    "from sklearn.neighbors import KNeighborsClassifier\n",
    "from sklearn import model_selection\n",
    "from sklearn.model_selection import GridSearchCV\n",
    "import warnings\n",
    "warnings.filterwarnings('ignore')"
   ]
  },
  {
   "cell_type": "code",
   "execution_count": 3,
   "metadata": {},
   "outputs": [],
   "source": [
    "cap= pd.read_csv('a.csv')"
   ]
  },
  {
   "cell_type": "code",
   "execution_count": 55,
   "metadata": {
    "scrolled": true
   },
   "outputs": [
    {
     "data": {
      "text/html": [
       "<div>\n",
       "<style scoped>\n",
       "    .dataframe tbody tr th:only-of-type {\n",
       "        vertical-align: middle;\n",
       "    }\n",
       "\n",
       "    .dataframe tbody tr th {\n",
       "        vertical-align: top;\n",
       "    }\n",
       "\n",
       "    .dataframe thead th {\n",
       "        text-align: right;\n",
       "    }\n",
       "</style>\n",
       "<table border=\"1\" class=\"dataframe\">\n",
       "  <thead>\n",
       "    <tr style=\"text-align: right;\">\n",
       "      <th></th>\n",
       "      <th>Administrative</th>\n",
       "      <th>Administrative_Duration</th>\n",
       "      <th>Informational</th>\n",
       "      <th>Informational_Duration</th>\n",
       "      <th>ProductRelated</th>\n",
       "      <th>ProductRelated_Duration</th>\n",
       "      <th>BounceRates</th>\n",
       "      <th>ExitRates</th>\n",
       "      <th>PageValues</th>\n",
       "      <th>SpecialDay</th>\n",
       "      <th>Month</th>\n",
       "      <th>OperatingSystems</th>\n",
       "      <th>Browser</th>\n",
       "      <th>Region</th>\n",
       "      <th>TrafficType</th>\n",
       "      <th>VisitorType</th>\n",
       "      <th>Weekend</th>\n",
       "      <th>Revenue</th>\n",
       "    </tr>\n",
       "  </thead>\n",
       "  <tbody>\n",
       "    <tr>\n",
       "      <td>0</td>\n",
       "      <td>0</td>\n",
       "      <td>0.0</td>\n",
       "      <td>0</td>\n",
       "      <td>0.0</td>\n",
       "      <td>1</td>\n",
       "      <td>0.000000</td>\n",
       "      <td>0.200000</td>\n",
       "      <td>0.200000</td>\n",
       "      <td>0.000000</td>\n",
       "      <td>0.0</td>\n",
       "      <td>Feb</td>\n",
       "      <td>1</td>\n",
       "      <td>1</td>\n",
       "      <td>1</td>\n",
       "      <td>1</td>\n",
       "      <td>Returning_Visitor</td>\n",
       "      <td>False</td>\n",
       "      <td>False</td>\n",
       "    </tr>\n",
       "    <tr>\n",
       "      <td>1</td>\n",
       "      <td>0</td>\n",
       "      <td>0.0</td>\n",
       "      <td>0</td>\n",
       "      <td>0.0</td>\n",
       "      <td>2</td>\n",
       "      <td>64.000000</td>\n",
       "      <td>0.000000</td>\n",
       "      <td>0.100000</td>\n",
       "      <td>0.000000</td>\n",
       "      <td>0.0</td>\n",
       "      <td>Feb</td>\n",
       "      <td>2</td>\n",
       "      <td>2</td>\n",
       "      <td>1</td>\n",
       "      <td>2</td>\n",
       "      <td>Returning_Visitor</td>\n",
       "      <td>False</td>\n",
       "      <td>False</td>\n",
       "    </tr>\n",
       "    <tr>\n",
       "      <td>2</td>\n",
       "      <td>0</td>\n",
       "      <td>0.0</td>\n",
       "      <td>0</td>\n",
       "      <td>0.0</td>\n",
       "      <td>1</td>\n",
       "      <td>0.000000</td>\n",
       "      <td>0.200000</td>\n",
       "      <td>0.200000</td>\n",
       "      <td>0.000000</td>\n",
       "      <td>0.0</td>\n",
       "      <td>Feb</td>\n",
       "      <td>4</td>\n",
       "      <td>1</td>\n",
       "      <td>9</td>\n",
       "      <td>3</td>\n",
       "      <td>Returning_Visitor</td>\n",
       "      <td>False</td>\n",
       "      <td>False</td>\n",
       "    </tr>\n",
       "    <tr>\n",
       "      <td>3</td>\n",
       "      <td>0</td>\n",
       "      <td>0.0</td>\n",
       "      <td>0</td>\n",
       "      <td>0.0</td>\n",
       "      <td>2</td>\n",
       "      <td>2.666667</td>\n",
       "      <td>0.050000</td>\n",
       "      <td>0.140000</td>\n",
       "      <td>0.000000</td>\n",
       "      <td>0.0</td>\n",
       "      <td>Feb</td>\n",
       "      <td>3</td>\n",
       "      <td>2</td>\n",
       "      <td>2</td>\n",
       "      <td>4</td>\n",
       "      <td>Returning_Visitor</td>\n",
       "      <td>False</td>\n",
       "      <td>False</td>\n",
       "    </tr>\n",
       "    <tr>\n",
       "      <td>4</td>\n",
       "      <td>0</td>\n",
       "      <td>0.0</td>\n",
       "      <td>0</td>\n",
       "      <td>0.0</td>\n",
       "      <td>10</td>\n",
       "      <td>627.500000</td>\n",
       "      <td>0.020000</td>\n",
       "      <td>0.050000</td>\n",
       "      <td>0.000000</td>\n",
       "      <td>0.0</td>\n",
       "      <td>Feb</td>\n",
       "      <td>3</td>\n",
       "      <td>3</td>\n",
       "      <td>1</td>\n",
       "      <td>4</td>\n",
       "      <td>Returning_Visitor</td>\n",
       "      <td>True</td>\n",
       "      <td>False</td>\n",
       "    </tr>\n",
       "    <tr>\n",
       "      <td>...</td>\n",
       "      <td>...</td>\n",
       "      <td>...</td>\n",
       "      <td>...</td>\n",
       "      <td>...</td>\n",
       "      <td>...</td>\n",
       "      <td>...</td>\n",
       "      <td>...</td>\n",
       "      <td>...</td>\n",
       "      <td>...</td>\n",
       "      <td>...</td>\n",
       "      <td>...</td>\n",
       "      <td>...</td>\n",
       "      <td>...</td>\n",
       "      <td>...</td>\n",
       "      <td>...</td>\n",
       "      <td>...</td>\n",
       "      <td>...</td>\n",
       "      <td>...</td>\n",
       "    </tr>\n",
       "    <tr>\n",
       "      <td>12325</td>\n",
       "      <td>3</td>\n",
       "      <td>145.0</td>\n",
       "      <td>0</td>\n",
       "      <td>0.0</td>\n",
       "      <td>53</td>\n",
       "      <td>1783.791667</td>\n",
       "      <td>0.007143</td>\n",
       "      <td>0.029031</td>\n",
       "      <td>12.241717</td>\n",
       "      <td>0.0</td>\n",
       "      <td>Dec</td>\n",
       "      <td>4</td>\n",
       "      <td>6</td>\n",
       "      <td>1</td>\n",
       "      <td>1</td>\n",
       "      <td>Returning_Visitor</td>\n",
       "      <td>True</td>\n",
       "      <td>False</td>\n",
       "    </tr>\n",
       "    <tr>\n",
       "      <td>12326</td>\n",
       "      <td>0</td>\n",
       "      <td>0.0</td>\n",
       "      <td>0</td>\n",
       "      <td>0.0</td>\n",
       "      <td>5</td>\n",
       "      <td>465.750000</td>\n",
       "      <td>0.000000</td>\n",
       "      <td>0.021333</td>\n",
       "      <td>0.000000</td>\n",
       "      <td>0.0</td>\n",
       "      <td>Nov</td>\n",
       "      <td>3</td>\n",
       "      <td>2</td>\n",
       "      <td>1</td>\n",
       "      <td>8</td>\n",
       "      <td>Returning_Visitor</td>\n",
       "      <td>True</td>\n",
       "      <td>False</td>\n",
       "    </tr>\n",
       "    <tr>\n",
       "      <td>12327</td>\n",
       "      <td>0</td>\n",
       "      <td>0.0</td>\n",
       "      <td>0</td>\n",
       "      <td>0.0</td>\n",
       "      <td>6</td>\n",
       "      <td>184.250000</td>\n",
       "      <td>0.083333</td>\n",
       "      <td>0.086667</td>\n",
       "      <td>0.000000</td>\n",
       "      <td>0.0</td>\n",
       "      <td>Nov</td>\n",
       "      <td>3</td>\n",
       "      <td>2</td>\n",
       "      <td>1</td>\n",
       "      <td>13</td>\n",
       "      <td>Returning_Visitor</td>\n",
       "      <td>True</td>\n",
       "      <td>False</td>\n",
       "    </tr>\n",
       "    <tr>\n",
       "      <td>12328</td>\n",
       "      <td>4</td>\n",
       "      <td>75.0</td>\n",
       "      <td>0</td>\n",
       "      <td>0.0</td>\n",
       "      <td>15</td>\n",
       "      <td>346.000000</td>\n",
       "      <td>0.000000</td>\n",
       "      <td>0.021053</td>\n",
       "      <td>0.000000</td>\n",
       "      <td>0.0</td>\n",
       "      <td>Nov</td>\n",
       "      <td>2</td>\n",
       "      <td>2</td>\n",
       "      <td>3</td>\n",
       "      <td>11</td>\n",
       "      <td>Returning_Visitor</td>\n",
       "      <td>False</td>\n",
       "      <td>False</td>\n",
       "    </tr>\n",
       "    <tr>\n",
       "      <td>12329</td>\n",
       "      <td>0</td>\n",
       "      <td>0.0</td>\n",
       "      <td>0</td>\n",
       "      <td>0.0</td>\n",
       "      <td>3</td>\n",
       "      <td>21.250000</td>\n",
       "      <td>0.000000</td>\n",
       "      <td>0.066667</td>\n",
       "      <td>0.000000</td>\n",
       "      <td>0.0</td>\n",
       "      <td>Nov</td>\n",
       "      <td>3</td>\n",
       "      <td>2</td>\n",
       "      <td>1</td>\n",
       "      <td>2</td>\n",
       "      <td>New_Visitor</td>\n",
       "      <td>True</td>\n",
       "      <td>False</td>\n",
       "    </tr>\n",
       "  </tbody>\n",
       "</table>\n",
       "<p>12330 rows × 18 columns</p>\n",
       "</div>"
      ],
      "text/plain": [
       "       Administrative  Administrative_Duration  Informational  \\\n",
       "0                   0                      0.0              0   \n",
       "1                   0                      0.0              0   \n",
       "2                   0                      0.0              0   \n",
       "3                   0                      0.0              0   \n",
       "4                   0                      0.0              0   \n",
       "...               ...                      ...            ...   \n",
       "12325               3                    145.0              0   \n",
       "12326               0                      0.0              0   \n",
       "12327               0                      0.0              0   \n",
       "12328               4                     75.0              0   \n",
       "12329               0                      0.0              0   \n",
       "\n",
       "       Informational_Duration  ProductRelated  ProductRelated_Duration  \\\n",
       "0                         0.0               1                 0.000000   \n",
       "1                         0.0               2                64.000000   \n",
       "2                         0.0               1                 0.000000   \n",
       "3                         0.0               2                 2.666667   \n",
       "4                         0.0              10               627.500000   \n",
       "...                       ...             ...                      ...   \n",
       "12325                     0.0              53              1783.791667   \n",
       "12326                     0.0               5               465.750000   \n",
       "12327                     0.0               6               184.250000   \n",
       "12328                     0.0              15               346.000000   \n",
       "12329                     0.0               3                21.250000   \n",
       "\n",
       "       BounceRates  ExitRates  PageValues  SpecialDay Month  OperatingSystems  \\\n",
       "0         0.200000   0.200000    0.000000         0.0   Feb                 1   \n",
       "1         0.000000   0.100000    0.000000         0.0   Feb                 2   \n",
       "2         0.200000   0.200000    0.000000         0.0   Feb                 4   \n",
       "3         0.050000   0.140000    0.000000         0.0   Feb                 3   \n",
       "4         0.020000   0.050000    0.000000         0.0   Feb                 3   \n",
       "...            ...        ...         ...         ...   ...               ...   \n",
       "12325     0.007143   0.029031   12.241717         0.0   Dec                 4   \n",
       "12326     0.000000   0.021333    0.000000         0.0   Nov                 3   \n",
       "12327     0.083333   0.086667    0.000000         0.0   Nov                 3   \n",
       "12328     0.000000   0.021053    0.000000         0.0   Nov                 2   \n",
       "12329     0.000000   0.066667    0.000000         0.0   Nov                 3   \n",
       "\n",
       "       Browser  Region  TrafficType        VisitorType  Weekend  Revenue  \n",
       "0            1       1            1  Returning_Visitor    False    False  \n",
       "1            2       1            2  Returning_Visitor    False    False  \n",
       "2            1       9            3  Returning_Visitor    False    False  \n",
       "3            2       2            4  Returning_Visitor    False    False  \n",
       "4            3       1            4  Returning_Visitor     True    False  \n",
       "...        ...     ...          ...                ...      ...      ...  \n",
       "12325        6       1            1  Returning_Visitor     True    False  \n",
       "12326        2       1            8  Returning_Visitor     True    False  \n",
       "12327        2       1           13  Returning_Visitor     True    False  \n",
       "12328        2       3           11  Returning_Visitor    False    False  \n",
       "12329        2       1            2        New_Visitor     True    False  \n",
       "\n",
       "[12330 rows x 18 columns]"
      ]
     },
     "execution_count": 55,
     "metadata": {},
     "output_type": "execute_result"
    }
   ],
   "source": [
    "cap"
   ]
  },
  {
   "cell_type": "markdown",
   "metadata": {},
   "source": [
    "The given data represents web traaffic analysis with detals of  Revenue is generated from a website and it's different pages from 12330 users and the goal is to determine whether a particular user would likely generate revenue or not.  "
   ]
  },
  {
   "cell_type": "code",
   "execution_count": null,
   "metadata": {},
   "outputs": [],
   "source": [
    "cap.info()"
   ]
  },
  {
   "cell_type": "code",
   "execution_count": 6,
   "metadata": {},
   "outputs": [
    {
     "data": {
      "text/plain": [
       "(12330, 18)"
      ]
     },
     "execution_count": 6,
     "metadata": {},
     "output_type": "execute_result"
    }
   ],
   "source": [
    "cap.shape"
   ]
  },
  {
   "cell_type": "code",
   "execution_count": 7,
   "metadata": {},
   "outputs": [
    {
     "data": {
      "text/plain": [
       "Index(['Administrative', 'Administrative_Duration', 'Informational',\n",
       "       'Informational_Duration', 'ProductRelated', 'ProductRelated_Duration',\n",
       "       'BounceRates', 'ExitRates', 'PageValues', 'SpecialDay', 'Month',\n",
       "       'OperatingSystems', 'Browser', 'Region', 'TrafficType', 'VisitorType',\n",
       "       'Weekend', 'Revenue'],\n",
       "      dtype='object')"
      ]
     },
     "execution_count": 7,
     "metadata": {},
     "output_type": "execute_result"
    }
   ],
   "source": [
    "cap.columns"
   ]
  },
  {
   "cell_type": "code",
   "execution_count": 8,
   "metadata": {},
   "outputs": [
    {
     "data": {
      "text/plain": [
       "False    10422\n",
       "True      1908\n",
       "Name: Revenue, dtype: int64"
      ]
     },
     "execution_count": 8,
     "metadata": {},
     "output_type": "execute_result"
    }
   ],
   "source": [
    "cap.Revenue.value_counts()"
   ]
  },
  {
   "cell_type": "code",
   "execution_count": 9,
   "metadata": {},
   "outputs": [
    {
     "data": {
      "text/plain": [
       "Returning_Visitor    10551\n",
       "New_Visitor           1694\n",
       "Other                   85\n",
       "Name: VisitorType, dtype: int64"
      ]
     },
     "execution_count": 9,
     "metadata": {},
     "output_type": "execute_result"
    }
   ],
   "source": [
    "cap.VisitorType.value_counts()"
   ]
  },
  {
   "cell_type": "code",
   "execution_count": 10,
   "metadata": {},
   "outputs": [
    {
     "data": {
      "text/html": [
       "<div>\n",
       "<style scoped>\n",
       "    .dataframe tbody tr th:only-of-type {\n",
       "        vertical-align: middle;\n",
       "    }\n",
       "\n",
       "    .dataframe tbody tr th {\n",
       "        vertical-align: top;\n",
       "    }\n",
       "\n",
       "    .dataframe thead th {\n",
       "        text-align: right;\n",
       "    }\n",
       "</style>\n",
       "<table border=\"1\" class=\"dataframe\">\n",
       "  <thead>\n",
       "    <tr style=\"text-align: right;\">\n",
       "      <th></th>\n",
       "      <th>Administrative</th>\n",
       "      <th>Administrative_Duration</th>\n",
       "      <th>Informational</th>\n",
       "      <th>Informational_Duration</th>\n",
       "      <th>ProductRelated</th>\n",
       "      <th>ProductRelated_Duration</th>\n",
       "      <th>BounceRates</th>\n",
       "      <th>ExitRates</th>\n",
       "      <th>PageValues</th>\n",
       "      <th>SpecialDay</th>\n",
       "      <th>OperatingSystems</th>\n",
       "      <th>Browser</th>\n",
       "      <th>Region</th>\n",
       "      <th>TrafficType</th>\n",
       "    </tr>\n",
       "  </thead>\n",
       "  <tbody>\n",
       "    <tr>\n",
       "      <td>count</td>\n",
       "      <td>12330.000000</td>\n",
       "      <td>12330.000000</td>\n",
       "      <td>12330.000000</td>\n",
       "      <td>12330.000000</td>\n",
       "      <td>12330.000000</td>\n",
       "      <td>12330.000000</td>\n",
       "      <td>12330.000000</td>\n",
       "      <td>12330.000000</td>\n",
       "      <td>12330.000000</td>\n",
       "      <td>12330.000000</td>\n",
       "      <td>12330.000000</td>\n",
       "      <td>12330.000000</td>\n",
       "      <td>12330.000000</td>\n",
       "      <td>12330.000000</td>\n",
       "    </tr>\n",
       "    <tr>\n",
       "      <td>mean</td>\n",
       "      <td>2.315166</td>\n",
       "      <td>80.818611</td>\n",
       "      <td>0.503569</td>\n",
       "      <td>34.472398</td>\n",
       "      <td>31.731468</td>\n",
       "      <td>1194.746220</td>\n",
       "      <td>0.022191</td>\n",
       "      <td>0.043073</td>\n",
       "      <td>5.889258</td>\n",
       "      <td>0.061427</td>\n",
       "      <td>2.124006</td>\n",
       "      <td>2.357097</td>\n",
       "      <td>3.147364</td>\n",
       "      <td>4.069586</td>\n",
       "    </tr>\n",
       "    <tr>\n",
       "      <td>std</td>\n",
       "      <td>3.321784</td>\n",
       "      <td>176.779107</td>\n",
       "      <td>1.270156</td>\n",
       "      <td>140.749294</td>\n",
       "      <td>44.475503</td>\n",
       "      <td>1913.669288</td>\n",
       "      <td>0.048488</td>\n",
       "      <td>0.048597</td>\n",
       "      <td>18.568437</td>\n",
       "      <td>0.198917</td>\n",
       "      <td>0.911325</td>\n",
       "      <td>1.717277</td>\n",
       "      <td>2.401591</td>\n",
       "      <td>4.025169</td>\n",
       "    </tr>\n",
       "    <tr>\n",
       "      <td>min</td>\n",
       "      <td>0.000000</td>\n",
       "      <td>0.000000</td>\n",
       "      <td>0.000000</td>\n",
       "      <td>0.000000</td>\n",
       "      <td>0.000000</td>\n",
       "      <td>0.000000</td>\n",
       "      <td>0.000000</td>\n",
       "      <td>0.000000</td>\n",
       "      <td>0.000000</td>\n",
       "      <td>0.000000</td>\n",
       "      <td>1.000000</td>\n",
       "      <td>1.000000</td>\n",
       "      <td>1.000000</td>\n",
       "      <td>1.000000</td>\n",
       "    </tr>\n",
       "    <tr>\n",
       "      <td>25%</td>\n",
       "      <td>0.000000</td>\n",
       "      <td>0.000000</td>\n",
       "      <td>0.000000</td>\n",
       "      <td>0.000000</td>\n",
       "      <td>7.000000</td>\n",
       "      <td>184.137500</td>\n",
       "      <td>0.000000</td>\n",
       "      <td>0.014286</td>\n",
       "      <td>0.000000</td>\n",
       "      <td>0.000000</td>\n",
       "      <td>2.000000</td>\n",
       "      <td>2.000000</td>\n",
       "      <td>1.000000</td>\n",
       "      <td>2.000000</td>\n",
       "    </tr>\n",
       "    <tr>\n",
       "      <td>50%</td>\n",
       "      <td>1.000000</td>\n",
       "      <td>7.500000</td>\n",
       "      <td>0.000000</td>\n",
       "      <td>0.000000</td>\n",
       "      <td>18.000000</td>\n",
       "      <td>598.936905</td>\n",
       "      <td>0.003112</td>\n",
       "      <td>0.025156</td>\n",
       "      <td>0.000000</td>\n",
       "      <td>0.000000</td>\n",
       "      <td>2.000000</td>\n",
       "      <td>2.000000</td>\n",
       "      <td>3.000000</td>\n",
       "      <td>2.000000</td>\n",
       "    </tr>\n",
       "    <tr>\n",
       "      <td>75%</td>\n",
       "      <td>4.000000</td>\n",
       "      <td>93.256250</td>\n",
       "      <td>0.000000</td>\n",
       "      <td>0.000000</td>\n",
       "      <td>38.000000</td>\n",
       "      <td>1464.157213</td>\n",
       "      <td>0.016813</td>\n",
       "      <td>0.050000</td>\n",
       "      <td>0.000000</td>\n",
       "      <td>0.000000</td>\n",
       "      <td>3.000000</td>\n",
       "      <td>2.000000</td>\n",
       "      <td>4.000000</td>\n",
       "      <td>4.000000</td>\n",
       "    </tr>\n",
       "    <tr>\n",
       "      <td>max</td>\n",
       "      <td>27.000000</td>\n",
       "      <td>3398.750000</td>\n",
       "      <td>24.000000</td>\n",
       "      <td>2549.375000</td>\n",
       "      <td>705.000000</td>\n",
       "      <td>63973.522230</td>\n",
       "      <td>0.200000</td>\n",
       "      <td>0.200000</td>\n",
       "      <td>361.763742</td>\n",
       "      <td>1.000000</td>\n",
       "      <td>8.000000</td>\n",
       "      <td>13.000000</td>\n",
       "      <td>9.000000</td>\n",
       "      <td>20.000000</td>\n",
       "    </tr>\n",
       "  </tbody>\n",
       "</table>\n",
       "</div>"
      ],
      "text/plain": [
       "       Administrative  Administrative_Duration  Informational  \\\n",
       "count    12330.000000             12330.000000   12330.000000   \n",
       "mean         2.315166                80.818611       0.503569   \n",
       "std          3.321784               176.779107       1.270156   \n",
       "min          0.000000                 0.000000       0.000000   \n",
       "25%          0.000000                 0.000000       0.000000   \n",
       "50%          1.000000                 7.500000       0.000000   \n",
       "75%          4.000000                93.256250       0.000000   \n",
       "max         27.000000              3398.750000      24.000000   \n",
       "\n",
       "       Informational_Duration  ProductRelated  ProductRelated_Duration  \\\n",
       "count            12330.000000    12330.000000             12330.000000   \n",
       "mean                34.472398       31.731468              1194.746220   \n",
       "std                140.749294       44.475503              1913.669288   \n",
       "min                  0.000000        0.000000                 0.000000   \n",
       "25%                  0.000000        7.000000               184.137500   \n",
       "50%                  0.000000       18.000000               598.936905   \n",
       "75%                  0.000000       38.000000              1464.157213   \n",
       "max               2549.375000      705.000000             63973.522230   \n",
       "\n",
       "        BounceRates     ExitRates    PageValues    SpecialDay  \\\n",
       "count  12330.000000  12330.000000  12330.000000  12330.000000   \n",
       "mean       0.022191      0.043073      5.889258      0.061427   \n",
       "std        0.048488      0.048597     18.568437      0.198917   \n",
       "min        0.000000      0.000000      0.000000      0.000000   \n",
       "25%        0.000000      0.014286      0.000000      0.000000   \n",
       "50%        0.003112      0.025156      0.000000      0.000000   \n",
       "75%        0.016813      0.050000      0.000000      0.000000   \n",
       "max        0.200000      0.200000    361.763742      1.000000   \n",
       "\n",
       "       OperatingSystems       Browser        Region   TrafficType  \n",
       "count      12330.000000  12330.000000  12330.000000  12330.000000  \n",
       "mean           2.124006      2.357097      3.147364      4.069586  \n",
       "std            0.911325      1.717277      2.401591      4.025169  \n",
       "min            1.000000      1.000000      1.000000      1.000000  \n",
       "25%            2.000000      2.000000      1.000000      2.000000  \n",
       "50%            2.000000      2.000000      3.000000      2.000000  \n",
       "75%            3.000000      2.000000      4.000000      4.000000  \n",
       "max            8.000000     13.000000      9.000000     20.000000  "
      ]
     },
     "execution_count": 10,
     "metadata": {},
     "output_type": "execute_result"
    }
   ],
   "source": [
    "a=cap.describe()\n",
    "a"
   ]
  },
  {
   "cell_type": "code",
   "execution_count": 11,
   "metadata": {},
   "outputs": [
    {
     "data": {
      "text/plain": [
       "Administrative               1.000000\n",
       "Administrative_Duration      7.500000\n",
       "Informational                0.000000\n",
       "Informational_Duration       0.000000\n",
       "ProductRelated              18.000000\n",
       "ProductRelated_Duration    598.936905\n",
       "BounceRates                  0.003112\n",
       "ExitRates                    0.025156\n",
       "PageValues                   0.000000\n",
       "SpecialDay                   0.000000\n",
       "OperatingSystems             2.000000\n",
       "Browser                      2.000000\n",
       "Region                       3.000000\n",
       "TrafficType                  2.000000\n",
       "Weekend                      0.000000\n",
       "Revenue                      0.000000\n",
       "dtype: float64"
      ]
     },
     "execution_count": 11,
     "metadata": {},
     "output_type": "execute_result"
    }
   ],
   "source": [
    "med=cap.median()\n",
    "med"
   ]
  },
  {
   "cell_type": "code",
   "execution_count": 12,
   "metadata": {},
   "outputs": [
    {
     "data": {
      "text/plain": [
       "Administrative             0\n",
       "Administrative_Duration    0\n",
       "Informational              0\n",
       "Informational_Duration     0\n",
       "ProductRelated             0\n",
       "ProductRelated_Duration    0\n",
       "BounceRates                0\n",
       "ExitRates                  0\n",
       "PageValues                 0\n",
       "SpecialDay                 0\n",
       "Month                      0\n",
       "OperatingSystems           0\n",
       "Browser                    0\n",
       "Region                     0\n",
       "TrafficType                0\n",
       "VisitorType                0\n",
       "Weekend                    0\n",
       "Revenue                    0\n",
       "dtype: int64"
      ]
     },
     "execution_count": 12,
     "metadata": {},
     "output_type": "execute_result"
    }
   ],
   "source": [
    "cap.isnull().sum()"
   ]
  },
  {
   "cell_type": "code",
   "execution_count": 13,
   "metadata": {},
   "outputs": [
    {
     "data": {
      "image/png": "[encoded data removed]",
      "text/plain": [
       "<Figure size 432x288 with 1 Axes>"
      ]
     },
     "metadata": {
      "needs_background": "light"
     },
     "output_type": "display_data"
    }
   ],
   "source": [
    "sns.countplot('VisitorType',data=cap,hue='Revenue',)  #this is for categorical of data\n",
    "plt.show()"
   ]
  },
  {
   "cell_type": "markdown",
   "metadata": {},
   "source": [
    "From the above graph we can see that most revenue is generated from Returning visitors and no form of revenue is generated from other users"
   ]
  },
  {
   "cell_type": "code",
   "execution_count": 14,
   "metadata": {},
   "outputs": [
    {
     "data": {
      "text/plain": [
       "<matplotlib.axes._subplots.AxesSubplot at 0x201800ecd48>"
      ]
     },
     "execution_count": 14,
     "metadata": {},
     "output_type": "execute_result"
    },
    {
     "data": {
      "image/png": "[encoded data removed]",
      "text/plain": [
       "<Figure size 432x288 with 1 Axes>"
      ]
     },
     "metadata": {
      "needs_background": "light"
     },
     "output_type": "display_data"
    }
   ],
   "source": [
    "sns.countplot('Weekend',data=cap,hue='Revenue',)  "
   ]
  },
  {
   "cell_type": "markdown",
   "metadata": {},
   "source": [
    "From the above graph we can see that most revenue is generated during weekdays and not on weekends"
   ]
  },
  {
   "cell_type": "code",
   "execution_count": 15,
   "metadata": {},
   "outputs": [
    {
     "data": {
      "text/plain": [
       "<matplotlib.axes._subplots.AxesSubplot at 0x201801994c8>"
      ]
     },
     "execution_count": 15,
     "metadata": {},
     "output_type": "execute_result"
    },
    {
     "data": {
      "image/png": "[encoded data removed]",
      "text/plain": [
       "<Figure size 432x288 with 1 Axes>"
      ]
     },
     "metadata": {
      "needs_background": "light"
     },
     "output_type": "display_data"
    }
   ],
   "source": [
    "sns.countplot('Month',data=cap,hue='Revenue',)  "
   ]
  },
  {
   "cell_type": "markdown",
   "metadata": {},
   "source": [
    "As you can see highest number of revenue generated from users who visited the website in the month of November"
   ]
  },
  {
   "cell_type": "code",
   "execution_count": 16,
   "metadata": {},
   "outputs": [
    {
     "data": {
      "text/plain": [
       "<matplotlib.axes._subplots.AxesSubplot at 0x20180256dc8>"
      ]
     },
     "execution_count": 16,
     "metadata": {},
     "output_type": "execute_result"
    },
    {
     "data": {
      "image/png": "[encoded data removed]",
      "text/plain": [
       "<Figure size 432x288 with 1 Axes>"
      ]
     },
     "metadata": {
      "needs_background": "light"
     },
     "output_type": "display_data"
    }
   ],
   "source": [
    "sns.countplot(x='Revenue',data=cap)"
   ]
  },
  {
   "cell_type": "markdown",
   "metadata": {},
   "source": [
    "From the above countplot graph, it can be seen the data is highly imbalanced where approx.20% data is shared among True that is the revenue generator visitors and rest 80% are the non revenue generatoring visitors.\n",
    "\n"
   ]
  },
  {
   "cell_type": "code",
   "execution_count": 20,
   "metadata": {},
   "outputs": [
    {
     "data": {
      "image/png": "[encoded data removed]",
      "text/plain": [
       "<Figure size 432x288 with 1 Axes>"
      ]
     },
     "metadata": {},
     "output_type": "display_data"
    }
   ],
   "source": [
    "labels = 'Returning_Visitor', 'New_Visitor', 'Other'\n",
    "sizes = [10551,  1694,  85]\n",
    "colors = ['gold', 'yellowgreen', 'lightcoral']\n",
    "plt.pie(sizes, labels=labels, colors=colors, autopct='%1.1f%%', shadow=True, startangle=140)\n",
    "plt.axis('equal')\n",
    "plt.show()"
   ]
  },
  {
   "cell_type": "markdown",
   "metadata": {},
   "source": [
    "The above pie plot showing that distribution of the visitortype among the 3 cateogory : 1.)new_visitor = 13.7% 2.)returning_visitor = 85.6% 3.)others = 0.7% so,for now it can be said that the returning visitor may have major share in revenue generation as compared to the other two categories.\n",
    "\n"
   ]
  },
  {
   "cell_type": "code",
   "execution_count": 25,
   "metadata": {},
   "outputs": [
    {
     "data": {
      "image/png": "[encoded data removed]",
      "text/plain": [
       "<Figure size 1080x360 with 1 Axes>"
      ]
     },
     "metadata": {
      "needs_background": "light"
     },
     "output_type": "display_data"
    }
   ],
   "source": [
    "\n",
    "month  =  cap['Month'].sort_values(ascending=True)\n",
    "df = pd.crosstab(month, cap['Revenue'])\n",
    "df.div(df.sum(1).astype(float), axis = 0).plot(kind = 'bar', stacked = True, figsize = (15, 5),legend = False)\n",
    "plt.title('Month vs Revenue', fontsize = 30)\n",
    "plt.show()\n"
   ]
  },
  {
   "cell_type": "code",
   "execution_count": 26,
   "metadata": {},
   "outputs": [
    {
     "data": {
      "image/png": "[encoded data removed]",
      "text/plain": [
       "<Figure size 1080x360 with 1 Axes>"
      ]
     },
     "metadata": {
      "needs_background": "light"
     },
     "output_type": "display_data"
    }
   ],
   "source": [
    "\n",
    "df1 = pd.crosstab(cap['Weekend'], cap['Revenue'])\n",
    "df1.div(df1.sum(1).astype(float), axis = 0).plot(kind = 'bar', stacked = True, figsize = (15, 5))\n",
    "plt.title('Weekend vs Revenue', fontsize = 30)\n",
    "plt.show()"
   ]
  },
  {
   "cell_type": "markdown",
   "metadata": {},
   "source": [
    "from the above stacked bar plot, it can be observed that there is no significant difference in the weekend and weekdays.\n",
    "\n"
   ]
  },
  {
   "cell_type": "code",
   "execution_count": 28,
   "metadata": {},
   "outputs": [
    {
     "data": {
      "image/png": "[encoded data removed]",
      "text/plain": [
       "<Figure size 1080x360 with 1 Axes>"
      ]
     },
     "metadata": {
      "needs_background": "light"
     },
     "output_type": "display_data"
    }
   ],
   "source": [
    "df2 = pd.crosstab(cap['Browser'], cap['Revenue'])\n",
    "df2.div(df2.sum(1).astype(float), axis = 0).plot(kind = 'bar', stacked = True, figsize = (15, 5))\n",
    "plt.title('Browser vs Revenue', fontsize = 30)\n",
    "plt.show()"
   ]
  },
  {
   "cell_type": "markdown",
   "metadata": {},
   "source": [
    "from the above stacked bar graph, it can be observed that the 12th browser have the highest revenue and the lowest or nill can be seen on the 9th browser.\n",
    "\n"
   ]
  },
  {
   "cell_type": "code",
   "execution_count": 29,
   "metadata": {},
   "outputs": [
    {
     "data": {
      "image/png": "[encoded data removed]",
      "text/plain": [
       "<Figure size 1080x360 with 1 Axes>"
      ]
     },
     "metadata": {
      "needs_background": "light"
     },
     "output_type": "display_data"
    }
   ],
   "source": [
    "\n",
    "df3 = pd.crosstab(cap['Region'], cap['Revenue'])\n",
    "df3.div(df3.sum(1).astype(float), axis = 0).plot(kind = 'bar', stacked = True, figsize = (15, 5))\n",
    "plt.title('Region vs Revenue', fontsize = 30)\n",
    "plt.show()"
   ]
  },
  {
   "cell_type": "markdown",
   "metadata": {},
   "source": [
    "from the above stackedbar graph, it can be seen that there is a slight difference between regions.\n",
    "\n"
   ]
  },
  {
   "cell_type": "code",
   "execution_count": 30,
   "metadata": {},
   "outputs": [
    {
     "data": {
      "image/png": "[encoded data removed]",
      "text/plain": [
       "<Figure size 1080x360 with 1 Axes>"
      ]
     },
     "metadata": {
      "needs_background": "light"
     },
     "output_type": "display_data"
    }
   ],
   "source": [
    "df4 = pd.crosstab(cap['TrafficType'], cap['Revenue'])\n",
    "df4.div(df4.sum(1).astype(float), axis = 0).plot(kind = 'bar', stacked = True, figsize = (15, 5))\n",
    "plt.title('TrafficType vs Revenue', fontsize = 30)\n",
    "plt.show()"
   ]
  },
  {
   "cell_type": "markdown",
   "metadata": {},
   "source": [
    "from the above stackedbar graph, it can be seen that the 7th and 16th are highest and the lowest is 12th\n",
    "\n"
   ]
  },
  {
   "cell_type": "code",
   "execution_count": 22,
   "metadata": {},
   "outputs": [
    {
     "data": {
      "text/html": [
       "<div>\n",
       "<style scoped>\n",
       "    .dataframe tbody tr th:only-of-type {\n",
       "        vertical-align: middle;\n",
       "    }\n",
       "\n",
       "    .dataframe tbody tr th {\n",
       "        vertical-align: top;\n",
       "    }\n",
       "\n",
       "    .dataframe thead th {\n",
       "        text-align: right;\n",
       "    }\n",
       "</style>\n",
       "<table border=\"1\" class=\"dataframe\">\n",
       "  <thead>\n",
       "    <tr style=\"text-align: right;\">\n",
       "      <th></th>\n",
       "      <th>Administrative</th>\n",
       "      <th>Administrative_Duration</th>\n",
       "      <th>Informational</th>\n",
       "      <th>Informational_Duration</th>\n",
       "      <th>ProductRelated</th>\n",
       "      <th>ProductRelated_Duration</th>\n",
       "      <th>BounceRates</th>\n",
       "      <th>ExitRates</th>\n",
       "      <th>PageValues</th>\n",
       "      <th>SpecialDay</th>\n",
       "      <th>OperatingSystems</th>\n",
       "      <th>Browser</th>\n",
       "      <th>Region</th>\n",
       "      <th>TrafficType</th>\n",
       "      <th>Weekend</th>\n",
       "      <th>Revenue</th>\n",
       "    </tr>\n",
       "  </thead>\n",
       "  <tbody>\n",
       "    <tr>\n",
       "      <td>Administrative</td>\n",
       "      <td>1.000000</td>\n",
       "      <td>0.601583</td>\n",
       "      <td>0.376850</td>\n",
       "      <td>0.255848</td>\n",
       "      <td>0.431119</td>\n",
       "      <td>0.373939</td>\n",
       "      <td>-0.223563</td>\n",
       "      <td>-0.316483</td>\n",
       "      <td>0.098990</td>\n",
       "      <td>-0.094778</td>\n",
       "      <td>-0.006347</td>\n",
       "      <td>-0.025035</td>\n",
       "      <td>-0.005487</td>\n",
       "      <td>-0.033561</td>\n",
       "      <td>0.026417</td>\n",
       "      <td>0.138917</td>\n",
       "    </tr>\n",
       "    <tr>\n",
       "      <td>Administrative_Duration</td>\n",
       "      <td>0.601583</td>\n",
       "      <td>1.000000</td>\n",
       "      <td>0.302710</td>\n",
       "      <td>0.238031</td>\n",
       "      <td>0.289087</td>\n",
       "      <td>0.355422</td>\n",
       "      <td>-0.144170</td>\n",
       "      <td>-0.205798</td>\n",
       "      <td>0.067608</td>\n",
       "      <td>-0.073304</td>\n",
       "      <td>-0.007343</td>\n",
       "      <td>-0.015392</td>\n",
       "      <td>-0.005561</td>\n",
       "      <td>-0.014376</td>\n",
       "      <td>0.014990</td>\n",
       "      <td>0.093587</td>\n",
       "    </tr>\n",
       "    <tr>\n",
       "      <td>Informational</td>\n",
       "      <td>0.376850</td>\n",
       "      <td>0.302710</td>\n",
       "      <td>1.000000</td>\n",
       "      <td>0.618955</td>\n",
       "      <td>0.374164</td>\n",
       "      <td>0.387505</td>\n",
       "      <td>-0.116114</td>\n",
       "      <td>-0.163666</td>\n",
       "      <td>0.048632</td>\n",
       "      <td>-0.048219</td>\n",
       "      <td>-0.009527</td>\n",
       "      <td>-0.038235</td>\n",
       "      <td>-0.029169</td>\n",
       "      <td>-0.034491</td>\n",
       "      <td>0.035785</td>\n",
       "      <td>0.095200</td>\n",
       "    </tr>\n",
       "    <tr>\n",
       "      <td>Informational_Duration</td>\n",
       "      <td>0.255848</td>\n",
       "      <td>0.238031</td>\n",
       "      <td>0.618955</td>\n",
       "      <td>1.000000</td>\n",
       "      <td>0.280046</td>\n",
       "      <td>0.347364</td>\n",
       "      <td>-0.074067</td>\n",
       "      <td>-0.105276</td>\n",
       "      <td>0.030861</td>\n",
       "      <td>-0.030577</td>\n",
       "      <td>-0.009579</td>\n",
       "      <td>-0.019285</td>\n",
       "      <td>-0.027144</td>\n",
       "      <td>-0.024675</td>\n",
       "      <td>0.024078</td>\n",
       "      <td>0.070345</td>\n",
       "    </tr>\n",
       "    <tr>\n",
       "      <td>ProductRelated</td>\n",
       "      <td>0.431119</td>\n",
       "      <td>0.289087</td>\n",
       "      <td>0.374164</td>\n",
       "      <td>0.280046</td>\n",
       "      <td>1.000000</td>\n",
       "      <td>0.860927</td>\n",
       "      <td>-0.204578</td>\n",
       "      <td>-0.292526</td>\n",
       "      <td>0.056282</td>\n",
       "      <td>-0.023958</td>\n",
       "      <td>0.004290</td>\n",
       "      <td>-0.013146</td>\n",
       "      <td>-0.038122</td>\n",
       "      <td>-0.043064</td>\n",
       "      <td>0.016092</td>\n",
       "      <td>0.158538</td>\n",
       "    </tr>\n",
       "    <tr>\n",
       "      <td>ProductRelated_Duration</td>\n",
       "      <td>0.373939</td>\n",
       "      <td>0.355422</td>\n",
       "      <td>0.387505</td>\n",
       "      <td>0.347364</td>\n",
       "      <td>0.860927</td>\n",
       "      <td>1.000000</td>\n",
       "      <td>-0.184541</td>\n",
       "      <td>-0.251984</td>\n",
       "      <td>0.052823</td>\n",
       "      <td>-0.036380</td>\n",
       "      <td>0.002976</td>\n",
       "      <td>-0.007380</td>\n",
       "      <td>-0.033091</td>\n",
       "      <td>-0.036377</td>\n",
       "      <td>0.007311</td>\n",
       "      <td>0.152373</td>\n",
       "    </tr>\n",
       "    <tr>\n",
       "      <td>BounceRates</td>\n",
       "      <td>-0.223563</td>\n",
       "      <td>-0.144170</td>\n",
       "      <td>-0.116114</td>\n",
       "      <td>-0.074067</td>\n",
       "      <td>-0.204578</td>\n",
       "      <td>-0.184541</td>\n",
       "      <td>1.000000</td>\n",
       "      <td>0.913004</td>\n",
       "      <td>-0.119386</td>\n",
       "      <td>0.072702</td>\n",
       "      <td>0.023823</td>\n",
       "      <td>-0.015772</td>\n",
       "      <td>-0.006485</td>\n",
       "      <td>0.078286</td>\n",
       "      <td>-0.046514</td>\n",
       "      <td>-0.150673</td>\n",
       "    </tr>\n",
       "    <tr>\n",
       "      <td>ExitRates</td>\n",
       "      <td>-0.316483</td>\n",
       "      <td>-0.205798</td>\n",
       "      <td>-0.163666</td>\n",
       "      <td>-0.105276</td>\n",
       "      <td>-0.292526</td>\n",
       "      <td>-0.251984</td>\n",
       "      <td>0.913004</td>\n",
       "      <td>1.000000</td>\n",
       "      <td>-0.174498</td>\n",
       "      <td>0.102242</td>\n",
       "      <td>0.014567</td>\n",
       "      <td>-0.004442</td>\n",
       "      <td>-0.008907</td>\n",
       "      <td>0.078616</td>\n",
       "      <td>-0.062587</td>\n",
       "      <td>-0.207071</td>\n",
       "    </tr>\n",
       "    <tr>\n",
       "      <td>PageValues</td>\n",
       "      <td>0.098990</td>\n",
       "      <td>0.067608</td>\n",
       "      <td>0.048632</td>\n",
       "      <td>0.030861</td>\n",
       "      <td>0.056282</td>\n",
       "      <td>0.052823</td>\n",
       "      <td>-0.119386</td>\n",
       "      <td>-0.174498</td>\n",
       "      <td>1.000000</td>\n",
       "      <td>-0.063541</td>\n",
       "      <td>0.018508</td>\n",
       "      <td>0.045592</td>\n",
       "      <td>0.011315</td>\n",
       "      <td>0.012532</td>\n",
       "      <td>0.012002</td>\n",
       "      <td>0.492569</td>\n",
       "    </tr>\n",
       "    <tr>\n",
       "      <td>SpecialDay</td>\n",
       "      <td>-0.094778</td>\n",
       "      <td>-0.073304</td>\n",
       "      <td>-0.048219</td>\n",
       "      <td>-0.030577</td>\n",
       "      <td>-0.023958</td>\n",
       "      <td>-0.036380</td>\n",
       "      <td>0.072702</td>\n",
       "      <td>0.102242</td>\n",
       "      <td>-0.063541</td>\n",
       "      <td>1.000000</td>\n",
       "      <td>0.012652</td>\n",
       "      <td>0.003499</td>\n",
       "      <td>-0.016098</td>\n",
       "      <td>0.052301</td>\n",
       "      <td>-0.016767</td>\n",
       "      <td>-0.082305</td>\n",
       "    </tr>\n",
       "    <tr>\n",
       "      <td>OperatingSystems</td>\n",
       "      <td>-0.006347</td>\n",
       "      <td>-0.007343</td>\n",
       "      <td>-0.009527</td>\n",
       "      <td>-0.009579</td>\n",
       "      <td>0.004290</td>\n",
       "      <td>0.002976</td>\n",
       "      <td>0.023823</td>\n",
       "      <td>0.014567</td>\n",
       "      <td>0.018508</td>\n",
       "      <td>0.012652</td>\n",
       "      <td>1.000000</td>\n",
       "      <td>0.223013</td>\n",
       "      <td>0.076775</td>\n",
       "      <td>0.189154</td>\n",
       "      <td>0.000284</td>\n",
       "      <td>-0.014668</td>\n",
       "    </tr>\n",
       "    <tr>\n",
       "      <td>Browser</td>\n",
       "      <td>-0.025035</td>\n",
       "      <td>-0.015392</td>\n",
       "      <td>-0.038235</td>\n",
       "      <td>-0.019285</td>\n",
       "      <td>-0.013146</td>\n",
       "      <td>-0.007380</td>\n",
       "      <td>-0.015772</td>\n",
       "      <td>-0.004442</td>\n",
       "      <td>0.045592</td>\n",
       "      <td>0.003499</td>\n",
       "      <td>0.223013</td>\n",
       "      <td>1.000000</td>\n",
       "      <td>0.097393</td>\n",
       "      <td>0.111938</td>\n",
       "      <td>-0.040261</td>\n",
       "      <td>0.023984</td>\n",
       "    </tr>\n",
       "    <tr>\n",
       "      <td>Region</td>\n",
       "      <td>-0.005487</td>\n",
       "      <td>-0.005561</td>\n",
       "      <td>-0.029169</td>\n",
       "      <td>-0.027144</td>\n",
       "      <td>-0.038122</td>\n",
       "      <td>-0.033091</td>\n",
       "      <td>-0.006485</td>\n",
       "      <td>-0.008907</td>\n",
       "      <td>0.011315</td>\n",
       "      <td>-0.016098</td>\n",
       "      <td>0.076775</td>\n",
       "      <td>0.097393</td>\n",
       "      <td>1.000000</td>\n",
       "      <td>0.047520</td>\n",
       "      <td>-0.000691</td>\n",
       "      <td>-0.011595</td>\n",
       "    </tr>\n",
       "    <tr>\n",
       "      <td>TrafficType</td>\n",
       "      <td>-0.033561</td>\n",
       "      <td>-0.014376</td>\n",
       "      <td>-0.034491</td>\n",
       "      <td>-0.024675</td>\n",
       "      <td>-0.043064</td>\n",
       "      <td>-0.036377</td>\n",
       "      <td>0.078286</td>\n",
       "      <td>0.078616</td>\n",
       "      <td>0.012532</td>\n",
       "      <td>0.052301</td>\n",
       "      <td>0.189154</td>\n",
       "      <td>0.111938</td>\n",
       "      <td>0.047520</td>\n",
       "      <td>1.000000</td>\n",
       "      <td>-0.002221</td>\n",
       "      <td>-0.005113</td>\n",
       "    </tr>\n",
       "    <tr>\n",
       "      <td>Weekend</td>\n",
       "      <td>0.026417</td>\n",
       "      <td>0.014990</td>\n",
       "      <td>0.035785</td>\n",
       "      <td>0.024078</td>\n",
       "      <td>0.016092</td>\n",
       "      <td>0.007311</td>\n",
       "      <td>-0.046514</td>\n",
       "      <td>-0.062587</td>\n",
       "      <td>0.012002</td>\n",
       "      <td>-0.016767</td>\n",
       "      <td>0.000284</td>\n",
       "      <td>-0.040261</td>\n",
       "      <td>-0.000691</td>\n",
       "      <td>-0.002221</td>\n",
       "      <td>1.000000</td>\n",
       "      <td>0.029295</td>\n",
       "    </tr>\n",
       "    <tr>\n",
       "      <td>Revenue</td>\n",
       "      <td>0.138917</td>\n",
       "      <td>0.093587</td>\n",
       "      <td>0.095200</td>\n",
       "      <td>0.070345</td>\n",
       "      <td>0.158538</td>\n",
       "      <td>0.152373</td>\n",
       "      <td>-0.150673</td>\n",
       "      <td>-0.207071</td>\n",
       "      <td>0.492569</td>\n",
       "      <td>-0.082305</td>\n",
       "      <td>-0.014668</td>\n",
       "      <td>0.023984</td>\n",
       "      <td>-0.011595</td>\n",
       "      <td>-0.005113</td>\n",
       "      <td>0.029295</td>\n",
       "      <td>1.000000</td>\n",
       "    </tr>\n",
       "  </tbody>\n",
       "</table>\n",
       "</div>"
      ],
      "text/plain": [
       "                         Administrative  Administrative_Duration  \\\n",
       "Administrative                 1.000000                 0.601583   \n",
       "Administrative_Duration        0.601583                 1.000000   \n",
       "Informational                  0.376850                 0.302710   \n",
       "Informational_Duration         0.255848                 0.238031   \n",
       "ProductRelated                 0.431119                 0.289087   \n",
       "ProductRelated_Duration        0.373939                 0.355422   \n",
       "BounceRates                   -0.223563                -0.144170   \n",
       "ExitRates                     -0.316483                -0.205798   \n",
       "PageValues                     0.098990                 0.067608   \n",
       "SpecialDay                    -0.094778                -0.073304   \n",
       "OperatingSystems              -0.006347                -0.007343   \n",
       "Browser                       -0.025035                -0.015392   \n",
       "Region                        -0.005487                -0.005561   \n",
       "TrafficType                   -0.033561                -0.014376   \n",
       "Weekend                        0.026417                 0.014990   \n",
       "Revenue                        0.138917                 0.093587   \n",
       "\n",
       "                         Informational  Informational_Duration  \\\n",
       "Administrative                0.376850                0.255848   \n",
       "Administrative_Duration       0.302710                0.238031   \n",
       "Informational                 1.000000                0.618955   \n",
       "Informational_Duration        0.618955                1.000000   \n",
       "ProductRelated                0.374164                0.280046   \n",
       "ProductRelated_Duration       0.387505                0.347364   \n",
       "BounceRates                  -0.116114               -0.074067   \n",
       "ExitRates                    -0.163666               -0.105276   \n",
       "PageValues                    0.048632                0.030861   \n",
       "SpecialDay                   -0.048219               -0.030577   \n",
       "OperatingSystems             -0.009527               -0.009579   \n",
       "Browser                      -0.038235               -0.019285   \n",
       "Region                       -0.029169               -0.027144   \n",
       "TrafficType                  -0.034491               -0.024675   \n",
       "Weekend                       0.035785                0.024078   \n",
       "Revenue                       0.095200                0.070345   \n",
       "\n",
       "                         ProductRelated  ProductRelated_Duration  BounceRates  \\\n",
       "Administrative                 0.431119                 0.373939    -0.223563   \n",
       "Administrative_Duration        0.289087                 0.355422    -0.144170   \n",
       "Informational                  0.374164                 0.387505    -0.116114   \n",
       "Informational_Duration         0.280046                 0.347364    -0.074067   \n",
       "ProductRelated                 1.000000                 0.860927    -0.204578   \n",
       "ProductRelated_Duration        0.860927                 1.000000    -0.184541   \n",
       "BounceRates                   -0.204578                -0.184541     1.000000   \n",
       "ExitRates                     -0.292526                -0.251984     0.913004   \n",
       "PageValues                     0.056282                 0.052823    -0.119386   \n",
       "SpecialDay                    -0.023958                -0.036380     0.072702   \n",
       "OperatingSystems               0.004290                 0.002976     0.023823   \n",
       "Browser                       -0.013146                -0.007380    -0.015772   \n",
       "Region                        -0.038122                -0.033091    -0.006485   \n",
       "TrafficType                   -0.043064                -0.036377     0.078286   \n",
       "Weekend                        0.016092                 0.007311    -0.046514   \n",
       "Revenue                        0.158538                 0.152373    -0.150673   \n",
       "\n",
       "                         ExitRates  PageValues  SpecialDay  OperatingSystems  \\\n",
       "Administrative           -0.316483    0.098990   -0.094778         -0.006347   \n",
       "Administrative_Duration  -0.205798    0.067608   -0.073304         -0.007343   \n",
       "Informational            -0.163666    0.048632   -0.048219         -0.009527   \n",
       "Informational_Duration   -0.105276    0.030861   -0.030577         -0.009579   \n",
       "ProductRelated           -0.292526    0.056282   -0.023958          0.004290   \n",
       "ProductRelated_Duration  -0.251984    0.052823   -0.036380          0.002976   \n",
       "BounceRates               0.913004   -0.119386    0.072702          0.023823   \n",
       "ExitRates                 1.000000   -0.174498    0.102242          0.014567   \n",
       "PageValues               -0.174498    1.000000   -0.063541          0.018508   \n",
       "SpecialDay                0.102242   -0.063541    1.000000          0.012652   \n",
       "OperatingSystems          0.014567    0.018508    0.012652          1.000000   \n",
       "Browser                  -0.004442    0.045592    0.003499          0.223013   \n",
       "Region                   -0.008907    0.011315   -0.016098          0.076775   \n",
       "TrafficType               0.078616    0.012532    0.052301          0.189154   \n",
       "Weekend                  -0.062587    0.012002   -0.016767          0.000284   \n",
       "Revenue                  -0.207071    0.492569   -0.082305         -0.014668   \n",
       "\n",
       "                          Browser    Region  TrafficType   Weekend   Revenue  \n",
       "Administrative          -0.025035 -0.005487    -0.033561  0.026417  0.138917  \n",
       "Administrative_Duration -0.015392 -0.005561    -0.014376  0.014990  0.093587  \n",
       "Informational           -0.038235 -0.029169    -0.034491  0.035785  0.095200  \n",
       "Informational_Duration  -0.019285 -0.027144    -0.024675  0.024078  0.070345  \n",
       "ProductRelated          -0.013146 -0.038122    -0.043064  0.016092  0.158538  \n",
       "ProductRelated_Duration -0.007380 -0.033091    -0.036377  0.007311  0.152373  \n",
       "BounceRates             -0.015772 -0.006485     0.078286 -0.046514 -0.150673  \n",
       "ExitRates               -0.004442 -0.008907     0.078616 -0.062587 -0.207071  \n",
       "PageValues               0.045592  0.011315     0.012532  0.012002  0.492569  \n",
       "SpecialDay               0.003499 -0.016098     0.052301 -0.016767 -0.082305  \n",
       "OperatingSystems         0.223013  0.076775     0.189154  0.000284 -0.014668  \n",
       "Browser                  1.000000  0.097393     0.111938 -0.040261  0.023984  \n",
       "Region                   0.097393  1.000000     0.047520 -0.000691 -0.011595  \n",
       "TrafficType              0.111938  0.047520     1.000000 -0.002221 -0.005113  \n",
       "Weekend                 -0.040261 -0.000691    -0.002221  1.000000  0.029295  \n",
       "Revenue                  0.023984 -0.011595    -0.005113  0.029295  1.000000  "
      ]
     },
     "execution_count": 22,
     "metadata": {},
     "output_type": "execute_result"
    }
   ],
   "source": [
    "cap.corr()"
   ]
  },
  {
   "cell_type": "code",
   "execution_count": 32,
   "metadata": {},
   "outputs": [
    {
     "data": {
      "text/plain": [
       "<matplotlib.axes._subplots.AxesSubplot at 0x20181083b48>"
      ]
     },
     "execution_count": 32,
     "metadata": {},
     "output_type": "execute_result"
    },
    {
     "data": {
      "image/png": "[encoded data removed]",
      "text/plain": [
       "<Figure size 1440x1440 with 2 Axes>"
      ]
     },
     "metadata": {
      "needs_background": "light"
     },
     "output_type": "display_data"
    }
   ],
   "source": [
    "fig, ax = plt.subplots(1,1,figsize=(20,20))\n",
    "sns.heatmap(cap.corr(), annot=True)"
   ]
  },
  {
   "cell_type": "code",
   "execution_count": 62,
   "metadata": {},
   "outputs": [
    {
     "name": "stdout",
     "output_type": "stream",
     "text": [
      "            ExitRates  PageValues\n",
      "ExitRates    1.000000   -0.174498\n",
      "PageValues  -0.174498    1.000000\n"
     ]
    }
   ],
   "source": [
    "print(cap[['ExitRates','PageValues']].corr())\n"
   ]
  },
  {
   "cell_type": "markdown",
   "metadata": {},
   "source": [
    "ExitRates and PageValues are highly correlated .\n",
    "\n",
    "checking for mulitcorrelarity.:\n",
    "    \n",
    "we will keep PageValues and drop the ExitValues as it is more correlated to the target variable."
   ]
  },
  {
   "cell_type": "code",
   "execution_count": 63,
   "metadata": {},
   "outputs": [],
   "source": [
    "X1=pd.get_dummies(cap, prefix=None, prefix_sep='_', dummy_na=False, columns=None, sparse=False, drop_first=('Month','VisitorType','Weekend'), dtype=None)"
   ]
  },
  {
   "cell_type": "code",
   "execution_count": 64,
   "metadata": {},
   "outputs": [],
   "source": [
    "\n",
    "X = X1.drop(['Revenue'],axis = 1)\n",
    "y = cap['Revenue']\n",
    "model  = LogisticRegression()\n"
   ]
  },
  {
   "cell_type": "code",
   "execution_count": 65,
   "metadata": {},
   "outputs": [],
   "source": [
    "#Initializing RFE model\n",
    "rfe = RFE(model)"
   ]
  },
  {
   "cell_type": "code",
   "execution_count": 76,
   "metadata": {},
   "outputs": [
    {
     "data": {
      "text/plain": [
       "(12330, 26)"
      ]
     },
     "execution_count": 76,
     "metadata": {},
     "output_type": "execute_result"
    }
   ],
   "source": [
    "X.shape"
   ]
  },
  {
   "cell_type": "code",
   "execution_count": 67,
   "metadata": {},
   "outputs": [
    {
     "name": "stdout",
     "output_type": "stream",
     "text": [
      "[False False  True False False False  True  True False  True False False\n",
      " False False  True  True  True False  True  True  True  True False False\n",
      "  True  True]\n",
      "[ 6 13  1 11 10 14  1  1  2  1  3  5  7 12  1  1  1  4  1  1  1  1  9  8\n",
      "  1  1]\n"
     ]
    }
   ],
   "source": [
    "#Transforming data using RFE\n",
    "X_rfe = rfe.fit_transform(X,y)  \n",
    "#Fitting the data to model\n",
    "model.fit(X_rfe,y)\n",
    "print(rfe.support_)\n",
    "print(rfe.ranking_)"
   ]
  },
  {
   "cell_type": "code",
   "execution_count": 68,
   "metadata": {},
   "outputs": [
    {
     "name": "stdout",
     "output_type": "stream",
     "text": [
      "Index(['BounceRates', 'ExitRates', 'SpecialDay', 'Month_Feb', 'Month_June',\n",
      "       'Month_Mar', 'Month_Nov', 'VisitorType_Returning_Visitor'],\n",
      "      dtype='object')\n"
     ]
    }
   ],
   "source": [
    "cols = list(X.columns)\n",
    "model = LogisticRegression()\n",
    "#Initializing RFE model\n",
    "rfe = RFE(model, 8)            \n",
    "#Transforming data using RFE\n",
    "X_rfe = rfe.fit_transform(X,y) \n",
    "#Fitting the data to model\n",
    "model.fit(X_rfe,y)             \n",
    "temp = pd.Series(rfe.support_,index = cols)\n",
    "selected_features_rfe = temp[temp==True].index\n",
    "print(selected_features_rfe)"
   ]
  },
  {
   "cell_type": "code",
   "execution_count": 78,
   "metadata": {},
   "outputs": [
    {
     "name": "stdout",
     "output_type": "stream",
     "text": [
      "Optimization terminated successfully.\n",
      "         Current function value: 0.297477\n",
      "         Iterations 9\n",
      "                         Results: Logit\n",
      "================================================================\n",
      "Model:              Logit            Pseudo R-squared: 0.310    \n",
      "Dependent Variable: Revenue          AIC:              7367.7789\n",
      "Date:               2020-06-24 11:19 BIC:              7486.4955\n",
      "No. Observations:   12330            Log-Likelihood:   -3667.9  \n",
      "Df Model:           15               LL-Null:          -5312.4  \n",
      "Df Residuals:       12314            LLR p-value:      0.0000   \n",
      "Converged:          1.0000           Scale:            1.0000   \n",
      "No. Iterations:     9.0000                                      \n",
      "-----------------------------------------------------------------\n",
      "          Coef.    Std.Err.     z      P>|z|    [0.025    0.975] \n",
      "-----------------------------------------------------------------\n",
      "x1         0.0765    0.0196    3.8965  0.0001    0.0380    0.1150\n",
      "x2         3.5376    3.3167    1.0666  0.2862   -2.9631   10.0383\n",
      "x3       -26.0061    2.3305  -11.1588  0.0000  -30.5738  -21.4383\n",
      "x4         0.0787    0.0024   33.1197  0.0000    0.0741    0.0834\n",
      "x5        -0.0041    0.2372   -0.0174  0.9861   -0.4691    0.4609\n",
      "x6        -0.3254    0.0313  -10.3824  0.0000   -0.3868   -0.2639\n",
      "x7        -0.0273    0.0696   -0.3929  0.6944   -0.1637    0.1090\n",
      "x8        -1.0906    0.1127   -9.6789  0.0000   -1.3114   -0.8697\n",
      "x9        -2.3110    0.6161   -3.7511  0.0002   -3.5185   -1.1035\n",
      "x10       -0.3937    0.1665   -2.3649  0.0180   -0.7200   -0.0674\n",
      "x11       -0.7522    0.2386   -3.1525  0.0016   -1.2198   -0.2845\n",
      "x12       -1.0547    0.1097   -9.6128  0.0000   -1.2697   -0.8396\n",
      "x13       -1.0488    0.1009  -10.3952  0.0000   -1.2466   -0.8511\n",
      "x14        0.1237    0.0797    1.5524  0.1206   -0.0325    0.2800\n",
      "x15        0.2189    0.5144    0.4255  0.6705   -0.7894    1.2271\n",
      "x16       -0.5395    0.0727   -7.4195  0.0000   -0.6820   -0.3970\n",
      "================================================================\n",
      "\n"
     ]
    }
   ],
   "source": [
    "import statsmodels.api as sm\n",
    "logit_model=sm.Logit(y,X_rfe.astype(float))\n",
    "result=logit_model.fit()\n",
    "print(result.summary2())"
   ]
  },
  {
   "cell_type": "code",
   "execution_count": 70,
   "metadata": {},
   "outputs": [
    {
     "data": {
      "text/plain": [
       "Index(['Administrative', 'Administrative_Duration', 'Informational',\n",
       "       'Informational_Duration', 'ProductRelated', 'ProductRelated_Duration',\n",
       "       'BounceRates', 'ExitRates', 'PageValues', 'SpecialDay',\n",
       "       'OperatingSystems', 'Browser', 'Region', 'TrafficType', 'Weekend',\n",
       "       'Month_Dec', 'Month_Feb', 'Month_Jul', 'Month_June', 'Month_Mar',\n",
       "       'Month_May', 'Month_Nov', 'Month_Oct', 'Month_Sep', 'VisitorType_Other',\n",
       "       'VisitorType_Returning_Visitor'],\n",
       "      dtype='object')"
      ]
     },
     "execution_count": 70,
     "metadata": {},
     "output_type": "execute_result"
    }
   ],
   "source": [
    "\n",
    "X.columns"
   ]
  },
  {
   "cell_type": "code",
   "execution_count": 71,
   "metadata": {},
   "outputs": [
    {
     "name": "stdout",
     "output_type": "stream",
     "text": [
      "Optimum number of features: 16\n",
      "Score with 16 features: 0.872939\n"
     ]
    }
   ],
   "source": [
    "#the actual rfe to be done:\n",
    "#no of features\n",
    "nof_list=np.arange(1,18)            \n",
    "high_score=0\n",
    "#Variable to store the optimum features\n",
    "nof=0           \n",
    "score_list =[]\n",
    "for n in range(len(nof_list)):\n",
    "    X_train, X_test, y_train, y_test = train_test_split(X,y, test_size = 0.3, random_state = 0)\n",
    "    model = LogisticRegression()\n",
    "    rfe = RFE(model,nof_list[n])\n",
    "    X_train_rfe = rfe.fit_transform(X_train,y_train)\n",
    "    X_test_rfe = rfe.transform(X_test)\n",
    "    model.fit(X_train_rfe,y_train)\n",
    "    score = model.score(X_test_rfe,y_test)\n",
    "    score_list.append(score)\n",
    "    if(score>high_score):\n",
    "        high_score = score\n",
    "        nof = nof_list[n]\n",
    "print(\"Optimum number of features: %d\" %nof)\n",
    "print(\"Score with %d features: %f\" % (nof, high_score))"
   ]
  },
  {
   "cell_type": "code",
   "execution_count": 72,
   "metadata": {},
   "outputs": [
    {
     "name": "stdout",
     "output_type": "stream",
     "text": [
      "Index(['Informational', 'BounceRates', 'ExitRates', 'PageValues', 'SpecialDay',\n",
      "       'OperatingSystems', 'Weekend', 'Month_Dec', 'Month_Feb', 'Month_Jul',\n",
      "       'Month_June', 'Month_Mar', 'Month_May', 'Month_Nov',\n",
      "       'VisitorType_Other', 'VisitorType_Returning_Visitor'],\n",
      "      dtype='object')\n"
     ]
    }
   ],
   "source": [
    "cols = list(X.columns)\n",
    "model = LogisticRegression()\n",
    "#Initializing RFE model\n",
    "rfe = RFE(model, 16)             \n",
    "#Transforming data using RFE\n",
    "X_rfe = rfe.fit_transform(X,y)  \n",
    "#Fitting the data to model\n",
    "model.fit(X_rfe,y)              \n",
    "temp = pd.Series(rfe.support_,index = cols)\n",
    "selected_features_rfe = temp[temp==True].index\n",
    "print(selected_features_rfe)"
   ]
  },
  {
   "cell_type": "code",
   "execution_count": 73,
   "metadata": {},
   "outputs": [
    {
     "data": {
      "text/plain": [
       "Index(['Administrative', 'Administrative_Duration', 'Informational',\n",
       "       'Informational_Duration', 'ProductRelated', 'ProductRelated_Duration',\n",
       "       'BounceRates', 'ExitRates', 'PageValues', 'SpecialDay',\n",
       "       'OperatingSystems', 'Browser', 'Region', 'TrafficType', 'Weekend',\n",
       "       'Month_Dec', 'Month_Feb', 'Month_Jul', 'Month_June', 'Month_Mar',\n",
       "       'Month_May', 'Month_Nov', 'Month_Oct', 'Month_Sep', 'VisitorType_Other',\n",
       "       'VisitorType_Returning_Visitor'],\n",
       "      dtype='object')"
      ]
     },
     "execution_count": 73,
     "metadata": {},
     "output_type": "execute_result"
    }
   ],
   "source": [
    "X.columns"
   ]
  },
  {
   "cell_type": "code",
   "execution_count": 80,
   "metadata": {},
   "outputs": [
    {
     "name": "stdout",
     "output_type": "stream",
     "text": [
      "Optimization terminated successfully.\n",
      "         Current function value: 0.297477\n",
      "         Iterations 9\n",
      "                         Results: Logit\n",
      "================================================================\n",
      "Model:              Logit            Pseudo R-squared: 0.310    \n",
      "Dependent Variable: Revenue          AIC:              7367.7789\n",
      "Date:               2020-06-24 11:20 BIC:              7486.4955\n",
      "No. Observations:   12330            Log-Likelihood:   -3667.9  \n",
      "Df Model:           15               LL-Null:          -5312.4  \n",
      "Df Residuals:       12314            LLR p-value:      0.0000   \n",
      "Converged:          1.0000           Scale:            1.0000   \n",
      "No. Iterations:     9.0000                                      \n",
      "-----------------------------------------------------------------\n",
      "          Coef.    Std.Err.     z      P>|z|    [0.025    0.975] \n",
      "-----------------------------------------------------------------\n",
      "x1         0.0765    0.0196    3.8965  0.0001    0.0380    0.1150\n",
      "x2         3.5376    3.3167    1.0666  0.2862   -2.9631   10.0383\n",
      "x3       -26.0061    2.3305  -11.1588  0.0000  -30.5738  -21.4383\n",
      "x4         0.0787    0.0024   33.1197  0.0000    0.0741    0.0834\n",
      "x5        -0.0041    0.2372   -0.0174  0.9861   -0.4691    0.4609\n",
      "x6        -0.3254    0.0313  -10.3824  0.0000   -0.3868   -0.2639\n",
      "x7        -0.0273    0.0696   -0.3929  0.6944   -0.1637    0.1090\n",
      "x8        -1.0906    0.1127   -9.6789  0.0000   -1.3114   -0.8697\n",
      "x9        -2.3110    0.6161   -3.7511  0.0002   -3.5185   -1.1035\n",
      "x10       -0.3937    0.1665   -2.3649  0.0180   -0.7200   -0.0674\n",
      "x11       -0.7522    0.2386   -3.1525  0.0016   -1.2198   -0.2845\n",
      "x12       -1.0547    0.1097   -9.6128  0.0000   -1.2697   -0.8396\n",
      "x13       -1.0488    0.1009  -10.3952  0.0000   -1.2466   -0.8511\n",
      "x14        0.1237    0.0797    1.5524  0.1206   -0.0325    0.2800\n",
      "x15        0.2189    0.5144    0.4255  0.6705   -0.7894    1.2271\n",
      "x16       -0.5395    0.0727   -7.4195  0.0000   -0.6820   -0.3970\n",
      "================================================================\n",
      "\n"
     ]
    }
   ],
   "source": [
    "import statsmodels.api as sm\n",
    "logit_model=sm.Logit(y,X_rfe.astype(float))\n",
    "result=logit_model.fit()\n",
    "print(result.summary2())"
   ]
  },
  {
   "cell_type": "code",
   "execution_count": null,
   "metadata": {},
   "outputs": [],
   "source": []
  },
  {
   "cell_type": "code",
   "execution_count": null,
   "metadata": {},
   "outputs": [],
   "source": []
  },
  {
   "cell_type": "code",
   "execution_count": null,
   "metadata": {},
   "outputs": [],
   "source": []
  },
  {
   "cell_type": "code",
   "execution_count": null,
   "metadata": {},
   "outputs": [],
   "source": []
  },
  {
   "cell_type": "code",
   "execution_count": null,
   "metadata": {},
   "outputs": [],
   "source": []
  },
  {
   "cell_type": "code",
   "execution_count": null,
   "metadata": {},
   "outputs": [],
   "source": []
  },
  {
   "cell_type": "code",
   "execution_count": null,
   "metadata": {},
   "outputs": [],
   "source": []
  },
  {
   "cell_type": "code",
   "execution_count": null,
   "metadata": {},
   "outputs": [],
   "source": []
  }
 ],
 "metadata": {
  "kernelspec": {
   "display_name": "Python 3",
   "language": "python",
   "name": "python3"
  },
  "language_info": {
   "codemirror_mode": {
    "name": "ipython",
    "version": 3
   },
   "file_extension": ".py",
   "mimetype": "text/x-python",
   "name": "python",
   "nbconvert_exporter": "python",
   "pygments_lexer": "ipython3",
   "version": "3.8.8"
  }
 },
 "nbformat": 4,
 "nbformat_minor": 2
}
