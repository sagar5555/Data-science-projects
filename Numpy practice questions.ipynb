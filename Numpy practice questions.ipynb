{
 "cells": [
  {
   "cell_type": "code",
   "execution_count": 34,
   "metadata": {},
   "outputs": [],
   "source": [
    "import numpy as np\n",
    "\n"
   ]
  },
  {
   "cell_type": "code",
   "execution_count": 40,
   "metadata": {},
   "outputs": [
    {
     "data": {
      "text/plain": [
       "array([0.0089861 , 0.38657128, 0.04416006, 0.95665297])"
      ]
     },
     "execution_count": 40,
     "metadata": {},
     "output_type": "execute_result"
    }
   ],
   "source": [
    "np.random.random(4)"
   ]
  },
  {
   "cell_type": "code",
   "execution_count": 49,
   "metadata": {},
   "outputs": [
    {
     "data": {
      "text/plain": [
       "array([0.80342804, 0.5275223 , 0.11911147, 0.63968144, 0.09092526,\n",
       "       0.33222568, 0.42738095, 0.55438581, 0.62812652, 0.69739294,\n",
       "       0.78994969, 0.13189035])"
      ]
     },
     "execution_count": 49,
     "metadata": {},
     "output_type": "execute_result"
    }
   ],
   "source": [
    "np.random.seed(999)\n",
    "np.random.random(12)"
   ]
  },
  {
   "cell_type": "code",
   "execution_count": 48,
   "metadata": {},
   "outputs": [
    {
     "data": {
      "text/plain": [
       "array([[ 7, 19,  8,  7, 18],\n",
       "       [ 6,  7, 12,  1, 10],\n",
       "       [ 5, 14, 12,  9,  8],\n",
       "       [15, 19,  6, 12, 18],\n",
       "       [11, 11, 18, 12,  2]])"
      ]
     },
     "execution_count": 48,
     "metadata": {},
     "output_type": "execute_result"
    }
   ],
   "source": [
    "z=np.random.randint(1,20,(5,5))\n",
    "z"
   ]
  },
  {
   "cell_type": "code",
   "execution_count": 56,
   "metadata": {},
   "outputs": [
    {
     "name": "stdout",
     "output_type": "stream",
     "text": [
      "enter the number30\n",
      "3\n"
     ]
    }
   ],
   "source": [
    "j=np.array([[10,20,20,20,20,0,20,30,30,30,0,0,20,20,0]])\n",
    "x=int(input('enter the number'))\n",
    "for i in range(len(j)):\n",
    "    print(np.count_nonzero(j[i]==x))"
   ]
  },
  {
   "cell_type": "code",
   "execution_count": 54,
   "metadata": {},
   "outputs": [
    {
     "data": {
      "text/plain": [
       "1"
      ]
     },
     "execution_count": 54,
     "metadata": {},
     "output_type": "execute_result"
    }
   ],
   "source": [
    "z.min()"
   ]
  },
  {
   "cell_type": "code",
   "execution_count": 6,
   "metadata": {},
   "outputs": [
    {
     "data": {
      "text/plain": [
       "19"
      ]
     },
     "execution_count": 6,
     "metadata": {},
     "output_type": "execute_result"
    }
   ],
   "source": [
    "z.max()"
   ]
  },
  {
   "cell_type": "code",
   "execution_count": 7,
   "metadata": {},
   "outputs": [
    {
     "data": {
      "text/plain": [
       "array([[0],\n",
       "       [0],\n",
       "       [0],\n",
       "       [0],\n",
       "       [0]])"
      ]
     },
     "execution_count": 7,
     "metadata": {},
     "output_type": "execute_result"
    }
   ],
   "source": [
    "a=np.array([0,0,0,0,0])\n",
    "a1=a.reshape(5,1)\n",
    "a1"
   ]
  },
  {
   "cell_type": "code",
   "execution_count": 8,
   "metadata": {},
   "outputs": [
    {
     "data": {
      "text/plain": [
       "array([[11,  4,  1, 10,  7,  0],\n",
       "       [ 7,  3, 15,  9, 18,  0],\n",
       "       [ 3,  1,  9, 11, 14,  0],\n",
       "       [ 2,  1, 14,  4, 19,  0],\n",
       "       [16,  3, 19, 18, 17,  0]])"
      ]
     },
     "execution_count": 8,
     "metadata": {},
     "output_type": "execute_result"
    }
   ],
   "source": [
    "b1=np.hstack((z,a1))\n",
    "b1"
   ]
  },
  {
   "cell_type": "code",
   "execution_count": 9,
   "metadata": {},
   "outputs": [
    {
     "data": {
      "text/plain": [
       "array([[0, 0, 0, 0, 0, 0]])"
      ]
     },
     "execution_count": 9,
     "metadata": {},
     "output_type": "execute_result"
    }
   ],
   "source": [
    "a=np.array([0,0,0,0,0,0])\n",
    "a7=a.reshape(1,6)\n",
    "a7"
   ]
  },
  {
   "cell_type": "code",
   "execution_count": 10,
   "metadata": {},
   "outputs": [
    {
     "data": {
      "text/plain": [
       "array([[11,  4,  1, 10,  7,  0],\n",
       "       [ 7,  3, 15,  9, 18,  0],\n",
       "       [ 3,  1,  9, 11, 14,  0],\n",
       "       [ 2,  1, 14,  4, 19,  0],\n",
       "       [16,  3, 19, 18, 17,  0],\n",
       "       [ 0,  0,  0,  0,  0,  0]])"
      ]
     },
     "execution_count": 10,
     "metadata": {},
     "output_type": "execute_result"
    }
   ],
   "source": [
    "b7=np.vstack((b1,a7))\n",
    "b7\n"
   ]
  },
  {
   "cell_type": "code",
   "execution_count": 11,
   "metadata": {},
   "outputs": [
    {
     "data": {
      "text/plain": [
       "(6, 6)"
      ]
     },
     "execution_count": 11,
     "metadata": {},
     "output_type": "execute_result"
    }
   ],
   "source": [
    "b7.shape"
   ]
  },
  {
   "cell_type": "code",
   "execution_count": 12,
   "metadata": {},
   "outputs": [
    {
     "data": {
      "text/plain": [
       "array([[1., 0., 0., 0., 0.],\n",
       "       [0., 2., 0., 0., 0.],\n",
       "       [0., 0., 3., 0., 0.],\n",
       "       [0., 0., 0., 4., 0.],\n",
       "       [0., 0., 0., 0., 5.]])"
      ]
     },
     "execution_count": 12,
     "metadata": {},
     "output_type": "execute_result"
    }
   ],
   "source": [
    "a=np.zeros((5,5))\n",
    "a[0][0]=1\n",
    "a[1][1]=2\n",
    "a[2][2]=3\n",
    "a[3][3]=4\n",
    "a[4][4]=5\n",
    "a\n",
    "\n"
   ]
  },
  {
   "cell_type": "code",
   "execution_count": 13,
   "metadata": {},
   "outputs": [
    {
     "data": {
      "text/plain": [
       "array([  1,   2,   3,   4,   5,   6,   7,   8,   9,  10, -11, -12, -13,\n",
       "       -14, -15, -16, -17, -18, -19,  20])"
      ]
     },
     "execution_count": 13,
     "metadata": {},
     "output_type": "execute_result"
    }
   ],
   "source": [
    "\n",
    "b=np.arange(1,21)\n",
    "b_slice=b[10:19]\n",
    "o=np.ones((1,9))\n",
    "o\n",
    "b_slice[:]=b_slice*-o\n",
    "b"
   ]
  },
  {
   "cell_type": "code",
   "execution_count": 14,
   "metadata": {},
   "outputs": [
    {
     "data": {
      "text/plain": [
       "array([17,  9, 16, 12, 18,  3, 11, 18,  6,  7, 13, 10,  7,  9, 18, 19, 16,\n",
       "       15,  4, 11])"
      ]
     },
     "execution_count": 14,
     "metadata": {},
     "output_type": "execute_result"
    }
   ],
   "source": [
    "ar=np.random.randint(0,20,20)\n",
    "ar"
   ]
  },
  {
   "cell_type": "code",
   "execution_count": 15,
   "metadata": {},
   "outputs": [
    {
     "data": {
      "text/plain": [
       "array([[17,  9, 16, 12, 18],\n",
       "       [ 3, 11, 18,  6,  7],\n",
       "       [13, 10,  7,  9, 18],\n",
       "       [19, 16, 15,  4, 11]])"
      ]
     },
     "execution_count": 15,
     "metadata": {},
     "output_type": "execute_result"
    }
   ],
   "source": [
    "k=ar.reshape(4,5)\n",
    "k"
   ]
  },
  {
   "cell_type": "code",
   "execution_count": 16,
   "metadata": {},
   "outputs": [
    {
     "data": {
      "text/plain": [
       "array([[18],\n",
       "       [ 7],\n",
       "       [15]])"
      ]
     },
     "execution_count": 16,
     "metadata": {},
     "output_type": "execute_result"
    }
   ],
   "source": [
    "e=k[1:4,2:3]\n",
    "e.shape\n",
    "e"
   ]
  },
  {
   "cell_type": "code",
   "execution_count": 17,
   "metadata": {},
   "outputs": [
    {
     "data": {
      "text/plain": [
       "(2, 5)"
      ]
     },
     "execution_count": 17,
     "metadata": {},
     "output_type": "execute_result"
    }
   ],
   "source": [
    "h=k[2:4]\n",
    "h.shape"
   ]
  },
  {
   "cell_type": "code",
   "execution_count": 18,
   "metadata": {},
   "outputs": [
    {
     "data": {
      "text/plain": [
       "array([[13, 10,  7,  9, 18, 19, 16, 15,  4, 11]])"
      ]
     },
     "execution_count": 18,
     "metadata": {},
     "output_type": "execute_result"
    }
   ],
   "source": [
    "h=h.reshape(1,10)\n",
    "h"
   ]
  },
  {
   "cell_type": "code",
   "execution_count": 19,
   "metadata": {},
   "outputs": [
    {
     "data": {
      "text/plain": [
       "range(0, 9)"
      ]
     },
     "execution_count": 19,
     "metadata": {},
     "output_type": "execute_result"
    }
   ],
   "source": [
    "h=h.flatten()\n",
    "h[8]\n",
    "range(len(h)-1)"
   ]
  },
  {
   "cell_type": "code",
   "execution_count": null,
   "metadata": {},
   "outputs": [],
   "source": []
  },
  {
   "cell_type": "code",
   "execution_count": 20,
   "metadata": {},
   "outputs": [
    {
     "data": {
      "text/plain": [
       "array([11,  4, 15, 16, 19, 18,  9,  7, 10, 13])"
      ]
     },
     "execution_count": 20,
     "metadata": {},
     "output_type": "execute_result"
    }
   ],
   "source": [
    "h=h[::-1]\n",
    "h"
   ]
  },
  {
   "cell_type": "code",
   "execution_count": 21,
   "metadata": {},
   "outputs": [
    {
     "data": {
      "text/plain": [
       "19"
      ]
     },
     "execution_count": 21,
     "metadata": {},
     "output_type": "execute_result"
    }
   ],
   "source": [
    "h[4]"
   ]
  },
  {
   "cell_type": "code",
   "execution_count": 61,
   "metadata": {},
   "outputs": [
    {
     "data": {
      "text/plain": [
       "array([[56, 15, 46],\n",
       "       [20, 46,  8],\n",
       "       [79, 28, 12]])"
      ]
     },
     "execution_count": 61,
     "metadata": {},
     "output_type": "execute_result"
    }
   ],
   "source": [
    "p=np.random.randint(5,83,(3,3))\n",
    "p"
   ]
  },
  {
   "cell_type": "code",
   "execution_count": null,
   "metadata": {},
   "outputs": [],
   "source": []
  },
  {
   "cell_type": "code",
   "execution_count": 50,
   "metadata": {},
   "outputs": [
    {
     "data": {
      "text/plain": [
       "array([ 9, 35, 59, 64, 77, 42, 13, 56, 64])"
      ]
     },
     "execution_count": 50,
     "metadata": {},
     "output_type": "execute_result"
    }
   ],
   "source": [
    "P=p.reshape(1,9)\n",
    "P\n",
    "P=P.flatten()\n",
    "P\n",
    "P[::-1]"
   ]
  },
  {
   "cell_type": "code",
   "execution_count": 24,
   "metadata": {},
   "outputs": [
    {
     "name": "stdout",
     "output_type": "stream",
     "text": [
      "enter the key value4\n"
     ]
    },
    {
     "data": {
      "text/plain": [
       "array([59, 35,  9, 59, 56, 13, 42, 77, 64])"
      ]
     },
     "execution_count": 24,
     "metadata": {},
     "output_type": "execute_result"
    }
   ],
   "source": [
    "key= int(input('enter the key value'))\n",
    "n=P[:-key]\n",
    "m=P[-key:]\n",
    "np.concatenate((m,n))\n",
    "\n"
   ]
  },
  {
   "cell_type": "code",
   "execution_count": 25,
   "metadata": {},
   "outputs": [
    {
     "name": "stdout",
     "output_type": "stream",
     "text": [
      "enter the key value5\n"
     ]
    },
    {
     "data": {
      "text/plain": [
       "array([59, 35,  9, 59, 56, 13, 42, 77, 64])"
      ]
     },
     "execution_count": 25,
     "metadata": {},
     "output_type": "execute_result"
    }
   ],
   "source": [
    "key= int(input('enter the key value'))\n",
    "n=P[:key]\n",
    "m=P[key:]\n",
    "np.concatenate((m,n))"
   ]
  },
  {
   "cell_type": "code",
   "execution_count": 26,
   "metadata": {},
   "outputs": [
    {
     "data": {
      "text/plain": [
       "(9,)"
      ]
     },
     "execution_count": 26,
     "metadata": {},
     "output_type": "execute_result"
    }
   ],
   "source": [
    "P.shape"
   ]
  },
  {
   "cell_type": "code",
   "execution_count": 27,
   "metadata": {},
   "outputs": [
    {
     "data": {
      "text/plain": [
       "'1.16.5'"
      ]
     },
     "execution_count": 27,
     "metadata": {},
     "output_type": "execute_result"
    }
   ],
   "source": [
    "np.__version__"
   ]
  },
  {
   "cell_type": "code",
   "execution_count": 28,
   "metadata": {},
   "outputs": [
    {
     "data": {
      "text/plain": [
       "array([   5,    6,   77,  543, 4567,   43])"
      ]
     },
     "execution_count": 28,
     "metadata": {},
     "output_type": "execute_result"
    }
   ],
   "source": [
    "l=[5,6,77,543,4567,43]\n",
    "D=np.array(l)\n",
    "D"
   ]
  },
  {
   "cell_type": "code",
   "execution_count": 29,
   "metadata": {},
   "outputs": [
    {
     "data": {
      "text/plain": [
       "array([[ 2,  3,  4],\n",
       "       [ 5,  6,  7],\n",
       "       [ 8,  9, 10]])"
      ]
     },
     "execution_count": 29,
     "metadata": {},
     "output_type": "execute_result"
    }
   ],
   "source": [
    "p=np.arange(2,11)\n",
    "p.reshape((3,3))"
   ]
  },
  {
   "cell_type": "code",
   "execution_count": 30,
   "metadata": {},
   "outputs": [
    {
     "data": {
      "text/plain": [
       "array([[ 0.,  0.,  0.,  0.,  0., 11.,  0.,  0.,  0.,  0.]])"
      ]
     },
     "execution_count": 30,
     "metadata": {},
     "output_type": "execute_result"
    }
   ],
   "source": [
    "P1=np.zeros((1,10))\n",
    "P1[0][5]=11\n",
    "P1"
   ]
  },
  {
   "cell_type": "code",
   "execution_count": 31,
   "metadata": {},
   "outputs": [
    {
     "data": {
      "text/plain": [
       "10"
      ]
     },
     "execution_count": 31,
     "metadata": {},
     "output_type": "execute_result"
    }
   ],
   "source": [
    "P1.size"
   ]
  },
  {
   "cell_type": "code",
   "execution_count": 32,
   "metadata": {},
   "outputs": [
    {
     "data": {
      "text/plain": [
       "8"
      ]
     },
     "execution_count": 32,
     "metadata": {},
     "output_type": "execute_result"
    }
   ],
   "source": [
    "P1.itemsize"
   ]
  },
  {
   "cell_type": "code",
   "execution_count": 33,
   "metadata": {
    "scrolled": false
   },
   "outputs": [
    {
     "data": {
      "text/plain": [
       "['ALLOW_THREADS',\n",
       " 'AxisError',\n",
       " 'BUFSIZE',\n",
       " 'CLIP',\n",
       " 'ComplexWarning',\n",
       " 'DataSource',\n",
       " 'ERR_CALL',\n",
       " 'ERR_DEFAULT',\n",
       " 'ERR_IGNORE',\n",
       " 'ERR_LOG',\n",
       " 'ERR_PRINT',\n",
       " 'ERR_RAISE',\n",
       " 'ERR_WARN',\n",
       " 'FLOATING_POINT_SUPPORT',\n",
       " 'FPE_DIVIDEBYZERO',\n",
       " 'FPE_INVALID',\n",
       " 'FPE_OVERFLOW',\n",
       " 'FPE_UNDERFLOW',\n",
       " 'False_',\n",
       " 'Inf',\n",
       " 'Infinity',\n",
       " 'MAXDIMS',\n",
       " 'MAY_SHARE_BOUNDS',\n",
       " 'MAY_SHARE_EXACT',\n",
       " 'MachAr',\n",
       " 'ModuleDeprecationWarning',\n",
       " 'NAN',\n",
       " 'NINF',\n",
       " 'NZERO',\n",
       " 'NaN',\n",
       " 'PINF',\n",
       " 'PZERO',\n",
       " 'RAISE',\n",
       " 'RankWarning',\n",
       " 'SHIFT_DIVIDEBYZERO',\n",
       " 'SHIFT_INVALID',\n",
       " 'SHIFT_OVERFLOW',\n",
       " 'SHIFT_UNDERFLOW',\n",
       " 'ScalarType',\n",
       " 'Tester',\n",
       " 'TooHardError',\n",
       " 'True_',\n",
       " 'UFUNC_BUFSIZE_DEFAULT',\n",
       " 'UFUNC_PYVALS_NAME',\n",
       " 'VisibleDeprecationWarning',\n",
       " 'WRAP',\n",
       " '_NoValue',\n",
       " '_UFUNC_API',\n",
       " '__NUMPY_SETUP__',\n",
       " '__all__',\n",
       " '__builtins__',\n",
       " '__cached__',\n",
       " '__config__',\n",
       " '__doc__',\n",
       " '__file__',\n",
       " '__git_revision__',\n",
       " '__loader__',\n",
       " '__mkl_version__',\n",
       " '__name__',\n",
       " '__package__',\n",
       " '__path__',\n",
       " '__spec__',\n",
       " '__version__',\n",
       " '_add_newdoc_ufunc',\n",
       " '_arg',\n",
       " '_distributor_init',\n",
       " '_globals',\n",
       " '_mat',\n",
       " '_mklinit',\n",
       " '_pytesttester',\n",
       " 'abs',\n",
       " 'absolute',\n",
       " 'absolute_import',\n",
       " 'add',\n",
       " 'add_docstring',\n",
       " 'add_newdoc',\n",
       " 'add_newdoc_ufunc',\n",
       " 'alen',\n",
       " 'all',\n",
       " 'allclose',\n",
       " 'alltrue',\n",
       " 'amax',\n",
       " 'amin',\n",
       " 'angle',\n",
       " 'any',\n",
       " 'append',\n",
       " 'apply_along_axis',\n",
       " 'apply_over_axes',\n",
       " 'arange',\n",
       " 'arccos',\n",
       " 'arccosh',\n",
       " 'arcsin',\n",
       " 'arcsinh',\n",
       " 'arctan',\n",
       " 'arctan2',\n",
       " 'arctanh',\n",
       " 'argmax',\n",
       " 'argmin',\n",
       " 'argpartition',\n",
       " 'argsort',\n",
       " 'argwhere',\n",
       " 'around',\n",
       " 'array',\n",
       " 'array2string',\n",
       " 'array_equal',\n",
       " 'array_equiv',\n",
       " 'array_repr',\n",
       " 'array_split',\n",
       " 'array_str',\n",
       " 'asanyarray',\n",
       " 'asarray',\n",
       " 'asarray_chkfinite',\n",
       " 'ascontiguousarray',\n",
       " 'asfarray',\n",
       " 'asfortranarray',\n",
       " 'asmatrix',\n",
       " 'asscalar',\n",
       " 'atleast_1d',\n",
       " 'atleast_2d',\n",
       " 'atleast_3d',\n",
       " 'average',\n",
       " 'bartlett',\n",
       " 'base_repr',\n",
       " 'binary_repr',\n",
       " 'bincount',\n",
       " 'bitwise_and',\n",
       " 'bitwise_not',\n",
       " 'bitwise_or',\n",
       " 'bitwise_xor',\n",
       " 'blackman',\n",
       " 'block',\n",
       " 'bmat',\n",
       " 'bool',\n",
       " 'bool8',\n",
       " 'bool_',\n",
       " 'broadcast',\n",
       " 'broadcast_arrays',\n",
       " 'broadcast_to',\n",
       " 'busday_count',\n",
       " 'busday_offset',\n",
       " 'busdaycalendar',\n",
       " 'byte',\n",
       " 'byte_bounds',\n",
       " 'bytes0',\n",
       " 'bytes_',\n",
       " 'c_',\n",
       " 'can_cast',\n",
       " 'cast',\n",
       " 'cbrt',\n",
       " 'cdouble',\n",
       " 'ceil',\n",
       " 'cfloat',\n",
       " 'char',\n",
       " 'character',\n",
       " 'chararray',\n",
       " 'choose',\n",
       " 'clip',\n",
       " 'clongdouble',\n",
       " 'clongfloat',\n",
       " 'column_stack',\n",
       " 'common_type',\n",
       " 'compare_chararrays',\n",
       " 'compat',\n",
       " 'complex',\n",
       " 'complex128',\n",
       " 'complex64',\n",
       " 'complex_',\n",
       " 'complexfloating',\n",
       " 'compress',\n",
       " 'concatenate',\n",
       " 'conj',\n",
       " 'conjugate',\n",
       " 'convolve',\n",
       " 'copy',\n",
       " 'copysign',\n",
       " 'copyto',\n",
       " 'core',\n",
       " 'corrcoef',\n",
       " 'correlate',\n",
       " 'cos',\n",
       " 'cosh',\n",
       " 'count_nonzero',\n",
       " 'cov',\n",
       " 'cross',\n",
       " 'csingle',\n",
       " 'ctypeslib',\n",
       " 'cumprod',\n",
       " 'cumproduct',\n",
       " 'cumsum',\n",
       " 'datetime64',\n",
       " 'datetime_as_string',\n",
       " 'datetime_data',\n",
       " 'deg2rad',\n",
       " 'degrees',\n",
       " 'delete',\n",
       " 'deprecate',\n",
       " 'deprecate_with_doc',\n",
       " 'diag',\n",
       " 'diag_indices',\n",
       " 'diag_indices_from',\n",
       " 'diagflat',\n",
       " 'diagonal',\n",
       " 'diff',\n",
       " 'digitize',\n",
       " 'disp',\n",
       " 'divide',\n",
       " 'division',\n",
       " 'divmod',\n",
       " 'dot',\n",
       " 'double',\n",
       " 'dsplit',\n",
       " 'dstack',\n",
       " 'dtype',\n",
       " 'e',\n",
       " 'ediff1d',\n",
       " 'einsum',\n",
       " 'einsum_path',\n",
       " 'emath',\n",
       " 'empty',\n",
       " 'empty_like',\n",
       " 'equal',\n",
       " 'errstate',\n",
       " 'euler_gamma',\n",
       " 'exp',\n",
       " 'exp2',\n",
       " 'expand_dims',\n",
       " 'expm1',\n",
       " 'extract',\n",
       " 'eye',\n",
       " 'fabs',\n",
       " 'fastCopyAndTranspose',\n",
       " 'fft',\n",
       " 'fill_diagonal',\n",
       " 'find_common_type',\n",
       " 'finfo',\n",
       " 'fix',\n",
       " 'flatiter',\n",
       " 'flatnonzero',\n",
       " 'flexible',\n",
       " 'flip',\n",
       " 'fliplr',\n",
       " 'flipud',\n",
       " 'float',\n",
       " 'float16',\n",
       " 'float32',\n",
       " 'float64',\n",
       " 'float_',\n",
       " 'float_power',\n",
       " 'floating',\n",
       " 'floor',\n",
       " 'floor_divide',\n",
       " 'fmax',\n",
       " 'fmin',\n",
       " 'fmod',\n",
       " 'format_float_positional',\n",
       " 'format_float_scientific',\n",
       " 'format_parser',\n",
       " 'frexp',\n",
       " 'frombuffer',\n",
       " 'fromfile',\n",
       " 'fromfunction',\n",
       " 'fromiter',\n",
       " 'frompyfunc',\n",
       " 'fromregex',\n",
       " 'fromstring',\n",
       " 'full',\n",
       " 'full_like',\n",
       " 'fv',\n",
       " 'gcd',\n",
       " 'generic',\n",
       " 'genfromtxt',\n",
       " 'geomspace',\n",
       " 'get_array_wrap',\n",
       " 'get_include',\n",
       " 'get_printoptions',\n",
       " 'getbufsize',\n",
       " 'geterr',\n",
       " 'geterrcall',\n",
       " 'geterrobj',\n",
       " 'gradient',\n",
       " 'greater',\n",
       " 'greater_equal',\n",
       " 'half',\n",
       " 'hamming',\n",
       " 'hanning',\n",
       " 'heaviside',\n",
       " 'histogram',\n",
       " 'histogram2d',\n",
       " 'histogram_bin_edges',\n",
       " 'histogramdd',\n",
       " 'hsplit',\n",
       " 'hstack',\n",
       " 'hypot',\n",
       " 'i0',\n",
       " 'identity',\n",
       " 'iinfo',\n",
       " 'imag',\n",
       " 'in1d',\n",
       " 'index_exp',\n",
       " 'indices',\n",
       " 'inexact',\n",
       " 'inf',\n",
       " 'info',\n",
       " 'infty',\n",
       " 'inner',\n",
       " 'insert',\n",
       " 'int',\n",
       " 'int0',\n",
       " 'int16',\n",
       " 'int32',\n",
       " 'int64',\n",
       " 'int8',\n",
       " 'int_',\n",
       " 'int_asbuffer',\n",
       " 'intc',\n",
       " 'integer',\n",
       " 'interp',\n",
       " 'intersect1d',\n",
       " 'intp',\n",
       " 'invert',\n",
       " 'ipmt',\n",
       " 'irr',\n",
       " 'is_busday',\n",
       " 'isclose',\n",
       " 'iscomplex',\n",
       " 'iscomplexobj',\n",
       " 'isfinite',\n",
       " 'isfortran',\n",
       " 'isin',\n",
       " 'isinf',\n",
       " 'isnan',\n",
       " 'isnat',\n",
       " 'isneginf',\n",
       " 'isposinf',\n",
       " 'isreal',\n",
       " 'isrealobj',\n",
       " 'isscalar',\n",
       " 'issctype',\n",
       " 'issubclass_',\n",
       " 'issubdtype',\n",
       " 'issubsctype',\n",
       " 'iterable',\n",
       " 'ix_',\n",
       " 'kaiser',\n",
       " 'kron',\n",
       " 'lcm',\n",
       " 'ldexp',\n",
       " 'left_shift',\n",
       " 'less',\n",
       " 'less_equal',\n",
       " 'lexsort',\n",
       " 'lib',\n",
       " 'linalg',\n",
       " 'linspace',\n",
       " 'little_endian',\n",
       " 'load',\n",
       " 'loads',\n",
       " 'loadtxt',\n",
       " 'log',\n",
       " 'log10',\n",
       " 'log1p',\n",
       " 'log2',\n",
       " 'logaddexp',\n",
       " 'logaddexp2',\n",
       " 'logical_and',\n",
       " 'logical_not',\n",
       " 'logical_or',\n",
       " 'logical_xor',\n",
       " 'logspace',\n",
       " 'long',\n",
       " 'longcomplex',\n",
       " 'longdouble',\n",
       " 'longfloat',\n",
       " 'longlong',\n",
       " 'lookfor',\n",
       " 'ma',\n",
       " 'mafromtxt',\n",
       " 'mask_indices',\n",
       " 'mat',\n",
       " 'math',\n",
       " 'matmul',\n",
       " 'matrix',\n",
       " 'matrixlib',\n",
       " 'max',\n",
       " 'maximum',\n",
       " 'maximum_sctype',\n",
       " 'may_share_memory',\n",
       " 'mean',\n",
       " 'median',\n",
       " 'memmap',\n",
       " 'meshgrid',\n",
       " 'mgrid',\n",
       " 'min',\n",
       " 'min_scalar_type',\n",
       " 'minimum',\n",
       " 'mintypecode',\n",
       " 'mirr',\n",
       " 'mod',\n",
       " 'modf',\n",
       " 'moveaxis',\n",
       " 'msort',\n",
       " 'multiply',\n",
       " 'nan',\n",
       " 'nan_to_num',\n",
       " 'nanargmax',\n",
       " 'nanargmin',\n",
       " 'nancumprod',\n",
       " 'nancumsum',\n",
       " 'nanmax',\n",
       " 'nanmean',\n",
       " 'nanmedian',\n",
       " 'nanmin',\n",
       " 'nanpercentile',\n",
       " 'nanprod',\n",
       " 'nanquantile',\n",
       " 'nanstd',\n",
       " 'nansum',\n",
       " 'nanvar',\n",
       " 'nbytes',\n",
       " 'ndarray',\n",
       " 'ndenumerate',\n",
       " 'ndfromtxt',\n",
       " 'ndim',\n",
       " 'ndindex',\n",
       " 'nditer',\n",
       " 'negative',\n",
       " 'nested_iters',\n",
       " 'newaxis',\n",
       " 'nextafter',\n",
       " 'nonzero',\n",
       " 'not_equal',\n",
       " 'nper',\n",
       " 'npv',\n",
       " 'numarray',\n",
       " 'number',\n",
       " 'obj2sctype',\n",
       " 'object',\n",
       " 'object0',\n",
       " 'object_',\n",
       " 'ogrid',\n",
       " 'oldnumeric',\n",
       " 'ones',\n",
       " 'ones_like',\n",
       " 'outer',\n",
       " 'packbits',\n",
       " 'pad',\n",
       " 'partition',\n",
       " 'percentile',\n",
       " 'pi',\n",
       " 'piecewise',\n",
       " 'place',\n",
       " 'pmt',\n",
       " 'poly',\n",
       " 'poly1d',\n",
       " 'polyadd',\n",
       " 'polyder',\n",
       " 'polydiv',\n",
       " 'polyfit',\n",
       " 'polyint',\n",
       " 'polymul',\n",
       " 'polynomial',\n",
       " 'polysub',\n",
       " 'polyval',\n",
       " 'positive',\n",
       " 'power',\n",
       " 'ppmt',\n",
       " 'print_function',\n",
       " 'printoptions',\n",
       " 'prod',\n",
       " 'product',\n",
       " 'promote_types',\n",
       " 'ptp',\n",
       " 'put',\n",
       " 'put_along_axis',\n",
       " 'putmask',\n",
       " 'pv',\n",
       " 'quantile',\n",
       " 'r_',\n",
       " 'rad2deg',\n",
       " 'radians',\n",
       " 'random',\n",
       " 'rank',\n",
       " 'rate',\n",
       " 'ravel',\n",
       " 'ravel_multi_index',\n",
       " 'real',\n",
       " 'real_if_close',\n",
       " 'rec',\n",
       " 'recarray',\n",
       " 'recfromcsv',\n",
       " 'recfromtxt',\n",
       " 'reciprocal',\n",
       " 'record',\n",
       " 'remainder',\n",
       " 'repeat',\n",
       " 'require',\n",
       " 'reshape',\n",
       " 'resize',\n",
       " 'result_type',\n",
       " 'right_shift',\n",
       " 'rint',\n",
       " 'roll',\n",
       " 'rollaxis',\n",
       " 'roots',\n",
       " 'rot90',\n",
       " 'round',\n",
       " 'round_',\n",
       " 'row_stack',\n",
       " 's_',\n",
       " 'safe_eval',\n",
       " 'save',\n",
       " 'savetxt',\n",
       " 'savez',\n",
       " 'savez_compressed',\n",
       " 'sctype2char',\n",
       " 'sctypeDict',\n",
       " 'sctypeNA',\n",
       " 'sctypes',\n",
       " 'searchsorted',\n",
       " 'select',\n",
       " 'set_numeric_ops',\n",
       " 'set_printoptions',\n",
       " 'set_string_function',\n",
       " 'setbufsize',\n",
       " 'setdiff1d',\n",
       " 'seterr',\n",
       " 'seterrcall',\n",
       " 'seterrobj',\n",
       " 'setxor1d',\n",
       " 'shape',\n",
       " 'shares_memory',\n",
       " 'short',\n",
       " 'show_config',\n",
       " 'sign',\n",
       " 'signbit',\n",
       " 'signedinteger',\n",
       " 'sin',\n",
       " 'sinc',\n",
       " 'single',\n",
       " 'singlecomplex',\n",
       " 'sinh',\n",
       " 'size',\n",
       " 'sometrue',\n",
       " 'sort',\n",
       " 'sort_complex',\n",
       " 'source',\n",
       " 'spacing',\n",
       " 'split',\n",
       " 'sqrt',\n",
       " 'square',\n",
       " 'squeeze',\n",
       " 'stack',\n",
       " 'std',\n",
       " 'str',\n",
       " 'str0',\n",
       " 'str_',\n",
       " 'string_',\n",
       " 'subtract',\n",
       " 'sum',\n",
       " 'swapaxes',\n",
       " 'sys',\n",
       " 'take',\n",
       " 'take_along_axis',\n",
       " 'tan',\n",
       " 'tanh',\n",
       " 'tensordot',\n",
       " 'test',\n",
       " 'testing',\n",
       " 'tile',\n",
       " 'timedelta64',\n",
       " 'trace',\n",
       " 'tracemalloc_domain',\n",
       " 'transpose',\n",
       " 'trapz',\n",
       " 'tri',\n",
       " 'tril',\n",
       " 'tril_indices',\n",
       " 'tril_indices_from',\n",
       " 'trim_zeros',\n",
       " 'triu',\n",
       " 'triu_indices',\n",
       " 'triu_indices_from',\n",
       " 'true_divide',\n",
       " 'trunc',\n",
       " 'typeDict',\n",
       " 'typeNA',\n",
       " 'typecodes',\n",
       " 'typename',\n",
       " 'ubyte',\n",
       " 'ufunc',\n",
       " 'uint',\n",
       " 'uint0',\n",
       " 'uint16',\n",
       " 'uint32',\n",
       " 'uint64',\n",
       " 'uint8',\n",
       " 'uintc',\n",
       " 'uintp',\n",
       " 'ulonglong',\n",
       " 'unicode',\n",
       " 'unicode_',\n",
       " 'union1d',\n",
       " 'unique',\n",
       " 'unpackbits',\n",
       " 'unravel_index',\n",
       " 'unsignedinteger',\n",
       " 'unwrap',\n",
       " 'ushort',\n",
       " 'vander',\n",
       " 'var',\n",
       " 'vdot',\n",
       " 'vectorize',\n",
       " 'version',\n",
       " 'void',\n",
       " 'void0',\n",
       " 'vsplit',\n",
       " 'vstack',\n",
       " 'warnings',\n",
       " 'where',\n",
       " 'who',\n",
       " 'zeros',\n",
       " 'zeros_like']"
      ]
     },
     "execution_count": 33,
     "metadata": {},
     "output_type": "execute_result"
    }
   ],
   "source": [
    "dir(np)"
   ]
  },
  {
   "cell_type": "code",
   "execution_count": 34,
   "metadata": {},
   "outputs": [
    {
     "data": {
      "text/plain": [
       "array([40, 50])"
      ]
     },
     "execution_count": 34,
     "metadata": {},
     "output_type": "execute_result"
    }
   ],
   "source": [
    "n1=np.arange(0,40,10)\n",
    "n1=np.array(n1)\n",
    "n2=np.arange(0,60,10)\n",
    "n2=np.array(n2)\n",
    "s1=set(list(n1))\n",
    "s2=set(list(n2))\n",
    "s3=(s1 | s2) - (s1&s2)\n",
    "s3=list(s3)\n",
    "s3=np.array(s3)\n",
    "n1\n",
    "n2\n",
    "s3\n"
   ]
  },
  {
   "cell_type": "code",
   "execution_count": 35,
   "metadata": {},
   "outputs": [
    {
     "data": {
      "text/plain": [
       "array([[14, 11, 39, 34, 20, 17, 12,  7,  6,  7,  9, 35],\n",
       "       [ 6, 25, 20, 30, 36, 25, 18, 16,  3, 13, 10, 18],\n",
       "       [ 3, 26, 36, 34, 38, 33,  4,  6, 25, 13, 23, 19],\n",
       "       [10, 13, 25, 18,  6, 13, 37, 26, 10, 31, 14,  3],\n",
       "       [35, 28,  8, 12, 13, 27, 32, 32, 39,  5, 22, 19],\n",
       "       [38, 25, 31, 15, 19, 15, 15, 30, 18, 29, 10, 30],\n",
       "       [28, 16,  7,  6, 15, 35, 29,  9, 20, 38, 20, 18],\n",
       "       [18, 38, 37, 31, 15, 29,  5, 26, 18, 24, 29, 12],\n",
       "       [28, 11, 32, 23,  5, 21,  4, 22, 34, 23, 26, 22],\n",
       "       [17, 16,  7, 22, 18, 33, 32, 19, 32,  5, 31, 35],\n",
       "       [34,  8,  8, 10, 11, 34, 19, 22, 10, 23, 10, 14],\n",
       "       [20,  6, 15, 33,  4, 34,  8, 31, 30, 28,  6, 18]])"
      ]
     },
     "execution_count": 35,
     "metadata": {},
     "output_type": "execute_result"
    }
   ],
   "source": [
    "s7=np.random.randint(3,40,(12,12))\n",
    "s7\n"
   ]
  },
  {
   "cell_type": "code",
   "execution_count": null,
   "metadata": {},
   "outputs": [],
   "source": []
  },
  {
   "cell_type": "code",
   "execution_count": 36,
   "metadata": {},
   "outputs": [
    {
     "data": {
      "text/plain": [
       "array([[ 0, 10],\n",
       "       [20, 30],\n",
       "       [40, 50],\n",
       "       [60, 70],\n",
       "       [80, 90]])"
      ]
     },
     "execution_count": 36,
     "metadata": {},
     "output_type": "execute_result"
    }
   ],
   "source": [
    "j6=np.arange(0,100,10)\n",
    "j6=j6.reshape(5,2)\n",
    "j6\n"
   ]
  },
  {
   "cell_type": "code",
   "execution_count": 37,
   "metadata": {},
   "outputs": [
    {
     "data": {
      "text/plain": [
       "array([20, 30, 40, 50, 60, 70, 80, 90])"
      ]
     },
     "execution_count": 37,
     "metadata": {},
     "output_type": "execute_result"
    }
   ],
   "source": [
    "j6=j6[j6[:]>10]\n",
    "j6\n",
    "j6"
   ]
  },
  {
   "cell_type": "code",
   "execution_count": 38,
   "metadata": {},
   "outputs": [
    {
     "data": {
      "text/plain": [
       "{2, 3, 5, 6, 8, 9}"
      ]
     },
     "execution_count": 38,
     "metadata": {},
     "output_type": "execute_result"
    }
   ],
   "source": [
    "h7=np.random.randint(2,10,(1,10))\n",
    "h7=h7.flatten()\n",
    "h7=list(h7)\n",
    "h7=set(h7)\n",
    "h7"
   ]
  },
  {
   "cell_type": "code",
   "execution_count": 39,
   "metadata": {},
   "outputs": [
    {
     "data": {
      "text/plain": [
       "{0, 10, 60, 70}"
      ]
     },
     "execution_count": 39,
     "metadata": {},
     "output_type": "execute_result"
    }
   ],
   "source": [
    "h1=[0,10,20,30,40,50]\n",
    "h2=[20,30,40,50,60,70]\n",
    "h1=set(h1)\n",
    "h2=set(h2)\n",
    "h3=h1&h2\n",
    "h4=h1|h2\n",
    "h4-h3"
   ]
  },
  {
   "cell_type": "code",
   "execution_count": 40,
   "metadata": {},
   "outputs": [
    {
     "name": "stdout",
     "output_type": "stream",
     "text": [
      "[[3 8 8 5 4 4 4 9 4]] [[1 4 2 7 2 3 7 2 1]]\n",
      "[False False False False False False False False False]\n"
     ]
    }
   ],
   "source": [
    "a1=np.random.randint(2,10,(1,9))\n",
    "a2=np.random.randint(1,8,(1,9))\n",
    "print(a1,a2)\n",
    "for i in range(len(a1)):\n",
    "    print(a1[i]==a2[i])\n",
    "    "
   ]
  },
  {
   "cell_type": "code",
   "execution_count": 41,
   "metadata": {},
   "outputs": [
    {
     "data": {
      "text/plain": [
       "array([3, 8, 8, 5, 4, 4, 4, 9, 4])"
      ]
     },
     "execution_count": 41,
     "metadata": {},
     "output_type": "execute_result"
    }
   ],
   "source": [
    "a1.flatten()"
   ]
  },
  {
   "cell_type": "code",
   "execution_count": 42,
   "metadata": {},
   "outputs": [
    {
     "data": {
      "text/plain": [
       "[1, 2, 3, 4, 5, 6, 7, 8, 9]"
      ]
     },
     "execution_count": 42,
     "metadata": {},
     "output_type": "execute_result"
    }
   ],
   "source": [
    "a3=list(np.arange(1,10,1))\n",
    "a3"
   ]
  },
  {
   "cell_type": "code",
   "execution_count": 43,
   "metadata": {},
   "outputs": [
    {
     "data": {
      "text/plain": [
       "(1, 2, 3, 4, 5, 6, 7, 8, 9)"
      ]
     },
     "execution_count": 43,
     "metadata": {},
     "output_type": "execute_result"
    }
   ],
   "source": [
    "a4=tuple(np.arange(1,10,1))\n",
    "a4"
   ]
  },
  {
   "cell_type": "code",
   "execution_count": 44,
   "metadata": {},
   "outputs": [
    {
     "data": {
      "text/plain": [
       "array([1, 2, 3, 4, 5, 6, 7, 8, 9])"
      ]
     },
     "execution_count": 44,
     "metadata": {},
     "output_type": "execute_result"
    }
   ],
   "source": [
    "a3=np.array(a3)\n",
    "a3"
   ]
  },
  {
   "cell_type": "code",
   "execution_count": 45,
   "metadata": {},
   "outputs": [
    {
     "data": {
      "text/plain": [
       "array([1, 2, 3, 4, 5, 6, 7, 8, 9])"
      ]
     },
     "execution_count": 45,
     "metadata": {},
     "output_type": "execute_result"
    }
   ],
   "source": [
    "a4=np.array(a4)\n",
    "a4"
   ]
  },
  {
   "cell_type": "code",
   "execution_count": 46,
   "metadata": {},
   "outputs": [
    {
     "data": {
      "text/plain": [
       "array([ 1,  2,  3,  4,  5,  6,  7,  8,  9, 40, 50, 60, 70, 20])"
      ]
     },
     "execution_count": 46,
     "metadata": {},
     "output_type": "execute_result"
    }
   ],
   "source": [
    "np.append(a3, values=[40,50,60,70,20])"
   ]
  },
  {
   "cell_type": "code",
   "execution_count": 47,
   "metadata": {},
   "outputs": [
    {
     "data": {
      "text/plain": [
       "array([[1., 1., 1., 1.],\n",
       "       [1., 1., 1., 1.],\n",
       "       [1., 1., 1., 1.],\n",
       "       [1., 1., 1., 1.]])"
      ]
     },
     "execution_count": 47,
     "metadata": {},
     "output_type": "execute_result"
    }
   ],
   "source": [
    "m3=np.ones((4,4))\n",
    "m3"
   ]
  },
  {
   "cell_type": "code",
   "execution_count": 48,
   "metadata": {},
   "outputs": [
    {
     "data": {
      "text/plain": [
       "array([[0.],\n",
       "       [0.],\n",
       "       [0.],\n",
       "       [0.],\n",
       "       [0.],\n",
       "       [0.]])"
      ]
     },
     "execution_count": 48,
     "metadata": {},
     "output_type": "execute_result"
    }
   ],
   "source": [
    "m4=np.zeros((1,4))\n",
    "m5=np.zeros((1,4))\n",
    "m6=np.zeros((6,1))\n",
    "m7=np.zeros((6,1))\n",
    "m6"
   ]
  },
  {
   "cell_type": "code",
   "execution_count": 49,
   "metadata": {},
   "outputs": [
    {
     "data": {
      "text/plain": [
       "array([[0., 0., 0., 0.],\n",
       "       [1., 1., 1., 1.],\n",
       "       [1., 1., 1., 1.],\n",
       "       [1., 1., 1., 1.],\n",
       "       [1., 1., 1., 1.],\n",
       "       [0., 0., 0., 0.]])"
      ]
     },
     "execution_count": 49,
     "metadata": {},
     "output_type": "execute_result"
    }
   ],
   "source": [
    "m3=np.concatenate((m3,m4))\n",
    "m3=np.concatenate((m5,m3))\n",
    "m3"
   ]
  },
  {
   "cell_type": "code",
   "execution_count": 50,
   "metadata": {},
   "outputs": [
    {
     "data": {
      "text/plain": [
       "array([[0., 0., 0., 0., 0.],\n",
       "       [1., 1., 1., 1., 0.],\n",
       "       [1., 1., 1., 1., 0.],\n",
       "       [1., 1., 1., 1., 0.],\n",
       "       [1., 1., 1., 1., 0.],\n",
       "       [0., 0., 0., 0., 0.]])"
      ]
     },
     "execution_count": 50,
     "metadata": {},
     "output_type": "execute_result"
    }
   ],
   "source": [
    "m3=np.concatenate((m3,m6),axis=1)\n",
    "m3"
   ]
  },
  {
   "cell_type": "code",
   "execution_count": 51,
   "metadata": {},
   "outputs": [
    {
     "data": {
      "text/plain": [
       "(array([1, 1, 1, 1, 2, 2, 2, 2, 3, 3, 3, 3, 4, 4, 4, 4], dtype=int64),\n",
       " array([0, 1, 2, 3, 0, 1, 2, 3, 0, 1, 2, 3, 0, 1, 2, 3], dtype=int64))"
      ]
     },
     "execution_count": 51,
     "metadata": {},
     "output_type": "execute_result"
    }
   ],
   "source": [
    "m3.nonzero()"
   ]
  },
  {
   "cell_type": "code",
   "execution_count": 52,
   "metadata": {},
   "outputs": [
    {
     "name": "stdout",
     "output_type": "stream",
     "text": [
      "[ True  True  True  True  True]\n",
      "[False False False False  True]\n",
      "[False False False False  True]\n",
      "[False False False False  True]\n",
      "[False False False False  True]\n",
      "[ True  True  True  True  True]\n"
     ]
    }
   ],
   "source": [
    "for i in range(len(m3)):\n",
    "    print(m3[i]==0)"
   ]
  },
  {
   "cell_type": "code",
   "execution_count": 53,
   "metadata": {},
   "outputs": [
    {
     "data": {
      "text/plain": [
       "array([1, 2, 3, 4, 1, 2, 3, 4, 1, 2, 3, 4, 1, 2, 3, 4])"
      ]
     },
     "execution_count": 53,
     "metadata": {},
     "output_type": "execute_result"
    }
   ],
   "source": [
    "s9=np.arange(1,5)\n",
    "s9\n",
    "s9=m3=np.concatenate((s9,s9))\n",
    "s9=m3=np.concatenate((s9,s9))\n",
    "s9"
   ]
  },
  {
   "cell_type": "code",
   "execution_count": 54,
   "metadata": {},
   "outputs": [
    {
     "data": {
      "text/plain": [
       "array([[ 2,  4,  6,  8, 10],\n",
       "       [22, 24, 26, 28, 30]])"
      ]
     },
     "execution_count": 54,
     "metadata": {},
     "output_type": "execute_result"
    }
   ],
   "source": [
    "a1=np.arange(2,11,2)\n",
    "a2=np.arange(22,31,2)\n",
    "a3=np.vstack((a1,a2))\n",
    "a3"
   ]
  },
  {
   "cell_type": "code",
   "execution_count": 55,
   "metadata": {},
   "outputs": [
    {
     "data": {
      "text/plain": [
       "array([[ 2, 22],\n",
       "       [ 4, 24],\n",
       "       [ 6, 26],\n",
       "       [ 8, 28],\n",
       "       [10, 30]])"
      ]
     },
     "execution_count": 55,
     "metadata": {},
     "output_type": "execute_result"
    }
   ],
   "source": [
    "a1=a1.reshape(5,1)\n",
    "a2=a2.reshape(5,1)\n",
    "a3=np.hstack((a1,a2))\n",
    "a3"
   ]
  },
  {
   "cell_type": "code",
   "execution_count": 56,
   "metadata": {},
   "outputs": [
    {
     "data": {
      "text/plain": [
       "array([10, 10, 10, 10, 10, 10, 10, 10, 10, 10])"
      ]
     },
     "execution_count": 56,
     "metadata": {},
     "output_type": "execute_result"
    }
   ],
   "source": [
    "a1=np.arange(21,31)\n",
    "a2=np.arange(11,21)\n",
    "a3=a1-a2\n",
    "a3"
   ]
  },
  {
   "cell_type": "code",
   "execution_count": 57,
   "metadata": {},
   "outputs": [
    {
     "data": {
      "text/plain": [
       "15"
      ]
     },
     "execution_count": 57,
     "metadata": {},
     "output_type": "execute_result"
    }
   ],
   "source": [
    "np.random.seed(5)\n",
    "x5=np.random.randint(0,29,(5,6))\n",
    "x5[2][3]"
   ]
  },
  {
   "cell_type": "code",
   "execution_count": 58,
   "metadata": {},
   "outputs": [
    {
     "data": {
      "text/plain": [
       "array([[1., 0., 0., 0., 0., 0., 0., 0., 0., 0.],\n",
       "       [0., 1., 0., 0., 0., 0., 0., 0., 0., 0.],\n",
       "       [0., 0., 1., 0., 0., 0., 0., 0., 0., 0.],\n",
       "       [0., 0., 0., 1., 0., 0., 0., 0., 0., 0.],\n",
       "       [0., 0., 0., 0., 1., 0., 0., 0., 0., 0.],\n",
       "       [0., 0., 0., 0., 0., 1., 0., 0., 0., 0.],\n",
       "       [0., 0., 0., 0., 0., 0., 1., 0., 0., 0.],\n",
       "       [0., 0., 0., 0., 0., 0., 0., 1., 0., 0.],\n",
       "       [0., 0., 0., 0., 0., 0., 0., 0., 1., 0.],\n",
       "       [0., 0., 0., 0., 0., 0., 0., 0., 0., 1.]])"
      ]
     },
     "execution_count": 58,
     "metadata": {},
     "output_type": "execute_result"
    }
   ],
   "source": [
    "a8=np.identity(10)\n",
    "a8\n",
    "a8"
   ]
  },
  {
   "cell_type": "code",
   "execution_count": 59,
   "metadata": {},
   "outputs": [
    {
     "data": {
      "text/plain": [
       "array([[ 1., 21., 21., 21., 21., 21., 21., 21., 21., 21.],\n",
       "       [21.,  1., 21., 21., 21., 21., 21., 21., 21., 21.],\n",
       "       [21., 21.,  1., 21., 21., 21., 21., 21., 21., 21.],\n",
       "       [21., 21., 21.,  1., 21., 21., 21., 21., 21., 21.],\n",
       "       [21., 21., 21., 21.,  1., 21., 21., 21., 21., 21.],\n",
       "       [21., 21., 21., 21., 21.,  1., 21., 21., 21., 21.],\n",
       "       [21., 21., 21., 21., 21., 21.,  1., 21., 21., 21.],\n",
       "       [21., 21., 21., 21., 21., 21., 21.,  1., 21., 21.],\n",
       "       [21., 21., 21., 21., 21., 21., 21., 21.,  1., 21.],\n",
       "       [21., 21., 21., 21., 21., 21., 21., 21., 21.,  1.]])"
      ]
     },
     "execution_count": 59,
     "metadata": {},
     "output_type": "execute_result"
    }
   ],
   "source": [
    "a8[a8[:]==0]=21\n",
    "a8"
   ]
  },
  {
   "cell_type": "code",
   "execution_count": 60,
   "metadata": {},
   "outputs": [
    {
     "name": "stdout",
     "output_type": "stream",
     "text": [
      "[ True  True  True  True  True  True  True False False  True]\n"
     ]
    },
    {
     "data": {
      "text/plain": [
       "array([0.62878791, 0.57983781, 0.5999292 , 0.26581912, 0.28468588,\n",
       "       0.25358821, 0.32756395, 0.1441643 , 0.16561286, 0.96393053])"
      ]
     },
     "execution_count": 60,
     "metadata": {},
     "output_type": "execute_result"
    }
   ],
   "source": [
    "a4=np.random.rand(10)\n",
    "a5=[]\n",
    "a5=[print(a4[:]>0.2)]\n",
    "a5\n",
    "a4\n"
   ]
  },
  {
   "cell_type": "code",
   "execution_count": 61,
   "metadata": {},
   "outputs": [
    {
     "data": {
      "text/plain": [
       "array([[ 0, 10, 20, 30, 40],\n",
       "       [50, 60, 70, 80, 90]])"
      ]
     },
     "execution_count": 61,
     "metadata": {},
     "output_type": "execute_result"
    }
   ],
   "source": [
    "s1=np.arange(0,100,10)\n",
    "s1=s1.reshape(2,5)\n",
    "s1"
   ]
  },
  {
   "cell_type": "code",
   "execution_count": 62,
   "metadata": {},
   "outputs": [
    {
     "data": {
      "text/plain": [
       "array([20, 30, 40, 50, 60, 70, 80, 90])"
      ]
     },
     "execution_count": 62,
     "metadata": {},
     "output_type": "execute_result"
    }
   ],
   "source": [
    "s2=s1[s1[:]>10]\n",
    "s2"
   ]
  },
  {
   "cell_type": "code",
   "execution_count": 63,
   "metadata": {},
   "outputs": [
    {
     "data": {
      "text/plain": [
       "(array([0, 0, 0, 0, 0, 0, 0, 0], dtype=int64),\n",
       " array([0, 0, 0, 1, 1, 1, 1, 1], dtype=int64),\n",
       " array([2, 3, 4, 0, 1, 2, 3, 4], dtype=int64))"
      ]
     },
     "execution_count": 63,
     "metadata": {},
     "output_type": "execute_result"
    }
   ],
   "source": [
    "s3=np.nonzero([s1>10])\n",
    "s3"
   ]
  },
  {
   "cell_type": "code",
   "execution_count": 64,
   "metadata": {},
   "outputs": [],
   "source": [
    "s4=np.savetxt('Save',s2)\n",
    "s4"
   ]
  },
  {
   "cell_type": "code",
   "execution_count": 65,
   "metadata": {},
   "outputs": [
    {
     "data": {
      "text/plain": [
       "32"
      ]
     },
     "execution_count": 65,
     "metadata": {},
     "output_type": "execute_result"
    }
   ],
   "source": [
    "s2.size*s2.itemsize"
   ]
  },
  {
   "cell_type": "code",
   "execution_count": 66,
   "metadata": {
    "scrolled": true
   },
   "outputs": [
    {
     "name": "stdout",
     "output_type": "stream",
     "text": [
      "[[1. 1. 1. 1. 1. 1. 1. 1. 1. 1.]]\n"
     ]
    }
   ],
   "source": [
    "s=np.ones((1,10))\n",
    "print(np.ones((1,10)))"
   ]
  },
  {
   "cell_type": "code",
   "execution_count": 67,
   "metadata": {},
   "outputs": [
    {
     "data": {
      "text/plain": [
       "array([[0., 0., 0., 0., 0., 0., 0., 0., 0., 0.]])"
      ]
     },
     "execution_count": 67,
     "metadata": {},
     "output_type": "execute_result"
    }
   ],
   "source": [
    "m=np.zeros((1,10))\n",
    "m"
   ]
  },
  {
   "cell_type": "code",
   "execution_count": 68,
   "metadata": {},
   "outputs": [
    {
     "data": {
      "text/plain": [
       "array([[1, 1, 1, 1, 1, 1, 1, 1, 1, 1]])"
      ]
     },
     "execution_count": 68,
     "metadata": {},
     "output_type": "execute_result"
    }
   ],
   "source": [
    "np.int_(s)"
   ]
  },
  {
   "cell_type": "code",
   "execution_count": 69,
   "metadata": {},
   "outputs": [
    {
     "data": {
      "text/plain": [
       "array([[0, 0, 0, 0, 0, 0, 0, 0, 0, 0]])"
      ]
     },
     "execution_count": 69,
     "metadata": {},
     "output_type": "execute_result"
    }
   ],
   "source": [
    "np.int_(m)"
   ]
  },
  {
   "cell_type": "code",
   "execution_count": 70,
   "metadata": {},
   "outputs": [
    {
     "data": {
      "text/plain": [
       "(4,)"
      ]
     },
     "execution_count": 70,
     "metadata": {},
     "output_type": "execute_result"
    }
   ],
   "source": [
    "m=np.arange(1,5)\n",
    "m.shape"
   ]
  },
  {
   "cell_type": "code",
   "execution_count": 71,
   "metadata": {},
   "outputs": [
    {
     "data": {
      "text/plain": [
       "(2, 2)"
      ]
     },
     "execution_count": 71,
     "metadata": {},
     "output_type": "execute_result"
    }
   ],
   "source": [
    "m=m.reshape(2,2)\n",
    "m.shape"
   ]
  },
  {
   "cell_type": "code",
   "execution_count": 72,
   "metadata": {},
   "outputs": [
    {
     "data": {
      "text/plain": [
       "array([ 0, 10, 20, 30, 40, 50, 60, 70, 80, 90])"
      ]
     },
     "execution_count": 72,
     "metadata": {},
     "output_type": "execute_result"
    }
   ],
   "source": [
    "s1\n",
    "s1.flatten()"
   ]
  },
  {
   "cell_type": "code",
   "execution_count": 73,
   "metadata": {},
   "outputs": [
    {
     "name": "stdout",
     "output_type": "stream",
     "text": [
      "(2, 3) 4 int32\n"
     ]
    }
   ],
   "source": [
    "s5=np.random.randint(2,6,(2,3))\n",
    "s5.shape\n",
    "print(s5.shape, s5.itemsize, s5.dtype)"
   ]
  },
  {
   "cell_type": "code",
   "execution_count": 74,
   "metadata": {},
   "outputs": [
    {
     "data": {
      "text/plain": [
       "array([[ 0, 10],\n",
       "       [20, 30],\n",
       "       [40, 50],\n",
       "       [60, 70],\n",
       "       [80, 90]])"
      ]
     },
     "execution_count": 74,
     "metadata": {},
     "output_type": "execute_result"
    }
   ],
   "source": [
    "s1.reshape(5,2)"
   ]
  },
  {
   "cell_type": "code",
   "execution_count": 75,
   "metadata": {},
   "outputs": [
    {
     "data": {
      "text/plain": [
       "array([[ 0, 10, 20, 30, 40],\n",
       "       [50, 60, 70, 80, 90]])"
      ]
     },
     "execution_count": 75,
     "metadata": {},
     "output_type": "execute_result"
    }
   ],
   "source": [
    "s1.reshape(2,5)"
   ]
  },
  {
   "cell_type": "code",
   "execution_count": 76,
   "metadata": {},
   "outputs": [
    {
     "data": {
      "text/plain": [
       "dtype('int32')"
      ]
     },
     "execution_count": 76,
     "metadata": {},
     "output_type": "execute_result"
    }
   ],
   "source": [
    "m.dtype"
   ]
  },
  {
   "cell_type": "code",
   "execution_count": 77,
   "metadata": {},
   "outputs": [
    {
     "name": "stdout",
     "output_type": "stream",
     "text": [
      "float64\n"
     ]
    }
   ],
   "source": [
    "m=np.float_(m)\n",
    "print(m.dtype)"
   ]
  },
  {
   "cell_type": "code",
   "execution_count": 78,
   "metadata": {},
   "outputs": [
    {
     "data": {
      "text/plain": [
       "array([[2., 2., 2., 2., 2.],\n",
       "       [2., 2., 2., 2., 2.],\n",
       "       [2., 2., 2., 2., 2.]])"
      ]
     },
     "execution_count": 78,
     "metadata": {},
     "output_type": "execute_result"
    }
   ],
   "source": [
    "np.ones((3,5))*2"
   ]
  },
  {
   "cell_type": "code",
   "execution_count": 79,
   "metadata": {},
   "outputs": [
    {
     "data": {
      "text/plain": [
       "array([[1., 0., 0.],\n",
       "       [0., 1., 0.],\n",
       "       [0., 0., 1.]])"
      ]
     },
     "execution_count": 79,
     "metadata": {},
     "output_type": "execute_result"
    }
   ],
   "source": [
    "np.identity((3))"
   ]
  },
  {
   "cell_type": "code",
   "execution_count": 80,
   "metadata": {},
   "outputs": [
    {
     "data": {
      "text/plain": [
       "array([[4., 0., 0., 0.],\n",
       "       [0., 5., 0., 0.],\n",
       "       [0., 0., 6., 0.],\n",
       "       [0., 0., 0., 8.]])"
      ]
     },
     "execution_count": 80,
     "metadata": {},
     "output_type": "execute_result"
    }
   ],
   "source": [
    "arr=np.identity((4))\n",
    "l=[4,5,6,8]\n",
    "for i in range(len(arr)):\n",
    "    arr[i][i]=l[i]\n",
    "arr"
   ]
  },
  {
   "cell_type": "code",
   "execution_count": 81,
   "metadata": {},
   "outputs": [
    {
     "data": {
      "text/plain": [
       "array([ 0,  1,  2,  3,  4,  5,  6,  7,  8,  9, 10, 11, 12, 13, 14, 15, 16,\n",
       "       17, 18, 19, 20, 21, 22, 23, 24, 25, 26, 27, 28, 29, 30, 31, 32, 33,\n",
       "       34, 35, 36, 37, 38, 39, 40, 41, 42, 43, 44, 45, 46, 47, 48, 49])"
      ]
     },
     "execution_count": 81,
     "metadata": {},
     "output_type": "execute_result"
    }
   ],
   "source": [
    "np.arange(0,50,1)"
   ]
  },
  {
   "cell_type": "code",
   "execution_count": 82,
   "metadata": {},
   "outputs": [
    {
     "data": {
      "text/plain": [
       "array([10, 11, 12, 13, 14, 15, 16, 17, 18, 19, 20, 21, 22, 23, 24, 25, 26,\n",
       "       27, 28, 29, 30, 31, 32, 33, 34, 35, 36, 37, 38, 39, 40, 41, 42, 43,\n",
       "       44, 45, 46, 47, 48, 49])"
      ]
     },
     "execution_count": 82,
     "metadata": {},
     "output_type": "execute_result"
    }
   ],
   "source": [
    "np.arange(10,50,1)"
   ]
  },
  {
   "cell_type": "code",
   "execution_count": 83,
   "metadata": {},
   "outputs": [
    {
     "data": {
      "text/plain": [
       "array([2.5  , 2.633, 2.766, 2.899, 3.032, 3.165, 3.298, 3.431, 3.564,\n",
       "       3.697, 3.83 , 3.963, 4.096, 4.229, 4.362, 4.495, 4.628, 4.761,\n",
       "       4.894, 5.027, 5.16 , 5.293, 5.426, 5.559, 5.692, 5.825, 5.958,\n",
       "       6.091, 6.224, 6.357, 6.49 ])"
      ]
     },
     "execution_count": 83,
     "metadata": {},
     "output_type": "execute_result"
    }
   ],
   "source": [
    "np.arange(2.5,6.5,0.133)\n"
   ]
  },
  {
   "cell_type": "code",
   "execution_count": 84,
   "metadata": {},
   "outputs": [
    {
     "data": {
      "text/plain": [
       "array([0.69314718, 0.73896718, 0.78478718, 0.83060718, 0.87642718,\n",
       "       0.92224718, 0.96806718, 1.01388718, 1.05970718, 1.10552718,\n",
       "       1.15134718, 1.19716718, 1.24298718, 1.28880718, 1.33462718,\n",
       "       1.38044718, 1.42626718, 1.47208718, 1.51790718, 1.56372718])"
      ]
     },
     "execution_count": 84,
     "metadata": {},
     "output_type": "execute_result"
    }
   ],
   "source": [
    "np.arange(np.log(2),np.log(5),0.04582)"
   ]
  },
  {
   "cell_type": "code",
   "execution_count": 85,
   "metadata": {},
   "outputs": [
    {
     "data": {
      "text/plain": [
       "array([[0., 0., 0., 0., 0., 0.],\n",
       "       [0., 0., 0., 0., 0., 0.],\n",
       "       [0., 0., 0., 0., 0., 0.],\n",
       "       [0., 0., 0., 0., 0., 0.],\n",
       "       [0., 0., 0., 0., 0., 0.],\n",
       "       [0., 0., 0., 0., 0., 0.],\n",
       "       [1., 1., 1., 1., 1., 1.],\n",
       "       [1., 1., 1., 1., 1., 1.],\n",
       "       [1., 1., 1., 1., 1., 1.],\n",
       "       [1., 1., 1., 1., 1., 1.],\n",
       "       [1., 1., 1., 1., 1., 1.],\n",
       "       [1., 1., 1., 1., 1., 1.]])"
      ]
     },
     "execution_count": 85,
     "metadata": {},
     "output_type": "execute_result"
    }
   ],
   "source": [
    "#np.set_printoptions(edgeitems=1)\n",
    "h1=np.zeros((6,6))\n",
    "h2=np.ones((6,6))\n",
    "np.vstack((h1,h2))"
   ]
  },
  {
   "cell_type": "code",
   "execution_count": 86,
   "metadata": {},
   "outputs": [
    {
     "data": {
      "text/plain": [
       "array([[ 2,  3,  4],\n",
       "       [ 5,  6,  7],\n",
       "       [ 0,  9, 10],\n",
       "       [ 0,  0, 13]])"
      ]
     },
     "execution_count": 86,
     "metadata": {},
     "output_type": "execute_result"
    }
   ],
   "source": [
    "s8=np.arange(2,14)\n",
    "s8=s8.reshape((4,3))\n",
    "s8\n",
    "s8[2][0]=0\n",
    "s8[3][1]=0\n",
    "s8[3][0]=0\n",
    "s8"
   ]
  },
  {
   "cell_type": "code",
   "execution_count": 87,
   "metadata": {},
   "outputs": [
    {
     "data": {
      "text/plain": [
       "array([1., 0., 0., 0., 1., 0., 0., 0., 1.])"
      ]
     },
     "execution_count": 87,
     "metadata": {},
     "output_type": "execute_result"
    }
   ],
   "source": [
    "s9=np.identity(3)\n",
    "s9.flatten()"
   ]
  },
  {
   "cell_type": "code",
   "execution_count": 88,
   "metadata": {},
   "outputs": [
    {
     "data": {
      "text/plain": [
       "(4, 3)"
      ]
     },
     "execution_count": 88,
     "metadata": {},
     "output_type": "execute_result"
    }
   ],
   "source": [
    "s8.shape"
   ]
  },
  {
   "cell_type": "code",
   "execution_count": 89,
   "metadata": {},
   "outputs": [
    {
     "data": {
      "text/plain": [
       "array([[ 2,  5,  0,  0],\n",
       "       [ 3,  6,  9,  0],\n",
       "       [ 4,  7, 10, 13]])"
      ]
     },
     "execution_count": 89,
     "metadata": {},
     "output_type": "execute_result"
    }
   ],
   "source": [
    "s8.transpose()"
   ]
  },
  {
   "cell_type": "code",
   "execution_count": 90,
   "metadata": {
    "scrolled": true
   },
   "outputs": [
    {
     "data": {
      "text/plain": [
       "array([[ 0, 13,  2],\n",
       "       [ 3,  4,  5],\n",
       "       [ 6,  7,  0],\n",
       "       [ 9, 10,  0]])"
      ]
     },
     "execution_count": 90,
     "metadata": {},
     "output_type": "execute_result"
    }
   ],
   "source": [
    "np.roll(s8,2)"
   ]
  },
  {
   "cell_type": "code",
   "execution_count": 91,
   "metadata": {},
   "outputs": [
    {
     "data": {
      "text/plain": [
       "array([2, 3, 4, 5])"
      ]
     },
     "execution_count": 91,
     "metadata": {},
     "output_type": "execute_result"
    }
   ],
   "source": [
    "A=np.array([2,3,4,5])\n",
    "A=np.roll(A,4)\n",
    "A"
   ]
  },
  {
   "cell_type": "code",
   "execution_count": 92,
   "metadata": {},
   "outputs": [
    {
     "data": {
      "text/plain": [
       "array([[ 2,  3,  4,  2,  3,  4],\n",
       "       [ 5,  6,  7,  5,  6,  7],\n",
       "       [ 0,  9, 10,  0,  9, 10],\n",
       "       [ 0,  0, 13,  0,  0, 13]])"
      ]
     },
     "execution_count": 92,
     "metadata": {},
     "output_type": "execute_result"
    }
   ],
   "source": [
    "np.hstack((s8,s8))"
   ]
  },
  {
   "cell_type": "code",
   "execution_count": 93,
   "metadata": {},
   "outputs": [
    {
     "data": {
      "text/plain": [
       "array([[2, 2],\n",
       "       [3, 3],\n",
       "       [4, 4],\n",
       "       [5, 5]])"
      ]
     },
     "execution_count": 93,
     "metadata": {},
     "output_type": "execute_result"
    }
   ],
   "source": [
    "np.vstack((A,A)).transpose()"
   ]
  },
  {
   "cell_type": "code",
   "execution_count": 94,
   "metadata": {},
   "outputs": [
    {
     "data": {
      "text/plain": [
       "array([[[2, 2]],\n",
       "\n",
       "       [[3, 3]],\n",
       "\n",
       "       [[4, 4]],\n",
       "\n",
       "       [[5, 5]]])"
      ]
     },
     "execution_count": 94,
     "metadata": {},
     "output_type": "execute_result"
    }
   ],
   "source": [
    "a=np.vstack((A,A)).transpose()\n",
    "a.reshape(4,1,2)"
   ]
  },
  {
   "cell_type": "code",
   "execution_count": 95,
   "metadata": {},
   "outputs": [
    {
     "data": {
      "text/plain": [
       "array([[[ 3,  5,  7,  9, 11, 13, 15]],\n",
       "\n",
       "       [[17, 19, 21, 23, 25, 27, 29]]])"
      ]
     },
     "execution_count": 95,
     "metadata": {},
     "output_type": "execute_result"
    }
   ],
   "source": [
    "np.arange(3,30,2).reshape(2,7).reshape(2,1,7)"
   ]
  },
  {
   "cell_type": "code",
   "execution_count": 96,
   "metadata": {},
   "outputs": [
    {
     "name": "stdout",
     "output_type": "stream",
     "text": [
      "[3 5] [ 7  9 11 13] [15 17 19 21 23 25 27 29]\n"
     ]
    }
   ],
   "source": [
    "b=np.arange(3,30,2)\n",
    "b1=b[0:2]\n",
    "b2=b[2:6]\n",
    "b3=b[6:14]\n",
    "print(b1,b2,b3)\n"
   ]
  },
  {
   "cell_type": "code",
   "execution_count": 97,
   "metadata": {},
   "outputs": [
    {
     "data": {
      "text/plain": [
       "array([[ 0,  1,  2,  3],\n",
       "       [ 4,  5,  6,  7],\n",
       "       [ 8,  9, 10, 11],\n",
       "       [12, 13, 14, 15]])"
      ]
     },
     "execution_count": 97,
     "metadata": {},
     "output_type": "execute_result"
    }
   ],
   "source": [
    "c=np.arange(0,16).reshape(4,4)\n",
    "c"
   ]
  },
  {
   "cell_type": "code",
   "execution_count": 98,
   "metadata": {},
   "outputs": [
    {
     "data": {
      "text/plain": [
       "array([[[ 0,  1,  2,  3]],\n",
       "\n",
       "       [[ 4,  5,  6,  7]],\n",
       "\n",
       "       [[ 8,  9, 10, 11]],\n",
       "\n",
       "       [[12, 13, 14, 15]]])"
      ]
     },
     "execution_count": 98,
     "metadata": {},
     "output_type": "execute_result"
    }
   ],
   "source": [
    "c.reshape(4,1,4)"
   ]
  },
  {
   "cell_type": "code",
   "execution_count": 99,
   "metadata": {},
   "outputs": [
    {
     "data": {
      "text/plain": [
       "array([[0, 1, 2, 3],\n",
       "       [4, 5, 6, 7]])"
      ]
     },
     "execution_count": 99,
     "metadata": {},
     "output_type": "execute_result"
    }
   ],
   "source": [
    "c=np.arange(0,8).reshape(2,1,4)\n",
    "c.reshape(2,4)"
   ]
  },
  {
   "cell_type": "code",
   "execution_count": 100,
   "metadata": {},
   "outputs": [
    {
     "name": "stdout",
     "output_type": "stream",
     "text": [
      "[[[0 1 2 3]]\n",
      "\n",
      " [[4 5 6 7]]] []\n"
     ]
    }
   ],
   "source": [
    "c1=c[0:4,0:2]\n",
    "c2=c[0:4,2:4]\n",
    "print(c1,c2)"
   ]
  },
  {
   "cell_type": "code",
   "execution_count": 101,
   "metadata": {},
   "outputs": [
    {
     "data": {
      "text/plain": [
       "5"
      ]
     },
     "execution_count": 101,
     "metadata": {},
     "output_type": "execute_result"
    }
   ],
   "source": [
    "d=np.array([[ 0,10,20],[20,30,40]])\n",
    "d_=d[d[:]!=0]\n",
    "d_.size"
   ]
  },
  {
   "cell_type": "code",
   "execution_count": 102,
   "metadata": {},
   "outputs": [
    {
     "data": {
      "text/plain": [
       "array([[2, 3, 4, 5]])"
      ]
     },
     "execution_count": 102,
     "metadata": {},
     "output_type": "execute_result"
    }
   ],
   "source": [
    "a11=np.array([2,3,4,5])\n",
    "a11=a11.reshape(1,4)\n",
    "a11"
   ]
  },
  {
   "cell_type": "code",
   "execution_count": 103,
   "metadata": {},
   "outputs": [],
   "source": [
    "#print(np.rollaxis(a11,3,1).shape)"
   ]
  },
  {
   "cell_type": "code",
   "execution_count": 104,
   "metadata": {},
   "outputs": [
    {
     "data": {
      "text/plain": [
       "array([[0, 1, 2, 3, 4],\n",
       "       [0, 1, 2, 3, 4],\n",
       "       [0, 1, 2, 3, 4],\n",
       "       [0, 1, 2, 3, 4],\n",
       "       [0, 1, 2, 3, 4]])"
      ]
     },
     "execution_count": 104,
     "metadata": {},
     "output_type": "execute_result"
    }
   ],
   "source": [
    "e=np.arange(0,5)\n",
    "e=np.vstack((e,e,e,e,e))\n",
    "e"
   ]
  },
  {
   "cell_type": "code",
   "execution_count": 105,
   "metadata": {},
   "outputs": [
    {
     "data": {
      "text/plain": [
       "array([[ 0,  1],\n",
       "       [ 2,  3],\n",
       "       [ 4,  5],\n",
       "       [ 6,  7],\n",
       "       [ 8,  9],\n",
       "       [10, 11],\n",
       "       [12, 13],\n",
       "       [14, 15],\n",
       "       [16, 17],\n",
       "       [18, 19],\n",
       "       [20, 21],\n",
       "       [22, 23],\n",
       "       [24, 25],\n",
       "       [26, 27],\n",
       "       [28, 29]])"
      ]
     },
     "execution_count": 105,
     "metadata": {},
     "output_type": "execute_result"
    }
   ],
   "source": [
    "f=np.arange(0,30)\n",
    "f.reshape(15,2)"
   ]
  },
  {
   "cell_type": "code",
   "execution_count": 106,
   "metadata": {},
   "outputs": [
    {
     "name": "stdout",
     "output_type": "stream",
     "text": [
      "[False False False False False False False False False False False False\n",
      " False False False  True False False False False False False False False\n",
      " False False False False False False]\n",
      "[False False False False False False False False False False False False\n",
      " False False False False  True False False False False False False False\n",
      " False False False False False False]\n",
      "[False False False False False False False False False False False False\n",
      " False False False False False False False  True False False False False\n",
      " False False False False False False]\n",
      "[False False  True False False False False False False False False False\n",
      " False False False False False False False False False False False False\n",
      " False False False False False False]\n",
      "[False False False  True False False False False False False False False\n",
      " False False False False False False False False False False False False\n",
      " False False False False False False]\n"
     ]
    }
   ],
   "source": [
    "f1=[15,16,19,2,3]\n",
    "for i in range(len(f1)):\n",
    "    print(f[:]==f1[i])"
   ]
  },
  {
   "cell_type": "code",
   "execution_count": 107,
   "metadata": {},
   "outputs": [
    {
     "data": {
      "text/plain": [
       "array([0. , 0.1, 0.2, 0.3, 0.4, 0.5, 0.6, 0.7, 0.8, 0.9])"
      ]
     },
     "execution_count": 107,
     "metadata": {},
     "output_type": "execute_result"
    }
   ],
   "source": [
    "np.linspace(0,0.9,10)"
   ]
  },
  {
   "cell_type": "code",
   "execution_count": 108,
   "metadata": {},
   "outputs": [
    {
     "data": {
      "text/plain": [
       "array([ 3,  5,  6,  9, 10, 12, 15, 18, 20, 21, 24, 25, 27, 30, 33, 35, 36,\n",
       "       39, 40, 42, 45, 48, 50, 51, 54, 55, 57, 60, 63, 65, 66, 69, 70, 72,\n",
       "       75, 78, 80, 81, 84, 85, 87, 90, 93, 95, 96, 99])"
      ]
     },
     "execution_count": 108,
     "metadata": {},
     "output_type": "execute_result"
    }
   ],
   "source": [
    "y=np.arange(1,100)\n",
    "y1=y[((y[:]%3)==0) | ((y[:]%5)==0)]\n",
    "y1"
   ]
  },
  {
   "cell_type": "code",
   "execution_count": 109,
   "metadata": {},
   "outputs": [
    {
     "data": {
      "text/plain": [
       "2318"
      ]
     },
     "execution_count": 109,
     "metadata": {},
     "output_type": "execute_result"
    }
   ],
   "source": [
    "np.sum(y1)"
   ]
  },
  {
   "cell_type": "code",
   "execution_count": 110,
   "metadata": {},
   "outputs": [],
   "source": [
    "#np.arange(0,1000)"
   ]
  },
  {
   "cell_type": "code",
   "execution_count": 111,
   "metadata": {},
   "outputs": [
    {
     "name": "stdout",
     "output_type": "stream",
     "text": [
      "[3, 5, 6, 9, 10, 12, 15, 18, 20, 21, 24, 25, 27, 30, 33, 35, 36, 39, 40, 42, 45, 48, 50, 51, 54, 55, 57, 60, 63, 65, 66, 69, 70, 72, 75, 78, 80, 81, 84, 85, 87, 90, 93, 95, 96, 99]\n"
     ]
    }
   ],
   "source": [
    "p=[]\n",
    "for i in range(len(y1)):\n",
    "    p.append(y1[i])\n",
    "\n",
    "print(p)"
   ]
  },
  {
   "cell_type": "code",
   "execution_count": 112,
   "metadata": {},
   "outputs": [
    {
     "data": {
      "text/plain": [
       "array([[[1., 1., 1., 1., 1.],\n",
       "        [1., 1., 1., 1., 1.],\n",
       "        [1., 1., 1., 1., 1.],\n",
       "        [1., 1., 1., 1., 1.],\n",
       "        [1., 1., 1., 1., 1.]],\n",
       "\n",
       "       [[1., 1., 1., 1., 1.],\n",
       "        [1., 1., 1., 1., 1.],\n",
       "        [1., 1., 1., 1., 1.],\n",
       "        [1., 1., 1., 1., 1.],\n",
       "        [1., 1., 1., 1., 1.]],\n",
       "\n",
       "       [[1., 1., 1., 1., 1.],\n",
       "        [1., 1., 1., 1., 1.],\n",
       "        [1., 1., 1., 1., 1.],\n",
       "        [1., 1., 1., 1., 1.],\n",
       "        [1., 1., 1., 1., 1.]],\n",
       "\n",
       "       [[1., 1., 1., 1., 1.],\n",
       "        [1., 1., 1., 1., 1.],\n",
       "        [1., 1., 1., 1., 1.],\n",
       "        [1., 1., 1., 1., 1.],\n",
       "        [1., 1., 1., 1., 1.]],\n",
       "\n",
       "       [[1., 1., 1., 1., 1.],\n",
       "        [1., 1., 1., 1., 1.],\n",
       "        [1., 1., 1., 1., 1.],\n",
       "        [1., 1., 1., 1., 1.],\n",
       "        [1., 1., 1., 1., 1.]]])"
      ]
     },
     "execution_count": 112,
     "metadata": {},
     "output_type": "execute_result"
    }
   ],
   "source": [
    "P=np.ones((5,5,5))\n",
    "P"
   ]
  },
  {
   "cell_type": "code",
   "execution_count": 113,
   "metadata": {},
   "outputs": [
    {
     "data": {
      "text/plain": [
       "array([0.09090909, 0.18181818, 0.27272727, 0.36363636, 0.45454545,\n",
       "       0.54545455, 0.63636364, 0.72727273, 0.81818182, 0.90909091])"
      ]
     },
     "execution_count": 113,
     "metadata": {},
     "output_type": "execute_result"
    }
   ],
   "source": [
    "vec=np.linspace(0,1,12)\n",
    "vec=np.delete(vec,11)\n",
    "vec=np.delete(vec,0)\n",
    "vec"
   ]
  },
  {
   "cell_type": "code",
   "execution_count": 114,
   "metadata": {},
   "outputs": [
    {
     "name": "stdout",
     "output_type": "stream",
     "text": [
      "enter one number4\n",
      "enter 4 numbers2 4 6 1\n"
     ]
    }
   ],
   "source": [
    "a=int(input('enter one number'))\n",
    "b,h,j,d=(input('enter 4 numbers')).split()\n",
    "b=[b,h,j,d]\n",
    "a=np.array([a])\n",
    "\n"
   ]
  },
  {
   "cell_type": "code",
   "execution_count": 115,
   "metadata": {},
   "outputs": [
    {
     "data": {
      "text/plain": [
       "array([[[4]]])"
      ]
     },
     "execution_count": 115,
     "metadata": {},
     "output_type": "execute_result"
    }
   ],
   "source": [
    "b=np.array([b])\n",
    "b=b.reshape(2,2)\n",
    "b=np.int_(b)\n",
    "a=a.reshape(1,1,1)\n",
    "a"
   ]
  },
  {
   "cell_type": "code",
   "execution_count": 116,
   "metadata": {},
   "outputs": [
    {
     "data": {
      "text/plain": [
       "array([[[2, 4]],\n",
       "\n",
       "       [[6, 1]]])"
      ]
     },
     "execution_count": 116,
     "metadata": {},
     "output_type": "execute_result"
    }
   ],
   "source": [
    "b=b.reshape(2,1,2)\n",
    "b"
   ]
  },
  {
   "cell_type": "code",
   "execution_count": 117,
   "metadata": {},
   "outputs": [
    {
     "name": "stdout",
     "output_type": "stream",
     "text": [
      "enter one number5 \n",
      "enter 4 numbers4 7 8 9\n"
     ]
    }
   ],
   "source": [
    "a=int(input('enter one number'))\n",
    "b,h,j,d=(input('enter 4 numbers')).split()\n",
    "b=[b,h,j,d]\n",
    "a=np.array([[[a]]])\n",
    "b=np.int_(b)\n",
    "b=np.array([[b]])"
   ]
  },
  {
   "cell_type": "code",
   "execution_count": 118,
   "metadata": {},
   "outputs": [],
   "source": [
    "a=a.flatten()"
   ]
  },
  {
   "cell_type": "code",
   "execution_count": 119,
   "metadata": {},
   "outputs": [
    {
     "data": {
      "text/plain": [
       "array([[[4, 7]],\n",
       "\n",
       "       [[8, 9]]])"
      ]
     },
     "execution_count": 119,
     "metadata": {},
     "output_type": "execute_result"
    }
   ],
   "source": [
    "b=b.reshape(2,1,2)\n",
    "b"
   ]
  },
  {
   "cell_type": "code",
   "execution_count": 120,
   "metadata": {},
   "outputs": [
    {
     "name": "stdout",
     "output_type": "stream",
     "text": [
      "[5] [4 7] [8 9]\n"
     ]
    }
   ],
   "source": [
    "b=b.flatten()\n",
    "b1=b[0:2]\n",
    "b2=b[2:4]\n",
    "print(a,b1,b2)"
   ]
  },
  {
   "cell_type": "code",
   "execution_count": 121,
   "metadata": {},
   "outputs": [
    {
     "data": {
      "text/plain": [
       "array([0.        , 0.54545455, 1.09090909, 1.63636364, 2.18181818,\n",
       "       2.72727273, 3.27272727, 3.81818182, 4.36363636, 4.90909091,\n",
       "       5.45454545, 6.        ])"
      ]
     },
     "execution_count": 121,
     "metadata": {},
     "output_type": "execute_result"
    }
   ],
   "source": [
    "vec=np.linspace(0,2,12)\n",
    "vec*3"
   ]
  },
  {
   "cell_type": "code",
   "execution_count": 122,
   "metadata": {},
   "outputs": [
    {
     "name": "stdout",
     "output_type": "stream",
     "text": [
      "Help on function linspace in module numpy:\n",
      "\n",
      "linspace(start, stop, num=50, endpoint=True, retstep=False, dtype=None, axis=0)\n",
      "    Return evenly spaced numbers over a specified interval.\n",
      "    \n",
      "    Returns `num` evenly spaced samples, calculated over the\n",
      "    interval [`start`, `stop`].\n",
      "    \n",
      "    The endpoint of the interval can optionally be excluded.\n",
      "    \n",
      "    .. versionchanged:: 1.16.0\n",
      "        Non-scalar `start` and `stop` are now supported.\n",
      "    \n",
      "    Parameters\n",
      "    ----------\n",
      "    start : array_like\n",
      "        The starting value of the sequence.\n",
      "    stop : array_like\n",
      "        The end value of the sequence, unless `endpoint` is set to False.\n",
      "        In that case, the sequence consists of all but the last of ``num + 1``\n",
      "        evenly spaced samples, so that `stop` is excluded.  Note that the step\n",
      "        size changes when `endpoint` is False.\n",
      "    num : int, optional\n",
      "        Number of samples to generate. Default is 50. Must be non-negative.\n",
      "    endpoint : bool, optional\n",
      "        If True, `stop` is the last sample. Otherwise, it is not included.\n",
      "        Default is True.\n",
      "    retstep : bool, optional\n",
      "        If True, return (`samples`, `step`), where `step` is the spacing\n",
      "        between samples.\n",
      "    dtype : dtype, optional\n",
      "        The type of the output array.  If `dtype` is not given, infer the data\n",
      "        type from the other input arguments.\n",
      "    \n",
      "        .. versionadded:: 1.9.0\n",
      "    \n",
      "    axis : int, optional\n",
      "        The axis in the result to store the samples.  Relevant only if start\n",
      "        or stop are array-like.  By default (0), the samples will be along a\n",
      "        new axis inserted at the beginning. Use -1 to get an axis at the end.\n",
      "    \n",
      "        .. versionadded:: 1.16.0\n",
      "    \n",
      "    Returns\n",
      "    -------\n",
      "    samples : ndarray\n",
      "        There are `num` equally spaced samples in the closed interval\n",
      "        ``[start, stop]`` or the half-open interval ``[start, stop)``\n",
      "        (depending on whether `endpoint` is True or False).\n",
      "    step : float, optional\n",
      "        Only returned if `retstep` is True\n",
      "    \n",
      "        Size of spacing between samples.\n",
      "    \n",
      "    \n",
      "    See Also\n",
      "    --------\n",
      "    arange : Similar to `linspace`, but uses a step size (instead of the\n",
      "             number of samples).\n",
      "    geomspace : Similar to `linspace`, but with numbers spaced evenly on a log\n",
      "                scale (a geometric progression).\n",
      "    logspace : Similar to `geomspace`, but with the end points specified as\n",
      "               logarithms.\n",
      "    \n",
      "    Examples\n",
      "    --------\n",
      "    >>> np.linspace(2.0, 3.0, num=5)\n",
      "    array([ 2.  ,  2.25,  2.5 ,  2.75,  3.  ])\n",
      "    >>> np.linspace(2.0, 3.0, num=5, endpoint=False)\n",
      "    array([ 2. ,  2.2,  2.4,  2.6,  2.8])\n",
      "    >>> np.linspace(2.0, 3.0, num=5, retstep=True)\n",
      "    (array([ 2.  ,  2.25,  2.5 ,  2.75,  3.  ]), 0.25)\n",
      "    \n",
      "    Graphical illustration:\n",
      "    \n",
      "    >>> import matplotlib.pyplot as plt\n",
      "    >>> N = 8\n",
      "    >>> y = np.zeros(N)\n",
      "    >>> x1 = np.linspace(0, 10, N, endpoint=True)\n",
      "    >>> x2 = np.linspace(0, 10, N, endpoint=False)\n",
      "    >>> plt.plot(x1, y, 'o')\n",
      "    [<matplotlib.lines.Line2D object at 0x...>]\n",
      "    >>> plt.plot(x2, y + 0.5, 'o')\n",
      "    [<matplotlib.lines.Line2D object at 0x...>]\n",
      "    >>> plt.ylim([-0.5, 1])\n",
      "    (-0.5, 1)\n",
      "    >>> plt.show()\n",
      "\n"
     ]
    }
   ],
   "source": [
    "help(np.linspace)"
   ]
  },
  {
   "cell_type": "code",
   "execution_count": 123,
   "metadata": {},
   "outputs": [
    {
     "data": {
      "text/plain": [
       "array([[2, 4, 5, 6],\n",
       "       [2, 4, 5, 6]])"
      ]
     },
     "execution_count": 123,
     "metadata": {},
     "output_type": "execute_result"
    }
   ],
   "source": [
    "a=np.array([2,4,5,6,2,4,5,6])\n",
    "a=a.reshape(2,4)\n",
    "a"
   ]
  },
  {
   "cell_type": "code",
   "execution_count": 124,
   "metadata": {},
   "outputs": [
    {
     "data": {
      "text/plain": [
       "array([[4, 7, 8, 9]])"
      ]
     },
     "execution_count": 124,
     "metadata": {},
     "output_type": "execute_result"
    }
   ],
   "source": [
    "b=b.reshape(1,4)\n",
    "b"
   ]
  },
  {
   "cell_type": "code",
   "execution_count": 125,
   "metadata": {},
   "outputs": [
    {
     "name": "stdout",
     "output_type": "stream",
     "text": [
      "4 2\n",
      "7 4\n",
      "8 5\n",
      "9 6\n",
      "4 2\n",
      "7 4\n",
      "8 5\n",
      "9 6\n"
     ]
    }
   ],
   "source": [
    "bl=list(b.flatten())\n",
    "al=list(a.flatten())\n",
    "j=0\n",
    "while j<8:\n",
    "    for i in range(4):\n",
    "        j=j+1\n",
    "        print(bl[i],al[i])\n",
    "        if (j==8):\n",
    "            break\n"
   ]
  },
  {
   "cell_type": "code",
   "execution_count": 126,
   "metadata": {},
   "outputs": [
    {
     "data": {
      "text/plain": [
       "array([[  8,  64, 125, 216],\n",
       "       [  8,  64, 125, 216]], dtype=int32)"
      ]
     },
     "execution_count": 126,
     "metadata": {},
     "output_type": "execute_result"
    }
   ],
   "source": [
    "a**3"
   ]
  },
  {
   "cell_type": "code",
   "execution_count": 127,
   "metadata": {},
   "outputs": [
    {
     "data": {
      "text/plain": [
       "array([[ 0,  1,  2,  3,  4],\n",
       "       [ 5,  6,  7,  8,  9],\n",
       "       [10, 11, 12, 13, 14],\n",
       "       [15, 16, 17, 18, 19],\n",
       "       [20, 21, 22, 23, 24],\n",
       "       [25, 26, 27, 28, 29]])"
      ]
     },
     "execution_count": 127,
     "metadata": {},
     "output_type": "execute_result"
    }
   ],
   "source": [
    "f=f.reshape(6,5)\n",
    "f"
   ]
  },
  {
   "cell_type": "code",
   "execution_count": 128,
   "metadata": {},
   "outputs": [
    {
     "name": "stdout",
     "output_type": "stream",
     "text": [
      "[ 0  5 10 15 20 25]\n",
      "[ 1  6 11 16 21 26]\n",
      "[ 2  7 12 17 22 27]\n",
      "[ 3  8 13 18 23 28]\n"
     ]
    }
   ],
   "source": [
    "for i in range(1,5):\n",
    "    f1=np.array(f[0:6,(i-1):i])\n",
    "    f1=f1.reshape(1,6)\n",
    "    print(f1.flatten())"
   ]
  },
  {
   "cell_type": "code",
   "execution_count": 129,
   "metadata": {},
   "outputs": [
    {
     "name": "stdout",
     "output_type": "stream",
     "text": [
      "['1' 'Red' '12.2']\n",
      "['2' 'Green' '15.0']\n",
      "['3' 'White' '20.0']\n",
      "['4' 'Orange' '40.0']\n"
     ]
    }
   ],
   "source": [
    "f2=np.array([1,2,3,4])\n",
    "f3=np.array(['Red', 'Green', 'White', 'Orange'])\n",
    "f4=np.array([12.20,15,20,40])\n",
    "for i in range(len(f4)):\n",
    "    f5=np.array([int(f2[i]),f3[i],float(f4[i])])\n",
    "    print(f5)"
   ]
  },
  {
   "cell_type": "code",
   "execution_count": 130,
   "metadata": {},
   "outputs": [
    {
     "data": {
      "text/plain": [
       "array([0.36787944, 0.44822088, 0.51979489, 0.57375342, 0.60279818])"
      ]
     },
     "execution_count": 130,
     "metadata": {},
     "output_type": "execute_result"
    }
   ],
   "source": [
    "f5=np.array([0.36787944, 0.44822088, 0.51979489, 0.57375342, 0.60279818] )\n",
    "f5\n"
   ]
  },
  {
   "cell_type": "code",
   "execution_count": 131,
   "metadata": {},
   "outputs": [
    {
     "data": {
      "text/plain": [
       "array([0.36787944, 0.44822088, 0.51979489, 0.57375342, 0.60279818,\n",
       "       0.60279818, 0.57375342, 0.51979489, 0.44822088, 0.36787944])"
      ]
     },
     "execution_count": 131,
     "metadata": {},
     "output_type": "execute_result"
    }
   ],
   "source": [
    "f6=f5[::-1]\n",
    "f6\n",
    "f7=np.concatenate((f5,f6))\n",
    "f7"
   ]
  },
  {
   "cell_type": "code",
   "execution_count": 132,
   "metadata": {},
   "outputs": [
    {
     "data": {
      "text/plain": [
       "array([0.36787944, 0.44822088, 0.51979489, 0.57375342, 0.60279818,\n",
       "       0.60279818, 0.57375342, 0.51979489, 0.44822088, 0.36787944,\n",
       "       0.36787944, 0.44822088, 0.51979489, 0.57375342, 0.60279818,\n",
       "       0.60279818, 0.57375342, 0.51979489, 0.44822088, 0.36787944,\n",
       "       0.36787944, 0.44822088, 0.51979489, 0.57375342, 0.60279818,\n",
       "       0.60279818, 0.57375342, 0.51979489, 0.44822088, 0.36787944,\n",
       "       0.36787944, 0.44822088, 0.51979489, 0.57375342, 0.60279818,\n",
       "       0.60279818, 0.57375342, 0.51979489, 0.44822088, 0.36787944,\n",
       "       0.36787944, 0.44822088, 0.51979489, 0.57375342, 0.60279818,\n",
       "       0.60279818, 0.57375342, 0.51979489, 0.44822088, 0.36787944])"
      ]
     },
     "execution_count": 132,
     "metadata": {},
     "output_type": "execute_result"
    }
   ],
   "source": [
    "f7=np.hstack((f7,f7,f7,f7,f7))\n",
    "f7"
   ]
  },
  {
   "cell_type": "code",
   "execution_count": 133,
   "metadata": {},
   "outputs": [
    {
     "data": {
      "text/plain": [
       "array([[0.36787944, 0.44822088, 0.51979489, 0.57375342, 0.60279818],\n",
       "       [0.60279818, 0.57375342, 0.51979489, 0.44822088, 0.36787944],\n",
       "       [0.36787944, 0.44822088, 0.51979489, 0.57375342, 0.60279818],\n",
       "       [0.60279818, 0.57375342, 0.51979489, 0.44822088, 0.36787944],\n",
       "       [0.36787944, 0.44822088, 0.51979489, 0.57375342, 0.60279818],\n",
       "       [0.60279818, 0.57375342, 0.51979489, 0.44822088, 0.36787944],\n",
       "       [0.36787944, 0.44822088, 0.51979489, 0.57375342, 0.60279818],\n",
       "       [0.60279818, 0.57375342, 0.51979489, 0.44822088, 0.36787944],\n",
       "       [0.36787944, 0.44822088, 0.51979489, 0.57375342, 0.60279818],\n",
       "       [0.60279818, 0.57375342, 0.51979489, 0.44822088, 0.36787944]])"
      ]
     },
     "execution_count": 133,
     "metadata": {},
     "output_type": "execute_result"
    }
   ],
   "source": [
    "f7=f7.reshape(10,5)\n",
    "f7"
   ]
  },
  {
   "cell_type": "code",
   "execution_count": 134,
   "metadata": {},
   "outputs": [
    {
     "data": {
      "text/plain": [
       "[[0, 1], [2, 3], [4, 5]]"
      ]
     },
     "execution_count": 134,
     "metadata": {},
     "output_type": "execute_result"
    }
   ],
   "source": [
    "np.arange(0,6).reshape(3,2).tolist()"
   ]
  },
  {
   "cell_type": "code",
   "execution_count": 135,
   "metadata": {},
   "outputs": [
    {
     "name": "stdout",
     "output_type": "stream",
     "text": [
      "[0, 1] \n",
      " [2, 3] \n",
      " [4, 5]\n"
     ]
    }
   ],
   "source": [
    "n1=np.arange(0,6).reshape(3,2).tolist()\n",
    "print(n1[0],'\\n',n1[1],'\\n',n1[2])"
   ]
  },
  {
   "cell_type": "code",
   "execution_count": 136,
   "metadata": {},
   "outputs": [
    {
     "data": {
      "text/plain": [
       "array([[12.  , 12.51],\n",
       "       [ 2.34,  7.98],\n",
       "       [25.23, 36.5 ]])"
      ]
     },
     "execution_count": 136,
     "metadata": {},
     "output_type": "execute_result"
    }
   ],
   "source": [
    "np.array([[ 12. ,12.51],[ 2.34, 7.98],[ 25.23, 36.5 ]])"
   ]
  },
  {
   "cell_type": "code",
   "execution_count": 137,
   "metadata": {},
   "outputs": [
    {
     "data": {
      "text/plain": [
       "array([[12, 12],\n",
       "       [ 2,  7],\n",
       "       [25, 36]])"
      ]
     },
     "execution_count": 137,
     "metadata": {},
     "output_type": "execute_result"
    }
   ],
   "source": [
    "np.int_(np.array([[ 12. ,12.51],[ 2.34, 7.98],[ 25.23, 36.5 ]]))"
   ]
  },
  {
   "cell_type": "code",
   "execution_count": 138,
   "metadata": {},
   "outputs": [
    {
     "data": {
      "text/plain": [
       "array([0.262, 0.528, 0.572, 0.593, 0.783, 0.697, 0.354, 0.995, 0.069,\n",
       "       0.547])"
      ]
     },
     "execution_count": 138,
     "metadata": {},
     "output_type": "execute_result"
    }
   ],
   "source": [
    "np.array([ 0.26153123, 0.52760141, 0.5718299 ,0.5927067 ,0.7831874, 0.69746349,\n",
    "0.35399976, 0.99469633 ,0.0694458 ,0.54711478] ).round(3)"
   ]
  },
  {
   "cell_type": "code",
   "execution_count": 139,
   "metadata": {},
   "outputs": [
    {
     "name": "stdout",
     "output_type": "stream",
     "text": [
      "[   0.       1.6   1200.       0.235]\n"
     ]
    }
   ],
   "source": [
    "f8=np.array([ 1.60000000e-10 ,1.60000000e+00, 1.20000000e+03, 2.35000000e-01] )\n",
    "np.set_printoptions(suppress=True)\n",
    "print(f8)"
   ]
  },
  {
   "cell_type": "code",
   "execution_count": 140,
   "metadata": {},
   "outputs": [
    {
     "name": "stdout",
     "output_type": "stream",
     "text": [
      "enter the number5\n",
      "enter the number6\n"
     ]
    },
    {
     "data": {
      "text/plain": [
       "array([[5, 5, 5, 5, 5, 5, 5, 5, 5, 5]])"
      ]
     },
     "execution_count": 140,
     "metadata": {},
     "output_type": "execute_result"
    }
   ],
   "source": [
    "a=int(input('enter the number'))\n",
    "b=int(input('enter the number'))\n",
    "A=np.random.randint(a,b,(1,10))\n",
    "A"
   ]
  },
  {
   "cell_type": "code",
   "execution_count": 141,
   "metadata": {},
   "outputs": [
    {
     "data": {
      "text/plain": [
       "array([ 0,  1,  2,  3,  4,  5,  6,  7,  8,  9, 10, 11])"
      ]
     },
     "execution_count": 141,
     "metadata": {},
     "output_type": "execute_result"
    }
   ],
   "source": [
    "yg=np.arange(0,12)\n",
    "np.reshape(yg,(12,),order='F')"
   ]
  },
  {
   "cell_type": "code",
   "execution_count": 142,
   "metadata": {},
   "outputs": [
    {
     "data": {
      "text/plain": [
       "array([[100],\n",
       "       [110],\n",
       "       [120],\n",
       "       [130],\n",
       "       [140],\n",
       "       [150],\n",
       "       [160],\n",
       "       [170],\n",
       "       [180],\n",
       "       [190]])"
      ]
     },
     "execution_count": 142,
     "metadata": {},
     "output_type": "execute_result"
    }
   ],
   "source": [
    "fi=np.array(np.arange(100,200,10))\n",
    "fi=fi.reshape(10,1)\n",
    "fi\n"
   ]
  },
  {
   "cell_type": "code",
   "execution_count": 143,
   "metadata": {},
   "outputs": [
    {
     "data": {
      "text/plain": [
       "array([[  0.36787944,   0.44822088,   0.51979489,   0.57375342,\n",
       "          0.60279818, 100.        ],\n",
       "       [  0.60279818,   0.57375342,   0.51979489,   0.44822088,\n",
       "          0.36787944, 110.        ],\n",
       "       [  0.36787944,   0.44822088,   0.51979489,   0.57375342,\n",
       "          0.60279818, 120.        ],\n",
       "       [  0.60279818,   0.57375342,   0.51979489,   0.44822088,\n",
       "          0.36787944, 130.        ],\n",
       "       [  0.36787944,   0.44822088,   0.51979489,   0.57375342,\n",
       "          0.60279818, 140.        ],\n",
       "       [  0.60279818,   0.57375342,   0.51979489,   0.44822088,\n",
       "          0.36787944, 150.        ],\n",
       "       [  0.36787944,   0.44822088,   0.51979489,   0.57375342,\n",
       "          0.60279818, 160.        ],\n",
       "       [  0.60279818,   0.57375342,   0.51979489,   0.44822088,\n",
       "          0.36787944, 170.        ],\n",
       "       [  0.36787944,   0.44822088,   0.51979489,   0.57375342,\n",
       "          0.60279818, 180.        ],\n",
       "       [  0.60279818,   0.57375342,   0.51979489,   0.44822088,\n",
       "          0.36787944, 190.        ]])"
      ]
     },
     "execution_count": 143,
     "metadata": {},
     "output_type": "execute_result"
    }
   ],
   "source": [
    "f7=np.hstack((f7,fi))\n",
    "f7"
   ]
  },
  {
   "cell_type": "code",
   "execution_count": 144,
   "metadata": {},
   "outputs": [
    {
     "data": {
      "text/plain": [
       "array([[ 0, 20, 20, 20],\n",
       "       [10, 20, 20, 20],\n",
       "       [20, 20, 20,  0],\n",
       "       [22, 22, 22, 22],\n",
       "       [20, 20, 20, 20]])"
      ]
     },
     "execution_count": 144,
     "metadata": {},
     "output_type": "execute_result"
    }
   ],
   "source": [
    "z=np.array([[ 0, 20, 20, 20],[10, 20, 20, 20],[20, 20, 20, 0],[22,22,22,22],[20,20,20,20]])\n",
    "z"
   ]
  },
  {
   "cell_type": "code",
   "execution_count": 145,
   "metadata": {},
   "outputs": [
    {
     "data": {
      "text/plain": [
       "array([ 0, 20, 22])"
      ]
     },
     "execution_count": 145,
     "metadata": {},
     "output_type": "execute_result"
    }
   ],
   "source": [
    "y=np.unique(z[1:,1:4],return_index=False)\n",
    "y\n",
    "\n",
    "\n"
   ]
  },
  {
   "cell_type": "code",
   "execution_count": 146,
   "metadata": {},
   "outputs": [
    {
     "data": {
      "text/plain": [
       "array([[0.42436315, 0.48558583, 0.32924763],\n",
       "       [0.7439979 , 0.58220701, 0.38213418],\n",
       "       [0.5097581 , 0.34528799, 0.1563123 ]])"
      ]
     },
     "execution_count": 146,
     "metadata": {},
     "output_type": "execute_result"
    }
   ],
   "source": [
    "y_k=np.array([[ 0.42436315, 0.48558583, 0.32924763], [ 0.7439979,0.58220701,0.38213418], [ 0.5097581,0.34528799,0.1563123 ]])\n",
    "y_k"
   ]
  },
  {
   "cell_type": "code",
   "execution_count": 147,
   "metadata": {},
   "outputs": [
    {
     "data": {
      "text/plain": [
       "array([[0.42436315, 0.48558583, 0.32924763],\n",
       "       [0.5       , 0.5       , 0.38213418],\n",
       "       [0.5       , 0.34528799, 0.1563123 ]])"
      ]
     },
     "execution_count": 147,
     "metadata": {},
     "output_type": "execute_result"
    }
   ],
   "source": [
    "y_k[y_k>0.5]=0.5\n",
    "y_k"
   ]
  },
  {
   "cell_type": "code",
   "execution_count": 148,
   "metadata": {},
   "outputs": [
    {
     "data": {
      "text/plain": [
       "array([  0,  10,  20,  30,  40,  50,  60,  70,  80,  90, 100])"
      ]
     },
     "execution_count": 148,
     "metadata": {},
     "output_type": "execute_result"
    }
   ],
   "source": [
    "h_t=np.arange(0,110,10)\n",
    "h_t"
   ]
  },
  {
   "cell_type": "code",
   "execution_count": 149,
   "metadata": {},
   "outputs": [
    {
     "name": "stdout",
     "output_type": "stream",
     "text": [
      "enter the index4\n",
      "enter the index2\n",
      "[  0  10  30  50  60  70  80  90 100]\n"
     ]
    }
   ],
   "source": [
    "h= int(input('enter the index'))\n",
    "t=int(input('enter the index'))\n",
    "h=[h,t]\n",
    "for i in range(len(h)):\n",
    "    h_t=np.delete(h_t,h[i])\n",
    "    \n",
    "print(h_t)"
   ]
  },
  {
   "cell_type": "code",
   "execution_count": 150,
   "metadata": {},
   "outputs": [
    {
     "data": {
      "text/plain": [
       "array([0, 0, 0, 2, 3, 4, 5, 0])"
      ]
     },
     "execution_count": 150,
     "metadata": {},
     "output_type": "execute_result"
    }
   ],
   "source": [
    "g=np.array([-1, -4 ,0, 2, 3 ,4, 5 ,-6])\n",
    "g[g<0]=0\n",
    "g"
   ]
  },
  {
   "cell_type": "code",
   "execution_count": 19,
   "metadata": {},
   "outputs": [
    {
     "data": {
      "text/plain": [
       "array([[ 1.,  2.,  3.],\n",
       "       [ 4.,  5., nan],\n",
       "       [ 7.,  8.,  9.],\n",
       "       [ 1.,  0., nan]])"
      ]
     },
     "execution_count": 19,
     "metadata": {},
     "output_type": "execute_result"
    }
   ],
   "source": [
    "g1=np.array([[ 1, 2, 3],[ 4,5,(np.nan)],[ 7, 8, 9],[ 1, 0, (np.nan)]])\n",
    "g1"
   ]
  },
  {
   "cell_type": "code",
   "execution_count": 20,
   "metadata": {},
   "outputs": [
    {
     "data": {
      "text/plain": [
       "(array([1, 3], dtype=int64), array([2, 2], dtype=int64))"
      ]
     },
     "execution_count": 20,
     "metadata": {},
     "output_type": "execute_result"
    }
   ],
   "source": [
    "g2=np.where(np.isnan(g1))\n",
    "g3=list(g2[0])\n",
    "g2"
   ]
  },
  {
   "cell_type": "code",
   "execution_count": 21,
   "metadata": {},
   "outputs": [
    {
     "data": {
      "text/plain": [
       "array([[1., 2., 3.],\n",
       "       [7., 8., 9.]])"
      ]
     },
     "execution_count": 21,
     "metadata": {},
     "output_type": "execute_result"
    }
   ],
   "source": [
    "g11=np.delete(g1,1,0)\n",
    "g11=np.delete(g11,2,0)\n",
    "g11"
   ]
  },
  {
   "cell_type": "code",
   "execution_count": 22,
   "metadata": {},
   "outputs": [
    {
     "name": "stdout",
     "output_type": "stream",
     "text": [
      "[ 97 101 105 111 117] \n",
      " ['a' 'e' 'i' 'o' 'u']\n"
     ]
    }
   ],
   "source": [
    "a = np.array([97, 101, 105, 111, 117])\n",
    "b = np.array(['a','e','i','o','u'])\n",
    "print(a ,'\\n', b)\n"
   ]
  },
  {
   "cell_type": "code",
   "execution_count": 23,
   "metadata": {},
   "outputs": [
    {
     "name": "stdout",
     "output_type": "stream",
     "text": [
      "[array(['e', 'i'], dtype='<U1')]\n"
     ]
    }
   ],
   "source": [
    "c=np.where((100<a)&(a<110))\n",
    "c=list(c)\n",
    "c=list(c)\n",
    "d=[]\n",
    "for i in range(len(c)):\n",
    "    d.append(b[c[i]])\n",
    "    d=list(d)\n",
    "print(d)"
   ]
  },
  {
   "cell_type": "code",
   "execution_count": 24,
   "metadata": {},
   "outputs": [
    {
     "data": {
      "text/plain": [
       "7.416198487095663"
      ]
     },
     "execution_count": 24,
     "metadata": {},
     "output_type": "execute_result"
    }
   ],
   "source": [
    "np.linalg.norm(np.array([1,2,3,4,5]))"
   ]
  },
  {
   "cell_type": "code",
   "execution_count": 25,
   "metadata": {},
   "outputs": [
    {
     "name": "stdout",
     "output_type": "stream",
     "text": [
      "Help on package numpy.linalg in numpy:\n",
      "\n",
      "NAME\n",
      "    numpy.linalg\n",
      "\n",
      "DESCRIPTION\n",
      "    Core Linear Algebra Tools\n",
      "    -------------------------\n",
      "    Linear algebra basics:\n",
      "    \n",
      "    - norm            Vector or matrix norm\n",
      "    - inv             Inverse of a square matrix\n",
      "    - solve           Solve a linear system of equations\n",
      "    - det             Determinant of a square matrix\n",
      "    - lstsq           Solve linear least-squares problem\n",
      "    - pinv            Pseudo-inverse (Moore-Penrose) calculated using a singular\n",
      "                      value decomposition\n",
      "    - matrix_power    Integer power of a square matrix\n",
      "    \n",
      "    Eigenvalues and decompositions:\n",
      "    \n",
      "    - eig             Eigenvalues and vectors of a square matrix\n",
      "    - eigh            Eigenvalues and eigenvectors of a Hermitian matrix\n",
      "    - eigvals         Eigenvalues of a square matrix\n",
      "    - eigvalsh        Eigenvalues of a Hermitian matrix\n",
      "    - qr              QR decomposition of a matrix\n",
      "    - svd             Singular value decomposition of a matrix\n",
      "    - cholesky        Cholesky decomposition of a matrix\n",
      "    \n",
      "    Tensor operations:\n",
      "    \n",
      "    - tensorsolve     Solve a linear tensor equation\n",
      "    - tensorinv       Calculate an inverse of a tensor\n",
      "    \n",
      "    Exceptions:\n",
      "    \n",
      "    - LinAlgError     Indicates a failed linear algebra operation\n",
      "\n",
      "PACKAGE CONTENTS\n",
      "    _umath_linalg\n",
      "    info\n",
      "    lapack_lite\n",
      "    linalg\n",
      "    setup\n",
      "    tests (package)\n",
      "\n",
      "CLASSES\n",
      "    builtins.Exception(builtins.BaseException)\n",
      "        LinAlgError\n",
      "    \n",
      "    class LinAlgError(builtins.Exception)\n",
      "     |  Generic Python-exception-derived object raised by linalg functions.\n",
      "     |  \n",
      "     |  General purpose exception class, derived from Python's exception.Exception\n",
      "     |  class, programmatically raised in linalg functions when a Linear\n",
      "     |  Algebra-related condition would prevent further correct execution of the\n",
      "     |  function.\n",
      "     |  \n",
      "     |  Parameters\n",
      "     |  ----------\n",
      "     |  None\n",
      "     |  \n",
      "     |  Examples\n",
      "     |  --------\n",
      "     |  >>> from numpy import linalg as LA\n",
      "     |  >>> LA.inv(np.zeros((2,2)))\n",
      "     |  Traceback (most recent call last):\n",
      "     |    File \"<stdin>\", line 1, in <module>\n",
      "     |    File \"...linalg.py\", line 350,\n",
      "     |      in inv return wrap(solve(a, identity(a.shape[0], dtype=a.dtype)))\n",
      "     |    File \"...linalg.py\", line 249,\n",
      "     |      in solve\n",
      "     |      raise LinAlgError('Singular matrix')\n",
      "     |  numpy.linalg.LinAlgError: Singular matrix\n",
      "     |  \n",
      "     |  Method resolution order:\n",
      "     |      LinAlgError\n",
      "     |      builtins.Exception\n",
      "     |      builtins.BaseException\n",
      "     |      builtins.object\n",
      "     |  \n",
      "     |  Data descriptors defined here:\n",
      "     |  \n",
      "     |  __weakref__\n",
      "     |      list of weak references to the object (if defined)\n",
      "     |  \n",
      "     |  ----------------------------------------------------------------------\n",
      "     |  Methods inherited from builtins.Exception:\n",
      "     |  \n",
      "     |  __init__(self, /, *args, **kwargs)\n",
      "     |      Initialize self.  See help(type(self)) for accurate signature.\n",
      "     |  \n",
      "     |  ----------------------------------------------------------------------\n",
      "     |  Static methods inherited from builtins.Exception:\n",
      "     |  \n",
      "     |  __new__(*args, **kwargs) from builtins.type\n",
      "     |      Create and return a new object.  See help(type) for accurate signature.\n",
      "     |  \n",
      "     |  ----------------------------------------------------------------------\n",
      "     |  Methods inherited from builtins.BaseException:\n",
      "     |  \n",
      "     |  __delattr__(self, name, /)\n",
      "     |      Implement delattr(self, name).\n",
      "     |  \n",
      "     |  __getattribute__(self, name, /)\n",
      "     |      Return getattr(self, name).\n",
      "     |  \n",
      "     |  __reduce__(...)\n",
      "     |      Helper for pickle.\n",
      "     |  \n",
      "     |  __repr__(self, /)\n",
      "     |      Return repr(self).\n",
      "     |  \n",
      "     |  __setattr__(self, name, value, /)\n",
      "     |      Implement setattr(self, name, value).\n",
      "     |  \n",
      "     |  __setstate__(...)\n",
      "     |  \n",
      "     |  __str__(self, /)\n",
      "     |      Return str(self).\n",
      "     |  \n",
      "     |  with_traceback(...)\n",
      "     |      Exception.with_traceback(tb) --\n",
      "     |      set self.__traceback__ to tb and return self.\n",
      "     |  \n",
      "     |  ----------------------------------------------------------------------\n",
      "     |  Data descriptors inherited from builtins.BaseException:\n",
      "     |  \n",
      "     |  __cause__\n",
      "     |      exception cause\n",
      "     |  \n",
      "     |  __context__\n",
      "     |      exception context\n",
      "     |  \n",
      "     |  __dict__\n",
      "     |  \n",
      "     |  __suppress_context__\n",
      "     |  \n",
      "     |  __traceback__\n",
      "     |  \n",
      "     |  args\n",
      "\n",
      "FUNCTIONS\n",
      "    cholesky(a)\n",
      "        Cholesky decomposition.\n",
      "        \n",
      "        Return the Cholesky decomposition, `L * L.H`, of the square matrix `a`,\n",
      "        where `L` is lower-triangular and .H is the conjugate transpose operator\n",
      "        (which is the ordinary transpose if `a` is real-valued).  `a` must be\n",
      "        Hermitian (symmetric if real-valued) and positive-definite.  Only `L` is\n",
      "        actually returned.\n",
      "        \n",
      "        Parameters\n",
      "        ----------\n",
      "        a : (..., M, M) array_like\n",
      "            Hermitian (symmetric if all elements are real), positive-definite\n",
      "            input matrix.\n",
      "        \n",
      "        Returns\n",
      "        -------\n",
      "        L : (..., M, M) array_like\n",
      "            Upper or lower-triangular Cholesky factor of `a`.  Returns a\n",
      "            matrix object if `a` is a matrix object.\n",
      "        \n",
      "        Raises\n",
      "        ------\n",
      "        LinAlgError\n",
      "           If the decomposition fails, for example, if `a` is not\n",
      "           positive-definite.\n",
      "        \n",
      "        Notes\n",
      "        -----\n",
      "        \n",
      "        .. versionadded:: 1.8.0\n",
      "        \n",
      "        Broadcasting rules apply, see the `numpy.linalg` documentation for\n",
      "        details.\n",
      "        \n",
      "        The Cholesky decomposition is often used as a fast way of solving\n",
      "        \n",
      "        .. math:: A \\mathbf{x} = \\mathbf{b}\n",
      "        \n",
      "        (when `A` is both Hermitian/symmetric and positive-definite).\n",
      "        \n",
      "        First, we solve for :math:`\\mathbf{y}` in\n",
      "        \n",
      "        .. math:: L \\mathbf{y} = \\mathbf{b},\n",
      "        \n",
      "        and then for :math:`\\mathbf{x}` in\n",
      "        \n",
      "        .. math:: L.H \\mathbf{x} = \\mathbf{y}.\n",
      "        \n",
      "        Examples\n",
      "        --------\n",
      "        >>> A = np.array([[1,-2j],[2j,5]])\n",
      "        >>> A\n",
      "        array([[ 1.+0.j,  0.-2.j],\n",
      "               [ 0.+2.j,  5.+0.j]])\n",
      "        >>> L = np.linalg.cholesky(A)\n",
      "        >>> L\n",
      "        array([[ 1.+0.j,  0.+0.j],\n",
      "               [ 0.+2.j,  1.+0.j]])\n",
      "        >>> np.dot(L, L.T.conj()) # verify that L * L.H = A\n",
      "        array([[ 1.+0.j,  0.-2.j],\n",
      "               [ 0.+2.j,  5.+0.j]])\n",
      "        >>> A = [[1,-2j],[2j,5]] # what happens if A is only array_like?\n",
      "        >>> np.linalg.cholesky(A) # an ndarray object is returned\n",
      "        array([[ 1.+0.j,  0.+0.j],\n",
      "               [ 0.+2.j,  1.+0.j]])\n",
      "        >>> # But a matrix object is returned if A is a matrix object\n",
      "        >>> LA.cholesky(np.matrix(A))\n",
      "        matrix([[ 1.+0.j,  0.+0.j],\n",
      "                [ 0.+2.j,  1.+0.j]])\n",
      "    \n",
      "    cond(x, p=None)\n",
      "        Compute the condition number of a matrix.\n",
      "        \n",
      "        This function is capable of returning the condition number using\n",
      "        one of seven different norms, depending on the value of `p` (see\n",
      "        Parameters below).\n",
      "        \n",
      "        Parameters\n",
      "        ----------\n",
      "        x : (..., M, N) array_like\n",
      "            The matrix whose condition number is sought.\n",
      "        p : {None, 1, -1, 2, -2, inf, -inf, 'fro'}, optional\n",
      "            Order of the norm:\n",
      "        \n",
      "            =====  ============================\n",
      "            p      norm for matrices\n",
      "            =====  ============================\n",
      "            None   2-norm, computed directly using the ``SVD``\n",
      "            'fro'  Frobenius norm\n",
      "            inf    max(sum(abs(x), axis=1))\n",
      "            -inf   min(sum(abs(x), axis=1))\n",
      "            1      max(sum(abs(x), axis=0))\n",
      "            -1     min(sum(abs(x), axis=0))\n",
      "            2      2-norm (largest sing. value)\n",
      "            -2     smallest singular value\n",
      "            =====  ============================\n",
      "        \n",
      "            inf means the numpy.inf object, and the Frobenius norm is\n",
      "            the root-of-sum-of-squares norm.\n",
      "        \n",
      "        Returns\n",
      "        -------\n",
      "        c : {float, inf}\n",
      "            The condition number of the matrix. May be infinite.\n",
      "        \n",
      "        See Also\n",
      "        --------\n",
      "        numpy.linalg.norm\n",
      "        \n",
      "        Notes\n",
      "        -----\n",
      "        The condition number of `x` is defined as the norm of `x` times the\n",
      "        norm of the inverse of `x` [1]_; the norm can be the usual L2-norm\n",
      "        (root-of-sum-of-squares) or one of a number of other matrix norms.\n",
      "        \n",
      "        References\n",
      "        ----------\n",
      "        .. [1] G. Strang, *Linear Algebra and Its Applications*, Orlando, FL,\n",
      "               Academic Press, Inc., 1980, pg. 285.\n",
      "        \n",
      "        Examples\n",
      "        --------\n",
      "        >>> from numpy import linalg as LA\n",
      "        >>> a = np.array([[1, 0, -1], [0, 1, 0], [1, 0, 1]])\n",
      "        >>> a\n",
      "        array([[ 1,  0, -1],\n",
      "               [ 0,  1,  0],\n",
      "               [ 1,  0,  1]])\n",
      "        >>> LA.cond(a)\n",
      "        1.4142135623730951\n",
      "        >>> LA.cond(a, 'fro')\n",
      "        3.1622776601683795\n",
      "        >>> LA.cond(a, np.inf)\n",
      "        2.0\n",
      "        >>> LA.cond(a, -np.inf)\n",
      "        1.0\n",
      "        >>> LA.cond(a, 1)\n",
      "        2.0\n",
      "        >>> LA.cond(a, -1)\n",
      "        1.0\n",
      "        >>> LA.cond(a, 2)\n",
      "        1.4142135623730951\n",
      "        >>> LA.cond(a, -2)\n",
      "        0.70710678118654746\n",
      "        >>> min(LA.svd(a, compute_uv=0))*min(LA.svd(LA.inv(a), compute_uv=0))\n",
      "        0.70710678118654746\n",
      "    \n",
      "    det(a)\n",
      "        Compute the determinant of an array.\n",
      "        \n",
      "        Parameters\n",
      "        ----------\n",
      "        a : (..., M, M) array_like\n",
      "            Input array to compute determinants for.\n",
      "        \n",
      "        Returns\n",
      "        -------\n",
      "        det : (...) array_like\n",
      "            Determinant of `a`.\n",
      "        \n",
      "        See Also\n",
      "        --------\n",
      "        slogdet : Another way to represent the determinant, more suitable\n",
      "          for large matrices where underflow/overflow may occur.\n",
      "        \n",
      "        Notes\n",
      "        -----\n",
      "        \n",
      "        .. versionadded:: 1.8.0\n",
      "        \n",
      "        Broadcasting rules apply, see the `numpy.linalg` documentation for\n",
      "        details.\n",
      "        \n",
      "        The determinant is computed via LU factorization using the LAPACK\n",
      "        routine z/dgetrf.\n",
      "        \n",
      "        Examples\n",
      "        --------\n",
      "        The determinant of a 2-D array [[a, b], [c, d]] is ad - bc:\n",
      "        \n",
      "        >>> a = np.array([[1, 2], [3, 4]])\n",
      "        >>> np.linalg.det(a)\n",
      "        -2.0\n",
      "        \n",
      "        Computing determinants for a stack of matrices:\n",
      "        \n",
      "        >>> a = np.array([ [[1, 2], [3, 4]], [[1, 2], [2, 1]], [[1, 3], [3, 1]] ])\n",
      "        >>> a.shape\n",
      "        (3, 2, 2)\n",
      "        >>> np.linalg.det(a)\n",
      "        array([-2., -3., -8.])\n",
      "    \n",
      "    eig(a)\n",
      "        Compute the eigenvalues and right eigenvectors of a square array.\n",
      "        \n",
      "        Parameters\n",
      "        ----------\n",
      "        a : (..., M, M) array\n",
      "            Matrices for which the eigenvalues and right eigenvectors will\n",
      "            be computed\n",
      "        \n",
      "        Returns\n",
      "        -------\n",
      "        w : (..., M) array\n",
      "            The eigenvalues, each repeated according to its multiplicity.\n",
      "            The eigenvalues are not necessarily ordered. The resulting\n",
      "            array will be of complex type, unless the imaginary part is\n",
      "            zero in which case it will be cast to a real type. When `a`\n",
      "            is real the resulting eigenvalues will be real (0 imaginary\n",
      "            part) or occur in conjugate pairs\n",
      "        \n",
      "        v : (..., M, M) array\n",
      "            The normalized (unit \"length\") eigenvectors, such that the\n",
      "            column ``v[:,i]`` is the eigenvector corresponding to the\n",
      "            eigenvalue ``w[i]``.\n",
      "        \n",
      "        Raises\n",
      "        ------\n",
      "        LinAlgError\n",
      "            If the eigenvalue computation does not converge.\n",
      "        \n",
      "        See Also\n",
      "        --------\n",
      "        eigvals : eigenvalues of a non-symmetric array.\n",
      "        \n",
      "        eigh : eigenvalues and eigenvectors of a real symmetric or complex \n",
      "               Hermitian (conjugate symmetric) array.\n",
      "        \n",
      "        eigvalsh : eigenvalues of a real symmetric or complex Hermitian\n",
      "                   (conjugate symmetric) array.\n",
      "        \n",
      "        Notes\n",
      "        -----\n",
      "        \n",
      "        .. versionadded:: 1.8.0\n",
      "        \n",
      "        Broadcasting rules apply, see the `numpy.linalg` documentation for\n",
      "        details.\n",
      "        \n",
      "        This is implemented using the _geev LAPACK routines which compute\n",
      "        the eigenvalues and eigenvectors of general square arrays.\n",
      "        \n",
      "        The number `w` is an eigenvalue of `a` if there exists a vector\n",
      "        `v` such that ``dot(a,v) = w * v``. Thus, the arrays `a`, `w`, and\n",
      "        `v` satisfy the equations ``dot(a[:,:], v[:,i]) = w[i] * v[:,i]``\n",
      "        for :math:`i \\in \\{0,...,M-1\\}`.\n",
      "        \n",
      "        The array `v` of eigenvectors may not be of maximum rank, that is, some\n",
      "        of the columns may be linearly dependent, although round-off error may\n",
      "        obscure that fact. If the eigenvalues are all different, then theoretically\n",
      "        the eigenvectors are linearly independent. Likewise, the (complex-valued)\n",
      "        matrix of eigenvectors `v` is unitary if the matrix `a` is normal, i.e.,\n",
      "        if ``dot(a, a.H) = dot(a.H, a)``, where `a.H` denotes the conjugate\n",
      "        transpose of `a`.\n",
      "        \n",
      "        Finally, it is emphasized that `v` consists of the *right* (as in\n",
      "        right-hand side) eigenvectors of `a`.  A vector `y` satisfying\n",
      "        ``dot(y.T, a) = z * y.T`` for some number `z` is called a *left*\n",
      "        eigenvector of `a`, and, in general, the left and right eigenvectors\n",
      "        of a matrix are not necessarily the (perhaps conjugate) transposes\n",
      "        of each other.\n",
      "        \n",
      "        References\n",
      "        ----------\n",
      "        G. Strang, *Linear Algebra and Its Applications*, 2nd Ed., Orlando, FL,\n",
      "        Academic Press, Inc., 1980, Various pp.\n",
      "        \n",
      "        Examples\n",
      "        --------\n",
      "        >>> from numpy import linalg as LA\n",
      "        \n",
      "        (Almost) trivial example with real e-values and e-vectors.\n",
      "        \n",
      "        >>> w, v = LA.eig(np.diag((1, 2, 3)))\n",
      "        >>> w; v\n",
      "        array([ 1.,  2.,  3.])\n",
      "        array([[ 1.,  0.,  0.],\n",
      "               [ 0.,  1.,  0.],\n",
      "               [ 0.,  0.,  1.]])\n",
      "        \n",
      "        Real matrix possessing complex e-values and e-vectors; note that the\n",
      "        e-values are complex conjugates of each other.\n",
      "        \n",
      "        >>> w, v = LA.eig(np.array([[1, -1], [1, 1]]))\n",
      "        >>> w; v\n",
      "        array([ 1. + 1.j,  1. - 1.j])\n",
      "        array([[ 0.70710678+0.j        ,  0.70710678+0.j        ],\n",
      "               [ 0.00000000-0.70710678j,  0.00000000+0.70710678j]])\n",
      "        \n",
      "        Complex-valued matrix with real e-values (but complex-valued e-vectors);\n",
      "        note that a.conj().T = a, i.e., a is Hermitian.\n",
      "        \n",
      "        >>> a = np.array([[1, 1j], [-1j, 1]])\n",
      "        >>> w, v = LA.eig(a)\n",
      "        >>> w; v\n",
      "        array([  2.00000000e+00+0.j,   5.98651912e-36+0.j]) # i.e., {2, 0}\n",
      "        array([[ 0.00000000+0.70710678j,  0.70710678+0.j        ],\n",
      "               [ 0.70710678+0.j        ,  0.00000000+0.70710678j]])\n",
      "        \n",
      "        Be careful about round-off error!\n",
      "        \n",
      "        >>> a = np.array([[1 + 1e-9, 0], [0, 1 - 1e-9]])\n",
      "        >>> # Theor. e-values are 1 +/- 1e-9\n",
      "        >>> w, v = LA.eig(a)\n",
      "        >>> w; v\n",
      "        array([ 1.,  1.])\n",
      "        array([[ 1.,  0.],\n",
      "               [ 0.,  1.]])\n",
      "    \n",
      "    eigh(a, UPLO='L')\n",
      "        Return the eigenvalues and eigenvectors of a complex Hermitian\n",
      "        (conjugate symmetric) or a real symmetric matrix.\n",
      "        \n",
      "        Returns two objects, a 1-D array containing the eigenvalues of `a`, and\n",
      "        a 2-D square array or matrix (depending on the input type) of the\n",
      "        corresponding eigenvectors (in columns).\n",
      "        \n",
      "        Parameters\n",
      "        ----------\n",
      "        a : (..., M, M) array\n",
      "            Hermitian or real symmetric matrices whose eigenvalues and\n",
      "            eigenvectors are to be computed.\n",
      "        UPLO : {'L', 'U'}, optional\n",
      "            Specifies whether the calculation is done with the lower triangular\n",
      "            part of `a` ('L', default) or the upper triangular part ('U').\n",
      "            Irrespective of this value only the real parts of the diagonal will\n",
      "            be considered in the computation to preserve the notion of a Hermitian\n",
      "            matrix. It therefore follows that the imaginary part of the diagonal\n",
      "            will always be treated as zero.\n",
      "        \n",
      "        Returns\n",
      "        -------\n",
      "        w : (..., M) ndarray\n",
      "            The eigenvalues in ascending order, each repeated according to\n",
      "            its multiplicity.\n",
      "        v : {(..., M, M) ndarray, (..., M, M) matrix}\n",
      "            The column ``v[:, i]`` is the normalized eigenvector corresponding\n",
      "            to the eigenvalue ``w[i]``.  Will return a matrix object if `a` is\n",
      "            a matrix object.\n",
      "        \n",
      "        Raises\n",
      "        ------\n",
      "        LinAlgError\n",
      "            If the eigenvalue computation does not converge.\n",
      "        \n",
      "        See Also\n",
      "        --------\n",
      "        eigvalsh : eigenvalues of real symmetric or complex Hermitian\n",
      "                   (conjugate symmetric) arrays.\n",
      "        eig : eigenvalues and right eigenvectors for non-symmetric arrays.\n",
      "        eigvals : eigenvalues of non-symmetric arrays.\n",
      "        \n",
      "        Notes\n",
      "        -----\n",
      "        \n",
      "        .. versionadded:: 1.8.0\n",
      "        \n",
      "        Broadcasting rules apply, see the `numpy.linalg` documentation for\n",
      "        details.\n",
      "        \n",
      "        The eigenvalues/eigenvectors are computed using LAPACK routines _syevd,\n",
      "        _heevd\n",
      "        \n",
      "        The eigenvalues of real symmetric or complex Hermitian matrices are\n",
      "        always real. [1]_ The array `v` of (column) eigenvectors is unitary\n",
      "        and `a`, `w`, and `v` satisfy the equations\n",
      "        ``dot(a, v[:, i]) = w[i] * v[:, i]``.\n",
      "        \n",
      "        References\n",
      "        ----------\n",
      "        .. [1] G. Strang, *Linear Algebra and Its Applications*, 2nd Ed., Orlando,\n",
      "               FL, Academic Press, Inc., 1980, pg. 222.\n",
      "        \n",
      "        Examples\n",
      "        --------\n",
      "        >>> from numpy import linalg as LA\n",
      "        >>> a = np.array([[1, -2j], [2j, 5]])\n",
      "        >>> a\n",
      "        array([[ 1.+0.j,  0.-2.j],\n",
      "               [ 0.+2.j,  5.+0.j]])\n",
      "        >>> w, v = LA.eigh(a)\n",
      "        >>> w; v\n",
      "        array([ 0.17157288,  5.82842712])\n",
      "        array([[-0.92387953+0.j        , -0.38268343+0.j        ],\n",
      "               [ 0.00000000+0.38268343j,  0.00000000-0.92387953j]])\n",
      "        \n",
      "        >>> np.dot(a, v[:, 0]) - w[0] * v[:, 0] # verify 1st e-val/vec pair\n",
      "        array([2.77555756e-17 + 0.j, 0. + 1.38777878e-16j])\n",
      "        >>> np.dot(a, v[:, 1]) - w[1] * v[:, 1] # verify 2nd e-val/vec pair\n",
      "        array([ 0.+0.j,  0.+0.j])\n",
      "        \n",
      "        >>> A = np.matrix(a) # what happens if input is a matrix object\n",
      "        >>> A\n",
      "        matrix([[ 1.+0.j,  0.-2.j],\n",
      "                [ 0.+2.j,  5.+0.j]])\n",
      "        >>> w, v = LA.eigh(A)\n",
      "        >>> w; v\n",
      "        array([ 0.17157288,  5.82842712])\n",
      "        matrix([[-0.92387953+0.j        , -0.38268343+0.j        ],\n",
      "                [ 0.00000000+0.38268343j,  0.00000000-0.92387953j]])\n",
      "        \n",
      "        >>> # demonstrate the treatment of the imaginary part of the diagonal\n",
      "        >>> a = np.array([[5+2j, 9-2j], [0+2j, 2-1j]])\n",
      "        >>> a\n",
      "        array([[ 5.+2.j,  9.-2.j],\n",
      "               [ 0.+2.j,  2.-1.j]])\n",
      "        >>> # with UPLO='L' this is numerically equivalent to using LA.eig() with:\n",
      "        >>> b = np.array([[5.+0.j, 0.-2.j], [0.+2.j, 2.-0.j]])\n",
      "        >>> b\n",
      "        array([[ 5.+0.j,  0.-2.j],\n",
      "               [ 0.+2.j,  2.+0.j]])\n",
      "        >>> wa, va = LA.eigh(a)\n",
      "        >>> wb, vb = LA.eig(b)\n",
      "        >>> wa; wb\n",
      "        array([ 1.,  6.])\n",
      "        array([ 6.+0.j,  1.+0.j])\n",
      "        >>> va; vb\n",
      "        array([[-0.44721360-0.j        , -0.89442719+0.j        ],\n",
      "               [ 0.00000000+0.89442719j,  0.00000000-0.4472136j ]])\n",
      "        array([[ 0.89442719+0.j       ,  0.00000000-0.4472136j],\n",
      "               [ 0.00000000-0.4472136j,  0.89442719+0.j       ]])\n",
      "    \n",
      "    eigvals(a)\n",
      "        Compute the eigenvalues of a general matrix.\n",
      "        \n",
      "        Main difference between `eigvals` and `eig`: the eigenvectors aren't\n",
      "        returned.\n",
      "        \n",
      "        Parameters\n",
      "        ----------\n",
      "        a : (..., M, M) array_like\n",
      "            A complex- or real-valued matrix whose eigenvalues will be computed.\n",
      "        \n",
      "        Returns\n",
      "        -------\n",
      "        w : (..., M,) ndarray\n",
      "            The eigenvalues, each repeated according to its multiplicity.\n",
      "            They are not necessarily ordered, nor are they necessarily\n",
      "            real for real matrices.\n",
      "        \n",
      "        Raises\n",
      "        ------\n",
      "        LinAlgError\n",
      "            If the eigenvalue computation does not converge.\n",
      "        \n",
      "        See Also\n",
      "        --------\n",
      "        eig : eigenvalues and right eigenvectors of general arrays\n",
      "        eigvalsh : eigenvalues of real symmetric or complex Hermitian \n",
      "                   (conjugate symmetric) arrays.\n",
      "        eigh : eigenvalues and eigenvectors of real symmetric or complex\n",
      "               Hermitian (conjugate symmetric) arrays.\n",
      "        \n",
      "        Notes\n",
      "        -----\n",
      "        \n",
      "        .. versionadded:: 1.8.0\n",
      "        \n",
      "        Broadcasting rules apply, see the `numpy.linalg` documentation for\n",
      "        details.\n",
      "        \n",
      "        This is implemented using the _geev LAPACK routines which compute\n",
      "        the eigenvalues and eigenvectors of general square arrays.\n",
      "        \n",
      "        Examples\n",
      "        --------\n",
      "        Illustration, using the fact that the eigenvalues of a diagonal matrix\n",
      "        are its diagonal elements, that multiplying a matrix on the left\n",
      "        by an orthogonal matrix, `Q`, and on the right by `Q.T` (the transpose\n",
      "        of `Q`), preserves the eigenvalues of the \"middle\" matrix.  In other words,\n",
      "        if `Q` is orthogonal, then ``Q * A * Q.T`` has the same eigenvalues as\n",
      "        ``A``:\n",
      "        \n",
      "        >>> from numpy import linalg as LA\n",
      "        >>> x = np.random.random()\n",
      "        >>> Q = np.array([[np.cos(x), -np.sin(x)], [np.sin(x), np.cos(x)]])\n",
      "        >>> LA.norm(Q[0, :]), LA.norm(Q[1, :]), np.dot(Q[0, :],Q[1, :])\n",
      "        (1.0, 1.0, 0.0)\n",
      "        \n",
      "        Now multiply a diagonal matrix by Q on one side and by Q.T on the other:\n",
      "        \n",
      "        >>> D = np.diag((-1,1))\n",
      "        >>> LA.eigvals(D)\n",
      "        array([-1.,  1.])\n",
      "        >>> A = np.dot(Q, D)\n",
      "        >>> A = np.dot(A, Q.T)\n",
      "        >>> LA.eigvals(A)\n",
      "        array([ 1., -1.])\n",
      "    \n",
      "    eigvalsh(a, UPLO='L')\n",
      "        Compute the eigenvalues of a complex Hermitian or real symmetric matrix.\n",
      "        \n",
      "        Main difference from eigh: the eigenvectors are not computed.\n",
      "        \n",
      "        Parameters\n",
      "        ----------\n",
      "        a : (..., M, M) array_like\n",
      "            A complex- or real-valued matrix whose eigenvalues are to be\n",
      "            computed.\n",
      "        UPLO : {'L', 'U'}, optional\n",
      "            Specifies whether the calculation is done with the lower triangular\n",
      "            part of `a` ('L', default) or the upper triangular part ('U').\n",
      "            Irrespective of this value only the real parts of the diagonal will\n",
      "            be considered in the computation to preserve the notion of a Hermitian\n",
      "            matrix. It therefore follows that the imaginary part of the diagonal\n",
      "            will always be treated as zero.\n",
      "        \n",
      "        Returns\n",
      "        -------\n",
      "        w : (..., M,) ndarray\n",
      "            The eigenvalues in ascending order, each repeated according to\n",
      "            its multiplicity.\n",
      "        \n",
      "        Raises\n",
      "        ------\n",
      "        LinAlgError\n",
      "            If the eigenvalue computation does not converge.\n",
      "        \n",
      "        See Also\n",
      "        --------\n",
      "        eigh : eigenvalues and eigenvectors of real symmetric or complex Hermitian\n",
      "               (conjugate symmetric) arrays.\n",
      "        eigvals : eigenvalues of general real or complex arrays.\n",
      "        eig : eigenvalues and right eigenvectors of general real or complex\n",
      "              arrays.\n",
      "        \n",
      "        Notes\n",
      "        -----\n",
      "        \n",
      "        .. versionadded:: 1.8.0\n",
      "        \n",
      "        Broadcasting rules apply, see the `numpy.linalg` documentation for\n",
      "        details.\n",
      "        \n",
      "        The eigenvalues are computed using LAPACK routines _syevd, _heevd\n",
      "        \n",
      "        Examples\n",
      "        --------\n",
      "        >>> from numpy import linalg as LA\n",
      "        >>> a = np.array([[1, -2j], [2j, 5]])\n",
      "        >>> LA.eigvalsh(a)\n",
      "        array([ 0.17157288,  5.82842712])\n",
      "        \n",
      "        >>> # demonstrate the treatment of the imaginary part of the diagonal\n",
      "        >>> a = np.array([[5+2j, 9-2j], [0+2j, 2-1j]])\n",
      "        >>> a\n",
      "        array([[ 5.+2.j,  9.-2.j],\n",
      "               [ 0.+2.j,  2.-1.j]])\n",
      "        >>> # with UPLO='L' this is numerically equivalent to using LA.eigvals()\n",
      "        >>> # with:\n",
      "        >>> b = np.array([[5.+0.j, 0.-2.j], [0.+2.j, 2.-0.j]])\n",
      "        >>> b\n",
      "        array([[ 5.+0.j,  0.-2.j],\n",
      "               [ 0.+2.j,  2.+0.j]])\n",
      "        >>> wa = LA.eigvalsh(a)\n",
      "        >>> wb = LA.eigvals(b)\n",
      "        >>> wa; wb\n",
      "        array([ 1.,  6.])\n",
      "        array([ 6.+0.j,  1.+0.j])\n",
      "    \n",
      "    inv(a)\n",
      "        Compute the (multiplicative) inverse of a matrix.\n",
      "        \n",
      "        Given a square matrix `a`, return the matrix `ainv` satisfying\n",
      "        ``dot(a, ainv) = dot(ainv, a) = eye(a.shape[0])``.\n",
      "        \n",
      "        Parameters\n",
      "        ----------\n",
      "        a : (..., M, M) array_like\n",
      "            Matrix to be inverted.\n",
      "        \n",
      "        Returns\n",
      "        -------\n",
      "        ainv : (..., M, M) ndarray or matrix\n",
      "            (Multiplicative) inverse of the matrix `a`.\n",
      "        \n",
      "        Raises\n",
      "        ------\n",
      "        LinAlgError\n",
      "            If `a` is not square or inversion fails.\n",
      "        \n",
      "        Notes\n",
      "        -----\n",
      "        \n",
      "        .. versionadded:: 1.8.0\n",
      "        \n",
      "        Broadcasting rules apply, see the `numpy.linalg` documentation for\n",
      "        details.\n",
      "        \n",
      "        Examples\n",
      "        --------\n",
      "        >>> from numpy.linalg import inv\n",
      "        >>> a = np.array([[1., 2.], [3., 4.]])\n",
      "        >>> ainv = inv(a)\n",
      "        >>> np.allclose(np.dot(a, ainv), np.eye(2))\n",
      "        True\n",
      "        >>> np.allclose(np.dot(ainv, a), np.eye(2))\n",
      "        True\n",
      "        \n",
      "        If a is a matrix object, then the return value is a matrix as well:\n",
      "        \n",
      "        >>> ainv = inv(np.matrix(a))\n",
      "        >>> ainv\n",
      "        matrix([[-2. ,  1. ],\n",
      "                [ 1.5, -0.5]])\n",
      "        \n",
      "        Inverses of several matrices can be computed at once:\n",
      "        \n",
      "        >>> a = np.array([[[1., 2.], [3., 4.]], [[1, 3], [3, 5]]])\n",
      "        >>> inv(a)\n",
      "        array([[[-2. ,  1. ],\n",
      "                [ 1.5, -0.5]],\n",
      "               [[-5. ,  2. ],\n",
      "                [ 3. , -1. ]]])\n",
      "    \n",
      "    lstsq(a, b, rcond='warn')\n",
      "        Return the least-squares solution to a linear matrix equation.\n",
      "        \n",
      "        Solves the equation `a x = b` by computing a vector `x` that\n",
      "        minimizes the Euclidean 2-norm `|| b - a x ||^2`.  The equation may\n",
      "        be under-, well-, or over- determined (i.e., the number of\n",
      "        linearly independent rows of `a` can be less than, equal to, or\n",
      "        greater than its number of linearly independent columns).  If `a`\n",
      "        is square and of full rank, then `x` (but for round-off error) is\n",
      "        the \"exact\" solution of the equation.\n",
      "        \n",
      "        Parameters\n",
      "        ----------\n",
      "        a : (M, N) array_like\n",
      "            \"Coefficient\" matrix.\n",
      "        b : {(M,), (M, K)} array_like\n",
      "            Ordinate or \"dependent variable\" values. If `b` is two-dimensional,\n",
      "            the least-squares solution is calculated for each of the `K` columns\n",
      "            of `b`.\n",
      "        rcond : float, optional\n",
      "            Cut-off ratio for small singular values of `a`.\n",
      "            For the purposes of rank determination, singular values are treated\n",
      "            as zero if they are smaller than `rcond` times the largest singular\n",
      "            value of `a`.\n",
      "        \n",
      "            .. versionchanged:: 1.14.0\n",
      "               If not set, a FutureWarning is given. The previous default\n",
      "               of ``-1`` will use the machine precision as `rcond` parameter,\n",
      "               the new default will use the machine precision times `max(M, N)`.\n",
      "               To silence the warning and use the new default, use ``rcond=None``,\n",
      "               to keep using the old behavior, use ``rcond=-1``.\n",
      "        \n",
      "        Returns\n",
      "        -------\n",
      "        x : {(N,), (N, K)} ndarray\n",
      "            Least-squares solution. If `b` is two-dimensional,\n",
      "            the solutions are in the `K` columns of `x`.\n",
      "        residuals : {(1,), (K,), (0,)} ndarray\n",
      "            Sums of residuals; squared Euclidean 2-norm for each column in\n",
      "            ``b - a*x``.\n",
      "            If the rank of `a` is < N or M <= N, this is an empty array.\n",
      "            If `b` is 1-dimensional, this is a (1,) shape array.\n",
      "            Otherwise the shape is (K,).\n",
      "        rank : int\n",
      "            Rank of matrix `a`.\n",
      "        s : (min(M, N),) ndarray\n",
      "            Singular values of `a`.\n",
      "        \n",
      "        Raises\n",
      "        ------\n",
      "        LinAlgError\n",
      "            If computation does not converge.\n",
      "        \n",
      "        Notes\n",
      "        -----\n",
      "        If `b` is a matrix, then all array results are returned as matrices.\n",
      "        \n",
      "        Examples\n",
      "        --------\n",
      "        Fit a line, ``y = mx + c``, through some noisy data-points:\n",
      "        \n",
      "        >>> x = np.array([0, 1, 2, 3])\n",
      "        >>> y = np.array([-1, 0.2, 0.9, 2.1])\n",
      "        \n",
      "        By examining the coefficients, we see that the line should have a\n",
      "        gradient of roughly 1 and cut the y-axis at, more or less, -1.\n",
      "        \n",
      "        We can rewrite the line equation as ``y = Ap``, where ``A = [[x 1]]``\n",
      "        and ``p = [[m], [c]]``.  Now use `lstsq` to solve for `p`:\n",
      "        \n",
      "        >>> A = np.vstack([x, np.ones(len(x))]).T\n",
      "        >>> A\n",
      "        array([[ 0.,  1.],\n",
      "               [ 1.,  1.],\n",
      "               [ 2.,  1.],\n",
      "               [ 3.,  1.]])\n",
      "        \n",
      "        >>> m, c = np.linalg.lstsq(A, y, rcond=None)[0]\n",
      "        >>> print(m, c)\n",
      "        1.0 -0.95\n",
      "        \n",
      "        Plot the data along with the fitted line:\n",
      "        \n",
      "        >>> import matplotlib.pyplot as plt\n",
      "        >>> plt.plot(x, y, 'o', label='Original data', markersize=10)\n",
      "        >>> plt.plot(x, m*x + c, 'r', label='Fitted line')\n",
      "        >>> plt.legend()\n",
      "        >>> plt.show()\n",
      "    \n",
      "    matrix_power(a, n)\n",
      "        Raise a square matrix to the (integer) power `n`.\n",
      "        \n",
      "        For positive integers `n`, the power is computed by repeated matrix\n",
      "        squarings and matrix multiplications. If ``n == 0``, the identity matrix\n",
      "        of the same shape as M is returned. If ``n < 0``, the inverse\n",
      "        is computed and then raised to the ``abs(n)``.\n",
      "        \n",
      "        .. note:: Stacks of object matrices are not currently supported.\n",
      "        \n",
      "        Parameters\n",
      "        ----------\n",
      "        a : (..., M, M) array_like\n",
      "            Matrix to be \"powered.\"\n",
      "        n : int\n",
      "            The exponent can be any integer or long integer, positive,\n",
      "            negative, or zero.\n",
      "        \n",
      "        Returns\n",
      "        -------\n",
      "        a**n : (..., M, M) ndarray or matrix object\n",
      "            The return value is the same shape and type as `M`;\n",
      "            if the exponent is positive or zero then the type of the\n",
      "            elements is the same as those of `M`. If the exponent is\n",
      "            negative the elements are floating-point.\n",
      "        \n",
      "        Raises\n",
      "        ------\n",
      "        LinAlgError\n",
      "            For matrices that are not square or that (for negative powers) cannot\n",
      "            be inverted numerically.\n",
      "        \n",
      "        Examples\n",
      "        --------\n",
      "        >>> from numpy.linalg import matrix_power\n",
      "        >>> i = np.array([[0, 1], [-1, 0]]) # matrix equiv. of the imaginary unit\n",
      "        >>> matrix_power(i, 3) # should = -i\n",
      "        array([[ 0, -1],\n",
      "               [ 1,  0]])\n",
      "        >>> matrix_power(i, 0)\n",
      "        array([[1, 0],\n",
      "               [0, 1]])\n",
      "        >>> matrix_power(i, -3) # should = 1/(-i) = i, but w/ f.p. elements\n",
      "        array([[ 0.,  1.],\n",
      "               [-1.,  0.]])\n",
      "        \n",
      "        Somewhat more sophisticated example\n",
      "        \n",
      "        >>> q = np.zeros((4, 4))\n",
      "        >>> q[0:2, 0:2] = -i\n",
      "        >>> q[2:4, 2:4] = i\n",
      "        >>> q # one of the three quaternion units not equal to 1\n",
      "        array([[ 0., -1.,  0.,  0.],\n",
      "               [ 1.,  0.,  0.,  0.],\n",
      "               [ 0.,  0.,  0.,  1.],\n",
      "               [ 0.,  0., -1.,  0.]])\n",
      "        >>> matrix_power(q, 2) # = -np.eye(4)\n",
      "        array([[-1.,  0.,  0.,  0.],\n",
      "               [ 0., -1.,  0.,  0.],\n",
      "               [ 0.,  0., -1.,  0.],\n",
      "               [ 0.,  0.,  0., -1.]])\n",
      "    \n",
      "    matrix_rank(M, tol=None, hermitian=False)\n",
      "        Return matrix rank of array using SVD method\n",
      "        \n",
      "        Rank of the array is the number of singular values of the array that are\n",
      "        greater than `tol`.\n",
      "        \n",
      "        .. versionchanged:: 1.14\n",
      "           Can now operate on stacks of matrices\n",
      "        \n",
      "        Parameters\n",
      "        ----------\n",
      "        M : {(M,), (..., M, N)} array_like\n",
      "            input vector or stack of matrices\n",
      "        tol : (...) array_like, float, optional\n",
      "            threshold below which SVD values are considered zero. If `tol` is\n",
      "            None, and ``S`` is an array with singular values for `M`, and\n",
      "            ``eps`` is the epsilon value for datatype of ``S``, then `tol` is\n",
      "            set to ``S.max() * max(M.shape) * eps``.\n",
      "        \n",
      "            .. versionchanged:: 1.14\n",
      "               Broadcasted against the stack of matrices\n",
      "        hermitian : bool, optional\n",
      "            If True, `M` is assumed to be Hermitian (symmetric if real-valued),\n",
      "            enabling a more efficient method for finding singular values.\n",
      "            Defaults to False.\n",
      "        \n",
      "            .. versionadded:: 1.14\n",
      "        \n",
      "        Notes\n",
      "        -----\n",
      "        The default threshold to detect rank deficiency is a test on the magnitude\n",
      "        of the singular values of `M`.  By default, we identify singular values less\n",
      "        than ``S.max() * max(M.shape) * eps`` as indicating rank deficiency (with\n",
      "        the symbols defined above). This is the algorithm MATLAB uses [1].  It also\n",
      "        appears in *Numerical recipes* in the discussion of SVD solutions for linear\n",
      "        least squares [2].\n",
      "        \n",
      "        This default threshold is designed to detect rank deficiency accounting for\n",
      "        the numerical errors of the SVD computation.  Imagine that there is a column\n",
      "        in `M` that is an exact (in floating point) linear combination of other\n",
      "        columns in `M`. Computing the SVD on `M` will not produce a singular value\n",
      "        exactly equal to 0 in general: any difference of the smallest SVD value from\n",
      "        0 will be caused by numerical imprecision in the calculation of the SVD.\n",
      "        Our threshold for small SVD values takes this numerical imprecision into\n",
      "        account, and the default threshold will detect such numerical rank\n",
      "        deficiency.  The threshold may declare a matrix `M` rank deficient even if\n",
      "        the linear combination of some columns of `M` is not exactly equal to\n",
      "        another column of `M` but only numerically very close to another column of\n",
      "        `M`.\n",
      "        \n",
      "        We chose our default threshold because it is in wide use.  Other thresholds\n",
      "        are possible.  For example, elsewhere in the 2007 edition of *Numerical\n",
      "        recipes* there is an alternative threshold of ``S.max() *\n",
      "        np.finfo(M.dtype).eps / 2. * np.sqrt(m + n + 1.)``. The authors describe\n",
      "        this threshold as being based on \"expected roundoff error\" (p 71).\n",
      "        \n",
      "        The thresholds above deal with floating point roundoff error in the\n",
      "        calculation of the SVD.  However, you may have more information about the\n",
      "        sources of error in `M` that would make you consider other tolerance values\n",
      "        to detect *effective* rank deficiency.  The most useful measure of the\n",
      "        tolerance depends on the operations you intend to use on your matrix.  For\n",
      "        example, if your data come from uncertain measurements with uncertainties\n",
      "        greater than floating point epsilon, choosing a tolerance near that\n",
      "        uncertainty may be preferable.  The tolerance may be absolute if the\n",
      "        uncertainties are absolute rather than relative.\n",
      "        \n",
      "        References\n",
      "        ----------\n",
      "        .. [1] MATLAB reference documention, \"Rank\"\n",
      "               https://www.mathworks.com/help/techdoc/ref/rank.html\n",
      "        .. [2] W. H. Press, S. A. Teukolsky, W. T. Vetterling and B. P. Flannery,\n",
      "               \"Numerical Recipes (3rd edition)\", Cambridge University Press, 2007,\n",
      "               page 795.\n",
      "        \n",
      "        Examples\n",
      "        --------\n",
      "        >>> from numpy.linalg import matrix_rank\n",
      "        >>> matrix_rank(np.eye(4)) # Full rank matrix\n",
      "        4\n",
      "        >>> I=np.eye(4); I[-1,-1] = 0. # rank deficient matrix\n",
      "        >>> matrix_rank(I)\n",
      "        3\n",
      "        >>> matrix_rank(np.ones((4,))) # 1 dimension - rank 1 unless all 0\n",
      "        1\n",
      "        >>> matrix_rank(np.zeros((4,)))\n",
      "        0\n",
      "    \n",
      "    multi_dot(arrays)\n",
      "        Compute the dot product of two or more arrays in a single function call,\n",
      "        while automatically selecting the fastest evaluation order.\n",
      "        \n",
      "        `multi_dot` chains `numpy.dot` and uses optimal parenthesization\n",
      "        of the matrices [1]_ [2]_. Depending on the shapes of the matrices,\n",
      "        this can speed up the multiplication a lot.\n",
      "        \n",
      "        If the first argument is 1-D it is treated as a row vector.\n",
      "        If the last argument is 1-D it is treated as a column vector.\n",
      "        The other arguments must be 2-D.\n",
      "        \n",
      "        Think of `multi_dot` as::\n",
      "        \n",
      "            def multi_dot(arrays): return functools.reduce(np.dot, arrays)\n",
      "        \n",
      "        \n",
      "        Parameters\n",
      "        ----------\n",
      "        arrays : sequence of array_like\n",
      "            If the first argument is 1-D it is treated as row vector.\n",
      "            If the last argument is 1-D it is treated as column vector.\n",
      "            The other arguments must be 2-D.\n",
      "        \n",
      "        Returns\n",
      "        -------\n",
      "        output : ndarray\n",
      "            Returns the dot product of the supplied arrays.\n",
      "        \n",
      "        See Also\n",
      "        --------\n",
      "        dot : dot multiplication with two arguments.\n",
      "        \n",
      "        References\n",
      "        ----------\n",
      "        \n",
      "        .. [1] Cormen, \"Introduction to Algorithms\", Chapter 15.2, p. 370-378\n",
      "        .. [2] https://en.wikipedia.org/wiki/Matrix_chain_multiplication\n",
      "        \n",
      "        Examples\n",
      "        --------\n",
      "        `multi_dot` allows you to write::\n",
      "        \n",
      "        >>> from numpy.linalg import multi_dot\n",
      "        >>> # Prepare some data\n",
      "        >>> A = np.random.random(10000, 100)\n",
      "        >>> B = np.random.random(100, 1000)\n",
      "        >>> C = np.random.random(1000, 5)\n",
      "        >>> D = np.random.random(5, 333)\n",
      "        >>> # the actual dot multiplication\n",
      "        >>> multi_dot([A, B, C, D])\n",
      "        \n",
      "        instead of::\n",
      "        \n",
      "        >>> np.dot(np.dot(np.dot(A, B), C), D)\n",
      "        >>> # or\n",
      "        >>> A.dot(B).dot(C).dot(D)\n",
      "        \n",
      "        Notes\n",
      "        -----\n",
      "        The cost for a matrix multiplication can be calculated with the\n",
      "        following function::\n",
      "        \n",
      "            def cost(A, B):\n",
      "                return A.shape[0] * A.shape[1] * B.shape[1]\n",
      "        \n",
      "        Let's assume we have three matrices\n",
      "        :math:`A_{10x100}, B_{100x5}, C_{5x50}`.\n",
      "        \n",
      "        The costs for the two different parenthesizations are as follows::\n",
      "        \n",
      "            cost((AB)C) = 10*100*5 + 10*5*50   = 5000 + 2500   = 7500\n",
      "            cost(A(BC)) = 10*100*50 + 100*5*50 = 50000 + 25000 = 75000\n",
      "    \n",
      "    norm(x, ord=None, axis=None, keepdims=False)\n",
      "        Matrix or vector norm.\n",
      "        \n",
      "        This function is able to return one of eight different matrix norms,\n",
      "        or one of an infinite number of vector norms (described below), depending\n",
      "        on the value of the ``ord`` parameter.\n",
      "        \n",
      "        Parameters\n",
      "        ----------\n",
      "        x : array_like\n",
      "            Input array.  If `axis` is None, `x` must be 1-D or 2-D.\n",
      "        ord : {non-zero int, inf, -inf, 'fro', 'nuc'}, optional\n",
      "            Order of the norm (see table under ``Notes``). inf means numpy's\n",
      "            `inf` object.\n",
      "        axis : {int, 2-tuple of ints, None}, optional\n",
      "            If `axis` is an integer, it specifies the axis of `x` along which to\n",
      "            compute the vector norms.  If `axis` is a 2-tuple, it specifies the\n",
      "            axes that hold 2-D matrices, and the matrix norms of these matrices\n",
      "            are computed.  If `axis` is None then either a vector norm (when `x`\n",
      "            is 1-D) or a matrix norm (when `x` is 2-D) is returned.\n",
      "        \n",
      "            .. versionadded:: 1.8.0\n",
      "        \n",
      "        keepdims : bool, optional\n",
      "            If this is set to True, the axes which are normed over are left in the\n",
      "            result as dimensions with size one.  With this option the result will\n",
      "            broadcast correctly against the original `x`.\n",
      "        \n",
      "            .. versionadded:: 1.10.0\n",
      "        \n",
      "        Returns\n",
      "        -------\n",
      "        n : float or ndarray\n",
      "            Norm of the matrix or vector(s).\n",
      "        \n",
      "        Notes\n",
      "        -----\n",
      "        For values of ``ord <= 0``, the result is, strictly speaking, not a\n",
      "        mathematical 'norm', but it may still be useful for various numerical\n",
      "        purposes.\n",
      "        \n",
      "        The following norms can be calculated:\n",
      "        \n",
      "        =====  ============================  ==========================\n",
      "        ord    norm for matrices             norm for vectors\n",
      "        =====  ============================  ==========================\n",
      "        None   Frobenius norm                2-norm\n",
      "        'fro'  Frobenius norm                --\n",
      "        'nuc'  nuclear norm                  --\n",
      "        inf    max(sum(abs(x), axis=1))      max(abs(x))\n",
      "        -inf   min(sum(abs(x), axis=1))      min(abs(x))\n",
      "        0      --                            sum(x != 0)\n",
      "        1      max(sum(abs(x), axis=0))      as below\n",
      "        -1     min(sum(abs(x), axis=0))      as below\n",
      "        2      2-norm (largest sing. value)  as below\n",
      "        -2     smallest singular value       as below\n",
      "        other  --                            sum(abs(x)**ord)**(1./ord)\n",
      "        =====  ============================  ==========================\n",
      "        \n",
      "        The Frobenius norm is given by [1]_:\n",
      "        \n",
      "            :math:`||A||_F = [\\sum_{i,j} abs(a_{i,j})^2]^{1/2}`\n",
      "        \n",
      "        The nuclear norm is the sum of the singular values.\n",
      "        \n",
      "        References\n",
      "        ----------\n",
      "        .. [1] G. H. Golub and C. F. Van Loan, *Matrix Computations*,\n",
      "               Baltimore, MD, Johns Hopkins University Press, 1985, pg. 15\n",
      "        \n",
      "        Examples\n",
      "        --------\n",
      "        >>> from numpy import linalg as LA\n",
      "        >>> a = np.arange(9) - 4\n",
      "        >>> a\n",
      "        array([-4, -3, -2, -1,  0,  1,  2,  3,  4])\n",
      "        >>> b = a.reshape((3, 3))\n",
      "        >>> b\n",
      "        array([[-4, -3, -2],\n",
      "               [-1,  0,  1],\n",
      "               [ 2,  3,  4]])\n",
      "        \n",
      "        >>> LA.norm(a)\n",
      "        7.745966692414834\n",
      "        >>> LA.norm(b)\n",
      "        7.745966692414834\n",
      "        >>> LA.norm(b, 'fro')\n",
      "        7.745966692414834\n",
      "        >>> LA.norm(a, np.inf)\n",
      "        4.0\n",
      "        >>> LA.norm(b, np.inf)\n",
      "        9.0\n",
      "        >>> LA.norm(a, -np.inf)\n",
      "        0.0\n",
      "        >>> LA.norm(b, -np.inf)\n",
      "        2.0\n",
      "        \n",
      "        >>> LA.norm(a, 1)\n",
      "        20.0\n",
      "        >>> LA.norm(b, 1)\n",
      "        7.0\n",
      "        >>> LA.norm(a, -1)\n",
      "        -4.6566128774142013e-010\n",
      "        >>> LA.norm(b, -1)\n",
      "        6.0\n",
      "        >>> LA.norm(a, 2)\n",
      "        7.745966692414834\n",
      "        >>> LA.norm(b, 2)\n",
      "        7.3484692283495345\n",
      "        \n",
      "        >>> LA.norm(a, -2)\n",
      "        nan\n",
      "        >>> LA.norm(b, -2)\n",
      "        1.8570331885190563e-016\n",
      "        >>> LA.norm(a, 3)\n",
      "        5.8480354764257312\n",
      "        >>> LA.norm(a, -3)\n",
      "        nan\n",
      "        \n",
      "        Using the `axis` argument to compute vector norms:\n",
      "        \n",
      "        >>> c = np.array([[ 1, 2, 3],\n",
      "        ...               [-1, 1, 4]])\n",
      "        >>> LA.norm(c, axis=0)\n",
      "        array([ 1.41421356,  2.23606798,  5.        ])\n",
      "        >>> LA.norm(c, axis=1)\n",
      "        array([ 3.74165739,  4.24264069])\n",
      "        >>> LA.norm(c, ord=1, axis=1)\n",
      "        array([ 6.,  6.])\n",
      "        \n",
      "        Using the `axis` argument to compute matrix norms:\n",
      "        \n",
      "        >>> m = np.arange(8).reshape(2,2,2)\n",
      "        >>> LA.norm(m, axis=(1,2))\n",
      "        array([  3.74165739,  11.22497216])\n",
      "        >>> LA.norm(m[0, :, :]), LA.norm(m[1, :, :])\n",
      "        (3.7416573867739413, 11.224972160321824)\n",
      "    \n",
      "    pinv(a, rcond=1e-15)\n",
      "        Compute the (Moore-Penrose) pseudo-inverse of a matrix.\n",
      "        \n",
      "        Calculate the generalized inverse of a matrix using its\n",
      "        singular-value decomposition (SVD) and including all\n",
      "        *large* singular values.\n",
      "        \n",
      "        .. versionchanged:: 1.14\n",
      "           Can now operate on stacks of matrices\n",
      "        \n",
      "        Parameters\n",
      "        ----------\n",
      "        a : (..., M, N) array_like\n",
      "            Matrix or stack of matrices to be pseudo-inverted.\n",
      "        rcond : (...) array_like of float\n",
      "            Cutoff for small singular values.\n",
      "            Singular values smaller (in modulus) than\n",
      "            `rcond` * largest_singular_value (again, in modulus)\n",
      "            are set to zero. Broadcasts against the stack of matrices\n",
      "        \n",
      "        Returns\n",
      "        -------\n",
      "        B : (..., N, M) ndarray\n",
      "            The pseudo-inverse of `a`. If `a` is a `matrix` instance, then so\n",
      "            is `B`.\n",
      "        \n",
      "        Raises\n",
      "        ------\n",
      "        LinAlgError\n",
      "            If the SVD computation does not converge.\n",
      "        \n",
      "        Notes\n",
      "        -----\n",
      "        The pseudo-inverse of a matrix A, denoted :math:`A^+`, is\n",
      "        defined as: \"the matrix that 'solves' [the least-squares problem]\n",
      "        :math:`Ax = b`,\" i.e., if :math:`\\bar{x}` is said solution, then\n",
      "        :math:`A^+` is that matrix such that :math:`\\bar{x} = A^+b`.\n",
      "        \n",
      "        It can be shown that if :math:`Q_1 \\Sigma Q_2^T = A` is the singular\n",
      "        value decomposition of A, then\n",
      "        :math:`A^+ = Q_2 \\Sigma^+ Q_1^T`, where :math:`Q_{1,2}` are\n",
      "        orthogonal matrices, :math:`\\Sigma` is a diagonal matrix consisting\n",
      "        of A's so-called singular values, (followed, typically, by\n",
      "        zeros), and then :math:`\\Sigma^+` is simply the diagonal matrix\n",
      "        consisting of the reciprocals of A's singular values\n",
      "        (again, followed by zeros). [1]_\n",
      "        \n",
      "        References\n",
      "        ----------\n",
      "        .. [1] G. Strang, *Linear Algebra and Its Applications*, 2nd Ed., Orlando,\n",
      "               FL, Academic Press, Inc., 1980, pp. 139-142.\n",
      "        \n",
      "        Examples\n",
      "        --------\n",
      "        The following example checks that ``a * a+ * a == a`` and\n",
      "        ``a+ * a * a+ == a+``:\n",
      "        \n",
      "        >>> a = np.random.randn(9, 6)\n",
      "        >>> B = np.linalg.pinv(a)\n",
      "        >>> np.allclose(a, np.dot(a, np.dot(B, a)))\n",
      "        True\n",
      "        >>> np.allclose(B, np.dot(B, np.dot(a, B)))\n",
      "        True\n",
      "    \n",
      "    qr(a, mode='reduced')\n",
      "        Compute the qr factorization of a matrix.\n",
      "        \n",
      "        Factor the matrix `a` as *qr*, where `q` is orthonormal and `r` is\n",
      "        upper-triangular.\n",
      "        \n",
      "        Parameters\n",
      "        ----------\n",
      "        a : array_like, shape (M, N)\n",
      "            Matrix to be factored.\n",
      "        mode : {'reduced', 'complete', 'r', 'raw', 'full', 'economic'}, optional\n",
      "            If K = min(M, N), then\n",
      "        \n",
      "            * 'reduced'  : returns q, r with dimensions (M, K), (K, N) (default)\n",
      "            * 'complete' : returns q, r with dimensions (M, M), (M, N)\n",
      "            * 'r'        : returns r only with dimensions (K, N)\n",
      "            * 'raw'      : returns h, tau with dimensions (N, M), (K,)\n",
      "            * 'full'     : alias of 'reduced', deprecated\n",
      "            * 'economic' : returns h from 'raw', deprecated.\n",
      "        \n",
      "            The options 'reduced', 'complete, and 'raw' are new in numpy 1.8,\n",
      "            see the notes for more information. The default is 'reduced', and to\n",
      "            maintain backward compatibility with earlier versions of numpy both\n",
      "            it and the old default 'full' can be omitted. Note that array h\n",
      "            returned in 'raw' mode is transposed for calling Fortran. The\n",
      "            'economic' mode is deprecated.  The modes 'full' and 'economic' may\n",
      "            be passed using only the first letter for backwards compatibility,\n",
      "            but all others must be spelled out. See the Notes for more\n",
      "            explanation.\n",
      "        \n",
      "        \n",
      "        Returns\n",
      "        -------\n",
      "        q : ndarray of float or complex, optional\n",
      "            A matrix with orthonormal columns. When mode = 'complete' the\n",
      "            result is an orthogonal/unitary matrix depending on whether or not\n",
      "            a is real/complex. The determinant may be either +/- 1 in that\n",
      "            case.\n",
      "        r : ndarray of float or complex, optional\n",
      "            The upper-triangular matrix.\n",
      "        (h, tau) : ndarrays of np.double or np.cdouble, optional\n",
      "            The array h contains the Householder reflectors that generate q\n",
      "            along with r. The tau array contains scaling factors for the\n",
      "            reflectors. In the deprecated  'economic' mode only h is returned.\n",
      "        \n",
      "        Raises\n",
      "        ------\n",
      "        LinAlgError\n",
      "            If factoring fails.\n",
      "        \n",
      "        Notes\n",
      "        -----\n",
      "        This is an interface to the LAPACK routines dgeqrf, zgeqrf,\n",
      "        dorgqr, and zungqr.\n",
      "        \n",
      "        For more information on the qr factorization, see for example:\n",
      "        https://en.wikipedia.org/wiki/QR_factorization\n",
      "        \n",
      "        Subclasses of `ndarray` are preserved except for the 'raw' mode. So if\n",
      "        `a` is of type `matrix`, all the return values will be matrices too.\n",
      "        \n",
      "        New 'reduced', 'complete', and 'raw' options for mode were added in\n",
      "        NumPy 1.8.0 and the old option 'full' was made an alias of 'reduced'.  In\n",
      "        addition the options 'full' and 'economic' were deprecated.  Because\n",
      "        'full' was the previous default and 'reduced' is the new default,\n",
      "        backward compatibility can be maintained by letting `mode` default.\n",
      "        The 'raw' option was added so that LAPACK routines that can multiply\n",
      "        arrays by q using the Householder reflectors can be used. Note that in\n",
      "        this case the returned arrays are of type np.double or np.cdouble and\n",
      "        the h array is transposed to be FORTRAN compatible.  No routines using\n",
      "        the 'raw' return are currently exposed by numpy, but some are available\n",
      "        in lapack_lite and just await the necessary work.\n",
      "        \n",
      "        Examples\n",
      "        --------\n",
      "        >>> a = np.random.randn(9, 6)\n",
      "        >>> q, r = np.linalg.qr(a)\n",
      "        >>> np.allclose(a, np.dot(q, r))  # a does equal qr\n",
      "        True\n",
      "        >>> r2 = np.linalg.qr(a, mode='r')\n",
      "        >>> r3 = np.linalg.qr(a, mode='economic')\n",
      "        >>> np.allclose(r, r2)  # mode='r' returns the same r as mode='full'\n",
      "        True\n",
      "        >>> # But only triu parts are guaranteed equal when mode='economic'\n",
      "        >>> np.allclose(r, np.triu(r3[:6,:6], k=0))\n",
      "        True\n",
      "        \n",
      "        Example illustrating a common use of `qr`: solving of least squares\n",
      "        problems\n",
      "        \n",
      "        What are the least-squares-best `m` and `y0` in ``y = y0 + mx`` for\n",
      "        the following data: {(0,1), (1,0), (1,2), (2,1)}. (Graph the points\n",
      "        and you'll see that it should be y0 = 0, m = 1.)  The answer is provided\n",
      "        by solving the over-determined matrix equation ``Ax = b``, where::\n",
      "        \n",
      "          A = array([[0, 1], [1, 1], [1, 1], [2, 1]])\n",
      "          x = array([[y0], [m]])\n",
      "          b = array([[1], [0], [2], [1]])\n",
      "        \n",
      "        If A = qr such that q is orthonormal (which is always possible via\n",
      "        Gram-Schmidt), then ``x = inv(r) * (q.T) * b``.  (In numpy practice,\n",
      "        however, we simply use `lstsq`.)\n",
      "        \n",
      "        >>> A = np.array([[0, 1], [1, 1], [1, 1], [2, 1]])\n",
      "        >>> A\n",
      "        array([[0, 1],\n",
      "               [1, 1],\n",
      "               [1, 1],\n",
      "               [2, 1]])\n",
      "        >>> b = np.array([1, 0, 2, 1])\n",
      "        >>> q, r = LA.qr(A)\n",
      "        >>> p = np.dot(q.T, b)\n",
      "        >>> np.dot(LA.inv(r), p)\n",
      "        array([  1.1e-16,   1.0e+00])\n",
      "    \n",
      "    slogdet(a)\n",
      "        Compute the sign and (natural) logarithm of the determinant of an array.\n",
      "        \n",
      "        If an array has a very small or very large determinant, then a call to\n",
      "        `det` may overflow or underflow. This routine is more robust against such\n",
      "        issues, because it computes the logarithm of the determinant rather than\n",
      "        the determinant itself.\n",
      "        \n",
      "        Parameters\n",
      "        ----------\n",
      "        a : (..., M, M) array_like\n",
      "            Input array, has to be a square 2-D array.\n",
      "        \n",
      "        Returns\n",
      "        -------\n",
      "        sign : (...) array_like\n",
      "            A number representing the sign of the determinant. For a real matrix,\n",
      "            this is 1, 0, or -1. For a complex matrix, this is a complex number\n",
      "            with absolute value 1 (i.e., it is on the unit circle), or else 0.\n",
      "        logdet : (...) array_like\n",
      "            The natural log of the absolute value of the determinant.\n",
      "        \n",
      "        If the determinant is zero, then `sign` will be 0 and `logdet` will be\n",
      "        -Inf. In all cases, the determinant is equal to ``sign * np.exp(logdet)``.\n",
      "        \n",
      "        See Also\n",
      "        --------\n",
      "        det\n",
      "        \n",
      "        Notes\n",
      "        -----\n",
      "        \n",
      "        .. versionadded:: 1.8.0\n",
      "        \n",
      "        Broadcasting rules apply, see the `numpy.linalg` documentation for\n",
      "        details.\n",
      "        \n",
      "        .. versionadded:: 1.6.0\n",
      "        \n",
      "        The determinant is computed via LU factorization using the LAPACK\n",
      "        routine z/dgetrf.\n",
      "        \n",
      "        \n",
      "        Examples\n",
      "        --------\n",
      "        The determinant of a 2-D array ``[[a, b], [c, d]]`` is ``ad - bc``:\n",
      "        \n",
      "        >>> a = np.array([[1, 2], [3, 4]])\n",
      "        >>> (sign, logdet) = np.linalg.slogdet(a)\n",
      "        >>> (sign, logdet)\n",
      "        (-1, 0.69314718055994529)\n",
      "        >>> sign * np.exp(logdet)\n",
      "        -2.0\n",
      "        \n",
      "        Computing log-determinants for a stack of matrices:\n",
      "        \n",
      "        >>> a = np.array([ [[1, 2], [3, 4]], [[1, 2], [2, 1]], [[1, 3], [3, 1]] ])\n",
      "        >>> a.shape\n",
      "        (3, 2, 2)\n",
      "        >>> sign, logdet = np.linalg.slogdet(a)\n",
      "        >>> (sign, logdet)\n",
      "        (array([-1., -1., -1.]), array([ 0.69314718,  1.09861229,  2.07944154]))\n",
      "        >>> sign * np.exp(logdet)\n",
      "        array([-2., -3., -8.])\n",
      "        \n",
      "        This routine succeeds where ordinary `det` does not:\n",
      "        \n",
      "        >>> np.linalg.det(np.eye(500) * 0.1)\n",
      "        0.0\n",
      "        >>> np.linalg.slogdet(np.eye(500) * 0.1)\n",
      "        (1, -1151.2925464970228)\n",
      "    \n",
      "    solve(a, b)\n",
      "        Solve a linear matrix equation, or system of linear scalar equations.\n",
      "        \n",
      "        Computes the \"exact\" solution, `x`, of the well-determined, i.e., full\n",
      "        rank, linear matrix equation `ax = b`.\n",
      "        \n",
      "        Parameters\n",
      "        ----------\n",
      "        a : (..., M, M) array_like\n",
      "            Coefficient matrix.\n",
      "        b : {(..., M,), (..., M, K)}, array_like\n",
      "            Ordinate or \"dependent variable\" values.\n",
      "        \n",
      "        Returns\n",
      "        -------\n",
      "        x : {(..., M,), (..., M, K)} ndarray\n",
      "            Solution to the system a x = b.  Returned shape is identical to `b`.\n",
      "        \n",
      "        Raises\n",
      "        ------\n",
      "        LinAlgError\n",
      "            If `a` is singular or not square.\n",
      "        \n",
      "        Notes\n",
      "        -----\n",
      "        \n",
      "        .. versionadded:: 1.8.0\n",
      "        \n",
      "        Broadcasting rules apply, see the `numpy.linalg` documentation for\n",
      "        details.\n",
      "        \n",
      "        The solutions are computed using LAPACK routine _gesv\n",
      "        \n",
      "        `a` must be square and of full-rank, i.e., all rows (or, equivalently,\n",
      "        columns) must be linearly independent; if either is not true, use\n",
      "        `lstsq` for the least-squares best \"solution\" of the\n",
      "        system/equation.\n",
      "        \n",
      "        References\n",
      "        ----------\n",
      "        .. [1] G. Strang, *Linear Algebra and Its Applications*, 2nd Ed., Orlando,\n",
      "               FL, Academic Press, Inc., 1980, pg. 22.\n",
      "        \n",
      "        Examples\n",
      "        --------\n",
      "        Solve the system of equations ``3 * x0 + x1 = 9`` and ``x0 + 2 * x1 = 8``:\n",
      "        \n",
      "        >>> a = np.array([[3,1], [1,2]])\n",
      "        >>> b = np.array([9,8])\n",
      "        >>> x = np.linalg.solve(a, b)\n",
      "        >>> x\n",
      "        array([ 2.,  3.])\n",
      "        \n",
      "        Check that the solution is correct:\n",
      "        \n",
      "        >>> np.allclose(np.dot(a, x), b)\n",
      "        True\n",
      "    \n",
      "    svd(a, full_matrices=True, compute_uv=True)\n",
      "        Singular Value Decomposition.\n",
      "        \n",
      "        When `a` is a 2D array, it is factorized as ``u @ np.diag(s) @ vh\n",
      "        = (u * s) @ vh``, where `u` and `vh` are 2D unitary arrays and `s` is a 1D\n",
      "        array of `a`'s singular values. When `a` is higher-dimensional, SVD is\n",
      "        applied in stacked mode as explained below.\n",
      "        \n",
      "        Parameters\n",
      "        ----------\n",
      "        a : (..., M, N) array_like\n",
      "            A real or complex array with ``a.ndim >= 2``.\n",
      "        full_matrices : bool, optional\n",
      "            If True (default), `u` and `vh` have the shapes ``(..., M, M)`` and\n",
      "            ``(..., N, N)``, respectively.  Otherwise, the shapes are\n",
      "            ``(..., M, K)`` and ``(..., K, N)``, respectively, where\n",
      "            ``K = min(M, N)``.\n",
      "        compute_uv : bool, optional\n",
      "            Whether or not to compute `u` and `vh` in addition to `s`.  True\n",
      "            by default.\n",
      "        \n",
      "        Returns\n",
      "        -------\n",
      "        u : { (..., M, M), (..., M, K) } array\n",
      "            Unitary array(s). The first ``a.ndim - 2`` dimensions have the same\n",
      "            size as those of the input `a`. The size of the last two dimensions\n",
      "            depends on the value of `full_matrices`. Only returned when\n",
      "            `compute_uv` is True.\n",
      "        s : (..., K) array\n",
      "            Vector(s) with the singular values, within each vector sorted in\n",
      "            descending order. The first ``a.ndim - 2`` dimensions have the same\n",
      "            size as those of the input `a`.\n",
      "        vh : { (..., N, N), (..., K, N) } array\n",
      "            Unitary array(s). The first ``a.ndim - 2`` dimensions have the same\n",
      "            size as those of the input `a`. The size of the last two dimensions\n",
      "            depends on the value of `full_matrices`. Only returned when\n",
      "            `compute_uv` is True.\n",
      "        \n",
      "        Raises\n",
      "        ------\n",
      "        LinAlgError\n",
      "            If SVD computation does not converge.\n",
      "        \n",
      "        Notes\n",
      "        -----\n",
      "        \n",
      "        .. versionchanged:: 1.8.0\n",
      "           Broadcasting rules apply, see the `numpy.linalg` documentation for\n",
      "           details.\n",
      "        \n",
      "        The decomposition is performed using LAPACK routine ``_gesdd``.\n",
      "        \n",
      "        SVD is usually described for the factorization of a 2D matrix :math:`A`.\n",
      "        The higher-dimensional case will be discussed below. In the 2D case, SVD is\n",
      "        written as :math:`A = U S V^H`, where :math:`A = a`, :math:`U= u`,\n",
      "        :math:`S= \\mathtt{np.diag}(s)` and :math:`V^H = vh`. The 1D array `s`\n",
      "        contains the singular values of `a` and `u` and `vh` are unitary. The rows\n",
      "        of `vh` are the eigenvectors of :math:`A^H A` and the columns of `u` are\n",
      "        the eigenvectors of :math:`A A^H`. In both cases the corresponding\n",
      "        (possibly non-zero) eigenvalues are given by ``s**2``.\n",
      "        \n",
      "        If `a` has more than two dimensions, then broadcasting rules apply, as\n",
      "        explained in :ref:`routines.linalg-broadcasting`. This means that SVD is\n",
      "        working in \"stacked\" mode: it iterates over all indices of the first\n",
      "        ``a.ndim - 2`` dimensions and for each combination SVD is applied to the\n",
      "        last two indices. The matrix `a` can be reconstructed from the\n",
      "        decomposition with either ``(u * s[..., None, :]) @ vh`` or\n",
      "        ``u @ (s[..., None] * vh)``. (The ``@`` operator can be replaced by the\n",
      "        function ``np.matmul`` for python versions below 3.5.)\n",
      "        \n",
      "        If `a` is a ``matrix`` object (as opposed to an ``ndarray``), then so are\n",
      "        all the return values.\n",
      "        \n",
      "        Examples\n",
      "        --------\n",
      "        >>> a = np.random.randn(9, 6) + 1j*np.random.randn(9, 6)\n",
      "        >>> b = np.random.randn(2, 7, 8, 3) + 1j*np.random.randn(2, 7, 8, 3)\n",
      "        \n",
      "        Reconstruction based on full SVD, 2D case:\n",
      "        \n",
      "        >>> u, s, vh = np.linalg.svd(a, full_matrices=True)\n",
      "        >>> u.shape, s.shape, vh.shape\n",
      "        ((9, 9), (6,), (6, 6))\n",
      "        >>> np.allclose(a, np.dot(u[:, :6] * s, vh))\n",
      "        True\n",
      "        >>> smat = np.zeros((9, 6), dtype=complex)\n",
      "        >>> smat[:6, :6] = np.diag(s)\n",
      "        >>> np.allclose(a, np.dot(u, np.dot(smat, vh)))\n",
      "        True\n",
      "        \n",
      "        Reconstruction based on reduced SVD, 2D case:\n",
      "        \n",
      "        >>> u, s, vh = np.linalg.svd(a, full_matrices=False)\n",
      "        >>> u.shape, s.shape, vh.shape\n",
      "        ((9, 6), (6,), (6, 6))\n",
      "        >>> np.allclose(a, np.dot(u * s, vh))\n",
      "        True\n",
      "        >>> smat = np.diag(s)\n",
      "        >>> np.allclose(a, np.dot(u, np.dot(smat, vh)))\n",
      "        True\n",
      "        \n",
      "        Reconstruction based on full SVD, 4D case:\n",
      "        \n",
      "        >>> u, s, vh = np.linalg.svd(b, full_matrices=True)\n",
      "        >>> u.shape, s.shape, vh.shape\n",
      "        ((2, 7, 8, 8), (2, 7, 3), (2, 7, 3, 3))\n",
      "        >>> np.allclose(b, np.matmul(u[..., :3] * s[..., None, :], vh))\n",
      "        True\n",
      "        >>> np.allclose(b, np.matmul(u[..., :3], s[..., None] * vh))\n",
      "        True\n",
      "        \n",
      "        Reconstruction based on reduced SVD, 4D case:\n",
      "        \n",
      "        >>> u, s, vh = np.linalg.svd(b, full_matrices=False)\n",
      "        >>> u.shape, s.shape, vh.shape\n",
      "        ((2, 7, 8, 3), (2, 7, 3), (2, 7, 3, 3))\n",
      "        >>> np.allclose(b, np.matmul(u * s[..., None, :], vh))\n",
      "        True\n",
      "        >>> np.allclose(b, np.matmul(u, s[..., None] * vh))\n",
      "        True\n",
      "    \n",
      "    tensorinv(a, ind=2)\n",
      "        Compute the 'inverse' of an N-dimensional array.\n",
      "        \n",
      "        The result is an inverse for `a` relative to the tensordot operation\n",
      "        ``tensordot(a, b, ind)``, i. e., up to floating-point accuracy,\n",
      "        ``tensordot(tensorinv(a), a, ind)`` is the \"identity\" tensor for the\n",
      "        tensordot operation.\n",
      "        \n",
      "        Parameters\n",
      "        ----------\n",
      "        a : array_like\n",
      "            Tensor to 'invert'. Its shape must be 'square', i. e.,\n",
      "            ``prod(a.shape[:ind]) == prod(a.shape[ind:])``.\n",
      "        ind : int, optional\n",
      "            Number of first indices that are involved in the inverse sum.\n",
      "            Must be a positive integer, default is 2.\n",
      "        \n",
      "        Returns\n",
      "        -------\n",
      "        b : ndarray\n",
      "            `a`'s tensordot inverse, shape ``a.shape[ind:] + a.shape[:ind]``.\n",
      "        \n",
      "        Raises\n",
      "        ------\n",
      "        LinAlgError\n",
      "            If `a` is singular or not 'square' (in the above sense).\n",
      "        \n",
      "        See Also\n",
      "        --------\n",
      "        numpy.tensordot, tensorsolve\n",
      "        \n",
      "        Examples\n",
      "        --------\n",
      "        >>> a = np.eye(4*6)\n",
      "        >>> a.shape = (4, 6, 8, 3)\n",
      "        >>> ainv = np.linalg.tensorinv(a, ind=2)\n",
      "        >>> ainv.shape\n",
      "        (8, 3, 4, 6)\n",
      "        >>> b = np.random.randn(4, 6)\n",
      "        >>> np.allclose(np.tensordot(ainv, b), np.linalg.tensorsolve(a, b))\n",
      "        True\n",
      "        \n",
      "        >>> a = np.eye(4*6)\n",
      "        >>> a.shape = (24, 8, 3)\n",
      "        >>> ainv = np.linalg.tensorinv(a, ind=1)\n",
      "        >>> ainv.shape\n",
      "        (8, 3, 24)\n",
      "        >>> b = np.random.randn(24)\n",
      "        >>> np.allclose(np.tensordot(ainv, b, 1), np.linalg.tensorsolve(a, b))\n",
      "        True\n",
      "    \n",
      "    tensorsolve(a, b, axes=None)\n",
      "        Solve the tensor equation ``a x = b`` for x.\n",
      "        \n",
      "        It is assumed that all indices of `x` are summed over in the product,\n",
      "        together with the rightmost indices of `a`, as is done in, for example,\n",
      "        ``tensordot(a, x, axes=b.ndim)``.\n",
      "        \n",
      "        Parameters\n",
      "        ----------\n",
      "        a : array_like\n",
      "            Coefficient tensor, of shape ``b.shape + Q``. `Q`, a tuple, equals\n",
      "            the shape of that sub-tensor of `a` consisting of the appropriate\n",
      "            number of its rightmost indices, and must be such that\n",
      "            ``prod(Q) == prod(b.shape)`` (in which sense `a` is said to be\n",
      "            'square').\n",
      "        b : array_like\n",
      "            Right-hand tensor, which can be of any shape.\n",
      "        axes : tuple of ints, optional\n",
      "            Axes in `a` to reorder to the right, before inversion.\n",
      "            If None (default), no reordering is done.\n",
      "        \n",
      "        Returns\n",
      "        -------\n",
      "        x : ndarray, shape Q\n",
      "        \n",
      "        Raises\n",
      "        ------\n",
      "        LinAlgError\n",
      "            If `a` is singular or not 'square' (in the above sense).\n",
      "        \n",
      "        See Also\n",
      "        --------\n",
      "        numpy.tensordot, tensorinv, numpy.einsum\n",
      "        \n",
      "        Examples\n",
      "        --------\n",
      "        >>> a = np.eye(2*3*4)\n",
      "        >>> a.shape = (2*3, 4, 2, 3, 4)\n",
      "        >>> b = np.random.randn(2*3, 4)\n",
      "        >>> x = np.linalg.tensorsolve(a, b)\n",
      "        >>> x.shape\n",
      "        (2, 3, 4)\n",
      "        >>> np.allclose(np.tensordot(a, x, axes=3), b)\n",
      "        True\n",
      "\n",
      "DATA\n",
      "    absolute_import = _Feature((2, 5, 0, 'alpha', 1), (3, 0, 0, 'alpha', 0...\n",
      "    division = _Feature((2, 2, 0, 'alpha', 2), (3, 0, 0, 'alpha', 0), 8192...\n",
      "    print_function = _Feature((2, 6, 0, 'alpha', 2), (3, 0, 0, 'alpha', 0)...\n",
      "    test = <numpy._pytesttester.PytestTester object>\n",
      "\n",
      "FILE\n",
      "    c:\\programdata\\anaconda3\\lib\\site-packages\\numpy\\linalg\\__init__.py\n",
      "\n",
      "\n"
     ]
    }
   ],
   "source": [
    "help(np.linalg)"
   ]
  },
  {
   "cell_type": "code",
   "execution_count": 26,
   "metadata": {},
   "outputs": [
    {
     "name": "stdout",
     "output_type": "stream",
     "text": [
      "[3, 4, 2, 2, 1]\n"
     ]
    }
   ],
   "source": [
    "A11=np.array([10,10,20,10,20,20,20,30,30,50,40,40])\n",
    "A2=np.unique(A11)\n",
    "A3=[]\n",
    "for i in range(len(A2)):\n",
    "    A3.append(np.count_nonzero(A11[A11==A2[i]]))\n",
    "print(A3)"
   ]
  },
  {
   "cell_type": "code",
   "execution_count": 27,
   "metadata": {},
   "outputs": [
    {
     "name": "stdout",
     "output_type": "stream",
     "text": [
      "(4, 3)\n"
     ]
    },
    {
     "data": {
      "text/plain": [
       "(0,)"
      ]
     },
     "execution_count": 27,
     "metadata": {},
     "output_type": "execute_result"
    }
   ],
   "source": [
    "print(g1.shape)\n",
    "y=np.array([])\n",
    "y.shape"
   ]
  },
  {
   "cell_type": "code",
   "execution_count": 28,
   "metadata": {},
   "outputs": [],
   "source": [
    "A4=np.array([[20,20,20],[30,30,30],[40,40,40]])\n",
    "A5=np.array([20,30,40])"
   ]
  },
  {
   "cell_type": "code",
   "execution_count": 29,
   "metadata": {},
   "outputs": [
    {
     "name": "stdout",
     "output_type": "stream",
     "text": [
      "[[1. 1. 1.]]\n",
      "[[1. 1. 1.]]\n",
      "[[1. 1. 1.]]\n"
     ]
    }
   ],
   "source": [
    "for i in range(3):\n",
    "    A6=np.vstack(np.array([A4[i]/A5[i]]))\n",
    "    print(A6)"
   ]
  },
  {
   "cell_type": "code",
   "execution_count": 30,
   "metadata": {},
   "outputs": [
    {
     "name": "stdout",
     "output_type": "stream",
     "text": [
      "[[ 1.  2.  3.]\n",
      " [ 4.  5. nan]\n",
      " [ 7.  8.  9.]\n",
      " [ 1.  0. nan]]\n"
     ]
    }
   ],
   "source": [
    "print(g1)"
   ]
  },
  {
   "cell_type": "code",
   "execution_count": 33,
   "metadata": {},
   "outputs": [
    {
     "data": {
      "text/plain": [
       "array([[ 2.,  3.],\n",
       "       [ 5., nan]])"
      ]
     },
     "execution_count": 33,
     "metadata": {},
     "output_type": "execute_result"
    }
   ],
   "source": [
    "g1[0:2,1:]"
   ]
  },
  {
   "cell_type": "code",
   "execution_count": 163,
   "metadata": {},
   "outputs": [
    {
     "data": {
      "text/plain": [
       "b'\\x00\\x00\\x00\\x00\\x00\\x00$@\\x00\\x00\\x00\\x00\\x00\\x004@\\x00\\x00\\x00\\x00\\x00\\x00>@'"
      ]
     },
     "execution_count": 163,
     "metadata": {},
     "output_type": "execute_result"
    }
   ],
   "source": [
    "A2=np.array([ 10. ,20. ,30.])\n",
    "np.bytes_(A2)"
   ]
  },
  {
   "cell_type": "code",
   "execution_count": 164,
   "metadata": {},
   "outputs": [
    {
     "name": "stderr",
     "output_type": "stream",
     "text": [
      "C:\\ProgramData\\Anaconda3\\lib\\site-packages\\ipykernel_launcher.py:1: DeprecationWarning: The binary mode of fromstring is deprecated, as it behaves surprisingly on unicode inputs. Use frombuffer instead\n",
      "  \"\"\"Entry point for launching an IPython kernel.\n"
     ]
    },
    {
     "data": {
      "text/plain": [
       "array([10., 20., 30.])"
      ]
     },
     "execution_count": 164,
     "metadata": {},
     "output_type": "execute_result"
    }
   ],
   "source": [
    "np.fromstring((np.bytes_(A2)))"
   ]
  },
  {
   "cell_type": "code",
   "execution_count": 165,
   "metadata": {},
   "outputs": [
    {
     "data": {
      "text/plain": [
       "60.0"
      ]
     },
     "execution_count": 165,
     "metadata": {},
     "output_type": "execute_result"
    }
   ],
   "source": [
    "A2.sum()"
   ]
  },
  {
   "cell_type": "code",
   "execution_count": 166,
   "metadata": {},
   "outputs": [
    {
     "data": {
      "text/plain": [
       "6000.0"
      ]
     },
     "execution_count": 166,
     "metadata": {},
     "output_type": "execute_result"
    }
   ],
   "source": [
    "np.product(A2)"
   ]
  },
  {
   "cell_type": "code",
   "execution_count": 167,
   "metadata": {},
   "outputs": [
    {
     "data": {
      "text/plain": [
       "array([ 0., 10., 20., 30., 40., 10., 10., 20., 30., 30.])"
      ]
     },
     "execution_count": 167,
     "metadata": {},
     "output_type": "execute_result"
    }
   ],
   "source": [
    "A3=np.array([ 10.,10.,20.,30.,30., 10., 10., 20., 30., 30.] )\n",
    "A3[0]=0 \n",
    "A3[4]=40\n",
    "A3"
   ]
  },
  {
   "cell_type": "code",
   "execution_count": 3,
   "metadata": {},
   "outputs": [
    {
     "data": {
      "text/plain": [
       "array([   0,    1,    2, ..., 3997, 3998, 3999])"
      ]
     },
     "execution_count": 3,
     "metadata": {},
     "output_type": "execute_result"
    }
   ],
   "source": [
    "np.set_printoptions(threshold=2000)\n",
    "A9=np.arange(0,4000)\n",
    "A9"
   ]
  },
  {
   "cell_type": "code",
   "execution_count": 169,
   "metadata": {},
   "outputs": [],
   "source": [
    "np.savetxt('A.csv',A9)"
   ]
  },
  {
   "cell_type": "code",
   "execution_count": 170,
   "metadata": {},
   "outputs": [
    {
     "data": {
      "text/plain": [
       "1.7320508075688772"
      ]
     },
     "execution_count": 170,
     "metadata": {},
     "output_type": "execute_result"
    }
   ],
   "source": [
    "p1=(2,4,5)\n",
    "p2=(3,5,4)\n",
    "from scipy.spatial import distance\n",
    "p3=distance.euclidean(p1,p2)\n",
    "p3"
   ]
  },
  {
   "cell_type": "code",
   "execution_count": 6,
   "metadata": {},
   "outputs": [
    {
     "data": {
      "text/plain": [
       "array([[2, 3],\n",
       "       [5, 6],\n",
       "       [8, 9],\n",
       "       [5, 6]])"
      ]
     },
     "execution_count": 6,
     "metadata": {},
     "output_type": "execute_result"
    }
   ],
   "source": [
    "A8=np.array([[1,2,3],[4,5,6],[7,8,9],[4,5,6]])\n",
    "A8[:4,1:3]"
   ]
  },
  {
   "cell_type": "code",
   "execution_count": 16,
   "metadata": {},
   "outputs": [
    {
     "data": {
      "text/plain": [
       "48"
      ]
     },
     "execution_count": 16,
     "metadata": {},
     "output_type": "execute_result"
    }
   ],
   "source": [
    "A8.itemsize*A8.size"
   ]
  },
  {
   "cell_type": "code",
   "execution_count": 172,
   "metadata": {},
   "outputs": [
    {
     "data": {
      "text/plain": [
       "rec.array([(   1.,), (   2.,), (   3.,), (   4.,), (   5.,), (   6.,),\n",
       "           (   7.,), (   8.,), (   9.,), (  10.,), (  11.,), (  12.,),\n",
       "           (  13.,), (  14.,), (  15.,), (  16.,), (  17.,), (  18.,),\n",
       "           (  19.,), (  20.,), (  21.,), (  22.,), (  23.,), (  24.,),\n",
       "           (  25.,), (  26.,), (  27.,), (  28.,), (  29.,), (  30.,),\n",
       "           (  31.,), (  32.,), (  33.,), (  34.,), (  35.,), (  36.,),\n",
       "           (  37.,), (  38.,), (  39.,), (  40.,), (  41.,), (  42.,),\n",
       "           (  43.,), (  44.,), (  45.,), (  46.,), (  47.,), (  48.,),\n",
       "           (  49.,), (  50.,), (  51.,), (  52.,), (  53.,), (  54.,),\n",
       "           (  55.,), (  56.,), (  57.,), (  58.,), (  59.,), (  60.,),\n",
       "           (  61.,), (  62.,), (  63.,), (  64.,), (  65.,), (  66.,),\n",
       "           (  67.,), (  68.,), (  69.,), (  70.,), (  71.,), (  72.,),\n",
       "           (  73.,), (  74.,), (  75.,), (  76.,), (  77.,), (  78.,),\n",
       "           (  79.,), (  80.,), (  81.,), (  82.,), (  83.,), (  84.,),\n",
       "           (  85.,), (  86.,), (  87.,), (  88.,), (  89.,), (  90.,),\n",
       "           (  91.,), (  92.,), (  93.,), (  94.,), (  95.,), (  96.,),\n",
       "           (  97.,), (  98.,), (  99.,), ( 100.,), ( 101.,), ( 102.,),\n",
       "           ( 103.,), ( 104.,), ( 105.,), ( 106.,), ( 107.,), ( 108.,),\n",
       "           ( 109.,), ( 110.,), ( 111.,), ( 112.,), ( 113.,), ( 114.,),\n",
       "           ( 115.,), ( 116.,), ( 117.,), ( 118.,), ( 119.,), ( 120.,),\n",
       "           ( 121.,), ( 122.,), ( 123.,), ( 124.,), ( 125.,), ( 126.,),\n",
       "           ( 127.,), ( 128.,), ( 129.,), ( 130.,), ( 131.,), ( 132.,),\n",
       "           ( 133.,), ( 134.,), ( 135.,), ( 136.,), ( 137.,), ( 138.,),\n",
       "           ( 139.,), ( 140.,), ( 141.,), ( 142.,), ( 143.,), ( 144.,),\n",
       "           ( 145.,), ( 146.,), ( 147.,), ( 148.,), ( 149.,), ( 150.,),\n",
       "           ( 151.,), ( 152.,), ( 153.,), ( 154.,), ( 155.,), ( 156.,),\n",
       "           ( 157.,), ( 158.,), ( 159.,), ( 160.,), ( 161.,), ( 162.,),\n",
       "           ( 163.,), ( 164.,), ( 165.,), ( 166.,), ( 167.,), ( 168.,),\n",
       "           ( 169.,), ( 170.,), ( 171.,), ( 172.,), ( 173.,), ( 174.,),\n",
       "           ( 175.,), ( 176.,), ( 177.,), ( 178.,), ( 179.,), ( 180.,),\n",
       "           ( 181.,), ( 182.,), ( 183.,), ( 184.,), ( 185.,), ( 186.,),\n",
       "           ( 187.,), ( 188.,), ( 189.,), ( 190.,), ( 191.,), ( 192.,),\n",
       "           ( 193.,), ( 194.,), ( 195.,), ( 196.,), ( 197.,), ( 198.,),\n",
       "           ( 199.,), ( 200.,), ( 201.,), ( 202.,), ( 203.,), ( 204.,),\n",
       "           ( 205.,), ( 206.,), ( 207.,), ( 208.,), ( 209.,), ( 210.,),\n",
       "           ( 211.,), ( 212.,), ( 213.,), ( 214.,), ( 215.,), ( 216.,),\n",
       "           ( 217.,), ( 218.,), ( 219.,), ( 220.,), ( 221.,), ( 222.,),\n",
       "           ( 223.,), ( 224.,), ( 225.,), ( 226.,), ( 227.,), ( 228.,),\n",
       "           ( 229.,), ( 230.,), ( 231.,), ( 232.,), ( 233.,), ( 234.,),\n",
       "           ( 235.,), ( 236.,), ( 237.,), ( 238.,), ( 239.,), ( 240.,),\n",
       "           ( 241.,), ( 242.,), ( 243.,), ( 244.,), ( 245.,), ( 246.,),\n",
       "           ( 247.,), ( 248.,), ( 249.,), ( 250.,), ( 251.,), ( 252.,),\n",
       "           ( 253.,), ( 254.,), ( 255.,), ( 256.,), ( 257.,), ( 258.,),\n",
       "           ( 259.,), ( 260.,), ( 261.,), ( 262.,), ( 263.,), ( 264.,),\n",
       "           ( 265.,), ( 266.,), ( 267.,), ( 268.,), ( 269.,), ( 270.,),\n",
       "           ( 271.,), ( 272.,), ( 273.,), ( 274.,), ( 275.,), ( 276.,),\n",
       "           ( 277.,), ( 278.,), ( 279.,), ( 280.,), ( 281.,), ( 282.,),\n",
       "           ( 283.,), ( 284.,), ( 285.,), ( 286.,), ( 287.,), ( 288.,),\n",
       "           ( 289.,), ( 290.,), ( 291.,), ( 292.,), ( 293.,), ( 294.,),\n",
       "           ( 295.,), ( 296.,), ( 297.,), ( 298.,), ( 299.,), ( 300.,),\n",
       "           ( 301.,), ( 302.,), ( 303.,), ( 304.,), ( 305.,), ( 306.,),\n",
       "           ( 307.,), ( 308.,), ( 309.,), ( 310.,), ( 311.,), ( 312.,),\n",
       "           ( 313.,), ( 314.,), ( 315.,), ( 316.,), ( 317.,), ( 318.,),\n",
       "           ( 319.,), ( 320.,), ( 321.,), ( 322.,), ( 323.,), ( 324.,),\n",
       "           ( 325.,), ( 326.,), ( 327.,), ( 328.,), ( 329.,), ( 330.,),\n",
       "           ( 331.,), ( 332.,), ( 333.,), ( 334.,), ( 335.,), ( 336.,),\n",
       "           ( 337.,), ( 338.,), ( 339.,), ( 340.,), ( 341.,), ( 342.,),\n",
       "           ( 343.,), ( 344.,), ( 345.,), ( 346.,), ( 347.,), ( 348.,),\n",
       "           ( 349.,), ( 350.,), ( 351.,), ( 352.,), ( 353.,), ( 354.,),\n",
       "           ( 355.,), ( 356.,), ( 357.,), ( 358.,), ( 359.,), ( 360.,),\n",
       "           ( 361.,), ( 362.,), ( 363.,), ( 364.,), ( 365.,), ( 366.,),\n",
       "           ( 367.,), ( 368.,), ( 369.,), ( 370.,), ( 371.,), ( 372.,),\n",
       "           ( 373.,), ( 374.,), ( 375.,), ( 376.,), ( 377.,), ( 378.,),\n",
       "           ( 379.,), ( 380.,), ( 381.,), ( 382.,), ( 383.,), ( 384.,),\n",
       "           ( 385.,), ( 386.,), ( 387.,), ( 388.,), ( 389.,), ( 390.,),\n",
       "           ( 391.,), ( 392.,), ( 393.,), ( 394.,), ( 395.,), ( 396.,),\n",
       "           ( 397.,), ( 398.,), ( 399.,), ( 400.,), ( 401.,), ( 402.,),\n",
       "           ( 403.,), ( 404.,), ( 405.,), ( 406.,), ( 407.,), ( 408.,),\n",
       "           ( 409.,), ( 410.,), ( 411.,), ( 412.,), ( 413.,), ( 414.,),\n",
       "           ( 415.,), ( 416.,), ( 417.,), ( 418.,), ( 419.,), ( 420.,),\n",
       "           ( 421.,), ( 422.,), ( 423.,), ( 424.,), ( 425.,), ( 426.,),\n",
       "           ( 427.,), ( 428.,), ( 429.,), ( 430.,), ( 431.,), ( 432.,),\n",
       "           ( 433.,), ( 434.,), ( 435.,), ( 436.,), ( 437.,), ( 438.,),\n",
       "           ( 439.,), ( 440.,), ( 441.,), ( 442.,), ( 443.,), ( 444.,),\n",
       "           ( 445.,), ( 446.,), ( 447.,), ( 448.,), ( 449.,), ( 450.,),\n",
       "           ( 451.,), ( 452.,), ( 453.,), ( 454.,), ( 455.,), ( 456.,),\n",
       "           ( 457.,), ( 458.,), ( 459.,), ( 460.,), ( 461.,), ( 462.,),\n",
       "           ( 463.,), ( 464.,), ( 465.,), ( 466.,), ( 467.,), ( 468.,),\n",
       "           ( 469.,), ( 470.,), ( 471.,), ( 472.,), ( 473.,), ( 474.,),\n",
       "           ( 475.,), ( 476.,), ( 477.,), ( 478.,), ( 479.,), ( 480.,),\n",
       "           ( 481.,), ( 482.,), ( 483.,), ( 484.,), ( 485.,), ( 486.,),\n",
       "           ( 487.,), ( 488.,), ( 489.,), ( 490.,), ( 491.,), ( 492.,),\n",
       "           ( 493.,), ( 494.,), ( 495.,), ( 496.,), ( 497.,), ( 498.,),\n",
       "           ( 499.,), ( 500.,), ( 501.,), ( 502.,), ( 503.,), ( 504.,),\n",
       "           ( 505.,), ( 506.,), ( 507.,), ( 508.,), ( 509.,), ( 510.,),\n",
       "           ( 511.,), ( 512.,), ( 513.,), ( 514.,), ( 515.,), ( 516.,),\n",
       "           ( 517.,), ( 518.,), ( 519.,), ( 520.,), ( 521.,), ( 522.,),\n",
       "           ( 523.,), ( 524.,), ( 525.,), ( 526.,), ( 527.,), ( 528.,),\n",
       "           ( 529.,), ( 530.,), ( 531.,), ( 532.,), ( 533.,), ( 534.,),\n",
       "           ( 535.,), ( 536.,), ( 537.,), ( 538.,), ( 539.,), ( 540.,),\n",
       "           ( 541.,), ( 542.,), ( 543.,), ( 544.,), ( 545.,), ( 546.,),\n",
       "           ( 547.,), ( 548.,), ( 549.,), ( 550.,), ( 551.,), ( 552.,),\n",
       "           ( 553.,), ( 554.,), ( 555.,), ( 556.,), ( 557.,), ( 558.,),\n",
       "           ( 559.,), ( 560.,), ( 561.,), ( 562.,), ( 563.,), ( 564.,),\n",
       "           ( 565.,), ( 566.,), ( 567.,), ( 568.,), ( 569.,), ( 570.,),\n",
       "           ( 571.,), ( 572.,), ( 573.,), ( 574.,), ( 575.,), ( 576.,),\n",
       "           ( 577.,), ( 578.,), ( 579.,), ( 580.,), ( 581.,), ( 582.,),\n",
       "           ( 583.,), ( 584.,), ( 585.,), ( 586.,), ( 587.,), ( 588.,),\n",
       "           ( 589.,), ( 590.,), ( 591.,), ( 592.,), ( 593.,), ( 594.,),\n",
       "           ( 595.,), ( 596.,), ( 597.,), ( 598.,), ( 599.,), ( 600.,),\n",
       "           ( 601.,), ( 602.,), ( 603.,), ( 604.,), ( 605.,), ( 606.,),\n",
       "           ( 607.,), ( 608.,), ( 609.,), ( 610.,), ( 611.,), ( 612.,),\n",
       "           ( 613.,), ( 614.,), ( 615.,), ( 616.,), ( 617.,), ( 618.,),\n",
       "           ( 619.,), ( 620.,), ( 621.,), ( 622.,), ( 623.,), ( 624.,),\n",
       "           ( 625.,), ( 626.,), ( 627.,), ( 628.,), ( 629.,), ( 630.,),\n",
       "           ( 631.,), ( 632.,), ( 633.,), ( 634.,), ( 635.,), ( 636.,),\n",
       "           ( 637.,), ( 638.,), ( 639.,), ( 640.,), ( 641.,), ( 642.,),\n",
       "           ( 643.,), ( 644.,), ( 645.,), ( 646.,), ( 647.,), ( 648.,),\n",
       "           ( 649.,), ( 650.,), ( 651.,), ( 652.,), ( 653.,), ( 654.,),\n",
       "           ( 655.,), ( 656.,), ( 657.,), ( 658.,), ( 659.,), ( 660.,),\n",
       "           ( 661.,), ( 662.,), ( 663.,), ( 664.,), ( 665.,), ( 666.,),\n",
       "           ( 667.,), ( 668.,), ( 669.,), ( 670.,), ( 671.,), ( 672.,),\n",
       "           ( 673.,), ( 674.,), ( 675.,), ( 676.,), ( 677.,), ( 678.,),\n",
       "           ( 679.,), ( 680.,), ( 681.,), ( 682.,), ( 683.,), ( 684.,),\n",
       "           ( 685.,), ( 686.,), ( 687.,), ( 688.,), ( 689.,), ( 690.,),\n",
       "           ( 691.,), ( 692.,), ( 693.,), ( 694.,), ( 695.,), ( 696.,),\n",
       "           ( 697.,), ( 698.,), ( 699.,), ( 700.,), ( 701.,), ( 702.,),\n",
       "           ( 703.,), ( 704.,), ( 705.,), ( 706.,), ( 707.,), ( 708.,),\n",
       "           ( 709.,), ( 710.,), ( 711.,), ( 712.,), ( 713.,), ( 714.,),\n",
       "           ( 715.,), ( 716.,), ( 717.,), ( 718.,), ( 719.,), ( 720.,),\n",
       "           ( 721.,), ( 722.,), ( 723.,), ( 724.,), ( 725.,), ( 726.,),\n",
       "           ( 727.,), ( 728.,), ( 729.,), ( 730.,), ( 731.,), ( 732.,),\n",
       "           ( 733.,), ( 734.,), ( 735.,), ( 736.,), ( 737.,), ( 738.,),\n",
       "           ( 739.,), ( 740.,), ( 741.,), ( 742.,), ( 743.,), ( 744.,),\n",
       "           ( 745.,), ( 746.,), ( 747.,), ( 748.,), ( 749.,), ( 750.,),\n",
       "           ( 751.,), ( 752.,), ( 753.,), ( 754.,), ( 755.,), ( 756.,),\n",
       "           ( 757.,), ( 758.,), ( 759.,), ( 760.,), ( 761.,), ( 762.,),\n",
       "           ( 763.,), ( 764.,), ( 765.,), ( 766.,), ( 767.,), ( 768.,),\n",
       "           ( 769.,), ( 770.,), ( 771.,), ( 772.,), ( 773.,), ( 774.,),\n",
       "           ( 775.,), ( 776.,), ( 777.,), ( 778.,), ( 779.,), ( 780.,),\n",
       "           ( 781.,), ( 782.,), ( 783.,), ( 784.,), ( 785.,), ( 786.,),\n",
       "           ( 787.,), ( 788.,), ( 789.,), ( 790.,), ( 791.,), ( 792.,),\n",
       "           ( 793.,), ( 794.,), ( 795.,), ( 796.,), ( 797.,), ( 798.,),\n",
       "           ( 799.,), ( 800.,), ( 801.,), ( 802.,), ( 803.,), ( 804.,),\n",
       "           ( 805.,), ( 806.,), ( 807.,), ( 808.,), ( 809.,), ( 810.,),\n",
       "           ( 811.,), ( 812.,), ( 813.,), ( 814.,), ( 815.,), ( 816.,),\n",
       "           ( 817.,), ( 818.,), ( 819.,), ( 820.,), ( 821.,), ( 822.,),\n",
       "           ( 823.,), ( 824.,), ( 825.,), ( 826.,), ( 827.,), ( 828.,),\n",
       "           ( 829.,), ( 830.,), ( 831.,), ( 832.,), ( 833.,), ( 834.,),\n",
       "           ( 835.,), ( 836.,), ( 837.,), ( 838.,), ( 839.,), ( 840.,),\n",
       "           ( 841.,), ( 842.,), ( 843.,), ( 844.,), ( 845.,), ( 846.,),\n",
       "           ( 847.,), ( 848.,), ( 849.,), ( 850.,), ( 851.,), ( 852.,),\n",
       "           ( 853.,), ( 854.,), ( 855.,), ( 856.,), ( 857.,), ( 858.,),\n",
       "           ( 859.,), ( 860.,), ( 861.,), ( 862.,), ( 863.,), ( 864.,),\n",
       "           ( 865.,), ( 866.,), ( 867.,), ( 868.,), ( 869.,), ( 870.,),\n",
       "           ( 871.,), ( 872.,), ( 873.,), ( 874.,), ( 875.,), ( 876.,),\n",
       "           ( 877.,), ( 878.,), ( 879.,), ( 880.,), ( 881.,), ( 882.,),\n",
       "           ( 883.,), ( 884.,), ( 885.,), ( 886.,), ( 887.,), ( 888.,),\n",
       "           ( 889.,), ( 890.,), ( 891.,), ( 892.,), ( 893.,), ( 894.,),\n",
       "           ( 895.,), ( 896.,), ( 897.,), ( 898.,), ( 899.,), ( 900.,),\n",
       "           ( 901.,), ( 902.,), ( 903.,), ( 904.,), ( 905.,), ( 906.,),\n",
       "           ( 907.,), ( 908.,), ( 909.,), ( 910.,), ( 911.,), ( 912.,),\n",
       "           ( 913.,), ( 914.,), ( 915.,), ( 916.,), ( 917.,), ( 918.,),\n",
       "           ( 919.,), ( 920.,), ( 921.,), ( 922.,), ( 923.,), ( 924.,),\n",
       "           ( 925.,), ( 926.,), ( 927.,), ( 928.,), ( 929.,), ( 930.,),\n",
       "           ( 931.,), ( 932.,), ( 933.,), ( 934.,), ( 935.,), ( 936.,),\n",
       "           ( 937.,), ( 938.,), ( 939.,), ( 940.,), ( 941.,), ( 942.,),\n",
       "           ( 943.,), ( 944.,), ( 945.,), ( 946.,), ( 947.,), ( 948.,),\n",
       "           ( 949.,), ( 950.,), ( 951.,), ( 952.,), ( 953.,), ( 954.,),\n",
       "           ( 955.,), ( 956.,), ( 957.,), ( 958.,), ( 959.,), ( 960.,),\n",
       "           ( 961.,), ( 962.,), ( 963.,), ( 964.,), ( 965.,), ( 966.,),\n",
       "           ( 967.,), ( 968.,), ( 969.,), ( 970.,), ( 971.,), ( 972.,),\n",
       "           ( 973.,), ( 974.,), ( 975.,), ( 976.,), ( 977.,), ( 978.,),\n",
       "           ( 979.,), ( 980.,), ( 981.,), ( 982.,), ( 983.,), ( 984.,),\n",
       "           ( 985.,), ( 986.,), ( 987.,), ( 988.,), ( 989.,), ( 990.,),\n",
       "           ( 991.,), ( 992.,), ( 993.,), ( 994.,), ( 995.,), ( 996.,),\n",
       "           ( 997.,), ( 998.,), ( 999.,), (1000.,), (1001.,), (1002.,),\n",
       "           (1003.,), (1004.,), (1005.,), (1006.,), (1007.,), (1008.,),\n",
       "           (1009.,), (1010.,), (1011.,), (1012.,), (1013.,), (1014.,),\n",
       "           (1015.,), (1016.,), (1017.,), (1018.,), (1019.,), (1020.,),\n",
       "           (1021.,), (1022.,), (1023.,), (1024.,), (1025.,), (1026.,),\n",
       "           (1027.,), (1028.,), (1029.,), (1030.,), (1031.,), (1032.,),\n",
       "           (1033.,), (1034.,), (1035.,), (1036.,), (1037.,), (1038.,),\n",
       "           (1039.,), (1040.,), (1041.,), (1042.,), (1043.,), (1044.,),\n",
       "           (1045.,), (1046.,), (1047.,), (1048.,), (1049.,), (1050.,),\n",
       "           (1051.,), (1052.,), (1053.,), (1054.,), (1055.,), (1056.,),\n",
       "           (1057.,), (1058.,), (1059.,), (1060.,), (1061.,), (1062.,),\n",
       "           (1063.,), (1064.,), (1065.,), (1066.,), (1067.,), (1068.,),\n",
       "           (1069.,), (1070.,), (1071.,), (1072.,), (1073.,), (1074.,),\n",
       "           (1075.,), (1076.,), (1077.,), (1078.,), (1079.,), (1080.,),\n",
       "           (1081.,), (1082.,), (1083.,), (1084.,), (1085.,), (1086.,),\n",
       "           (1087.,), (1088.,), (1089.,), (1090.,), (1091.,), (1092.,),\n",
       "           (1093.,), (1094.,), (1095.,), (1096.,), (1097.,), (1098.,),\n",
       "           (1099.,), (1100.,), (1101.,), (1102.,), (1103.,), (1104.,),\n",
       "           (1105.,), (1106.,), (1107.,), (1108.,), (1109.,), (1110.,),\n",
       "           (1111.,), (1112.,), (1113.,), (1114.,), (1115.,), (1116.,),\n",
       "           (1117.,), (1118.,), (1119.,), (1120.,), (1121.,), (1122.,),\n",
       "           (1123.,), (1124.,), (1125.,), (1126.,), (1127.,), (1128.,),\n",
       "           (1129.,), (1130.,), (1131.,), (1132.,), (1133.,), (1134.,),\n",
       "           (1135.,), (1136.,), (1137.,), (1138.,), (1139.,), (1140.,),\n",
       "           (1141.,), (1142.,), (1143.,), (1144.,), (1145.,), (1146.,),\n",
       "           (1147.,), (1148.,), (1149.,), (1150.,), (1151.,), (1152.,),\n",
       "           (1153.,), (1154.,), (1155.,), (1156.,), (1157.,), (1158.,),\n",
       "           (1159.,), (1160.,), (1161.,), (1162.,), (1163.,), (1164.,),\n",
       "           (1165.,), (1166.,), (1167.,), (1168.,), (1169.,), (1170.,),\n",
       "           (1171.,), (1172.,), (1173.,), (1174.,), (1175.,), (1176.,),\n",
       "           (1177.,), (1178.,), (1179.,), (1180.,), (1181.,), (1182.,),\n",
       "           (1183.,), (1184.,), (1185.,), (1186.,), (1187.,), (1188.,),\n",
       "           (1189.,), (1190.,), (1191.,), (1192.,), (1193.,), (1194.,),\n",
       "           (1195.,), (1196.,), (1197.,), (1198.,), (1199.,), (1200.,),\n",
       "           (1201.,), (1202.,), (1203.,), (1204.,), (1205.,), (1206.,),\n",
       "           (1207.,), (1208.,), (1209.,), (1210.,), (1211.,), (1212.,),\n",
       "           (1213.,), (1214.,), (1215.,), (1216.,), (1217.,), (1218.,),\n",
       "           (1219.,), (1220.,), (1221.,), (1222.,), (1223.,), (1224.,),\n",
       "           (1225.,), (1226.,), (1227.,), (1228.,), (1229.,), (1230.,),\n",
       "           (1231.,), (1232.,), (1233.,), (1234.,), (1235.,), (1236.,),\n",
       "           (1237.,), (1238.,), (1239.,), (1240.,), (1241.,), (1242.,),\n",
       "           (1243.,), (1244.,), (1245.,), (1246.,), (1247.,), (1248.,),\n",
       "           (1249.,), (1250.,), (1251.,), (1252.,), (1253.,), (1254.,),\n",
       "           (1255.,), (1256.,), (1257.,), (1258.,), (1259.,), (1260.,),\n",
       "           (1261.,), (1262.,), (1263.,), (1264.,), (1265.,), (1266.,),\n",
       "           (1267.,), (1268.,), (1269.,), (1270.,), (1271.,), (1272.,),\n",
       "           (1273.,), (1274.,), (1275.,), (1276.,), (1277.,), (1278.,),\n",
       "           (1279.,), (1280.,), (1281.,), (1282.,), (1283.,), (1284.,),\n",
       "           (1285.,), (1286.,), (1287.,), (1288.,), (1289.,), (1290.,),\n",
       "           (1291.,), (1292.,), (1293.,), (1294.,), (1295.,), (1296.,),\n",
       "           (1297.,), (1298.,), (1299.,), (1300.,), (1301.,), (1302.,),\n",
       "           (1303.,), (1304.,), (1305.,), (1306.,), (1307.,), (1308.,),\n",
       "           (1309.,), (1310.,), (1311.,), (1312.,), (1313.,), (1314.,),\n",
       "           (1315.,), (1316.,), (1317.,), (1318.,), (1319.,), (1320.,),\n",
       "           (1321.,), (1322.,), (1323.,), (1324.,), (1325.,), (1326.,),\n",
       "           (1327.,), (1328.,), (1329.,), (1330.,), (1331.,), (1332.,),\n",
       "           (1333.,), (1334.,), (1335.,), (1336.,), (1337.,), (1338.,),\n",
       "           (1339.,), (1340.,), (1341.,), (1342.,), (1343.,), (1344.,),\n",
       "           (1345.,), (1346.,), (1347.,), (1348.,), (1349.,), (1350.,),\n",
       "           (1351.,), (1352.,), (1353.,), (1354.,), (1355.,), (1356.,),\n",
       "           (1357.,), (1358.,), (1359.,), (1360.,), (1361.,), (1362.,),\n",
       "           (1363.,), (1364.,), (1365.,), (1366.,), (1367.,), (1368.,),\n",
       "           (1369.,), (1370.,), (1371.,), (1372.,), (1373.,), (1374.,),\n",
       "           (1375.,), (1376.,), (1377.,), (1378.,), (1379.,), (1380.,),\n",
       "           (1381.,), (1382.,), (1383.,), (1384.,), (1385.,), (1386.,),\n",
       "           (1387.,), (1388.,), (1389.,), (1390.,), (1391.,), (1392.,),\n",
       "           (1393.,), (1394.,), (1395.,), (1396.,), (1397.,), (1398.,),\n",
       "           (1399.,), (1400.,), (1401.,), (1402.,), (1403.,), (1404.,),\n",
       "           (1405.,), (1406.,), (1407.,), (1408.,), (1409.,), (1410.,),\n",
       "           (1411.,), (1412.,), (1413.,), (1414.,), (1415.,), (1416.,),\n",
       "           (1417.,), (1418.,), (1419.,), (1420.,), (1421.,), (1422.,),\n",
       "           (1423.,), (1424.,), (1425.,), (1426.,), (1427.,), (1428.,),\n",
       "           (1429.,), (1430.,), (1431.,), (1432.,), (1433.,), (1434.,),\n",
       "           (1435.,), (1436.,), (1437.,), (1438.,), (1439.,), (1440.,),\n",
       "           (1441.,), (1442.,), (1443.,), (1444.,), (1445.,), (1446.,),\n",
       "           (1447.,), (1448.,), (1449.,), (1450.,), (1451.,), (1452.,),\n",
       "           (1453.,), (1454.,), (1455.,), (1456.,), (1457.,), (1458.,),\n",
       "           (1459.,), (1460.,), (1461.,), (1462.,), (1463.,), (1464.,),\n",
       "           (1465.,), (1466.,), (1467.,), (1468.,), (1469.,), (1470.,),\n",
       "           (1471.,), (1472.,), (1473.,), (1474.,), (1475.,), (1476.,),\n",
       "           (1477.,), (1478.,), (1479.,), (1480.,), (1481.,), (1482.,),\n",
       "           (1483.,), (1484.,), (1485.,), (1486.,), (1487.,), (1488.,),\n",
       "           (1489.,), (1490.,), (1491.,), (1492.,), (1493.,), (1494.,),\n",
       "           (1495.,), (1496.,), (1497.,), (1498.,), (1499.,), (1500.,),\n",
       "           (1501.,), (1502.,), (1503.,), (1504.,), (1505.,), (1506.,),\n",
       "           (1507.,), (1508.,), (1509.,), (1510.,), (1511.,), (1512.,),\n",
       "           (1513.,), (1514.,), (1515.,), (1516.,), (1517.,), (1518.,),\n",
       "           (1519.,), (1520.,), (1521.,), (1522.,), (1523.,), (1524.,),\n",
       "           (1525.,), (1526.,), (1527.,), (1528.,), (1529.,), (1530.,),\n",
       "           (1531.,), (1532.,), (1533.,), (1534.,), (1535.,), (1536.,),\n",
       "           (1537.,), (1538.,), (1539.,), (1540.,), (1541.,), (1542.,),\n",
       "           (1543.,), (1544.,), (1545.,), (1546.,), (1547.,), (1548.,),\n",
       "           (1549.,), (1550.,), (1551.,), (1552.,), (1553.,), (1554.,),\n",
       "           (1555.,), (1556.,), (1557.,), (1558.,), (1559.,), (1560.,),\n",
       "           (1561.,), (1562.,), (1563.,), (1564.,), (1565.,), (1566.,),\n",
       "           (1567.,), (1568.,), (1569.,), (1570.,), (1571.,), (1572.,),\n",
       "           (1573.,), (1574.,), (1575.,), (1576.,), (1577.,), (1578.,),\n",
       "           (1579.,), (1580.,), (1581.,), (1582.,), (1583.,), (1584.,),\n",
       "           (1585.,), (1586.,), (1587.,), (1588.,), (1589.,), (1590.,),\n",
       "           (1591.,), (1592.,), (1593.,), (1594.,), (1595.,), (1596.,),\n",
       "           (1597.,), (1598.,), (1599.,), (1600.,), (1601.,), (1602.,),\n",
       "           (1603.,), (1604.,), (1605.,), (1606.,), (1607.,), (1608.,),\n",
       "           (1609.,), (1610.,), (1611.,), (1612.,), (1613.,), (1614.,),\n",
       "           (1615.,), (1616.,), (1617.,), (1618.,), (1619.,), (1620.,),\n",
       "           (1621.,), (1622.,), (1623.,), (1624.,), (1625.,), (1626.,),\n",
       "           (1627.,), (1628.,), (1629.,), (1630.,), (1631.,), (1632.,),\n",
       "           (1633.,), (1634.,), (1635.,), (1636.,), (1637.,), (1638.,),\n",
       "           (1639.,), (1640.,), (1641.,), (1642.,), (1643.,), (1644.,),\n",
       "           (1645.,), (1646.,), (1647.,), (1648.,), (1649.,), (1650.,),\n",
       "           (1651.,), (1652.,), (1653.,), (1654.,), (1655.,), (1656.,),\n",
       "           (1657.,), (1658.,), (1659.,), (1660.,), (1661.,), (1662.,),\n",
       "           (1663.,), (1664.,), (1665.,), (1666.,), (1667.,), (1668.,),\n",
       "           (1669.,), (1670.,), (1671.,), (1672.,), (1673.,), (1674.,),\n",
       "           (1675.,), (1676.,), (1677.,), (1678.,), (1679.,), (1680.,),\n",
       "           (1681.,), (1682.,), (1683.,), (1684.,), (1685.,), (1686.,),\n",
       "           (1687.,), (1688.,), (1689.,), (1690.,), (1691.,), (1692.,),\n",
       "           (1693.,), (1694.,), (1695.,), (1696.,), (1697.,), (1698.,),\n",
       "           (1699.,), (1700.,), (1701.,), (1702.,), (1703.,), (1704.,),\n",
       "           (1705.,), (1706.,), (1707.,), (1708.,), (1709.,), (1710.,),\n",
       "           (1711.,), (1712.,), (1713.,), (1714.,), (1715.,), (1716.,),\n",
       "           (1717.,), (1718.,), (1719.,), (1720.,), (1721.,), (1722.,),\n",
       "           (1723.,), (1724.,), (1725.,), (1726.,), (1727.,), (1728.,),\n",
       "           (1729.,), (1730.,), (1731.,), (1732.,), (1733.,), (1734.,),\n",
       "           (1735.,), (1736.,), (1737.,), (1738.,), (1739.,), (1740.,),\n",
       "           (1741.,), (1742.,), (1743.,), (1744.,), (1745.,), (1746.,),\n",
       "           (1747.,), (1748.,), (1749.,), (1750.,), (1751.,), (1752.,),\n",
       "           (1753.,), (1754.,), (1755.,), (1756.,), (1757.,), (1758.,),\n",
       "           (1759.,), (1760.,), (1761.,), (1762.,), (1763.,), (1764.,),\n",
       "           (1765.,), (1766.,), (1767.,), (1768.,), (1769.,), (1770.,),\n",
       "           (1771.,), (1772.,), (1773.,), (1774.,), (1775.,), (1776.,),\n",
       "           (1777.,), (1778.,), (1779.,), (1780.,), (1781.,), (1782.,),\n",
       "           (1783.,), (1784.,), (1785.,), (1786.,), (1787.,), (1788.,),\n",
       "           (1789.,), (1790.,), (1791.,), (1792.,), (1793.,), (1794.,),\n",
       "           (1795.,), (1796.,), (1797.,), (1798.,), (1799.,), (1800.,),\n",
       "           (1801.,), (1802.,), (1803.,), (1804.,), (1805.,), (1806.,),\n",
       "           (1807.,), (1808.,), (1809.,), (1810.,), (1811.,), (1812.,),\n",
       "           (1813.,), (1814.,), (1815.,), (1816.,), (1817.,), (1818.,),\n",
       "           (1819.,), (1820.,), (1821.,), (1822.,), (1823.,), (1824.,),\n",
       "           (1825.,), (1826.,), (1827.,), (1828.,), (1829.,), (1830.,),\n",
       "           (1831.,), (1832.,), (1833.,), (1834.,), (1835.,), (1836.,),\n",
       "           (1837.,), (1838.,), (1839.,), (1840.,), (1841.,), (1842.,),\n",
       "           (1843.,), (1844.,), (1845.,), (1846.,), (1847.,), (1848.,),\n",
       "           (1849.,), (1850.,), (1851.,), (1852.,), (1853.,), (1854.,),\n",
       "           (1855.,), (1856.,), (1857.,), (1858.,), (1859.,), (1860.,),\n",
       "           (1861.,), (1862.,), (1863.,), (1864.,), (1865.,), (1866.,),\n",
       "           (1867.,), (1868.,), (1869.,), (1870.,), (1871.,), (1872.,),\n",
       "           (1873.,), (1874.,), (1875.,), (1876.,), (1877.,), (1878.,),\n",
       "           (1879.,), (1880.,), (1881.,), (1882.,), (1883.,), (1884.,),\n",
       "           (1885.,), (1886.,), (1887.,), (1888.,), (1889.,), (1890.,),\n",
       "           (1891.,), (1892.,), (1893.,), (1894.,), (1895.,), (1896.,),\n",
       "           (1897.,), (1898.,), (1899.,), (1900.,), (1901.,), (1902.,),\n",
       "           (1903.,), (1904.,), (1905.,), (1906.,), (1907.,), (1908.,),\n",
       "           (1909.,), (1910.,), (1911.,), (1912.,), (1913.,), (1914.,),\n",
       "           (1915.,), (1916.,), (1917.,), (1918.,), (1919.,), (1920.,),\n",
       "           (1921.,), (1922.,), (1923.,), (1924.,), (1925.,), (1926.,),\n",
       "           (1927.,), (1928.,), (1929.,), (1930.,), (1931.,), (1932.,),\n",
       "           (1933.,), (1934.,), (1935.,), (1936.,), (1937.,), (1938.,),\n",
       "           (1939.,), (1940.,), (1941.,), (1942.,), (1943.,), (1944.,),\n",
       "           (1945.,), (1946.,), (1947.,), (1948.,), (1949.,), (1950.,),\n",
       "           (1951.,), (1952.,), (1953.,), (1954.,), (1955.,), (1956.,),\n",
       "           (1957.,), (1958.,), (1959.,), (1960.,), (1961.,), (1962.,),\n",
       "           (1963.,), (1964.,), (1965.,), (1966.,), (1967.,), (1968.,),\n",
       "           (1969.,), (1970.,), (1971.,), (1972.,), (1973.,), (1974.,),\n",
       "           (1975.,), (1976.,), (1977.,), (1978.,), (1979.,), (1980.,),\n",
       "           (1981.,), (1982.,), (1983.,), (1984.,), (1985.,), (1986.,),\n",
       "           (1987.,), (1988.,), (1989.,), (1990.,), (1991.,), (1992.,),\n",
       "           (1993.,), (1994.,), (1995.,), (1996.,), (1997.,), (1998.,),\n",
       "           (1999.,)],\n",
       "          dtype=[('0000000000000000000e00', '<f8')])"
      ]
     },
     "execution_count": 172,
     "metadata": {},
     "output_type": "execute_result"
    }
   ],
   "source": [
    "np.recfromcsv('A.csv')"
   ]
  },
  {
   "cell_type": "code",
   "execution_count": 173,
   "metadata": {},
   "outputs": [
    {
     "name": "stdout",
     "output_type": "stream",
     "text": [
      "enter the number2\n",
      "[0]\n"
     ]
    }
   ],
   "source": [
    "A9=np.array([10,20,20,20,20,0,20,30,30,30,0,0,20,20,0])\n",
    "A2=int(input('enter the number'))\n",
    "A3=[]\n",
    "A3.append(np.count_nonzero(A9[A9==A2]))\n",
    "print(A3)"
   ]
  },
  {
   "cell_type": "code",
   "execution_count": null,
   "metadata": {},
   "outputs": [],
   "source": []
  },
  {
   "cell_type": "code",
   "execution_count": 174,
   "metadata": {},
   "outputs": [
    {
     "data": {
      "text/plain": [
       "array([50.5, 40.6, 90.1])"
      ]
     },
     "execution_count": 174,
     "metadata": {},
     "output_type": "execute_result"
    }
   ],
   "source": [
    "np.percentile((np.linspace(1,100,10)),[50,40,90])"
   ]
  },
  {
   "cell_type": "code",
   "execution_count": 175,
   "metadata": {},
   "outputs": [
    {
     "data": {
      "text/plain": [
       "[array([2, 3, 4], dtype=int64)]"
      ]
     },
     "execution_count": 175,
     "metadata": {},
     "output_type": "execute_result"
    }
   ],
   "source": [
    "I1=np.array([200., 300. ,np.nan ,np.nan ,np.nan,700.])\n",
    "I2=np.where(np.isnan(I1))\n",
    "I2=list(I2)\n",
    "I2"
   ]
  },
  {
   "cell_type": "code",
   "execution_count": 176,
   "metadata": {},
   "outputs": [
    {
     "data": {
      "text/plain": [
       "array([200., 300., 700.])"
      ]
     },
     "execution_count": 176,
     "metadata": {},
     "output_type": "execute_result"
    }
   ],
   "source": [
    "I1=np.delete(I1,I2)\n",
    "I1"
   ]
  },
  {
   "cell_type": "code",
   "execution_count": 177,
   "metadata": {},
   "outputs": [
    {
     "data": {
      "text/plain": [
       "array([1., 2., 3., 0., 6., 7.])"
      ]
     },
     "execution_count": 177,
     "metadata": {},
     "output_type": "execute_result"
    }
   ],
   "source": [
    "I3=np.array([[[ 1.,2.,3.],[np.nan,0.,np.nan],[ 6., 7. ,np.nan]]])\n",
    "I3=I3.flatten()\n",
    "I2=np.where(np.isnan(I3))\n",
    "I2=list(I2)\n",
    "I2\n",
    "I3=np.delete(I3,I2)\n",
    "I3"
   ]
  },
  {
   "cell_type": "code",
   "execution_count": 178,
   "metadata": {},
   "outputs": [
    {
     "data": {
      "text/plain": [
       "48"
      ]
     },
     "execution_count": 178,
     "metadata": {},
     "output_type": "execute_result"
    }
   ],
   "source": [
    "I3.itemsize*I3.size"
   ]
  },
  {
   "cell_type": "code",
   "execution_count": 179,
   "metadata": {},
   "outputs": [
    {
     "name": "stdout",
     "output_type": "stream",
     "text": [
      "[  1. 200.]\n",
      "[  2. 200.]\n",
      "[  3. 300.]\n",
      "[  0. 300.]\n",
      "[  6. 700.]\n",
      "[  7. 700.]\n"
     ]
    }
   ],
   "source": [
    "I1=np.repeat(I1,2)\n",
    "for i in range(len(I3)):\n",
    "    I4=np.array([I3[i],I1[i]])\n",
    "    print(I4)"
   ]
  },
  {
   "cell_type": "code",
   "execution_count": 180,
   "metadata": {},
   "outputs": [
    {
     "ename": "NameError",
     "evalue": "name 'I8' is not defined",
     "output_type": "error",
     "traceback": [
      "\u001b[1;31m---------------------------------------------------------------------------\u001b[0m",
      "\u001b[1;31mNameError\u001b[0m                                 Traceback (most recent call last)",
      "\u001b[1;32m<ipython-input-180-abca3c825591>\u001b[0m in \u001b[0;36m<module>\u001b[1;34m\u001b[0m\n\u001b[0;32m      2\u001b[0m \u001b[0mI6\u001b[0m\u001b[1;33m=\u001b[0m\u001b[0mnp\u001b[0m\u001b[1;33m.\u001b[0m\u001b[0marray\u001b[0m\u001b[1;33m(\u001b[0m\u001b[1;33m[\u001b[0m\u001b[1;36m4\u001b[0m\u001b[1;33m,\u001b[0m \u001b[1;36m5\u001b[0m\u001b[1;33m]\u001b[0m\u001b[1;33m)\u001b[0m\u001b[1;33m\u001b[0m\u001b[1;33m\u001b[0m\u001b[0m\n\u001b[0;32m      3\u001b[0m \u001b[0mI7\u001b[0m\u001b[1;33m=\u001b[0m\u001b[0mnp\u001b[0m\u001b[1;33m.\u001b[0m\u001b[0marray\u001b[0m\u001b[1;33m(\u001b[0m\u001b[1;33m[\u001b[0m\u001b[1;36m6\u001b[0m\u001b[1;33m,\u001b[0m \u001b[1;36m7\u001b[0m\u001b[1;33m]\u001b[0m\u001b[1;33m)\u001b[0m\u001b[1;33m\u001b[0m\u001b[1;33m\u001b[0m\u001b[0m\n\u001b[1;32m----> 4\u001b[1;33m \u001b[0mnew_array\u001b[0m \u001b[1;33m=\u001b[0m \u001b[0mnp\u001b[0m\u001b[1;33m.\u001b[0m\u001b[0marray\u001b[0m\u001b[1;33m(\u001b[0m\u001b[0mnp\u001b[0m\u001b[1;33m.\u001b[0m\u001b[0mmeshgrid\u001b[0m\u001b[1;33m(\u001b[0m\u001b[0mI6\u001b[0m\u001b[1;33m,\u001b[0m\u001b[0mI7\u001b[0m\u001b[1;33m,\u001b[0m\u001b[0mI8\u001b[0m\u001b[1;33m)\u001b[0m\u001b[1;33m)\u001b[0m\u001b[1;33m.\u001b[0m\u001b[0mT\u001b[0m\u001b[1;33m.\u001b[0m\u001b[0mreshape\u001b[0m\u001b[1;33m(\u001b[0m\u001b[1;33m-\u001b[0m\u001b[1;36m1\u001b[0m\u001b[1;33m,\u001b[0m\u001b[1;36m3\u001b[0m\u001b[1;33m)\u001b[0m\u001b[1;33m\u001b[0m\u001b[1;33m\u001b[0m\u001b[0m\n\u001b[0m\u001b[0;32m      5\u001b[0m \u001b[0mnew_array\u001b[0m\u001b[1;33m\u001b[0m\u001b[1;33m\u001b[0m\u001b[0m\n",
      "\u001b[1;31mNameError\u001b[0m: name 'I8' is not defined"
     ]
    }
   ],
   "source": [
    "I5=np.array([1, 2, 3])\n",
    "I6=np.array([4, 5])\n",
    "I7=np.array([6, 7])\n",
    "new_array = np.array(np.meshgrid(I6,I7,I8)).T.reshape(-1,3)\n",
    "new_array"
   ]
  },
  {
   "cell_type": "code",
   "execution_count": 181,
   "metadata": {},
   "outputs": [],
   "source": [
    "N1=np.array([1,0,2,0,3,0,4,5,6,7,8])"
   ]
  },
  {
   "cell_type": "code",
   "execution_count": 182,
   "metadata": {},
   "outputs": [
    {
     "data": {
      "text/plain": [
       "(array([1, 3, 5], dtype=int64),)"
      ]
     },
     "execution_count": 182,
     "metadata": {},
     "output_type": "execute_result"
    }
   ],
   "source": [
    "np.nonzero(N1==0)"
   ]
  },
  {
   "cell_type": "code",
   "execution_count": 183,
   "metadata": {},
   "outputs": [
    {
     "data": {
      "text/plain": [
       "<Figure size 640x480 with 1 Axes>"
      ]
     },
     "metadata": {},
     "output_type": "display_data"
    }
   ],
   "source": [
    "import matplotlib.pyplot as plt\n",
    "plt.hist([1, 2, 1], bins=[0, 1, 2, 3, 5])\n",
    "plt.show()"
   ]
  },
  {
   "cell_type": "code",
   "execution_count": 184,
   "metadata": {},
   "outputs": [
    {
     "name": "stderr",
     "output_type": "stream",
     "text": [
      "C:\\ProgramData\\Anaconda3\\lib\\site-packages\\ipykernel_launcher.py:4: UserWarning: Matplotlib is currently using module://ipykernel.pylab.backend_inline, which is a non-GUI backend, so cannot show the figure.\n",
      "  after removing the cwd from sys.path.\n"
     ]
    },
    {
     "data": {
      "image/png": "[encoded data removed]",
      "text/plain": [
       "<Figure size 432x288 with 1 Axes>"
      ]
     },
     "metadata": {
      "needs_background": "light"
     },
     "output_type": "display_data"
    }
   ],
   "source": [
    "y, x = np.histogram(arr, bins=np.arange(51))\n",
    "fig, ax = plt.subplots()\n",
    "ax.plot(x[:-1], y)\n",
    "fig.show()"
   ]
  },
  {
   "cell_type": "code",
   "execution_count": 185,
   "metadata": {},
   "outputs": [
    {
     "data": {
      "text/plain": [
       "9"
      ]
     },
     "execution_count": 185,
     "metadata": {},
     "output_type": "execute_result"
    }
   ],
   "source": [
    "Zn=np.array([-6,-5,-4,-3,-2,-1,0,1,2,3,4,5])\n",
    "np.argmax(Zn>2)"
   ]
  },
  {
   "cell_type": "code",
   "execution_count": 186,
   "metadata": {},
   "outputs": [
    {
     "data": {
      "text/plain": [
       "array([[10, 20, 40],\n",
       "       [50, 60, 30]])"
      ]
     },
     "execution_count": 186,
     "metadata": {},
     "output_type": "execute_result"
    }
   ],
   "source": [
    "Zn1=np.array([])\n",
    "Zn2=np.insert(Zn1,obj=0,values=[10,20,30],axis=0)\n",
    "np.int_(np.insert(Zn2,obj=2,values=[40,50,60],axis=0).reshape(2,3))"
   ]
  },
  {
   "cell_type": "code",
   "execution_count": 187,
   "metadata": {},
   "outputs": [
    {
     "data": {
      "text/plain": [
       "array([[1, 2, 3],\n",
       "       [4, 3, 1]])"
      ]
     },
     "execution_count": 187,
     "metadata": {},
     "output_type": "execute_result"
    }
   ],
   "source": [
    "Zn3=np.array([[1,2,3],[4,3,1]])\n",
    "Zn3"
   ]
  },
  {
   "cell_type": "code",
   "execution_count": 188,
   "metadata": {},
   "outputs": [
    {
     "data": {
      "text/plain": [
       "(array([0], dtype=int64),)"
      ]
     },
     "execution_count": 188,
     "metadata": {},
     "output_type": "execute_result"
    }
   ],
   "source": [
    "m=Zn3.max()\n",
    "np.nonzero(m)"
   ]
  },
  {
   "cell_type": "code",
   "execution_count": 189,
   "metadata": {},
   "outputs": [
    {
     "name": "stdout",
     "output_type": "stream",
     "text": [
      "[[1]\n",
      " [2]\n",
      " [3]] \n",
      " [[2]\n",
      " [3]\n",
      " [4]]\n"
     ]
    }
   ],
   "source": [
    "m1=np.array([[1,2,3],[2,3,4]]).reshape(2,3)\n",
    "m2=np.array([[1],[2],[3]])\n",
    "m3=np.array([[2],[3],[4]])\n",
    "#np.concatenate((m2,m3),axis=0)\n",
    "m4=print(m2,'\\n',m3)\n",
    "m4"
   ]
  },
  {
   "cell_type": "code",
   "execution_count": 190,
   "metadata": {},
   "outputs": [
    {
     "data": {
      "text/plain": [
       "array([[1],\n",
       "       [2],\n",
       "       [3],\n",
       "       [2],\n",
       "       [3],\n",
       "       [4]])"
      ]
     },
     "execution_count": 190,
     "metadata": {},
     "output_type": "execute_result"
    }
   ],
   "source": [
    "m3=np.vstack((m2,m3))\n",
    "m3"
   ]
  },
  {
   "cell_type": "code",
   "execution_count": 191,
   "metadata": {},
   "outputs": [
    {
     "data": {
      "text/plain": [
       "array([[ 0,  1,  2,  3],\n",
       "       [ 4,  5,  6,  7],\n",
       "       [ 8,  9, 10, 11],\n",
       "       [12, 13, 14, 15]])"
      ]
     },
     "execution_count": 191,
     "metadata": {},
     "output_type": "execute_result"
    }
   ],
   "source": [
    "m3=np.array(np.arange(0,16)).reshape(4,4)\n",
    "m3"
   ]
  },
  {
   "cell_type": "code",
   "execution_count": 192,
   "metadata": {},
   "outputs": [
    {
     "name": "stdout",
     "output_type": "stream",
     "text": [
      "[2] [1]\n",
      "[2] [2]\n",
      "[2] [3]\n"
     ]
    }
   ],
   "source": [
    "m4=m3[2:3,1:]\n",
    "m4=m4.flatten()\n",
    "m4=list(m4)\n",
    "for i in range(len(m4)):\n",
    "    print(np.nonzero(m3==m4[i])[0],np.nonzero(m3==m4[i])[1])"
   ]
  },
  {
   "cell_type": "code",
   "execution_count": 193,
   "metadata": {},
   "outputs": [
    {
     "data": {
      "text/plain": [
       "array([[0, 1],\n",
       "       [2, 3]])"
      ]
     },
     "execution_count": 193,
     "metadata": {},
     "output_type": "execute_result"
    }
   ],
   "source": [
    "m3\n",
    "np.resize(m3,(2,2))"
   ]
  },
  {
   "cell_type": "code",
   "execution_count": 194,
   "metadata": {},
   "outputs": [
    {
     "data": {
      "text/plain": [
       "array([[ 0,  1,  2,  3,  4,  5],\n",
       "       [ 6,  7,  8,  9, 10, 11],\n",
       "       [12, 13, 14, 15,  0,  1],\n",
       "       [ 2,  3,  4,  5,  6,  7],\n",
       "       [ 8,  9, 10, 11, 12, 13],\n",
       "       [14, 15,  0,  1,  2,  3]])"
      ]
     },
     "execution_count": 194,
     "metadata": {},
     "output_type": "execute_result"
    }
   ],
   "source": [
    "np.resize(m3,(6,6))"
   ]
  },
  {
   "cell_type": "code",
   "execution_count": 195,
   "metadata": {},
   "outputs": [
    {
     "data": {
      "text/plain": [
       "array([[10, 11, 12],\n",
       "       [11, 13, 15],\n",
       "       [14, 16, 18]])"
      ]
     },
     "execution_count": 195,
     "metadata": {},
     "output_type": "execute_result"
    }
   ],
   "source": [
    "m4=np.array([[0,0,0],[1,2,3],[4,5,6]])\n",
    "m5=np.array([10,11,12])\n",
    "m6=m4+m5\n",
    "m6"
   ]
  },
  {
   "cell_type": "code",
   "execution_count": 196,
   "metadata": {},
   "outputs": [
    {
     "data": {
      "text/plain": [
       "array([[11, 12, 13],\n",
       "       [20, 21, 22],\n",
       "       [30, 31, 32]])"
      ]
     },
     "execution_count": 196,
     "metadata": {},
     "output_type": "execute_result"
    }
   ],
   "source": [
    "m7=np.array([[1],[10],[20]])\n",
    "m8=np.array([10,11,12])\n",
    "m9=m7+m8\n",
    "m9"
   ]
  },
  {
   "cell_type": "code",
   "execution_count": 197,
   "metadata": {},
   "outputs": [
    {
     "data": {
      "text/plain": [
       "array([[ 0,  1,  2,  3,  4,  5],\n",
       "       [ 6,  7,  8,  9, 10, 11],\n",
       "       [12, 13, 14, 15, 16, 17],\n",
       "       [18, 19, 20, 21, 22, 23]])"
      ]
     },
     "execution_count": 197,
     "metadata": {},
     "output_type": "execute_result"
    }
   ],
   "source": [
    "np.arange(0,24).reshape(6,4).reshape(4,6)"
   ]
  },
  {
   "cell_type": "code",
   "execution_count": 198,
   "metadata": {},
   "outputs": [
    {
     "data": {
      "text/plain": [
       "array([[1, 2],\n",
       "       [2, 3],\n",
       "       [3, 4]])"
      ]
     },
     "execution_count": 198,
     "metadata": {},
     "output_type": "execute_result"
    }
   ],
   "source": [
    "m11=np.array([1,2,3]).reshape(3,1)\n",
    "m22=np.array([2,3,4]).reshape(3,1)\n",
    "m33=np.hstack((m11,m22))\n",
    "m33"
   ]
  },
  {
   "cell_type": "code",
   "execution_count": 199,
   "metadata": {},
   "outputs": [
    {
     "data": {
      "text/plain": [
       "array([[1, 2, 3],\n",
       "       [2, 3, 4]])"
      ]
     },
     "execution_count": 199,
     "metadata": {},
     "output_type": "execute_result"
    }
   ],
   "source": [
    "m11=np.array([1,2,3])\n",
    "m22=np.array([2,3,4])\n",
    "m33=np.vstack((m11,m22))\n",
    "m33"
   ]
  },
  {
   "cell_type": "code",
   "execution_count": 200,
   "metadata": {},
   "outputs": [
    {
     "data": {
      "text/plain": [
       "['T',\n",
       " '__abs__',\n",
       " '__add__',\n",
       " '__and__',\n",
       " '__array__',\n",
       " '__array_interface__',\n",
       " '__array_priority__',\n",
       " '__array_struct__',\n",
       " '__array_wrap__',\n",
       " '__bool__',\n",
       " '__class__',\n",
       " '__copy__',\n",
       " '__deepcopy__',\n",
       " '__delattr__',\n",
       " '__dir__',\n",
       " '__divmod__',\n",
       " '__doc__',\n",
       " '__eq__',\n",
       " '__float__',\n",
       " '__floordiv__',\n",
       " '__format__',\n",
       " '__ge__',\n",
       " '__getattribute__',\n",
       " '__getitem__',\n",
       " '__gt__',\n",
       " '__hash__',\n",
       " '__init__',\n",
       " '__init_subclass__',\n",
       " '__int__',\n",
       " '__invert__',\n",
       " '__le__',\n",
       " '__lshift__',\n",
       " '__lt__',\n",
       " '__mod__',\n",
       " '__mul__',\n",
       " '__ne__',\n",
       " '__neg__',\n",
       " '__new__',\n",
       " '__or__',\n",
       " '__pos__',\n",
       " '__pow__',\n",
       " '__radd__',\n",
       " '__rand__',\n",
       " '__rdivmod__',\n",
       " '__reduce__',\n",
       " '__reduce_ex__',\n",
       " '__repr__',\n",
       " '__rfloordiv__',\n",
       " '__rlshift__',\n",
       " '__rmod__',\n",
       " '__rmul__',\n",
       " '__ror__',\n",
       " '__round__',\n",
       " '__rpow__',\n",
       " '__rrshift__',\n",
       " '__rshift__',\n",
       " '__rsub__',\n",
       " '__rtruediv__',\n",
       " '__rxor__',\n",
       " '__setattr__',\n",
       " '__setstate__',\n",
       " '__sizeof__',\n",
       " '__str__',\n",
       " '__sub__',\n",
       " '__subclasshook__',\n",
       " '__truediv__',\n",
       " '__xor__',\n",
       " 'all',\n",
       " 'any',\n",
       " 'argmax',\n",
       " 'argmin',\n",
       " 'argsort',\n",
       " 'astype',\n",
       " 'base',\n",
       " 'byteswap',\n",
       " 'choose',\n",
       " 'clip',\n",
       " 'compress',\n",
       " 'conj',\n",
       " 'conjugate',\n",
       " 'copy',\n",
       " 'cumprod',\n",
       " 'cumsum',\n",
       " 'data',\n",
       " 'diagonal',\n",
       " 'dtype',\n",
       " 'dump',\n",
       " 'dumps',\n",
       " 'fill',\n",
       " 'flags',\n",
       " 'flat',\n",
       " 'flatten',\n",
       " 'getfield',\n",
       " 'imag',\n",
       " 'item',\n",
       " 'itemset',\n",
       " 'itemsize',\n",
       " 'max',\n",
       " 'mean',\n",
       " 'min',\n",
       " 'nbytes',\n",
       " 'ndim',\n",
       " 'newbyteorder',\n",
       " 'nonzero',\n",
       " 'prod',\n",
       " 'ptp',\n",
       " 'put',\n",
       " 'ravel',\n",
       " 'real',\n",
       " 'repeat',\n",
       " 'reshape',\n",
       " 'resize',\n",
       " 'round',\n",
       " 'searchsorted',\n",
       " 'setfield',\n",
       " 'setflags',\n",
       " 'shape',\n",
       " 'size',\n",
       " 'sort',\n",
       " 'squeeze',\n",
       " 'std',\n",
       " 'strides',\n",
       " 'sum',\n",
       " 'swapaxes',\n",
       " 'take',\n",
       " 'tobytes',\n",
       " 'tofile',\n",
       " 'tolist',\n",
       " 'tostring',\n",
       " 'trace',\n",
       " 'transpose',\n",
       " 'var',\n",
       " 'view']"
      ]
     },
     "execution_count": 200,
     "metadata": {},
     "output_type": "execute_result"
    }
   ],
   "source": [
    "import PIL\n",
    "dir(np.datetime64)"
   ]
  },
  {
   "cell_type": "code",
   "execution_count": 201,
   "metadata": {},
   "outputs": [
    {
     "data": {
      "text/plain": [
       "numpy.datetime64('2020-11-09')"
      ]
     },
     "execution_count": 201,
     "metadata": {},
     "output_type": "execute_result"
    }
   ],
   "source": [
    "np.datetime64('today')-np.timedelta64(1)"
   ]
  },
  {
   "cell_type": "code",
   "execution_count": 202,
   "metadata": {},
   "outputs": [
    {
     "data": {
      "text/plain": [
       "array([[12, 13, 14, 15, 16, 17],\n",
       "       [24, 25, 26, 27, 28, 29]])"
      ]
     },
     "execution_count": 202,
     "metadata": {},
     "output_type": "execute_result"
    }
   ],
   "source": [
    "h1=np.arange(0,36).reshape(6,6)\n",
    "h1\n",
    "h2=np.vstack((h1[2],h1[4]))\n",
    "h2"
   ]
  },
  {
   "cell_type": "code",
   "execution_count": 203,
   "metadata": {},
   "outputs": [
    {
     "data": {
      "text/plain": [
       "array([[12, 14, 16],\n",
       "       [24, 26, 28]])"
      ]
     },
     "execution_count": 203,
     "metadata": {},
     "output_type": "execute_result"
    }
   ],
   "source": [
    "h3=np.hstack([h2[0:2,0:1],h2[0:2,2:3],h2[0:2,4:5]])\n",
    "h3\n"
   ]
  },
  {
   "cell_type": "code",
   "execution_count": 204,
   "metadata": {},
   "outputs": [
    {
     "ename": "NameError",
     "evalue": "name 'st' is not defined",
     "output_type": "error",
     "traceback": [
      "\u001b[1;31m---------------------------------------------------------------------------\u001b[0m",
      "\u001b[1;31mNameError\u001b[0m                                 Traceback (most recent call last)",
      "\u001b[1;32m<ipython-input-204-c56a61b01a09>\u001b[0m in \u001b[0;36m<module>\u001b[1;34m\u001b[0m\n\u001b[0;32m      1\u001b[0m \u001b[0mA\u001b[0m\u001b[1;33m=\u001b[0m\u001b[0mnp\u001b[0m\u001b[1;33m.\u001b[0m\u001b[0marray\u001b[0m\u001b[1;33m(\u001b[0m\u001b[1;33m[\u001b[0m\u001b[1;36m24\u001b[0m\u001b[1;33m,\u001b[0m\u001b[1;36m27\u001b[0m\u001b[1;33m,\u001b[0m\u001b[1;36m30\u001b[0m\u001b[1;33m,\u001b[0m\u001b[1;36m29\u001b[0m\u001b[1;33m,\u001b[0m\u001b[1;36m18\u001b[0m\u001b[1;33m,\u001b[0m\u001b[1;36m14\u001b[0m\u001b[1;33m]\u001b[0m\u001b[1;33m)\u001b[0m\u001b[1;33m\u001b[0m\u001b[1;33m\u001b[0m\u001b[0m\n\u001b[1;32m----> 2\u001b[1;33m \u001b[0mst\u001b[0m\u001b[1;33m.\u001b[0m\u001b[0mrankdata\u001b[0m\u001b[1;33m(\u001b[0m\u001b[0mA\u001b[0m\u001b[1;33m)\u001b[0m\u001b[1;33m\u001b[0m\u001b[1;33m\u001b[0m\u001b[0m\n\u001b[0m",
      "\u001b[1;31mNameError\u001b[0m: name 'st' is not defined"
     ]
    }
   ],
   "source": [
    "A=np.array([24,27,30,29,18,14])\n",
    "st.rankdata(A)"
   ]
  },
  {
   "cell_type": "code",
   "execution_count": 205,
   "metadata": {},
   "outputs": [
    {
     "data": {
      "text/plain": [
       "array([[12, 14, 16],\n",
       "       [24, 26, 28]])"
      ]
     },
     "execution_count": 205,
     "metadata": {},
     "output_type": "execute_result"
    }
   ],
   "source": [
    "h5=np.copy(h3)\n",
    "h5"
   ]
  },
  {
   "cell_type": "code",
   "execution_count": 206,
   "metadata": {},
   "outputs": [],
   "source": [
    "import scipy.stats as st"
   ]
  },
  {
   "cell_type": "code",
   "execution_count": null,
   "metadata": {},
   "outputs": [],
   "source": []
  },
  {
   "cell_type": "code",
   "execution_count": 207,
   "metadata": {},
   "outputs": [
    {
     "data": {
      "text/plain": [
       "array([[ 3],\n",
       "       [ 7],\n",
       "       [11],\n",
       "       [15]])"
      ]
     },
     "execution_count": 207,
     "metadata": {},
     "output_type": "execute_result"
    }
   ],
   "source": [
    "np.arange(0,16).reshape(4,4)[0:4,3:4]"
   ]
  },
  {
   "cell_type": "code",
   "execution_count": 208,
   "metadata": {},
   "outputs": [
    {
     "data": {
      "text/plain": [
       "array([[ 0,  3],\n",
       "       [ 4,  7],\n",
       "       [ 8, 11],\n",
       "       [12, 15]])"
      ]
     },
     "execution_count": 208,
     "metadata": {},
     "output_type": "execute_result"
    }
   ],
   "source": [
    "Z2=np.arange(0,16).reshape(4,4)[0:,3:]\n",
    "Z3=np.arange(0,16).reshape(4,4)[0:,0:1]\n",
    "np.hstack((Z3,Z2))"
   ]
  },
  {
   "cell_type": "code",
   "execution_count": 209,
   "metadata": {},
   "outputs": [
    {
     "ename": "TypeError",
     "evalue": "hstack() takes 1 positional argument but 2 were given",
     "output_type": "error",
     "traceback": [
      "\u001b[1;31m---------------------------------------------------------------------------\u001b[0m",
      "\u001b[1;31mTypeError\u001b[0m                                 Traceback (most recent call last)",
      "\u001b[1;32m<ipython-input-209-076677c204b7>\u001b[0m in \u001b[0;36m<module>\u001b[1;34m\u001b[0m\n\u001b[1;32m----> 1\u001b[1;33m \u001b[0mnp\u001b[0m\u001b[1;33m.\u001b[0m\u001b[0mhstack\u001b[0m\u001b[1;33m(\u001b[0m\u001b[1;33m(\u001b[0m\u001b[0mnp\u001b[0m\u001b[1;33m.\u001b[0m\u001b[0marange\u001b[0m\u001b[1;33m(\u001b[0m\u001b[1;36m0\u001b[0m\u001b[1;33m,\u001b[0m\u001b[1;36m16\u001b[0m\u001b[1;33m)\u001b[0m\u001b[1;33m.\u001b[0m\u001b[0mreshape\u001b[0m\u001b[1;33m(\u001b[0m\u001b[1;36m4\u001b[0m\u001b[1;33m,\u001b[0m\u001b[1;36m4\u001b[0m\u001b[1;33m)\u001b[0m\u001b[1;33m[\u001b[0m\u001b[1;36m1\u001b[0m\u001b[1;33m:\u001b[0m\u001b[1;36m2\u001b[0m\u001b[1;33m,\u001b[0m\u001b[1;36m0\u001b[0m\u001b[1;33m:\u001b[0m\u001b[1;36m1\u001b[0m\u001b[1;33m]\u001b[0m\u001b[1;33m)\u001b[0m\u001b[1;33m,\u001b[0m\u001b[1;33m(\u001b[0m\u001b[0mnp\u001b[0m\u001b[1;33m.\u001b[0m\u001b[0marange\u001b[0m\u001b[1;33m(\u001b[0m\u001b[1;36m0\u001b[0m\u001b[1;33m,\u001b[0m\u001b[1;36m16\u001b[0m\u001b[1;33m)\u001b[0m\u001b[1;33m.\u001b[0m\u001b[0mreshape\u001b[0m\u001b[1;33m(\u001b[0m\u001b[1;36m4\u001b[0m\u001b[1;33m,\u001b[0m\u001b[1;36m4\u001b[0m\u001b[1;33m)\u001b[0m\u001b[1;33m[\u001b[0m\u001b[1;36m3\u001b[0m\u001b[1;33m:\u001b[0m\u001b[1;33m,\u001b[0m\u001b[1;36m3\u001b[0m\u001b[1;33m:\u001b[0m\u001b[1;33m]\u001b[0m\u001b[1;33m)\u001b[0m\u001b[1;33m)\u001b[0m\u001b[1;33m\u001b[0m\u001b[1;33m\u001b[0m\u001b[0m\n\u001b[0m",
      "\u001b[1;31mTypeError\u001b[0m: hstack() takes 1 positional argument but 2 were given"
     ]
    }
   ],
   "source": [
    "np.hstack((np.arange(0,16).reshape(4,4)[1:2,0:1]),(np.arange(0,16).reshape(4,4)[3:,3:]))"
   ]
  },
  {
   "cell_type": "code",
   "execution_count": null,
   "metadata": {},
   "outputs": [],
   "source": [
    "z1=np.array([[ 1., 2., 3.],[np.nan, 0., np.nan],[ 6., 7.,np. nan]])\n",
    "z1"
   ]
  },
  {
   "cell_type": "code",
   "execution_count": null,
   "metadata": {},
   "outputs": [],
   "source": [
    "np.delete(z1,[3,5,8])"
   ]
  },
  {
   "cell_type": "code",
   "execution_count": null,
   "metadata": {},
   "outputs": [],
   "source": [
    "a=np.where(np.isnan(z1))\n",
    "a"
   ]
  },
  {
   "cell_type": "code",
   "execution_count": null,
   "metadata": {},
   "outputs": [],
   "source": [
    "a=np.vstack(a)\n",
    "a"
   ]
  },
  {
   "cell_type": "code",
   "execution_count": null,
   "metadata": {},
   "outputs": [],
   "source": [
    "a2=np.arange(0,9)\n",
    "a2=a2.reshape(3,3)\n",
    "a3"
   ]
  },
  {
   "cell_type": "code",
   "execution_count": 210,
   "metadata": {},
   "outputs": [
    {
     "data": {
      "text/plain": [
       "array([21, 22, 23, 24, 25, 26, 27, 28, 29, 30])"
      ]
     },
     "execution_count": 210,
     "metadata": {},
     "output_type": "execute_result"
    }
   ],
   "source": [
    "a2+a3"
   ]
  },
  {
   "cell_type": "code",
   "execution_count": 211,
   "metadata": {},
   "outputs": [
    {
     "data": {
      "text/plain": [
       "array([[ 0,  1,  2,  3],\n",
       "       [ 4,  5,  6,  7],\n",
       "       [ 8,  9, 10, 11],\n",
       "       [12, 13, 14, 15]])"
      ]
     },
     "execution_count": 211,
     "metadata": {},
     "output_type": "execute_result"
    }
   ],
   "source": [
    "a12=np.arange(0,16).reshape(4,4)\n",
    "a12"
   ]
  },
  {
   "cell_type": "code",
   "execution_count": 212,
   "metadata": {},
   "outputs": [
    {
     "data": {
      "text/plain": [
       "array([[ 4, 15]])"
      ]
     },
     "execution_count": 212,
     "metadata": {},
     "output_type": "execute_result"
    }
   ],
   "source": [
    "np.array([a12[1:2,0:1],a12[3:,3:]]).reshape(1,2)"
   ]
  },
  {
   "cell_type": "code",
   "execution_count": 213,
   "metadata": {},
   "outputs": [
    {
     "data": {
      "text/plain": [
       "array([  1,   2,   3,   2,   4,   6,   1,   2,  12,   0, -12,   6])"
      ]
     },
     "execution_count": 213,
     "metadata": {},
     "output_type": "execute_result"
    }
   ],
   "source": [
    "C1=np.array( [ 1,2,3,2,4,6,1,2,12,0,-12,6])\n",
    "C1"
   ]
  },
  {
   "cell_type": "code",
   "execution_count": null,
   "metadata": {},
   "outputs": [],
   "source": []
  },
  {
   "cell_type": "code",
   "execution_count": 214,
   "metadata": {},
   "outputs": [
    {
     "data": {
      "text/plain": [
       "[2.0, 4.0, 3.75, -2.0]"
      ]
     },
     "execution_count": 214,
     "metadata": {},
     "output_type": "execute_result"
    }
   ],
   "source": [
    "C2=[np.mean(C1[0:3]),np.mean(C1[3:6]),np.mean(C1[6:10]),np.mean(C1[9:13])]\n",
    "C2"
   ]
  },
  {
   "cell_type": "code",
   "execution_count": 215,
   "metadata": {},
   "outputs": [
    {
     "data": {
      "text/plain": [
       "array([[  1,   2,   3,   2],\n",
       "       [  4,   6,   1,   2],\n",
       "       [ 12,   0, -12,   6]])"
      ]
     },
     "execution_count": 215,
     "metadata": {},
     "output_type": "execute_result"
    }
   ],
   "source": [
    "P=C1.reshape(3,4)\n",
    "P"
   ]
  },
  {
   "cell_type": "code",
   "execution_count": 217,
   "metadata": {},
   "outputs": [
    {
     "name": "stdout",
     "output_type": "stream",
     "text": [
      "enter the key value4\n"
     ]
    },
    {
     "data": {
      "text/plain": [
       "array([[  1,   2,   3,   2],\n",
       "       [  4,   6,   1,   2],\n",
       "       [ 12,   0, -12,   6]])"
      ]
     },
     "execution_count": 217,
     "metadata": {},
     "output_type": "execute_result"
    }
   ],
   "source": [
    "key= int(input('enter the key value'))\n",
    "n=P[:-key]\n",
    "m=P[-key:]\n",
    "np.concatenate((m,n))\n",
    "\n"
   ]
  },
  {
   "cell_type": "code",
   "execution_count": 218,
   "metadata": {},
   "outputs": [
    {
     "data": {
      "text/plain": [
       "array([[ 0,  1,  2,  3,  4],\n",
       "       [ 5,  6,  7,  8,  9],\n",
       "       [10, 11, 12, 13, 14],\n",
       "       [15, 16, 17, 18, 19]])"
      ]
     },
     "execution_count": 218,
     "metadata": {},
     "output_type": "execute_result"
    }
   ],
   "source": [
    "z4=np.arange(0,20).reshape(4,5)\n",
    "z4"
   ]
  },
  {
   "cell_type": "code",
   "execution_count": 219,
   "metadata": {},
   "outputs": [
    {
     "data": {
      "text/plain": [
       "array([2, 3, 4])"
      ]
     },
     "execution_count": 219,
     "metadata": {},
     "output_type": "execute_result"
    }
   ],
   "source": [
    "np.array([2,3,4])"
   ]
  },
  {
   "cell_type": "code",
   "execution_count": 34,
   "metadata": {},
   "outputs": [
    {
     "data": {
      "text/plain": [
       "array([ 1,  2,  3,  4,  5,  6,  7, 23])"
      ]
     },
     "execution_count": 34,
     "metadata": {},
     "output_type": "execute_result"
    }
   ],
   "source": [
    "la=[1,3,3,4,5,6,7,5,3,3,3,4,5,6,2,2,4,23]\n",
    "lb=np.unique(la)\n",
    "lb"
   ]
  },
  {
   "cell_type": "code",
   "execution_count": 40,
   "metadata": {},
   "outputs": [
    {
     "name": "stdout",
     "output_type": "stream",
     "text": [
      "1  1\n",
      "2  2\n",
      "3  5\n",
      "4  3\n",
      "5  3\n",
      "6  2\n",
      "7  1\n",
      "23  1\n"
     ]
    }
   ],
   "source": [
    "for i in range(len(lb)):\n",
    "    print(lb[i] ,'', la.count(lb[i]))"
   ]
  },
  {
   "cell_type": "code",
   "execution_count": 10,
   "metadata": {},
   "outputs": [],
   "source": [
    "x = [ 4, 5, 8, 10, 11]\n",
    "\n",
    "y = [50, 48, 45 , 42, 41]"
   ]
  },
  {
   "cell_type": "code",
   "execution_count": 15,
   "metadata": {},
   "outputs": [],
   "source": [
    "x=np.array(x)\n",
    "y=np.array(y)"
   ]
  },
  {
   "cell_type": "code",
   "execution_count": 16,
   "metadata": {},
   "outputs": [
    {
     "data": {
      "text/plain": [
       "array([[ 1.        , -0.99638179],\n",
       "       [-0.99638179,  1.        ]])"
      ]
     },
     "execution_count": 16,
     "metadata": {},
     "output_type": "execute_result"
    }
   ],
   "source": [
    "np.corrcoef(x,y)"
   ]
  },
  {
   "cell_type": "code",
   "execution_count": 25,
   "metadata": {},
   "outputs": [],
   "source": [
    "h=np.ones((25,25))"
   ]
  },
  {
   "cell_type": "code",
   "execution_count": 28,
   "metadata": {},
   "outputs": [
    {
     "data": {
      "text/plain": [
       "array([[25., 25., 25., 25., 25.],\n",
       "       [25., 25., 25., 25., 25.],\n",
       "       [25., 25., 25., 25., 25.],\n",
       "       [25., 25., 25., 25., 25.],\n",
       "       [25., 25., 25., 25., 25.]])"
      ]
     },
     "execution_count": 28,
     "metadata": {},
     "output_type": "execute_result"
    }
   ],
   "source": [
    "h[0:5,0:5]*25"
   ]
  },
  {
   "cell_type": "code",
   "execution_count": 63,
   "metadata": {},
   "outputs": [
    {
     "name": "stdout",
     "output_type": "stream",
     "text": [
      "enter the key value5\n"
     ]
    },
    {
     "data": {
      "text/plain": [
       "array([77, 64, 59, 35,  9, 64, 56, 13, 42])"
      ]
     },
     "execution_count": 63,
     "metadata": {},
     "output_type": "execute_result"
    }
   ],
   "source": [
    "key= int(input('enter the key value'))\n",
    "n=P[:-key]\n",
    "m=P[-key:]\n",
    "np.concatenate((m,n))\n",
    "\n"
   ]
  },
  {
   "cell_type": "code",
   "execution_count": 66,
   "metadata": {},
   "outputs": [
    {
     "data": {
      "text/plain": [
       "array([1., 2., 3., 0., 6., 7.])"
      ]
     },
     "execution_count": 66,
     "metadata": {},
     "output_type": "execute_result"
    }
   ],
   "source": [
    "I3=np.array([[[ 1.,2.,3.],[np.nan,0.,np.nan],[ 6., 7. ,np.nan]]])\n",
    "I3=I3.flatten()\n",
    "I2=np.where(np.isnan(I3))\n",
    "I2=list(I2)\n",
    "I2\n",
    "I3=np.delete(I3,I2)\n",
    "I3"
   ]
  },
  {
   "cell_type": "code",
   "execution_count": 69,
   "metadata": {},
   "outputs": [
    {
     "data": {
      "text/plain": [
       "(array([], dtype=int64),)"
      ]
     },
     "execution_count": 69,
     "metadata": {},
     "output_type": "execute_result"
    }
   ],
   "source": [
    "np.where(np.isnan(I3))"
   ]
  },
  {
   "cell_type": "code",
   "execution_count": 71,
   "metadata": {},
   "outputs": [
    {
     "data": {
      "text/plain": [
       "array([1., 2., 3., 0., 6., 7.])"
      ]
     },
     "execution_count": 71,
     "metadata": {},
     "output_type": "execute_result"
    }
   ],
   "source": []
  },
  {
   "cell_type": "code",
   "execution_count": null,
   "metadata": {},
   "outputs": [],
   "source": []
  },
  {
   "cell_type": "code",
   "execution_count": null,
   "metadata": {},
   "outputs": [],
   "source": []
  },
  {
   "cell_type": "code",
   "execution_count": null,
   "metadata": {},
   "outputs": [],
   "source": []
  }
 ],
 "metadata": {
  "kernelspec": {
   "display_name": "Python 3",
   "language": "python",
   "name": "python3"
  },
  "language_info": {
   "codemirror_mode": {
    "name": "ipython",
    "version": 3
   },
   "file_extension": ".py",
   "mimetype": "text/x-python",
   "name": "python",
   "nbconvert_exporter": "python",
   "pygments_lexer": "ipython3",
   "version": "3.7.4"
  }
 },
 "nbformat": 4,
 "nbformat_minor": 2
}
